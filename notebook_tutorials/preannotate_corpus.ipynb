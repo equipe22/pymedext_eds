{
 "cells": [
  {
   "cell_type": "code",
   "execution_count": 1,
   "metadata": {},
   "outputs": [
    {
     "name": "stdout",
     "output_type": "stream",
     "text": [
      "/home/ivan/Documents/rel_ext/pymedext_eds\n"
     ]
    }
   ],
   "source": [
    "%cd pymedext_eds/"
   ]
  },
  {
   "cell_type": "code",
   "execution_count": 2,
   "metadata": {},
   "outputs": [],
   "source": [
    "%load_ext autoreload\n",
    "%autoreload 2"
   ]
  },
  {
   "cell_type": "code",
   "execution_count": 3,
   "metadata": {},
   "outputs": [],
   "source": [
    "import os\n",
    "\n",
    "import pandas as pd\n",
    "import re\n",
    "from pprint import pprint\n",
    "import pkg_resources\n",
    "\n",
    "from pymedextcore.document import Document\n",
    "from pymedext_eds.annotators import Endlines, CleanText, SentenceTokenizer, Hypothesis, \\\n",
    "                                    ATCDFamille, SyntagmeTokenizer, Negation, RegexMatcher, \\\n",
    "                                    QuickUMLSAnnotator, Pipeline, SectionSplitter, Pipeline\n",
    "\n",
    "from pymedext_eds.utils import rawtext_loader\n",
    "from pymedext_eds.ner import NERAnnotator, NERNormalizer"
   ]
  },
  {
   "cell_type": "code",
   "execution_count": 24,
   "metadata": {},
   "outputs": [],
   "source": [
    "from pymedext_eds.extract.corpus_generation_tools import get_new_corpus, write_to_brat, write_brat_conf"
   ]
  },
  {
   "cell_type": "code",
   "execution_count": 5,
   "metadata": {},
   "outputs": [],
   "source": [
    "#cleantext = CleanText(['raw_text'], 'clean_text', 'cleantext:v1')\n",
    "sections = SectionSplitter(['raw_text'], \"section\", ID= 'sections')\n",
    "sentences = SentenceTokenizer(['raw_text'], 'sentence', 'sentenceTokenizer:v1')"
   ]
  },
  {
   "cell_type": "markdown",
   "metadata": {},
   "source": [
    "sosy|T184|Sign or Symptom  \n",
    "\n",
    "\n",
    "dsyn|T047|Disease or Syndrome  \n",
    "neop|T191|Neoplastic Process  \n",
    "comd|T049|Cell or Molecular Dysfunction  \n",
    "mobd|T048|Mental or Behavioral Dysfunction   \n",
    "patf|T046|Pathologic Function  \n",
    "anab|T190|Anatomical Abnormality  \n",
    "cgab|T019|Congenital Abnormality  \n",
    "acab|T020|Acquired Abnormality  \n",
    "inpo|T037|Injury or Poisoning  \n",
    "\n",
    "diap|T060|Diagnostic Procedure  \n",
    "lbpr|T059|Laboratory Procedure  \n",
    "lbtr|T034|Laboratory or Test Result  \n",
    "\n",
    "topp|T061|Therapeutic or Preventive Procedure  \n"
   ]
  },
  {
   "cell_type": "code",
   "execution_count": 6,
   "metadata": {},
   "outputs": [],
   "source": [
    "#                                    accepted_semtypes = {'T184', 'T047', 'T191', 'T049', 'T048', 'T046', 'T190', 'T019', 'T020', 'T037','T060',  'T059', 'T034', 'T061'},\n"
   ]
  },
  {
   "cell_type": "code",
   "execution_count": 7,
   "metadata": {},
   "outputs": [],
   "source": [
    "quick_umls_th = 0.9\n",
    "quick_umls_dist = \"score\"\n",
    "\n",
    "\n",
    "\n",
    "umls_signs = QuickUMLSAnnotator(['ENT/SIGNS'], 'umls_signs', 'QuickUMLS:2020AA', \n",
    "                                quickumls_fp='data/umls2_UL/',\n",
    "                                overlapping_criteria=quick_umls_dist,\n",
    "                                threshold=quick_umls_th,\n",
    "                                similarity_name='jaccard',\n",
    "                                accepted_semtypes = {'T184'},\n",
    "                                window=5)\n",
    "\n",
    "umls_diag_proc = QuickUMLSAnnotator(['ENT/DIAG_PROC'], 'umls_diag_proc', 'QuickUMLS:2020AA', \n",
    "                                quickumls_fp='data/umls2_UL/',\n",
    "                                overlapping_criteria=quick_umls_dist,\n",
    "                                threshold=quick_umls_th,\n",
    "                                similarity_name='jaccard',\n",
    "                                accepted_semtypes = {'T060', 'T059', 'T034'},\n",
    "                                window=5)\n",
    "\n",
    "umls_diag_name = QuickUMLSAnnotator(['ENT/DIAG_NAME'], 'umls_diag_name', 'QuickUMLS:2020AA', \n",
    "                                quickumls_fp='data/umls2_UL/',\n",
    "                                overlapping_criteria=quick_umls_dist,\n",
    "                                threshold=quick_umls_th,\n",
    "                                similarity_name='jaccard',\n",
    "                                accepted_semtypes = {'T047', 'T191', 'T049', 'T048', 'T046', 'T190', 'T019', 'T020', 'T037'},\n",
    "                                window=5)\n",
    "\n",
    "umls_therap = QuickUMLSAnnotator(['ENT/THERAP_PROC'], 'umls_therap_proc', 'QuickUMLS:2020AA', \n",
    "                                quickumls_fp='data/umls2_UL/',\n",
    "                                overlapping_criteria=quick_umls_dist,\n",
    "                                threshold=quick_umls_th,\n",
    "                                similarity_name='jaccard',\n",
    "                                accepted_semtypes = {'T061'},\n",
    "                                window=5)\n"
   ]
  },
  {
   "cell_type": "code",
   "execution_count": 8,
   "metadata": {},
   "outputs": [
    {
     "name": "stdout",
     "output_type": "stream",
     "text": [
      "2021-03-15 09:55:17,233 loading file data/models/apcner_deid/entities_7/best-model.pt\n"
     ]
    }
   ],
   "source": [
    "models_param = [{'tagger_path':'data/models/apcner_deid/entities_7/best-model.pt' ,\n",
    "                'tag_name': 'pheno_pred'}]\n",
    "\n",
    "ner = NERAnnotator(['sentence'], 'ner', ID='med:v2', models_param=models_param,  device='cuda:1')"
   ]
  },
  {
   "cell_type": "code",
   "execution_count": null,
   "metadata": {},
   "outputs": [],
   "source": [
    "corpus =   get_new_corpus(text_path = \"../data/CiliTalConfirm/0\",\n",
    "                          pipeline = [sections, sentences, ner, umls_signs, umls_diag_proc, umls_diag_name, umls_therap],\n",
    "                          pheno_ent_type = [\"ENT/SIGNS\", \"ENT/DIAG_NAME\"], \n",
    "                          size = None,\n",
    "                          threshold = 0,\n",
    "                          min_n_tokens = 0,\n",
    "                          seed=6,\n",
    "                          verbose = 1)\n"
   ]
  },
  {
   "cell_type": "code",
   "execution_count": 10,
   "metadata": {},
   "outputs": [],
   "source": [
    "write_to_brat(output_dir= \"../data/CiliTalConfirm/0/brat\", corpus= corpus)"
   ]
  },
  {
   "cell_type": "code",
   "execution_count": 29,
   "metadata": {},
   "outputs": [],
   "source": [
    "write_brat_conf(outdir = \"../data/CiliTalConfirm/0/brat\",\n",
    "                entities = [\"SIGNS\", \"DIAG_NAME\"], \n",
    "                norm = {\"UMLS_ALL\":{\"DB\":\"umls0/umls_bglinsty\", \"<URL>\":\"http://en.wikipedia.org\", \"<URLBASE>\":\"http://en.wikipedia.org/?curid=%s\"},\n",
    "            \"UMLS_FR\":{\"DB\":\"umls0/umls_frlinsty\", \"<URL>\":\"http://en.wikipedia.org\", \"<URLBASE>\":\"http://en.wikipedia.org/?curid=%s\"}}, \n",
    "                relations = {})"
   ]
  }
 ],
 "metadata": {
  "kernelspec": {
   "display_name": "Python 3",
   "language": "python",
   "name": "python3"
  },
  "language_info": {
   "codemirror_mode": {
    "name": "ipython",
    "version": 3
   },
   "file_extension": ".py",
   "mimetype": "text/x-python",
   "name": "python",
   "nbconvert_exporter": "python",
   "pygments_lexer": "ipython3",
   "version": "3.8.5"
  }
 },
 "nbformat": 4,
 "nbformat_minor": 4
}
