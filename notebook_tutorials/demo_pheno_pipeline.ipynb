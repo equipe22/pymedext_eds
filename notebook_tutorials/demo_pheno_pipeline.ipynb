{
 "cells": [
  {
   "cell_type": "code",
   "execution_count": null,
   "metadata": {},
   "outputs": [],
   "source": [
    "%cd .."
   ]
  },
  {
   "cell_type": "code",
   "execution_count": 1,
   "metadata": {},
   "outputs": [],
   "source": [
    "%load_ext autoreload\n",
    "%autoreload 2"
   ]
  },
  {
   "cell_type": "code",
   "execution_count": 2,
   "metadata": {},
   "outputs": [],
   "source": [
    "import os\n",
    "\n",
    "from glob import glob\n",
    "import pandas as pd\n",
    "import re\n",
    "from pprint import pprint\n",
    "import pkg_resources\n",
    "\n",
    "from pymedextcore.document import Document\n",
    "from pymedext_eds.annotators import Endlines, SentenceTokenizer, Hypothesis, \\\n",
    "                                    ATCDFamille, SyntagmeTokenizer, Negation, RegexMatcher, \\\n",
    "                                    QuickUMLSAnnotator, Pipeline, SectionSplitter, Pipeline\n",
    "\n",
    "from pymedext_eds.utils import rawtext_loader\n",
    "from pymedext_eds.ner import NERAnnotator, NERNormalizer"
   ]
  },
  {
   "cell_type": "code",
   "execution_count": 3,
   "metadata": {},
   "outputs": [],
   "source": [
    "endlines = Endlines(['raw_text'], 'clean_text', 'endlines:v1')\n",
    "sentences = SentenceTokenizer(['clean_text'], 'sentence', 'sentenceTokenizer:v1')\n",
    "sections = SectionSplitter(['clean_text'], \"section\", ID= 'sections')\n",
    "hypothesis = Hypothesis(['sentence'], 'hypothesis', 'hypothesis:v1')\n",
    "family = ATCDFamille(['sentence'], 'context', 'ATCDfamily:v1')\n",
    "syntagmes = SyntagmeTokenizer(['sentence'], 'syntagme', 'SyntagmeTokenizer:v1')\n",
    "negation = Negation(['syntagme'], 'negation', 'Negation:v1')\n",
    "regex = RegexMatcher(['clean_text','syntagme'], 'regex', 'RegexMatcher:v1', 'list_regexp.json')"
   ]
  },
  {
   "cell_type": "markdown",
   "metadata": {},
   "source": [
    "sosy|T184|Sign or Symptom  \n",
    "\n",
    "\n",
    "dsyn|T047|Disease or Syndrome  \n",
    "neop|T191|Neoplastic Process  \n",
    "comd|T049|Cell or Molecular Dysfunction  \n",
    "mobd|T048|Mental or Behavioral Dysfunction   \n",
    "patf|T046|Pathologic Function  \n",
    "anab|T190|Anatomical Abnormality  \n",
    "cgab|T019|Congenital Abnormality  \n",
    "acab|T020|Acquired Abnormality  \n",
    "inpo|T037|Injury or Poisoning  \n",
    "\n",
    "diap|T060|Diagnostic Procedure  \n",
    "lbpr|T059|Laboratory Procedure  \n",
    "lbtr|T034|Laboratory or Test Result  \n",
    "\n",
    "topp|T061|Therapeutic or Preventive Procedure  \n"
   ]
  },
  {
   "cell_type": "code",
   "execution_count": 4,
   "metadata": {},
   "outputs": [],
   "source": [
    "#                                    accepted_semtypes = {'T184', 'T047', 'T191', 'T049', 'T048', 'T046', 'T190', 'T019', 'T020', 'T037','T060',  'T059', 'T034', 'T061'},\n"
   ]
  },
  {
   "cell_type": "code",
   "execution_count": 5,
   "metadata": {},
   "outputs": [],
   "source": [
    "quick_umls_th = 0.9\n",
    "quick_umls_dist = \"score\"\n",
    "\n",
    "umls_syntagme = QuickUMLSAnnotator(['syntagme'], 'umls_syntagme', 'QuickUMLS:2020AA', \n",
    "                                   quickumls_fp='data/umls2_UL/',\n",
    "                                   overlapping_criteria=quick_umls_dist,\n",
    "                                   threshold=quick_umls_th,\n",
    "                                   similarity_name='jaccard',\n",
    "                                   accepted_semtypes = {'T184', 'T047', 'T191', 'T049', 'T048', 'T046', 'T190', 'T019', 'T020', 'T037'},\n",
    "                                   window=5)\n",
    "\n",
    "umls_signs = QuickUMLSAnnotator(['ENT/SIGNS'], 'umls_signs', 'QuickUMLS:2020AA', \n",
    "                                quickumls_fp='data/umls2_UL/',\n",
    "                                overlapping_criteria=quick_umls_dist,\n",
    "                                threshold=quick_umls_th,\n",
    "                                similarity_name='jaccard',\n",
    "                                accepted_semtypes = {'T184'},\n",
    "                                window=5)\n",
    "\n",
    "umls_diag_proc = QuickUMLSAnnotator(['ENT/DIAG_PROC'], 'umls_diag_proc', 'QuickUMLS:2020AA', \n",
    "                                quickumls_fp='data/umls2_UL/',\n",
    "                                overlapping_criteria=quick_umls_dist,\n",
    "                                threshold=quick_umls_th,\n",
    "                                similarity_name='jaccard',\n",
    "                                accepted_semtypes = {'T060', 'T059', 'T034'},\n",
    "                                window=5)\n",
    "\n",
    "umls_diag_name = QuickUMLSAnnotator(['ENT/DIAG_NAME'], 'umls_diag_name', 'QuickUMLS:2020AA', \n",
    "                                quickumls_fp='data/umls2_UL/',\n",
    "                                overlapping_criteria=quick_umls_dist,\n",
    "                                threshold=quick_umls_th,\n",
    "                                similarity_name='jaccard',\n",
    "                                accepted_semtypes = {'T047', 'T191', 'T049', 'T048', 'T046', 'T190', 'T019', 'T020', 'T037'},\n",
    "                                window=5)\n",
    "\n",
    "umls_therap = QuickUMLSAnnotator(['ENT/THERAP_PROC'], 'umls_therap', 'QuickUMLS:2020AA', \n",
    "                                quickumls_fp='data/umls2_UL/',\n",
    "                                overlapping_criteria=quick_umls_dist,\n",
    "                                threshold=quick_umls_th,\n",
    "                                similarity_name='jaccard',\n",
    "                                accepted_semtypes = {'T061'},\n",
    "                                window=5)\n"
   ]
  },
  {
   "cell_type": "code",
   "execution_count": 6,
   "metadata": {},
   "outputs": [
    {
     "name": "stdout",
     "output_type": "stream",
     "text": [
      "2021-02-23 12:00:44,270 loading file data/models/apcner_deid/entities_7/best-model.pt\n",
      "2021-02-23 12:00:51,315 loading file data/models/apmed5/entities/final-model.pt\n",
      "2021-02-23 12:00:54,324 loading file data/models/apmed5/events/final-model.pt\n",
      "2021-02-23 12:00:57,300 loading file data/models/apmed5/drugblob/final-model.pt\n"
     ]
    }
   ],
   "source": [
    "models_param = [{'tagger_path':'data/models/apcner_deid/entities_7/best-model.pt' ,\n",
    "                'tag_name': 'pheno_pred' },\n",
    "                {'tagger_path':'data/models/apmed5/entities/final-model.pt' ,\n",
    "                'tag_name': 'entity_pred' },\n",
    "                {'tagger_path':'data/models/apmed5/events/final-model.pt' ,\n",
    "                'tag_name': 'event_pred' },\n",
    "               {'tagger_path': \"data/models/apmed5/drugblob/final-model.pt\",\n",
    "                'tag_name': 'drugblob_pred'}]\n",
    "\n",
    "ner = NERAnnotator(['sentence'], 'ner', ID='med:v2', models_param=models_param,  device='cuda:1')"
   ]
  },
  {
   "cell_type": "code",
   "execution_count": 7,
   "metadata": {},
   "outputs": [],
   "source": [
    "data_path = pkg_resources.resource_filename('pymedext_eds', 'data/romedi')\n",
    "romedi_path = glob(data_path + '/*.p')[0]\n",
    "\n",
    "norm = NERNormalizer(['ENT/DRUG','ENT/CLASS'], 'normalized_mention', ID='norm',romedi_path= romedi_path)"
   ]
  },
  {
   "cell_type": "code",
   "execution_count": 8,
   "metadata": {},
   "outputs": [],
   "source": [
    "pipeline = [endlines, sections, sentences, hypothesis, family, syntagmes,\n",
    "            negation, regex, umls_syntagme, ner,  norm, \n",
    "            umls_signs, umls_diag_proc, umls_diag_name, umls_therap]"
   ]
  },
  {
   "cell_type": "code",
   "execution_count": 19,
   "metadata": {},
   "outputs": [],
   "source": [
    "from pymedext_eds.viz import display_annotations"
   ]
  },
  {
   "cell_type": "code",
   "execution_count": 20,
   "metadata": {},
   "outputs": [],
   "source": [
    "doc_demo = rawtext_loader(\"data/test_data/11.txt\") "
   ]
  },
  {
   "cell_type": "code",
   "execution_count": 21,
   "metadata": {},
   "outputs": [],
   "source": [
    "doc_demo.annotate(pipeline)"
   ]
  },
  {
   "cell_type": "code",
   "execution_count": 22,
   "metadata": {},
   "outputs": [
    {
     "data": {
      "text/html": [
       "<span class=\"tex2jax_ignore\"><div class=\"entities\" style=\"line-height: 2.5; direction: ltr\">Merci de recevoir en consultation Mme Jeanne Bach, présentant une <mark class=\"entity\" style=\"background: #ffb3ba; padding: 0.45em 0.6em; margin: 0 0.25em; line-height: 1; border-radius: 0.35em;\">sclérose latérale amyotrophique<span style=\"font-size: 0.8em; font-weight: bold; line-height: 1; border-radius: 0.35em; vertical-align: middle; margin-left: 0.5rem\">ENT/DIAG_NAME</span></mark>, débutant par une aphasie rapidement progressive en 2018.</br> La patiente ne présente pas de <mark class=\"entity\" style=\"background: #ffb3ba; padding: 0.45em 0.6em; margin: 0 0.25em; line-height: 1; border-radius: 0.35em;\">troubles moteurs<span style=\"font-size: 0.8em; font-weight: bold; line-height: 1; border-radius: 0.35em; vertical-align: middle; margin-left: 0.5rem\">ENT/DIAG_NAME</span></mark><mark class=\"entity\" style=\"background: #ffdfba; padding: 0.45em 0.6em; margin: 0 0.25em; line-height: 1; border-radius: 0.35em;\">aphasie rapidement progressive<span style=\"font-size: 0.8em; font-weight: bold; line-height: 1; border-radius: 0.35em; vertical-align: middle; margin-left: 0.5rem\">ENT/SIGNS</span></mark> en 2018.</br> La patiente ne présente pas de troubles moteurs.</br> Son <mark class=\"entity\" style=\"background: #ffdfba; padding: 0.45em 0.6em; margin: 0 0.25em; line-height: 1; border-radius: 0.35em;\">état est stable<span style=\"font-size: 0.8em; font-weight: bold; line-height: 1; border-radius: 0.35em; vertical-align: middle; margin-left: 0.5rem\">ENT/SIGNS</span></mark> avec traitement symptomatique pour l'humeur, Deroxat 2 mg / j.</br> Dr Jérome Ben Soussan.</br> Examen clinique:</br> - <mark class=\"entity\" style=\"background: #ffdfba; padding: 0.45em 0.6em; margin: 0 0.25em; line-height: 1; border-radius: 0.35em;\">signe du flot<span style=\"font-size: 0.8em; font-weight: bold; line-height: 1; border-radius: 0.35em; vertical-align: middle; margin-left: 0.5rem\">ENT/SIGNS</span></mark></br> - <mark class=\"entity\" style=\"background: #ffdfba; padding: 0.45em 0.6em; margin: 0 0.25em; line-height: 1; border-radius: 0.35em;\">souffle cardiaque<span style=\"font-size: 0.8em; font-weight: bold; line-height: 1; border-radius: 0.35em; vertical-align: middle; margin-left: 0.5rem\">ENT/SIGNS</span></mark></div></span>"
      ],
      "text/plain": [
       "<IPython.core.display.HTML object>"
      ]
     },
     "metadata": {},
     "output_type": "display_data"
    }
   ],
   "source": [
    "display_annotations(doc_demo, entities=['ENT/DIAG_NAME', 'ENT/SIGNS'])"
   ]
  }
 ],
 "metadata": {
  "kernelspec": {
   "display_name": "Python 3",
   "language": "python",
   "name": "python3"
  },
  "language_info": {
   "codemirror_mode": {
    "name": "ipython",
    "version": 3
   },
   "file_extension": ".py",
   "mimetype": "text/x-python",
   "name": "python",
   "nbconvert_exporter": "python",
   "pygments_lexer": "ipython3",
   "version": "3.8.5"
  }
 },
 "nbformat": 4,
 "nbformat_minor": 4
}
