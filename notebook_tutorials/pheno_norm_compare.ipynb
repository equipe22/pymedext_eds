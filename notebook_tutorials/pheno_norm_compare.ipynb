{
 "cells": [
  {
   "cell_type": "code",
   "execution_count": 1,
   "metadata": {},
   "outputs": [
    {
     "name": "stdout",
     "output_type": "stream",
     "text": [
      "/home/ivan/Documents/rel_ext/pymedext_eds\n"
     ]
    }
   ],
   "source": [
    "%cd .."
   ]
  },
  {
   "cell_type": "code",
   "execution_count": 2,
   "metadata": {},
   "outputs": [],
   "source": [
    "%load_ext autoreload\n",
    "%autoreload 2"
   ]
  },
  {
   "cell_type": "code",
   "execution_count": 3,
   "metadata": {},
   "outputs": [],
   "source": [
    "import json"
   ]
  },
  {
   "cell_type": "code",
   "execution_count": 4,
   "metadata": {},
   "outputs": [],
   "source": [
    "from tqdm import tqdm"
   ]
  },
  {
   "cell_type": "code",
   "execution_count": 5,
   "metadata": {},
   "outputs": [],
   "source": [
    "import os\n",
    "\n",
    "from glob import glob\n",
    "import pandas as pd\n",
    "import re\n",
    "from pprint import pprint\n",
    "import pkg_resources\n",
    "\n",
    "from pymedextcore.document import Document\n",
    "from pymedext_eds.annotators import Endlines, SentenceTokenizer, Hypothesis, \\\n",
    "                                    ATCDFamille, SyntagmeTokenizer, Negation, RegexMatcher, \\\n",
    "                                    QuickUMLSAnnotator, Pipeline, SectionSplitter, Pipeline\n",
    "\n",
    "from pymedext_eds.utils import rawtext_loader\n",
    "from pymedext_eds.ner import NERAnnotator\n",
    "from pymedext_eds.norm import NERNormalizer, NormPheno, FeedDictionnary"
   ]
  },
  {
   "cell_type": "code",
   "execution_count": 6,
   "metadata": {},
   "outputs": [],
   "source": [
    "endlines = Endlines(['raw_text'], 'clean_text', 'endlines:v1')\n",
    "sentences = SentenceTokenizer(['clean_text'], 'sentence', 'sentenceTokenizer:v1')\n",
    "sections = SectionSplitter(['clean_text'], \"section\", ID= 'sections')\n",
    "hypothesis = Hypothesis(['sentence'], 'hypothesis', 'hypothesis:v1')\n",
    "family = ATCDFamille(['sentence'], 'context', 'ATCDfamily:v1')\n",
    "syntagmes = SyntagmeTokenizer(['sentence'], 'syntagme', 'SyntagmeTokenizer:v1')\n",
    "negation = Negation(['syntagme'], 'negation', 'Negation:v1')\n",
    "regex = RegexMatcher(['clean_text','syntagme'], 'regex', 'RegexMatcher:v1', 'list_regexp.json')"
   ]
  },
  {
   "cell_type": "markdown",
   "metadata": {},
   "source": [
    "sosy|T184|Sign or Symptom  \n",
    "\n",
    "\n",
    "dsyn|T047|Disease or Syndrome  \n",
    "neop|T191|Neoplastic Process  \n",
    "comd|T049|Cell or Molecular Dysfunction  \n",
    "mobd|T048|Mental or Behavioral Dysfunction   \n",
    "patf|T046|Pathologic Function  \n",
    "anab|T190|Anatomical Abnormality  \n",
    "cgab|T019|Congenital Abnormality  \n",
    "acab|T020|Acquired Abnormality  \n",
    "inpo|T037|Injury or Poisoning  \n",
    "\n",
    "diap|T060|Diagnostic Procedure  \n",
    "lbpr|T059|Laboratory Procedure  \n",
    "lbtr|T034|Laboratory or Test Result  \n",
    "\n",
    "topp|T061|Therapeutic or Preventive Procedure  \n"
   ]
  },
  {
   "cell_type": "code",
   "execution_count": 7,
   "metadata": {},
   "outputs": [],
   "source": [
    "#                                    accepted_semtypes = {'T184', 'T047', 'T191', 'T049', 'T048', 'T046', 'T190', 'T019', 'T020', 'T037','T060',  'T059', 'T034', 'T061'},\n"
   ]
  },
  {
   "cell_type": "code",
   "execution_count": 8,
   "metadata": {},
   "outputs": [],
   "source": [
    "quick_umls_th = 0.9\n",
    "quick_umls_dist = \"score\"\n",
    "\n",
    "umls_syntagme = QuickUMLSAnnotator(['syntagme'], 'umls_syntagme', 'QuickUMLS:2020AA', \n",
    "                                   quickumls_fp='data/umls2_UL/',\n",
    "                                   overlapping_criteria=quick_umls_dist,\n",
    "                                   threshold=quick_umls_th,\n",
    "                                   similarity_name='jaccard',\n",
    "                                   accepted_semtypes = {'T184', 'T047', 'T191', 'T049', 'T048', 'T046', 'T190', 'T019', 'T020', 'T037'},\n",
    "                                   window=5)\n",
    "\n",
    "umls_signs = QuickUMLSAnnotator(['ENT/SIGNS'], 'umls_signs', 'QuickUMLS:2020AA', \n",
    "                                quickumls_fp='data/umls2_UL/',\n",
    "                                overlapping_criteria=quick_umls_dist,\n",
    "                                threshold=quick_umls_th,\n",
    "                                similarity_name='jaccard',\n",
    "                                accepted_semtypes = {'T184'},\n",
    "                                window=5)\n",
    "\n",
    "umls_diag_proc = QuickUMLSAnnotator(['ENT/DIAG_PROC'], 'umls_diag_proc', 'QuickUMLS:2020AA', \n",
    "                                quickumls_fp='data/umls2_UL/',\n",
    "                                overlapping_criteria=quick_umls_dist,\n",
    "                                threshold=quick_umls_th,\n",
    "                                similarity_name='jaccard',\n",
    "                                accepted_semtypes = {'T060', 'T059', 'T034'},\n",
    "                                window=5)\n",
    "\n",
    "umls_diag_name = QuickUMLSAnnotator(['ENT/DIAG_NAME'], 'umls_diag_name', 'QuickUMLS:2020AA', \n",
    "                                quickumls_fp='data/umls2_UL/',\n",
    "                                overlapping_criteria=quick_umls_dist,\n",
    "                                threshold=quick_umls_th,\n",
    "                                similarity_name='jaccard',\n",
    "                                accepted_semtypes = {'T047', 'T191', 'T049', 'T048', 'T046', 'T190', 'T019', 'T020', 'T037'},\n",
    "                                window=5)\n",
    "\n",
    "umls_therap = QuickUMLSAnnotator(['ENT/THERAP_PROC'], 'umls_therap', 'QuickUMLS:2020AA', \n",
    "                                quickumls_fp='data/umls2_UL/',\n",
    "                                overlapping_criteria=quick_umls_dist,\n",
    "                                threshold=quick_umls_th,\n",
    "                                similarity_name='jaccard',\n",
    "                                accepted_semtypes = {'T061'},\n",
    "                                window=5)\n"
   ]
  },
  {
   "cell_type": "code",
   "execution_count": 9,
   "metadata": {},
   "outputs": [
    {
     "name": "stdout",
     "output_type": "stream",
     "text": [
      "2021-05-04 17:46:32,248 loading file data/models/apcner_deid/entities_7/best-model.pt\n"
     ]
    }
   ],
   "source": [
    "models_param = [{'tagger_path':'data/models/apcner_deid/entities_7/best-model.pt' ,\n",
    "                  'store_embedding':True,\n",
    "                'tag_name': 'pheno_pred' }]\n",
    "\n",
    "ner = NERAnnotator(['sentence'], 'ner', ID='med:v2', models_param=models_param,  device='cuda:1', reduce_embedding='weighted_mean', mini_batch_size=128)"
   ]
  },
  {
   "cell_type": "code",
   "execution_count": 10,
   "metadata": {},
   "outputs": [],
   "source": [
    "dico_umls_exact_match = FeedDictionnary(['ENT/SIGNS','ENT/DIAG_NAME'],\n",
    "                                        'feed_dictionnary_quick_umls',\n",
    "                                        ID = 'fd:v3',\n",
    "                                        path_dict='data/emb_dict_v3.h5py',\n",
    "                                        threshold=1)"
   ]
  },
  {
   "cell_type": "code",
   "execution_count": 11,
   "metadata": {},
   "outputs": [],
   "source": [
    "feed_dic_pipeline = [endlines, sections, sentences, ner, dico_umls_exact_match]"
   ]
  },
  {
   "cell_type": "code",
   "execution_count": 12,
   "metadata": {},
   "outputs": [],
   "source": [
    "from glob import glob"
   ]
  },
  {
   "cell_type": "code",
   "execution_count": null,
   "metadata": {},
   "outputs": [],
   "source": [
    "count = 0\n",
    "\n",
    "for subdir in glob(\"../../../../marc/Data/CiliTALexport/*\"):\n",
    "    for json_path in tqdm(glob(subdir + \"/*.json\")):\n",
    "        try:\n",
    "\n",
    "            with open(json_path) as h:\n",
    "                doc = json.load(h)\n",
    "\n",
    "            if doc['DOCUMENT_ORIGIN_CODE'] == 'ORBIS':\n",
    "                continue\n",
    "\n",
    "            doc = Document(\n",
    "                    raw_text = doc['DISPLAYED_TEXT'],\n",
    "                    ID = doc['DOCUMENT_NUM'],\n",
    "                    attributes = {'person_id': doc['PATIENT_NUM']}\n",
    "                )\n",
    "            \n",
    "            try:\n",
    "                doc.annotate(feed_dic_pipeline)\n",
    "                count += 1\n",
    "            except:\n",
    "                print(\"Annotation error\", doc.source_ID)\n",
    "        except:\n",
    "            print(\"Load error\", json_path)\n",
    "\n",
    "\n",
    "\n",
    "print(count)"
   ]
  },
  {
   "cell_type": "code",
   "execution_count": 14,
   "metadata": {},
   "outputs": [
    {
     "name": "stdout",
     "output_type": "stream",
     "text": [
      "2102722\n"
     ]
    }
   ],
   "source": [
    "print(count)"
   ]
  },
  {
   "cell_type": "markdown",
   "metadata": {},
   "source": [
    "with open(\"../data/export_mincil_pheno_loc.v1.json\") as h:\n",
    "    docs = json.load(h)\n",
    "\n",
    "docs = [Document(\n",
    "        raw_text = x['ano_text'],\n",
    "        ID = x['document_num'],\n",
    "        attributes = {'person_id': x['patient_num']}\n",
    "    ) for x in docs]\n",
    "\n",
    "for doc in tqdm(docs[:]):\n",
    "    try:\n",
    "        doc.annotate(feed_dic_pipeline)\n",
    "    except:\n",
    "        print(doc.source_ID)\n",
    "    del doc"
   ]
  },
  {
   "cell_type": "markdown",
   "metadata": {},
   "source": [
    "### Embed UMLS"
   ]
  },
  {
   "cell_type": "code",
   "execution_count": 15,
   "metadata": {},
   "outputs": [],
   "source": [
    "from flair.data import Sentence\n",
    "import numpy as np\n",
    "import h5py"
   ]
  },
  {
   "cell_type": "code",
   "execution_count": 16,
   "metadata": {},
   "outputs": [],
   "source": [
    "\n",
    "target_tui = {'T184', 'T047', 'T191', 'T049', 'T048', 'T046', 'T190', 'T019', 'T020', 'T037'}\n",
    "\n",
    "conso_head = pd.read_csv('data/umls2_UL/mrconso_headers.csv', header=None)\n",
    "conso_head = conso_head.iloc[:,0].tolist()\n",
    "mrconso = pd.read_csv('data/umls2_UL/MRCONSO.RRF', header=None, names=conso_head+[''], sep=\"|\")\n",
    "\n",
    "sty_head = pd.read_csv('data/umls2_UL/mrsty_headers.csv', header=None)\n",
    "sty_head = sty_head.iloc[:,0].tolist()\n",
    "sty = pd.read_csv('data/umls2_UL/MRSTY.RRF', header=None, names=sty_head+[''],  sep=\"|\")\n",
    "\n",
    "mrconso = mrconso.loc[mrconso.LAT==\"FRE\"]\n",
    "\n",
    "tagger = ner.model_zoo[0][1]\n",
    "\n",
    "hf = h5py.File('data/emb_dict_v3.h5py', 'a')\n",
    "\n",
    "\n",
    "for i, row in mrconso.loc[mrconso.CUI.isin(sty.loc[sty.TUI.isin(target_tui), \"CUI\"].tolist())].iterrows():\n",
    "    tmp = Sentence(row.STR)\n",
    "    tagger.embeddings.embed(tmp)\n",
    "    emb = np.concatenate([tok._embeddings['0-transformer-word-data/embeddings/bert-base-medical-huge-cased/checkpoint-800000/'].cpu().numpy().reshape(1, -1) \\\n",
    "                          for tok in tmp], 0).mean(axis=0).reshape(1, -1)\n",
    "    \n",
    "    groupname = row.CUI+\"/\" + row.STR\n",
    "\n",
    "    if groupname in hf:\n",
    "        group = hf.get(groupname)\n",
    "    else:\n",
    "        group = hf.create_group(groupname)\n",
    "\n",
    "    group.create_dataset(row.AUI, data = emb)\n",
    "\n",
    "\n",
    "hf.close()\n",
    "\n",
    "del mrconso\n",
    "del sty\n",
    "del hf"
   ]
  },
  {
   "cell_type": "code",
   "execution_count": 35,
   "metadata": {},
   "outputs": [
    {
     "name": "stdout",
     "output_type": "stream",
     "text": [
      "CPU times: user 1min 41s, sys: 11.9 s, total: 1min 53s\n",
      "Wall time: 2min 6s\n"
     ]
    }
   ],
   "source": [
    "%%time\n",
    "norm_pheno = NormPheno(['ENT/SIGNS','ENT/DIAG_NAME'], 'normalized_mention', ID='pheno_dic:v3', path_dict='data/emb_dict_v3_noumls.h5py' )"
   ]
  },
  {
   "cell_type": "code",
   "execution_count": 18,
   "metadata": {},
   "outputs": [],
   "source": [
    "pipeline = [endlines, sections, sentences, hypothesis, family, syntagmes,\n",
    "            negation, regex, umls_syntagme, ner, norm_pheno,\n",
    "            umls_signs, umls_diag_proc, umls_diag_name, umls_therap]"
   ]
  },
  {
   "cell_type": "code",
   "execution_count": 21,
   "metadata": {},
   "outputs": [],
   "source": [
    "# data_path = pkg_resources.resource_filename('pymedext_eds', 'data/demo')\n",
    "file_list = glob(\"data/test_data\" + '/*.txt')\n",
    "\n",
    "docs = [rawtext_loader(x) for x in file_list]"
   ]
  },
  {
   "cell_type": "code",
   "execution_count": 22,
   "metadata": {},
   "outputs": [
    {
     "data": {
      "text/plain": [
       "['data/test_data/pheno_norm.txt', 'data/test_data/pheno_ner.txt']"
      ]
     },
     "execution_count": 22,
     "metadata": {},
     "output_type": "execute_result"
    }
   ],
   "source": [
    "file_list"
   ]
  },
  {
   "cell_type": "code",
   "execution_count": null,
   "metadata": {},
   "outputs": [],
   "source": []
  },
  {
   "cell_type": "code",
   "execution_count": 61,
   "metadata": {},
   "outputs": [],
   "source": [
    "for doc in docs:\n",
    "    doc.annotate(pipeline)"
   ]
  },
  {
   "cell_type": "code",
   "execution_count": 62,
   "metadata": {},
   "outputs": [
    {
     "data": {
      "text/plain": [
       "{'type': 'normalized_mention',\n",
       " 'value': 'insuffisance renale chronique',\n",
       " 'ngram': None,\n",
       " 'span': (66, 97),\n",
       " 'source': 'pheno_dic:v1',\n",
       " 'source_ID': '7355399c-a9c5-11eb-bd0a-6d1683a67d6f',\n",
       " 'isEntity': False,\n",
       " 'attributes': {'score_cos': 0.8400646364128913,\n",
       "  'mention': 'sclérose latérale amyotrophique',\n",
       "  'cui': 'C0022661',\n",
       "  'label': 'insuffisance renale chronique',\n",
       "  'hypothesis': 'certain',\n",
       "  'context': 'patient',\n",
       "  'score': 0.9832151134808859},\n",
       " 'ID': '7360264a-a9c5-11eb-bd0a-6d1683a67d6f'}"
      ]
     },
     "execution_count": 62,
     "metadata": {},
     "output_type": "execute_result"
    }
   ],
   "source": [
    "doc.get_annotations('normalized_mention')[0].to_dict()"
   ]
  },
  {
   "cell_type": "code",
   "execution_count": 63,
   "metadata": {},
   "outputs": [
    {
     "data": {
      "text/plain": [
       "{'type': 'ENT/SIGNS',\n",
       " 'value': 'signe du flot',\n",
       " 'ngram': None,\n",
       " 'span': (335, 348),\n",
       " 'source': 'med:v2',\n",
       " 'source_ID': '73553af0-a9c5-11eb-bd0a-6d1683a67d6f',\n",
       " 'isEntity': True,\n",
       " 'attributes': {'hypothesis': 'certain',\n",
       "  'context': 'patient',\n",
       "  'score': 0.678720494111379},\n",
       " 'ID': '73601ae2-a9c5-11eb-bd0a-6d1683a67d6f'}"
      ]
     },
     "execution_count": 63,
     "metadata": {},
     "output_type": "execute_result"
    }
   ],
   "source": [
    "doc.get_annotations(\"ENT/SIGNS\")[2].to_dict()"
   ]
  },
  {
   "cell_type": "code",
   "execution_count": 11,
   "metadata": {},
   "outputs": [],
   "source": [
    "ann_list = glob(\"../../brat_data/covid_pheno_norm/annotator_0_training\" + '/*.ann')\n"
   ]
  },
  {
   "cell_type": "code",
   "execution_count": 12,
   "metadata": {},
   "outputs": [],
   "source": [
    "def read_brat_ann(path):\n",
    "    doc_id =  os.path.splitext(os.path.basename(path))[0].split('_')[-1]\n",
    "    with open(path, \"r\") as h:\n",
    "        ann_norm = []\n",
    "        ann_ner = []\n",
    "        for line in h.readlines():\n",
    "            ann_id, field, mention = line.split('\\t')\n",
    "            if ann_id[0] == \"T\":\n",
    "                ent_type = field.split(' ')[0]\n",
    "                start = field.split(' ')[1]\n",
    "                stop = field.split(' ')[-1]\n",
    "                ann_ner.append((doc_id, ann_id, ent_type, start, stop, mention.strip()))\n",
    "            elif ann_id[0] == \"N\":\n",
    "                _, ent_id, code = field.split(' ')\n",
    "                termino, code = code.split(':')\n",
    "                ann_norm.append((doc_id, ann_id, ent_id, termino, code, mention.strip()))\n",
    "    \n",
    "    return(ann_norm, ann_ner)"
   ]
  },
  {
   "cell_type": "code",
   "execution_count": 13,
   "metadata": {},
   "outputs": [],
   "source": [
    "all_ann = []\n",
    "for ann_path in ann_list:\n",
    "    ann_norm, ann_ner = read_brat_ann(ann_path)\n",
    "    ann_ner = pd.DataFrame(ann_ner, columns=[\"doc_id\", \"ent_id\", \"ent_type\", \"start\", \"stop\", \"mention\"])\n",
    "    ann_norm =  pd.DataFrame(ann_norm, columns = [\"doc_id\", \"ann_id\", \"ent_id\", \"termino\", \"cui\", \"mention\"])\n",
    "    ann_ner = ann_ner.merge(ann_norm, how= \"left\", on = [\"doc_id\", \"ent_id\"], suffixes=['_ner', '_norm'])\n",
    "    all_ann.append(ann_ner)\n",
    "\n",
    "all_ann = pd.concat(all_ann)"
   ]
  },
  {
   "cell_type": "code",
   "execution_count": 14,
   "metadata": {},
   "outputs": [],
   "source": [
    "all_ann = all_ann.loc[lambda x:x.ent_type.isin([\"DIAG_NAME\", \"SIGNS\"])]"
   ]
  },
  {
   "cell_type": "code",
   "execution_count": 15,
   "metadata": {},
   "outputs": [
    {
     "data": {
      "text/html": [
       "<div>\n",
       "<style scoped>\n",
       "    .dataframe tbody tr th:only-of-type {\n",
       "        vertical-align: middle;\n",
       "    }\n",
       "\n",
       "    .dataframe tbody tr th {\n",
       "        vertical-align: top;\n",
       "    }\n",
       "\n",
       "    .dataframe thead th {\n",
       "        text-align: right;\n",
       "    }\n",
       "</style>\n",
       "<table border=\"1\" class=\"dataframe\">\n",
       "  <thead>\n",
       "    <tr style=\"text-align: right;\">\n",
       "      <th></th>\n",
       "      <th>sum</th>\n",
       "      <th>len</th>\n",
       "      <th>&lt;lambda_0&gt;</th>\n",
       "    </tr>\n",
       "    <tr>\n",
       "      <th>ent_type</th>\n",
       "      <th></th>\n",
       "      <th></th>\n",
       "      <th></th>\n",
       "    </tr>\n",
       "  </thead>\n",
       "  <tbody>\n",
       "    <tr>\n",
       "      <th>DIAG_NAME</th>\n",
       "      <td>106</td>\n",
       "      <td>126</td>\n",
       "      <td>0.841270</td>\n",
       "    </tr>\n",
       "    <tr>\n",
       "      <th>SIGNS</th>\n",
       "      <td>127</td>\n",
       "      <td>180</td>\n",
       "      <td>0.705556</td>\n",
       "    </tr>\n",
       "  </tbody>\n",
       "</table>\n",
       "</div>"
      ],
      "text/plain": [
       "           sum  len  <lambda_0>\n",
       "ent_type                       \n",
       "DIAG_NAME  106  126    0.841270\n",
       "SIGNS      127  180    0.705556"
      ]
     },
     "execution_count": 15,
     "metadata": {},
     "output_type": "execute_result"
    }
   ],
   "source": [
    "all_ann.assign(has_norm = lambda x:x.cui.notnull()).groupby(['ent_type'])['has_norm'].aggregate([sum, len, lambda x: sum(x)/len(x)])"
   ]
  },
  {
   "cell_type": "code",
   "execution_count": 16,
   "metadata": {},
   "outputs": [],
   "source": [
    "all_ann = all_ann.loc[lambda x:x.cui.notnull()]"
   ]
  },
  {
   "cell_type": "code",
   "execution_count": 17,
   "metadata": {},
   "outputs": [
    {
     "data": {
      "text/html": [
       "<div>\n",
       "<style scoped>\n",
       "    .dataframe tbody tr th:only-of-type {\n",
       "        vertical-align: middle;\n",
       "    }\n",
       "\n",
       "    .dataframe tbody tr th {\n",
       "        vertical-align: top;\n",
       "    }\n",
       "\n",
       "    .dataframe thead th {\n",
       "        text-align: right;\n",
       "    }\n",
       "</style>\n",
       "<table border=\"1\" class=\"dataframe\">\n",
       "  <thead>\n",
       "    <tr style=\"text-align: right;\">\n",
       "      <th></th>\n",
       "      <th>doc_id</th>\n",
       "      <th>ent_id</th>\n",
       "      <th>ent_type</th>\n",
       "      <th>start</th>\n",
       "      <th>stop</th>\n",
       "      <th>mention_ner</th>\n",
       "      <th>ann_id</th>\n",
       "      <th>termino</th>\n",
       "      <th>cui</th>\n",
       "      <th>mention_norm</th>\n",
       "    </tr>\n",
       "  </thead>\n",
       "  <tbody>\n",
       "    <tr>\n",
       "      <th>7</th>\n",
       "      <td>698430240</td>\n",
       "      <td>T25</td>\n",
       "      <td>SIGNS</td>\n",
       "      <td>1510</td>\n",
       "      <td>1547</td>\n",
       "      <td>douleurs intenses notamment nocturnes</td>\n",
       "      <td>N13</td>\n",
       "      <td>UMLS_FR</td>\n",
       "      <td>C0030193</td>\n",
       "      <td>Douleur SAI</td>\n",
       "    </tr>\n",
       "    <tr>\n",
       "      <th>8</th>\n",
       "      <td>698430240</td>\n",
       "      <td>T1</td>\n",
       "      <td>SIGNS</td>\n",
       "      <td>201</td>\n",
       "      <td>208</td>\n",
       "      <td>malaise</td>\n",
       "      <td>N1</td>\n",
       "      <td>UMLS_FR</td>\n",
       "      <td>C0231218</td>\n",
       "      <td>Se sentait malade en général</td>\n",
       "    </tr>\n",
       "    <tr>\n",
       "      <th>9</th>\n",
       "      <td>698430240</td>\n",
       "      <td>T2</td>\n",
       "      <td>SIGNS</td>\n",
       "      <td>292</td>\n",
       "      <td>328</td>\n",
       "      <td>contusion directe de l’épaule droite</td>\n",
       "      <td>N2</td>\n",
       "      <td>UMLS_FR</td>\n",
       "      <td>C2218555</td>\n",
       "      <td></td>\n",
       "    </tr>\n",
       "    <tr>\n",
       "      <th>10</th>\n",
       "      <td>698430240</td>\n",
       "      <td>T3</td>\n",
       "      <td>SIGNS</td>\n",
       "      <td>330</td>\n",
       "      <td>357</td>\n",
       "      <td>impotence massive immédiate</td>\n",
       "      <td>N3</td>\n",
       "      <td>UMLS_FR</td>\n",
       "      <td>C0311394</td>\n",
       "      <td>Incapacité de marcher</td>\n",
       "    </tr>\n",
       "    <tr>\n",
       "      <th>11</th>\n",
       "      <td>698430240</td>\n",
       "      <td>T4</td>\n",
       "      <td>DIAG_NAME</td>\n",
       "      <td>395</td>\n",
       "      <td>437</td>\n",
       "      <td>rupture étendue au niveau du supra-épineux</td>\n",
       "      <td>N4</td>\n",
       "      <td>UMLS_FR</td>\n",
       "      <td>C0439059</td>\n",
       "      <td></td>\n",
       "    </tr>\n",
       "  </tbody>\n",
       "</table>\n",
       "</div>"
      ],
      "text/plain": [
       "       doc_id ent_id   ent_type start  stop  \\\n",
       "7   698430240    T25      SIGNS  1510  1547   \n",
       "8   698430240     T1      SIGNS   201   208   \n",
       "9   698430240     T2      SIGNS   292   328   \n",
       "10  698430240     T3      SIGNS   330   357   \n",
       "11  698430240     T4  DIAG_NAME   395   437   \n",
       "\n",
       "                                   mention_ner ann_id  termino       cui  \\\n",
       "7        douleurs intenses notamment nocturnes    N13  UMLS_FR  C0030193   \n",
       "8                                      malaise     N1  UMLS_FR  C0231218   \n",
       "9         contusion directe de l’épaule droite     N2  UMLS_FR  C2218555   \n",
       "10                 impotence massive immédiate     N3  UMLS_FR  C0311394   \n",
       "11  rupture étendue au niveau du supra-épineux     N4  UMLS_FR  C0439059   \n",
       "\n",
       "                    mention_norm  \n",
       "7                    Douleur SAI  \n",
       "8   Se sentait malade en général  \n",
       "9                                 \n",
       "10         Incapacité de marcher  \n",
       "11                                "
      ]
     },
     "execution_count": 17,
     "metadata": {},
     "output_type": "execute_result"
    }
   ],
   "source": [
    "all_ann.head()"
   ]
  },
  {
   "cell_type": "code",
   "execution_count": 19,
   "metadata": {},
   "outputs": [],
   "source": [
    "# pd.DataFrame.from_records(NERAnnotator.doc_to_omop(docs[1]))"
   ]
  },
  {
   "cell_type": "code",
   "execution_count": 20,
   "metadata": {},
   "outputs": [],
   "source": [
    "def to_pdf(doc, key):\n",
    "    columns = [\"doc_id\", \"mention\", \"start\", \"end\", \"cui\", \"label\"]\n",
    "    lines = [(doc.source_ID, t.value, t.span[0], t.span[1], t.attributes[\"cui\"], t.attributes[\"label\"]) \\\n",
    "             for t in doc.get_annotations(key)]\n",
    "    \n",
    "    \n",
    "    df = pd.DataFrame(lines if lines else {k: [] for k in columns}, \n",
    "                      columns = columns\n",
    "                     )    \n",
    "    return df"
   ]
  },
  {
   "cell_type": "code",
   "execution_count": 21,
   "metadata": {},
   "outputs": [],
   "source": [
    "ner_acc = []\n",
    "syn_acc = []\n",
    "\n",
    "for doc in docs:\n",
    "    df_syn = to_pdf(doc, 'umls_syntagme')\n",
    "    \n",
    "#     ner_acc.append(to_pdf(doc, 'umls_therap'))\n",
    "    ner_acc.append(to_pdf(doc, 'umls_diag_name'))\n",
    "#     ner_acc.append(to_pdf(doc, 'umls_diag_proc'))\n",
    "    ner_acc.append(to_pdf(doc, 'umls_signs'))\n",
    "\n",
    "    syn_acc.append(df_syn)\n",
    "\n",
    "ner_acc = pd.concat(ner_acc).assign(mod = \"ner\")\n",
    "syn_acc = pd.concat(syn_acc).assign(mod = \"syn\")"
   ]
  },
  {
   "cell_type": "code",
   "execution_count": 22,
   "metadata": {},
   "outputs": [
    {
     "data": {
      "text/html": [
       "<div>\n",
       "<style scoped>\n",
       "    .dataframe tbody tr th:only-of-type {\n",
       "        vertical-align: middle;\n",
       "    }\n",
       "\n",
       "    .dataframe tbody tr th {\n",
       "        vertical-align: top;\n",
       "    }\n",
       "\n",
       "    .dataframe thead th {\n",
       "        text-align: right;\n",
       "    }\n",
       "</style>\n",
       "<table border=\"1\" class=\"dataframe\">\n",
       "  <thead>\n",
       "    <tr style=\"text-align: right;\">\n",
       "      <th></th>\n",
       "      <th>doc_id</th>\n",
       "      <th>mention</th>\n",
       "      <th>start</th>\n",
       "      <th>end</th>\n",
       "      <th>cui</th>\n",
       "      <th>label</th>\n",
       "      <th>mod</th>\n",
       "    </tr>\n",
       "  </thead>\n",
       "  <tbody>\n",
       "    <tr>\n",
       "      <th>0</th>\n",
       "      <td>698430240</td>\n",
       "      <td>contusion</td>\n",
       "      <td>297.0</td>\n",
       "      <td>306.0</td>\n",
       "      <td>C0009938</td>\n",
       "      <td>contusion</td>\n",
       "      <td>ner</td>\n",
       "    </tr>\n",
       "    <tr>\n",
       "      <th>1</th>\n",
       "      <td>698430240</td>\n",
       "      <td>rupture</td>\n",
       "      <td>401.0</td>\n",
       "      <td>408.0</td>\n",
       "      <td>C3203359</td>\n",
       "      <td>rupture</td>\n",
       "      <td>ner</td>\n",
       "    </tr>\n",
       "    <tr>\n",
       "      <th>2</th>\n",
       "      <td>698430240</td>\n",
       "      <td>rupture</td>\n",
       "      <td>446.0</td>\n",
       "      <td>453.0</td>\n",
       "      <td>C3203359</td>\n",
       "      <td>rupture</td>\n",
       "      <td>ner</td>\n",
       "    </tr>\n",
       "    <tr>\n",
       "      <th>3</th>\n",
       "      <td>698430240</td>\n",
       "      <td>épanchement intra-articulaire assez</td>\n",
       "      <td>484.0</td>\n",
       "      <td>519.0</td>\n",
       "      <td>C1253936</td>\n",
       "      <td>epanchement intra-articulair</td>\n",
       "      <td>ner</td>\n",
       "    </tr>\n",
       "    <tr>\n",
       "      <th>4</th>\n",
       "      <td>698430240</td>\n",
       "      <td>traumatisme</td>\n",
       "      <td>1429.0</td>\n",
       "      <td>1440.0</td>\n",
       "      <td>C3714660</td>\n",
       "      <td>traumatisme</td>\n",
       "      <td>ner</td>\n",
       "    </tr>\n",
       "  </tbody>\n",
       "</table>\n",
       "</div>"
      ],
      "text/plain": [
       "      doc_id                              mention   start     end       cui  \\\n",
       "0  698430240                            contusion   297.0   306.0  C0009938   \n",
       "1  698430240                              rupture   401.0   408.0  C3203359   \n",
       "2  698430240                              rupture   446.0   453.0  C3203359   \n",
       "3  698430240  épanchement intra-articulaire assez   484.0   519.0  C1253936   \n",
       "4  698430240                          traumatisme  1429.0  1440.0  C3714660   \n",
       "\n",
       "                          label  mod  \n",
       "0                     contusion  ner  \n",
       "1                       rupture  ner  \n",
       "2                       rupture  ner  \n",
       "3  epanchement intra-articulair  ner  \n",
       "4                   traumatisme  ner  "
      ]
     },
     "execution_count": 22,
     "metadata": {},
     "output_type": "execute_result"
    }
   ],
   "source": [
    "ner_acc.head()"
   ]
  },
  {
   "cell_type": "code",
   "execution_count": 23,
   "metadata": {},
   "outputs": [],
   "source": [
    "from sklearn.metrics import accuracy_score, confusion_matrix, f1_score, recall_score, precision_score"
   ]
  },
  {
   "cell_type": "code",
   "execution_count": 24,
   "metadata": {},
   "outputs": [],
   "source": [
    "def compute_metrics(gold, pred, label = \"\"):\n",
    "    tp, fn, fp, tn = confusion_matrix(gold, pred).ravel()\n",
    "    acc = accuracy_score(gold, pred)\n",
    "    f1= f1_score(gold, pred, average=\"binary\")\n",
    "    r = recall_score(gold, pred, average=\"binary\")\n",
    "    p = precision_score(gold, pred, average=\"binary\")\n",
    "    \n",
    "    #reformat metrics\n",
    "    metrics = pd.DataFrame([[tp + fn, tp, fn, fp, r, p, f1, acc]],\n",
    "                           columns=['total_pos', \"TP\", \"FN\", \"FP\", \"Recall\", \"Precision\", \"F1\", \"Accuracy\"], index = [label])\n",
    "    return metrics"
   ]
  },
  {
   "cell_type": "code",
   "execution_count": 25,
   "metadata": {},
   "outputs": [],
   "source": [
    "all_merge = (all_ann\n",
    "             .merge(ner_acc, how = \"outer\", on =[\"doc_id\", \"cui\"])\n",
    "             .merge(syn_acc, how = \"outer\", on =[\"doc_id\", \"cui\"])\n",
    "             .assign(true = lambda x:x.ent_id.notnull())\n",
    "             .assign(pred_ner = lambda x:x['mod_x'].notnull())\n",
    "             .assign(pred_q = lambda x:x['mod_y'].notnull())\n",
    "\n",
    "            )"
   ]
  },
  {
   "cell_type": "code",
   "execution_count": 26,
   "metadata": {},
   "outputs": [
    {
     "data": {
      "text/html": [
       "<div>\n",
       "<style scoped>\n",
       "    .dataframe tbody tr th:only-of-type {\n",
       "        vertical-align: middle;\n",
       "    }\n",
       "\n",
       "    .dataframe tbody tr th {\n",
       "        vertical-align: top;\n",
       "    }\n",
       "\n",
       "    .dataframe thead th {\n",
       "        text-align: right;\n",
       "    }\n",
       "</style>\n",
       "<table border=\"1\" class=\"dataframe\">\n",
       "  <thead>\n",
       "    <tr style=\"text-align: right;\">\n",
       "      <th></th>\n",
       "      <th>total_pos</th>\n",
       "      <th>TP</th>\n",
       "      <th>FN</th>\n",
       "      <th>FP</th>\n",
       "      <th>Recall</th>\n",
       "      <th>Precision</th>\n",
       "      <th>F1</th>\n",
       "      <th>Accuracy</th>\n",
       "    </tr>\n",
       "  </thead>\n",
       "  <tbody>\n",
       "    <tr>\n",
       "      <th>NER + QuickUMLS (ent level)</th>\n",
       "      <td>168</td>\n",
       "      <td>73</td>\n",
       "      <td>95</td>\n",
       "      <td>162</td>\n",
       "      <td>0.78</td>\n",
       "      <td>0.86</td>\n",
       "      <td>0.81</td>\n",
       "      <td>0.71</td>\n",
       "    </tr>\n",
       "    <tr>\n",
       "      <th>QuickUMLS (ent level)</th>\n",
       "      <td>168</td>\n",
       "      <td>3</td>\n",
       "      <td>165</td>\n",
       "      <td>140</td>\n",
       "      <td>0.81</td>\n",
       "      <td>0.78</td>\n",
       "      <td>0.79</td>\n",
       "      <td>0.66</td>\n",
       "    </tr>\n",
       "    <tr>\n",
       "      <th>NER + QuickUMLS (doc level)</th>\n",
       "      <td>104</td>\n",
       "      <td>55</td>\n",
       "      <td>49</td>\n",
       "      <td>122</td>\n",
       "      <td>0.29</td>\n",
       "      <td>0.51</td>\n",
       "      <td>0.37</td>\n",
       "      <td>0.38</td>\n",
       "    </tr>\n",
       "    <tr>\n",
       "      <th>QuickUMLS (doc level)</th>\n",
       "      <td>104</td>\n",
       "      <td>3</td>\n",
       "      <td>101</td>\n",
       "      <td>110</td>\n",
       "      <td>0.36</td>\n",
       "      <td>0.38</td>\n",
       "      <td>0.37</td>\n",
       "      <td>0.24</td>\n",
       "    </tr>\n",
       "  </tbody>\n",
       "</table>\n",
       "</div>"
      ],
      "text/plain": [
       "                             total_pos  TP   FN   FP  Recall  Precision    F1  \\\n",
       "NER + QuickUMLS (ent level)        168  73   95  162    0.78       0.86  0.81   \n",
       "QuickUMLS (ent level)              168   3  165  140    0.81       0.78  0.79   \n",
       "NER + QuickUMLS (doc level)        104  55   49  122    0.29       0.51  0.37   \n",
       "QuickUMLS (doc level)              104   3  101  110    0.36       0.38  0.37   \n",
       "\n",
       "                             Accuracy  \n",
       "NER + QuickUMLS (ent level)      0.71  \n",
       "QuickUMLS (ent level)            0.66  \n",
       "NER + QuickUMLS (doc level)      0.38  \n",
       "QuickUMLS (doc level)            0.24  "
      ]
     },
     "execution_count": 26,
     "metadata": {},
     "output_type": "execute_result"
    }
   ],
   "source": [
    "pd.concat([compute_metrics(all_merge.true, all_merge.pred_ner, label = \"NER + QuickUMLS (ent level)\"), \n",
    "           compute_metrics(all_merge.true, all_merge.pred_q, label = \"QuickUMLS (ent level)\"),\n",
    "           compute_metrics(all_merge.drop_duplicates([\"doc_id\", \"cui\"]).true, all_merge.drop_duplicates([\"doc_id\", \"cui\"]).pred_ner, label = \"NER + QuickUMLS (doc level)\"),\n",
    "           compute_metrics(all_merge.drop_duplicates([\"doc_id\", \"cui\"]).true, all_merge.drop_duplicates([\"doc_id\", \"cui\"]).pred_q, label = \"QuickUMLS (doc level)\")]\n",
    "         ).round(2)"
   ]
  },
  {
   "cell_type": "code",
   "execution_count": 15,
   "metadata": {},
   "outputs": [
    {
     "data": {
      "text/plain": [
       "(682, 418)"
      ]
     },
     "execution_count": 15,
     "metadata": {},
     "output_type": "execute_result"
    }
   ],
   "source": [
    "len(syn_acc), len(ner_acc)"
   ]
  },
  {
   "cell_type": "code",
   "execution_count": 16,
   "metadata": {},
   "outputs": [
    {
     "data": {
      "text/plain": [
       "(296, 10)"
      ]
     },
     "execution_count": 16,
     "metadata": {},
     "output_type": "execute_result"
    }
   ],
   "source": [
    "ner_acc.merge(syn_acc, how = \"inner\", on =[\"doc_id\", \"start\", \"end\", \"cui\"]).shape"
   ]
  },
  {
   "cell_type": "code",
   "execution_count": 17,
   "metadata": {},
   "outputs": [],
   "source": [
    "diff = ner_acc.merge(syn_acc, how = \"outer\", on =[\"doc_id\", \"start\", \"end\"]).loc[lambda x:x.cui_x != x.cui_y]"
   ]
  },
  {
   "cell_type": "code",
   "execution_count": 18,
   "metadata": {},
   "outputs": [],
   "source": [
    "from IPython.display import display_html"
   ]
  },
  {
   "cell_type": "code",
   "execution_count": 19,
   "metadata": {},
   "outputs": [],
   "source": [
    "gen = ((k, group) for k, group in diff.groupby('doc_id'))\n"
   ]
  },
  {
   "cell_type": "code",
   "execution_count": 21,
   "metadata": {},
   "outputs": [
    {
     "data": {
      "text/html": [
       "<div>\n",
       "<style scoped>\n",
       "    .dataframe tbody tr th:only-of-type {\n",
       "        vertical-align: middle;\n",
       "    }\n",
       "\n",
       "    .dataframe tbody tr th {\n",
       "        vertical-align: top;\n",
       "    }\n",
       "\n",
       "    .dataframe thead th {\n",
       "        text-align: right;\n",
       "    }\n",
       "</style>\n",
       "<table border=\"1\" class=\"dataframe\">\n",
       "  <thead>\n",
       "    <tr style=\"text-align: right;\">\n",
       "      <th></th>\n",
       "      <th>mention_x</th>\n",
       "      <th>label_x</th>\n",
       "    </tr>\n",
       "  </thead>\n",
       "  <tbody>\n",
       "    <tr>\n",
       "      <th>19</th>\n",
       "      <td>cardiopathie ischémique</td>\n",
       "      <td>myelopathie ischemique</td>\n",
       "    </tr>\n",
       "    <tr>\n",
       "      <th>20</th>\n",
       "      <td>infarctus</td>\n",
       "      <td>infarctus</td>\n",
       "    </tr>\n",
       "    <tr>\n",
       "      <th>31</th>\n",
       "      <td>échographie cardiaque</td>\n",
       "      <td>echographie cardiaque</td>\n",
       "    </tr>\n",
       "    <tr>\n",
       "      <th>33</th>\n",
       "      <td>cardiovasculaire</td>\n",
       "      <td>syncope cardiovasculaire</td>\n",
       "    </tr>\n",
       "  </tbody>\n",
       "</table>\n",
       "</div>"
      ]
     },
     "metadata": {},
     "output_type": "display_data"
    },
    {
     "data": {
      "text/html": [
       "<div>\n",
       "<style scoped>\n",
       "    .dataframe tbody tr th:only-of-type {\n",
       "        vertical-align: middle;\n",
       "    }\n",
       "\n",
       "    .dataframe tbody tr th {\n",
       "        vertical-align: top;\n",
       "    }\n",
       "\n",
       "    .dataframe thead th {\n",
       "        text-align: right;\n",
       "    }\n",
       "</style>\n",
       "<table border=\"1\" class=\"dataframe\">\n",
       "  <thead>\n",
       "    <tr style=\"text-align: right;\">\n",
       "      <th></th>\n",
       "      <th>mention_y</th>\n",
       "      <th>label_y</th>\n",
       "    </tr>\n",
       "  </thead>\n",
       "  <tbody>\n",
       "    <tr>\n",
       "      <th>33</th>\n",
       "      <td>cardiovasculaire</td>\n",
       "      <td>nevrose cardiovasculaire</td>\n",
       "    </tr>\n",
       "    <tr>\n",
       "      <th>450</th>\n",
       "      <td>consultation</td>\n",
       "      <td>teleconsultation</td>\n",
       "    </tr>\n",
       "    <tr>\n",
       "      <th>451</th>\n",
       "      <td>consultation</td>\n",
       "      <td>teleconsultation</td>\n",
       "    </tr>\n",
       "    <tr>\n",
       "      <th>452</th>\n",
       "      <td>suivi de cardiopathie ischémique</td>\n",
       "      <td>cardiopathie ischemique</td>\n",
       "    </tr>\n",
       "    <tr>\n",
       "      <th>453</th>\n",
       "      <td>fait infarctus</td>\n",
       "      <td>post infarctus</td>\n",
       "    </tr>\n",
       "    <tr>\n",
       "      <th>454</th>\n",
       "      <td>TSA et des membres inférieurs</td>\n",
       "      <td>ulceres des membres inferieurs</td>\n",
       "    </tr>\n",
       "    <tr>\n",
       "      <th>455</th>\n",
       "      <td>fraction d’éjection retrouvée</td>\n",
       "      <td>fraction d'ejection</td>\n",
       "    </tr>\n",
       "    <tr>\n",
       "      <th>456</th>\n",
       "      <td>échographie</td>\n",
       "      <td>echographie sai</td>\n",
       "    </tr>\n",
       "    <tr>\n",
       "      <th>457</th>\n",
       "      <td>consultation</td>\n",
       "      <td>teleconsultation</td>\n",
       "    </tr>\n",
       "    <tr>\n",
       "      <th>458</th>\n",
       "      <td>chute</td>\n",
       "      <td>chutes</td>\n",
       "    </tr>\n",
       "    <tr>\n",
       "      <th>459</th>\n",
       "      <td>consultation</td>\n",
       "      <td>teleconsultation</td>\n",
       "    </tr>\n",
       "    <tr>\n",
       "      <th>460</th>\n",
       "      <td>bruits cœur</td>\n",
       "      <td>bruits du coeur</td>\n",
       "    </tr>\n",
       "    <tr>\n",
       "      <th>461</th>\n",
       "      <td>systolique</td>\n",
       "      <td>asystolique</td>\n",
       "    </tr>\n",
       "    <tr>\n",
       "      <th>462</th>\n",
       "      <td>ECG</td>\n",
       "      <td>ecg</td>\n",
       "    </tr>\n",
       "    <tr>\n",
       "      <th>463</th>\n",
       "      <td>normale</td>\n",
       "      <td>t4 normale</td>\n",
       "    </tr>\n",
       "    <tr>\n",
       "      <th>464</th>\n",
       "      <td>lui prévois échographie cardiaque</td>\n",
       "      <td>echographie cardiaque</td>\n",
       "    </tr>\n",
       "  </tbody>\n",
       "</table>\n",
       "</div>"
      ]
     },
     "metadata": {},
     "output_type": "display_data"
    }
   ],
   "source": [
    "k, group = next(gen)\n",
    "ner_mention = group.loc[lambda x:x.mod_x.notnull(), [\"mention_x\", \"label_x\"]]\n",
    "syn_mention = group.loc[lambda x:x.mod_y.notnull(), [\"mention_y\", \"label_y\"]]\n",
    "\n",
    "display_html(ner_mention)\n",
    "display_html(syn_mention)"
   ]
  },
  {
   "cell_type": "code",
   "execution_count": 32,
   "metadata": {},
   "outputs": [],
   "source": [
    "# python -m quickumls.install -E FR data/umls data/quickumls"
   ]
  },
  {
   "cell_type": "code",
   "execution_count": 19,
   "metadata": {},
   "outputs": [],
   "source": [
    "from pymedext_eds.viz import display_annotations"
   ]
  },
  {
   "cell_type": "code",
   "execution_count": 36,
   "metadata": {},
   "outputs": [],
   "source": [
    "doc_demo = rawtext_loader(\"data/test_data/pheno_norm.txt\") "
   ]
  },
  {
   "cell_type": "code",
   "execution_count": 37,
   "metadata": {},
   "outputs": [],
   "source": [
    "#norm_pheno.k_neighboors = 2"
   ]
  },
  {
   "cell_type": "code",
   "execution_count": 38,
   "metadata": {},
   "outputs": [],
   "source": [
    "pipeline = [endlines, sections, sentences, hypothesis, family, syntagmes,\n",
    "            negation, regex, umls_syntagme, ner, norm_pheno,\n",
    "            umls_signs, umls_diag_proc, umls_diag_name, umls_therap]"
   ]
  },
  {
   "cell_type": "code",
   "execution_count": 39,
   "metadata": {},
   "outputs": [],
   "source": [
    "doc_demo.annotate(pipeline)"
   ]
  },
  {
   "cell_type": "code",
   "execution_count": 37,
   "metadata": {},
   "outputs": [
    {
     "data": {
      "text/html": [
       "<span class=\"tex2jax_ignore\"><div class=\"entities\" style=\"line-height: 2.5; direction: ltr\">Le patient présente un <mark class=\"entity\" style=\"background: #ffb3ba; padding: 0.45em 0.6em; margin: 0 0.25em; line-height: 1; border-radius: 0.35em;\">kyste au niveau du rein droit<span style=\"font-size: 0.8em; font-weight: bold; line-height: 1; border-radius: 0.35em; vertical-align: middle; margin-left: 0.5rem\">ENT/DIAG_NAME</span></mark>.</br> Le patient présente un <mark class=\"entity\" style=\"background: #ffb3ba; padding: 0.45em 0.6em; margin: 0 0.25em; line-height: 1; border-radius: 0.35em;\">kyste au niveau du poumon droit<span style=\"font-size: 0.8em; font-weight: bold; line-height: 1; border-radius: 0.35em; vertical-align: middle; margin-left: 0.5rem\">ENT/DIAG_NAME</span></mark>.</br> Se présente avec un <mark class=\"entity\" style=\"background: #ffb3ba; padding: 0.45em 0.6em; margin: 0 0.25em; line-height: 1; border-radius: 0.35em;\">kyste au niveau du pelvis<span style=\"font-size: 0.8em; font-weight: bold; line-height: 1; border-radius: 0.35em; vertical-align: middle; margin-left: 0.5rem\">ENT/DIAG_NAME</span></mark>.</br> Se présente avec un <mark class=\"entity\" style=\"background: #ffb3ba; padding: 0.45em 0.6em; margin: 0 0.25em; line-height: 1; border-radius: 0.35em;\">kyste au niveau splénique<span style=\"font-size: 0.8em; font-weight: bold; line-height: 1; border-radius: 0.35em; vertical-align: middle; margin-left: 0.5rem\">ENT/DIAG_NAME</span></mark>.</br> Se présente avec un <mark class=\"entity\" style=\"background: #ffb3ba; padding: 0.45em 0.6em; margin: 0 0.25em; line-height: 1; border-radius: 0.35em;\">kyste au niveau de la rate<span style=\"font-size: 0.8em; font-weight: bold; line-height: 1; border-radius: 0.35em; vertical-align: middle; margin-left: 0.5rem\">ENT/DIAG_NAME</span></mark>.</br> Se présente avec un <mark class=\"entity\" style=\"background: #ffb3ba; padding: 0.45em 0.6em; margin: 0 0.25em; line-height: 1; border-radius: 0.35em;\">kyste saignant<span style=\"font-size: 0.8em; font-weight: bold; line-height: 1; border-radius: 0.35em; vertical-align: middle; margin-left: 0.5rem\">ENT/DIAG_NAME</span></mark>.</br> Se présente avec un <mark class=\"entity\" style=\"background: #ffb3ba; padding: 0.45em 0.6em; margin: 0 0.25em; line-height: 1; border-radius: 0.35em;\">kyste hémorragique<span style=\"font-size: 0.8em; font-weight: bold; line-height: 1; border-radius: 0.35em; vertical-align: middle; margin-left: 0.5rem\">ENT/DIAG_NAME</span></mark>.</br> Au niveau pulmonaire, présence d'une <mark class=\"entity\" style=\"background: #ffb3ba; padding: 0.45em 0.6em; margin: 0 0.25em; line-height: 1; border-radius: 0.35em;\">lésion<span style=\"font-size: 0.8em; font-weight: bold; line-height: 1; border-radius: 0.35em; vertical-align: middle; margin-left: 0.5rem\">ENT/DIAG_NAME</span></mark> non déterminé.</br> Au niveau hépatique, présence d'une <mark class=\"entity\" style=\"background: #ffb3ba; padding: 0.45em 0.6em; margin: 0 0.25em; line-height: 1; border-radius: 0.35em;\">lésion<span style=\"font-size: 0.8em; font-weight: bold; line-height: 1; border-radius: 0.35em; vertical-align: middle; margin-left: 0.5rem\">ENT/DIAG_NAME</span></mark> non déterminé.</br> Absence de signes d'ICG.</br> Absence de signes d'ICD.</br> Absence de signes d'IC.</br> Auscultation anormale avec sgines d'IC</br> Antécédents d'HTAP et de <mark class=\"entity\" style=\"background: #ffb3ba; padding: 0.45em 0.6em; margin: 0 0.25em; line-height: 1; border-radius: 0.35em;\">diabète<span style=\"font-size: 0.8em; font-weight: bold; line-height: 1; border-radius: 0.35em; vertical-align: middle; margin-left: 0.5rem\">ENT/DIAG_NAME</span></mark>.</br> Antécédents d'HTA et de <mark class=\"entity\" style=\"background: #ffb3ba; padding: 0.45em 0.6em; margin: 0 0.25em; line-height: 1; border-radius: 0.35em;\">diabète<span style=\"font-size: 0.8em; font-weight: bold; line-height: 1; border-radius: 0.35em; vertical-align: middle; margin-left: 0.5rem\">ENT/DIAG_NAME</span></mark>.</br> <mark class=\"entity\" style=\"background: #ffb3ba; padding: 0.45em 0.6em; margin: 0 0.25em; line-height: 1; border-radius: 0.35em;\">IVG<span style=\"font-size: 0.8em; font-weight: bold; line-height: 1; border-radius: 0.35em; vertical-align: middle; margin-left: 0.5rem\">ENT/DIAG_NAME</span></mark> à l'échographie.</br> IVG à 3 semaines.</br> Le patient se sent bien.</br> Le patient va bien.</br> <mark class=\"entity\" style=\"background: #ffb3ba; padding: 0.45em 0.6em; margin: 0 0.25em; line-height: 1; border-radius: 0.35em;\">Syndrome de Marphan<span style=\"font-size: 0.8em; font-weight: bold; line-height: 1; border-radius: 0.35em; vertical-align: middle; margin-left: 0.5rem\">ENT/DIAG_NAME</span></mark>.</br> Mydriase areactive.</br> Absence de <mark class=\"entity\" style=\"background: #ffb3ba; padding: 0.45em 0.6em; margin: 0 0.25em; line-height: 1; border-radius: 0.35em;\">diabate<span style=\"font-size: 0.8em; font-weight: bold; line-height: 1; border-radius: 0.35em; vertical-align: middle; margin-left: 0.5rem\">ENT/DIAG_NAME</span></mark><mark class=\"entity\" style=\"background: #ffdfba; padding: 0.45em 0.6em; margin: 0 0.25em; line-height: 1; border-radius: 0.35em;\">signes d'ICG<span style=\"font-size: 0.8em; font-weight: bold; line-height: 1; border-radius: 0.35em; vertical-align: middle; margin-left: 0.5rem\">ENT/SIGNS</span></mark><mark class=\"entity\" style=\"background: #ffdfba; padding: 0.45em 0.6em; margin: 0 0.25em; line-height: 1; border-radius: 0.35em;\">signes d'IC<span style=\"font-size: 0.8em; font-weight: bold; line-height: 1; border-radius: 0.35em; vertical-align: middle; margin-left: 0.5rem\">ENT/SIGNS</span></mark>G.</br> Absence de <mark class=\"entity\" style=\"background: #ffdfba; padding: 0.45em 0.6em; margin: 0 0.25em; line-height: 1; border-radius: 0.35em;\">signes d'ICD<span style=\"font-size: 0.8em; font-weight: bold; line-height: 1; border-radius: 0.35em; vertical-align: middle; margin-left: 0.5rem\">ENT/SIGNS</span></mark>.</br> Absence de signes d'IC.</br> <mark class=\"entity\" style=\"background: #ffdfba; padding: 0.45em 0.6em; margin: 0 0.25em; line-height: 1; border-radius: 0.35em;\">Auscultation anormale<span style=\"font-size: 0.8em; font-weight: bold; line-height: 1; border-radius: 0.35em; vertical-align: middle; margin-left: 0.5rem\">ENT/SIGNS</span></mark> avec sgines d'IC</br> Antécédents d'HTAP et de diabète.</br> Antécédents d'HTA et de diabète.</br> IVG à l'échographie.</br> IVG à 3 semaines.</br> Le patient <mark class=\"entity\" style=\"background: #ffdfba; padding: 0.45em 0.6em; margin: 0 0.25em; line-height: 1; border-radius: 0.35em;\">se sent bien<span style=\"font-size: 0.8em; font-weight: bold; line-height: 1; border-radius: 0.35em; vertical-align: middle; margin-left: 0.5rem\">ENT/SIGNS</span></mark>.</br> Le patient <mark class=\"entity\" style=\"background: #ffdfba; padding: 0.45em 0.6em; margin: 0 0.25em; line-height: 1; border-radius: 0.35em;\">va bien<span style=\"font-size: 0.8em; font-weight: bold; line-height: 1; border-radius: 0.35em; vertical-align: middle; margin-left: 0.5rem\">ENT/SIGNS</span></mark>.</br> Syndrome de Marphan.</br> <mark class=\"entity\" style=\"background: #ffdfba; padding: 0.45em 0.6em; margin: 0 0.25em; line-height: 1; border-radius: 0.35em;\">Mydriase areactive<span style=\"font-size: 0.8em; font-weight: bold; line-height: 1; border-radius: 0.35em; vertical-align: middle; margin-left: 0.5rem\">ENT/SIGNS</span></mark>.</br> Absence de diabate.</br> <mark class=\"entity\" style=\"background: #ffdfba; padding: 0.45em 0.6em; margin: 0 0.25em; line-height: 1; border-radius: 0.35em;\">Douleur au ventre<span style=\"font-size: 0.8em; font-weight: bold; line-height: 1; border-radius: 0.35em; vertical-align: middle; margin-left: 0.5rem\">ENT/SIGNS</span></mark>.</br> <mark class=\"entity\" style=\"background: #ffdfba; padding: 0.45em 0.6em; margin: 0 0.25em; line-height: 1; border-radius: 0.35em;\">Douleur abdo<span style=\"font-size: 0.8em; font-weight: bold; line-height: 1; border-radius: 0.35em; vertical-align: middle; margin-left: 0.5rem\">ENT/SIGNS</span></mark></br> <mark class=\"entity\" style=\"background: #ffdfba; padding: 0.45em 0.6em; margin: 0 0.25em; line-height: 1; border-radius: 0.35em;\">Epigastralgie<span style=\"font-size: 0.8em; font-weight: bold; line-height: 1; border-radius: 0.35em; vertical-align: middle; margin-left: 0.5rem\">ENT/SIGNS</span></mark>.Le patient à la <mark class=\"entity\" style=\"background: #ffdfba; padding: 0.45em 0.6em; margin: 0 0.25em; line-height: 1; border-radius: 0.35em;\">bouche sèche<span style=\"font-size: 0.8em; font-weight: bold; line-height: 1; border-radius: 0.35em; vertical-align: middle; margin-left: 0.5rem\">ENT/SIGNS</span></mark>.</div></span>"
      ],
      "text/plain": [
       "<IPython.core.display.HTML object>"
      ]
     },
     "metadata": {},
     "output_type": "display_data"
    }
   ],
   "source": [
    "display_annotations(doc_demo, entities=['ENT/DIAG_NAME', 'ENT/SIGNS'])"
   ]
  },
  {
   "cell_type": "code",
   "execution_count": 38,
   "metadata": {},
   "outputs": [
    {
     "data": {
      "text/plain": [
       "[('C0000727', 'ABDOMEN AIGU'),\n",
       " ('C0000727', 'Abdomen aigu'),\n",
       " ('C0000727', 'Abdomen aigu'),\n",
       " ('C0000727', 'Abdomen aigu'),\n",
       " ('C0000727', 'Abdomen chirurgical'),\n",
       " ('C0000727', 'Abdomen urgent'),\n",
       " ('C0000727', 'Syndrome abdominal aigu'),\n",
       " ('C0000727', 'Syndrome abdominal aigu'),\n",
       " ('C0000727', 'syndrome abdominal aigu'),\n",
       " ('C0000729', 'CRAMPES ABDOMINALES')]"
      ]
     },
     "execution_count": 38,
     "metadata": {},
     "output_type": "execute_result"
    }
   ],
   "source": [
    "list(norm_pheno.dict_label.values())[:10]"
   ]
  },
  {
   "cell_type": "code",
   "execution_count": 33,
   "metadata": {},
   "outputs": [
    {
     "name": "stdout",
     "output_type": "stream",
     "text": [
      "kyste au niveau du rein droit\tkyste du rein\t score: 0.961\n",
      "kyste au niveau du poumon droit\tLésion du poumon, avec plaie ouverte du thorax\t score: 0.954\n",
      "kyste au niveau du pelvis\tkyste du pancreas\t score: 0.948\n",
      "kyste au niveau splénique\tkyste du cordon spermatique\t score: 0.952\n",
      "kyste au niveau de la rate\tLésion de la rate avec plaie ouverte de la cavité\t score: 0.961\n",
      "kyste saignant\tUlcère duodénal saignant\t score: 0.912\n",
      "kyste hémorragique\tKyste hémorragique\t score: 0.961\n",
      "lésion\tlesion intracranienne\t score: 0.862\n",
      "lésion\tlesion intracranienne\t score: 0.864\n",
      "signes d'ICG\tsignes ecg d'ischemie myocardique\t score: 0.907\n",
      "signes d'ICD\tsignes ecg d'ischemie myocardique\t score: 0.908\n",
      "signes d'IC\tsignes ecg d'ischemie myocardique\t score: 0.909\n",
      "Auscultation anormale\tauscultation pulmonaire anormale\t score: 0.955\n",
      "diabète\tdiabete\t score: 0.95\n",
      "diabète\tdiabete\t score: 0.945\n",
      "IVG\tivu\t score: 0.917\n",
      "se sent bien\tNe se sent pas bien\t score: 0.948\n",
      "va bien\tNe se sent pas bien\t score: 0.904\n",
      "Syndrome de Marphan\tSyndrome de Marfan\t score: 0.971\n",
      "Mydriase areactive\tMyosis pupillaire\t score: 0.906\n",
      "diabate\tdiabete sucre\t score: 0.898\n",
      "Douleur au ventre\tDouleur au pied\t score: 0.968\n",
      "Douleur abdo\tdouleur abdo\t score: 1.0\n",
      "Epigastralgie\tepigastralgie\t score: 1.0\n",
      "bouche sèche\tToux sèche\t score: 0.925\n"
     ]
    }
   ],
   "source": [
    "print(\"\\n\".join([\"\\t\".join([t.attributes['mention'], t.value]) + \"\\t score: {}\".format(round(t.attributes['score_cos'],3)) for t in doc_demo.get_annotations('normalized_mention')]))"
   ]
  },
  {
   "cell_type": "code",
   "execution_count": 40,
   "metadata": {},
   "outputs": [
    {
     "name": "stdout",
     "output_type": "stream",
     "text": [
      "kyste au niveau du rein droit\tkyste du rein\t score: 0.961\n",
      "kyste au niveau du poumon droit\tkyste du pancreas\t score: 0.952\n",
      "kyste au niveau du pelvis\tkyste du pancreas\t score: 0.948\n",
      "kyste au niveau splénique\tkyste du cordon spermatique\t score: 0.952\n",
      "kyste au niveau de la rate\tkyste du pancreas\t score: 0.947\n",
      "kyste saignant\tkyste\t score: 0.909\n",
      "kyste hémorragique\tkyste ovarien hemorragique\t score: 0.928\n",
      "lésion\tlesion intracranienne\t score: 0.862\n",
      "lésion\tlesion intracranienne\t score: 0.864\n",
      "signes d'ICG\tsignes ecg d'ischemie myocardique\t score: 0.907\n",
      "signes d'ICD\tsignes ecg d'ischemie myocardique\t score: 0.908\n",
      "signes d'IC\tsignes ecg d'ischemie myocardique\t score: 0.909\n",
      "Auscultation anormale\tauscultation pulmonaire anormale\t score: 0.955\n",
      "diabète\tdiabete\t score: 0.95\n",
      "diabète\tdiabete\t score: 0.945\n",
      "IVG\tivu\t score: 0.917\n",
      "se sent bien\tse sent tres mal\t score: 0.939\n",
      "va bien\tse sent tres mal\t score: 0.901\n",
      "Syndrome de Marphan\tsyndrome de marfan\t score: 0.971\n",
      "Mydriase areactive\tastigmatisme myopique\t score: 0.894\n",
      "diabate\tdiabete sucre\t score: 0.898\n",
      "Douleur au ventre\tdouleur du dos\t score: 0.947\n",
      "Douleur abdo\tdouleur abdo\t score: 1.0\n",
      "Epigastralgie\tepigastralgie\t score: 1.0\n",
      "bouche sèche\trhinorrhee purulente\t score: 0.88\n"
     ]
    }
   ],
   "source": [
    "print(\"\\n\".join([\"\\t\".join([t.attributes['mention'], t.value]) + \"\\t score: {}\".format(round(t.attributes['score_cos'],3)) for t in doc_demo.get_annotations('normalized_mention')]))"
   ]
  },
  {
   "cell_type": "code",
   "execution_count": 72,
   "metadata": {},
   "outputs": [
    {
     "data": {
      "text/html": [
       "<span class=\"tex2jax_ignore\"><div class=\"entities\" style=\"line-height: 2.5; direction: ltr\">Le patient présente un kyste au niveau du rein droit.</br> Le patient présente un kyste au niveau du poumon droit.</br> Se présente avec un kyste au niveau du pelvis.</br> Se présente avec un kyste au niveau splénique.</br> Se présente avec un kyste au niveau de la rate.</br> Se présente avec un kyste saignant.</br> Se présente avec un kyste hémorragique.</br> Au niveau pulmonaire, présence d'une lésion non déterminé.</br> Au niveau hépatique, présence d'une lésion non déterminé.</br> Absence de signes d'ICG.</br> Absence de signes d'ICD.</br> Absence de signes d'IC.</br> Auscultation anormale avec sgines d'IC</br> Antécédents d'HTAP et de diabète.</br> Antécédents d'HTA et de diabète.</br> IVG à l'échographie.</br> IVG à 3 semaines.</br> Le patient se sent bien.</br> Le patient va bien.</br> Syndrome de Marphan.</br> Mydriase areactive.</br> Absence de diabate.</br> Douleur au ventre.</br> Douleur abdo</br> Epigastralgie.Le patient à la bouche sèche.</div></span>"
      ],
      "text/plain": [
       "<IPython.core.display.HTML object>"
      ]
     },
     "metadata": {},
     "output_type": "display_data"
    }
   ],
   "source": [
    "display_annotations(doc_demo, entities=['normalized_mention'])"
   ]
  },
  {
   "cell_type": "code",
   "execution_count": 73,
   "metadata": {},
   "outputs": [
    {
     "data": {
      "text/html": [
       "<span class=\"tex2jax_ignore\"><div class=\"entities\" style=\"line-height: 2.5; direction: ltr\">Le patient présente un <mark class=\"entity\" style=\"background: #ffb3ba; padding: 0.45em 0.6em; margin: 0 0.25em; line-height: 1; border-radius: 0.35em;\">kyste<span style=\"font-size: 0.8em; font-weight: bold; line-height: 1; border-radius: 0.35em; vertical-align: middle; margin-left: 0.5rem\">UMLS_SYNTAGME</span></mark> au niveau du rein droit.</br> Le patient présente un <mark class=\"entity\" style=\"background: #ffb3ba; padding: 0.45em 0.6em; margin: 0 0.25em; line-height: 1; border-radius: 0.35em;\">kyste<span style=\"font-size: 0.8em; font-weight: bold; line-height: 1; border-radius: 0.35em; vertical-align: middle; margin-left: 0.5rem\">UMLS_SYNTAGME</span></mark> au niveau du poumon droit.</br> Se présente avec un <mark class=\"entity\" style=\"background: #ffb3ba; padding: 0.45em 0.6em; margin: 0 0.25em; line-height: 1; border-radius: 0.35em;\">kyste<span style=\"font-size: 0.8em; font-weight: bold; line-height: 1; border-radius: 0.35em; vertical-align: middle; margin-left: 0.5rem\">UMLS_SYNTAGME</span></mark> au niveau du pelvis.</br> Se présente avec un <mark class=\"entity\" style=\"background: #ffb3ba; padding: 0.45em 0.6em; margin: 0 0.25em; line-height: 1; border-radius: 0.35em;\">kyste<span style=\"font-size: 0.8em; font-weight: bold; line-height: 1; border-radius: 0.35em; vertical-align: middle; margin-left: 0.5rem\">UMLS_SYNTAGME</span></mark> au niveau splénique.</br> Se présente avec un <mark class=\"entity\" style=\"background: #ffb3ba; padding: 0.45em 0.6em; margin: 0 0.25em; line-height: 1; border-radius: 0.35em;\">kyste<span style=\"font-size: 0.8em; font-weight: bold; line-height: 1; border-radius: 0.35em; vertical-align: middle; margin-left: 0.5rem\">UMLS_SYNTAGME</span></mark> au niveau de la rate.</br> Se présente avec un <mark class=\"entity\" style=\"background: #ffb3ba; padding: 0.45em 0.6em; margin: 0 0.25em; line-height: 1; border-radius: 0.35em;\">kyste<span style=\"font-size: 0.8em; font-weight: bold; line-height: 1; border-radius: 0.35em; vertical-align: middle; margin-left: 0.5rem\">UMLS_SYNTAGME</span></mark> saignant.</br> Se présente avec un <mark class=\"entity\" style=\"background: #ffb3ba; padding: 0.45em 0.6em; margin: 0 0.25em; line-height: 1; border-radius: 0.35em;\">kyste hémorragique<span style=\"font-size: 0.8em; font-weight: bold; line-height: 1; border-radius: 0.35em; vertical-align: middle; margin-left: 0.5rem\">UMLS_SYNTAGME</span></mark>.</br> Au niveau pulmonaire, présence d'une <mark class=\"entity\" style=\"background: #ffb3ba; padding: 0.45em 0.6em; margin: 0 0.25em; line-height: 1; border-radius: 0.35em;\">lésion<span style=\"font-size: 0.8em; font-weight: bold; line-height: 1; border-radius: 0.35em; vertical-align: middle; margin-left: 0.5rem\">UMLS_SYNTAGME</span></mark> non déterminé.</br> Au niveau hépatique, présence d'une <mark class=\"entity\" style=\"background: #ffb3ba; padding: 0.45em 0.6em; margin: 0 0.25em; line-height: 1; border-radius: 0.35em;\">lésion<span style=\"font-size: 0.8em; font-weight: bold; line-height: 1; border-radius: 0.35em; vertical-align: middle; margin-left: 0.5rem\">UMLS_SYNTAGME</span></mark> non déterminé.</br> Absence de signes d'ICG.</br> Absence de signes d'ICD.</br> Absence de signes d'IC.</br> Auscultation anormale avec sgines d'IC</br> Antécédents d'<mark class=\"entity\" style=\"background: #ffb3ba; padding: 0.45em 0.6em; margin: 0 0.25em; line-height: 1; border-radius: 0.35em;\">HTAP<span style=\"font-size: 0.8em; font-weight: bold; line-height: 1; border-radius: 0.35em; vertical-align: middle; margin-left: 0.5rem\">UMLS_SYNTAGME</span></mark> et de <mark class=\"entity\" style=\"background: #ffb3ba; padding: 0.45em 0.6em; margin: 0 0.25em; line-height: 1; border-radius: 0.35em;\">diabète<span style=\"font-size: 0.8em; font-weight: bold; line-height: 1; border-radius: 0.35em; vertical-align: middle; margin-left: 0.5rem\">UMLS_SYNTAGME</span></mark>.</br> Antécédents d'HTA et de <mark class=\"entity\" style=\"background: #ffb3ba; padding: 0.45em 0.6em; margin: 0 0.25em; line-height: 1; border-radius: 0.35em;\">diabète<span style=\"font-size: 0.8em; font-weight: bold; line-height: 1; border-radius: 0.35em; vertical-align: middle; margin-left: 0.5rem\">UMLS_SYNTAGME</span></mark>.</br> IVG à l'échographie.</br> IVG à 3 semaines.</br> Le patient se sent bien.</br> Le patient va bien.</br> <mark class=\"entity\" style=\"background: #ffb3ba; padding: 0.45em 0.6em; margin: 0 0.25em; line-height: 1; border-radius: 0.35em;\">Syndrome<span style=\"font-size: 0.8em; font-weight: bold; line-height: 1; border-radius: 0.35em; vertical-align: middle; margin-left: 0.5rem\">UMLS_SYNTAGME</span></mark> de Marphan.</br> <mark class=\"entity\" style=\"background: #ffb3ba; padding: 0.45em 0.6em; margin: 0 0.25em; line-height: 1; border-radius: 0.35em;\">Mydriase<span style=\"font-size: 0.8em; font-weight: bold; line-height: 1; border-radius: 0.35em; vertical-align: middle; margin-left: 0.5rem\">UMLS_SYNTAGME</span></mark> areactive.</br> Absence de diabate.</br> <mark class=\"entity\" style=\"background: #ffb3ba; padding: 0.45em 0.6em; margin: 0 0.25em; line-height: 1; border-radius: 0.35em;\">Douleur<span style=\"font-size: 0.8em; font-weight: bold; line-height: 1; border-radius: 0.35em; vertical-align: middle; margin-left: 0.5rem\">UMLS_SYNTAGME</span></mark> au ventre.</br> <mark class=\"entity\" style=\"background: #ffb3ba; padding: 0.45em 0.6em; margin: 0 0.25em; line-height: 1; border-radius: 0.35em;\">Douleur abdo<span style=\"font-size: 0.8em; font-weight: bold; line-height: 1; border-radius: 0.35em; vertical-align: middle; margin-left: 0.5rem\">UMLS_SYNTAGME</span></mark></br> <mark class=\"entity\" style=\"background: #ffb3ba; padding: 0.45em 0.6em; margin: 0 0.25em; line-height: 1; border-radius: 0.35em;\">Epigastralgie<span style=\"font-size: 0.8em; font-weight: bold; line-height: 1; border-radius: 0.35em; vertical-align: middle; margin-left: 0.5rem\">UMLS_SYNTAGME</span></mark>.Le patient à la bouche sèche.</div></span>"
      ],
      "text/plain": [
       "<IPython.core.display.HTML object>"
      ]
     },
     "metadata": {},
     "output_type": "display_data"
    }
   ],
   "source": [
    "display_annotations(doc_demo, entities=['umls_syntagme'])"
   ]
  },
  {
   "cell_type": "code",
   "execution_count": 214,
   "metadata": {},
   "outputs": [
    {
     "data": {
      "text/html": [
       "<span class=\"tex2jax_ignore\"><div class=\"entities\" style=\"line-height: 2.5; direction: ltr\">Merci de recevoir en consultation Mme Jeanne Bach, présentant une sclérose latérale amyotrophique, débutant par une <mark class=\"entity\" style=\"background: #ffb3ba; padding: 0.45em 0.6em; margin: 0 0.25em; line-height: 1; border-radius: 0.35em;\">aphasie rapidement progressive<span style=\"font-size: 0.8em; font-weight: bold; line-height: 1; border-radius: 0.35em; text-transform: uppercase; vertical-align: middle; margin-left: 0.5rem\">ENT/SIGNS</span></mark> en 2018.</br> La patiente ne présente pas de troubles moteurs.</br> Son <mark class=\"entity\" style=\"background: #ffb3ba; padding: 0.45em 0.6em; margin: 0 0.25em; line-height: 1; border-radius: 0.35em;\">état est stable<span style=\"font-size: 0.8em; font-weight: bold; line-height: 1; border-radius: 0.35em; text-transform: uppercase; vertical-align: middle; margin-left: 0.5rem\">ENT/SIGNS</span></mark> avec traitement symptomatique pour l'humeur, Deroxat 2 mg / j.</br> Dr Jérome Ben Soussan.</br> Examen clinique:</br> - <mark class=\"entity\" style=\"background: #ffb3ba; padding: 0.45em 0.6em; margin: 0 0.25em; line-height: 1; border-radius: 0.35em;\">signe du flot<span style=\"font-size: 0.8em; font-weight: bold; line-height: 1; border-radius: 0.35em; text-transform: uppercase; vertical-align: middle; margin-left: 0.5rem\">ENT/SIGNS</span></mark></br> - <mark class=\"entity\" style=\"background: #ffb3ba; padding: 0.45em 0.6em; margin: 0 0.25em; line-height: 1; border-radius: 0.35em;\">souffle cardiaque<span style=\"font-size: 0.8em; font-weight: bold; line-height: 1; border-radius: 0.35em; text-transform: uppercase; vertical-align: middle; margin-left: 0.5rem\">ENT/SIGNS</span></mark> Par ailleurs, elle présente un kyste du rein droit visible sur la dernière echographie en date. Absence de trouble moteurs au niveau des membres.</div></span>"
      ],
      "text/plain": [
       "<IPython.core.display.HTML object>"
      ]
     },
     "metadata": {},
     "output_type": "display_data"
    }
   ],
   "source": [
    "display_annotations(doc_demo, entities=['ENT/SIGNS'])"
   ]
  },
  {
   "cell_type": "code",
   "execution_count": 215,
   "metadata": {},
   "outputs": [
    {
     "data": {
      "text/html": [
       "<span class=\"tex2jax_ignore\"><div class=\"entities\" style=\"line-height: 2.5; direction: ltr\">Merci de recevoir en consultation Mme Jeanne Bach, présentant une <mark class=\"entity\" style=\"background: #ffb3ba; padding: 0.45em 0.6em; margin: 0 0.25em; line-height: 1; border-radius: 0.35em;\">sclérose latérale amyotrophique<span style=\"font-size: 0.8em; font-weight: bold; line-height: 1; border-radius: 0.35em; text-transform: uppercase; vertical-align: middle; margin-left: 0.5rem\">ENT/DIAG_NAME</span></mark>, débutant par une aphasie rapidement progressive en 2018.</br> La patiente ne présente pas de <mark class=\"entity\" style=\"background: #ffb3ba; padding: 0.45em 0.6em; margin: 0 0.25em; line-height: 1; border-radius: 0.35em;\">troubles moteurs<span style=\"font-size: 0.8em; font-weight: bold; line-height: 1; border-radius: 0.35em; text-transform: uppercase; vertical-align: middle; margin-left: 0.5rem\">ENT/DIAG_NAME</span></mark>.</br> Son état est stable avec traitement symptomatique pour l'humeur, Deroxat 2 mg / j.</br> Dr Jérome Ben Soussan.</br> Examen clinique:</br> - signe du flot</br> - souffle cardiaque</br> Par ailleurs, elle présente un <mark class=\"entity\" style=\"background: #ffb3ba; padding: 0.45em 0.6em; margin: 0 0.25em; line-height: 1; border-radius: 0.35em;\">kyste du rein droit<span style=\"font-size: 0.8em; font-weight: bold; line-height: 1; border-radius: 0.35em; text-transform: uppercase; vertical-align: middle; margin-left: 0.5rem\">ENT/DIAG_NAME</span></mark> visible sur la dernière echographie en date.</br> Absence de <mark class=\"entity\" style=\"background: #ffb3ba; padding: 0.45em 0.6em; margin: 0 0.25em; line-height: 1; border-radius: 0.35em;\">trouble moteurs au niveau des membres<span style=\"font-size: 0.8em; font-weight: bold; line-height: 1; border-radius: 0.35em; text-transform: uppercase; vertical-align: middle; margin-left: 0.5rem\">ENT/DIAG_NAME</span></mark>.</div></span>"
      ],
      "text/plain": [
       "<IPython.core.display.HTML object>"
      ]
     },
     "metadata": {},
     "output_type": "display_data"
    }
   ],
   "source": [
    "display_annotations(doc_demo, entities=['ENT/DIAG_NAME'])"
   ]
  }
 ],
 "metadata": {
  "kernelspec": {
   "display_name": "Python 3",
   "language": "python",
   "name": "python3"
  },
  "language_info": {
   "codemirror_mode": {
    "name": "ipython",
    "version": 3
   },
   "file_extension": ".py",
   "mimetype": "text/x-python",
   "name": "python",
   "nbconvert_exporter": "python",
   "pygments_lexer": "ipython3",
   "version": "3.8.5"
  }
 },
 "nbformat": 4,
 "nbformat_minor": 4
}
