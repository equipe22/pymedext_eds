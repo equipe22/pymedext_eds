{
 "cells": [
  {
   "cell_type": "code",
   "execution_count": 1,
   "metadata": {},
   "outputs": [
    {
     "name": "stdout",
     "output_type": "stream",
     "text": [
      "/home/ivan/Documents/rel_ext/pymedext_eds\n"
     ]
    }
   ],
   "source": [
    "%cd .."
   ]
  },
  {
   "cell_type": "code",
   "execution_count": 2,
   "metadata": {},
   "outputs": [],
   "source": [
    "%load_ext autoreload\n",
    "%autoreload 2"
   ]
  },
  {
   "cell_type": "code",
   "execution_count": 3,
   "metadata": {},
   "outputs": [],
   "source": [
    "import json"
   ]
  },
  {
   "cell_type": "code",
   "execution_count": 4,
   "metadata": {},
   "outputs": [
    {
     "name": "stderr",
     "output_type": "stream",
     "text": [
      "/home/ivan/anaconda3/lib/python3.8/site-packages/torch/cuda/__init__.py:52: UserWarning: CUDA initialization: Unexpected error from cudaGetDeviceCount(). Did you run some cuda functions before calling NumCudaDevices() that might have already set an error? Error 804: forward compatibility was attempted on non supported HW (Triggered internally at  /opt/conda/conda-bld/pytorch_1607370172916/work/c10/cuda/CUDAFunctions.cpp:100.)\n",
      "  return torch._C._cuda_getDeviceCount() > 0\n"
     ]
    }
   ],
   "source": [
    "import os\n",
    "\n",
    "from glob import glob\n",
    "import pandas as pd\n",
    "import re\n",
    "from pprint import pprint\n",
    "import pkg_resources\n",
    "\n",
    "from pymedextcore.document import Document\n",
    "from pymedext_eds.annotators import Endlines, SentenceTokenizer, Hypothesis, \\\n",
    "                                    ATCDFamille, SyntagmeTokenizer, Negation, RegexMatcher, \\\n",
    "                                    QuickUMLSAnnotator, Pipeline, SectionSplitter, Pipeline\n",
    "\n",
    "from pymedext_eds.utils import rawtext_loader\n",
    "from pymedext_eds.ner import NERAnnotator\n",
    "from pymedext_eds.norm import NERNormalizer, NormPheno, FeedDictionnary"
   ]
  },
  {
   "cell_type": "code",
   "execution_count": 5,
   "metadata": {},
   "outputs": [],
   "source": [
    "endlines = Endlines(['raw_text'], 'clean_text', 'endlines:v1')\n",
    "sentences = SentenceTokenizer(['clean_text'], 'sentence', 'sentenceTokenizer:v1')\n",
    "sections = SectionSplitter(['clean_text'], \"section\", ID= 'sections')\n",
    "hypothesis = Hypothesis(['sentence'], 'hypothesis', 'hypothesis:v1')\n",
    "family = ATCDFamille(['sentence'], 'context', 'ATCDfamily:v1')\n",
    "syntagmes = SyntagmeTokenizer(['sentence'], 'syntagme', 'SyntagmeTokenizer:v1')\n",
    "negation = Negation(['syntagme'], 'negation', 'Negation:v1')\n",
    "regex = RegexMatcher(['clean_text','syntagme'], 'regex', 'RegexMatcher:v1', 'list_regexp.json')"
   ]
  },
  {
   "cell_type": "markdown",
   "metadata": {},
   "source": [
    "sosy|T184|Sign or Symptom  \n",
    "\n",
    "\n",
    "dsyn|T047|Disease or Syndrome  \n",
    "neop|T191|Neoplastic Process  \n",
    "comd|T049|Cell or Molecular Dysfunction  \n",
    "mobd|T048|Mental or Behavioral Dysfunction   \n",
    "patf|T046|Pathologic Function  \n",
    "anab|T190|Anatomical Abnormality  \n",
    "cgab|T019|Congenital Abnormality  \n",
    "acab|T020|Acquired Abnormality  \n",
    "inpo|T037|Injury or Poisoning  \n",
    "\n",
    "diap|T060|Diagnostic Procedure  \n",
    "lbpr|T059|Laboratory Procedure  \n",
    "lbtr|T034|Laboratory or Test Result  \n",
    "\n",
    "topp|T061|Therapeutic or Preventive Procedure  \n"
   ]
  },
  {
   "cell_type": "code",
   "execution_count": 6,
   "metadata": {},
   "outputs": [],
   "source": [
    "#                                    accepted_semtypes = {'T184', 'T047', 'T191', 'T049', 'T048', 'T046', 'T190', 'T019', 'T020', 'T037','T060',  'T059', 'T034', 'T061'},\n"
   ]
  },
  {
   "cell_type": "code",
   "execution_count": 7,
   "metadata": {},
   "outputs": [],
   "source": [
    "quick_umls_th = 0.9\n",
    "quick_umls_dist = \"score\"\n",
    "\n",
    "umls_syntagme = QuickUMLSAnnotator(['syntagme'], 'umls_syntagme', 'QuickUMLS:2020AA', \n",
    "                                   quickumls_fp='data/umls2_UL/',\n",
    "                                   overlapping_criteria=quick_umls_dist,\n",
    "                                   threshold=quick_umls_th,\n",
    "                                   similarity_name='jaccard',\n",
    "                                   accepted_semtypes = {'T184', 'T047', 'T191', 'T049', 'T048', 'T046', 'T190', 'T019', 'T020', 'T037'},\n",
    "                                   window=5)\n",
    "\n",
    "umls_signs = QuickUMLSAnnotator(['ENT/SIGNS'], 'umls_signs', 'QuickUMLS:2020AA', \n",
    "                                quickumls_fp='data/umls2_UL/',\n",
    "                                overlapping_criteria=quick_umls_dist,\n",
    "                                threshold=quick_umls_th,\n",
    "                                similarity_name='jaccard',\n",
    "                                accepted_semtypes = {'T184'},\n",
    "                                window=5)\n",
    "\n",
    "umls_diag_proc = QuickUMLSAnnotator(['ENT/DIAG_PROC'], 'umls_diag_proc', 'QuickUMLS:2020AA', \n",
    "                                quickumls_fp='data/umls2_UL/',\n",
    "                                overlapping_criteria=quick_umls_dist,\n",
    "                                threshold=quick_umls_th,\n",
    "                                similarity_name='jaccard',\n",
    "                                accepted_semtypes = {'T060', 'T059', 'T034'},\n",
    "                                window=5)\n",
    "\n",
    "umls_diag_name = QuickUMLSAnnotator(['ENT/DIAG_NAME'], 'umls_diag_name', 'QuickUMLS:2020AA', \n",
    "                                quickumls_fp='data/umls2_UL/',\n",
    "                                overlapping_criteria=quick_umls_dist,\n",
    "                                threshold=quick_umls_th,\n",
    "                                similarity_name='jaccard',\n",
    "                                accepted_semtypes = {'T047', 'T191', 'T049', 'T048', 'T046', 'T190', 'T019', 'T020', 'T037'},\n",
    "                                window=5)\n",
    "\n",
    "umls_therap = QuickUMLSAnnotator(['ENT/THERAP_PROC'], 'umls_therap', 'QuickUMLS:2020AA', \n",
    "                                quickumls_fp='data/umls2_UL/',\n",
    "                                overlapping_criteria=quick_umls_dist,\n",
    "                                threshold=quick_umls_th,\n",
    "                                similarity_name='jaccard',\n",
    "                                accepted_semtypes = {'T061'},\n",
    "                                window=5)\n"
   ]
  },
  {
   "cell_type": "code",
   "execution_count": 8,
   "metadata": {},
   "outputs": [
    {
     "name": "stdout",
     "output_type": "stream",
     "text": [
      "2021-04-30 12:00:53,773 loading file data/models/apcner_deid/entities_7/best-model.pt\n"
     ]
    }
   ],
   "source": [
    "models_param = [{'tagger_path':'data/models/apcner_deid/entities_7/best-model.pt' ,\n",
    "                  'store_embedding':True,\n",
    "                'tag_name': 'pheno_pred' }]\n",
    "\n",
    "ner = NERAnnotator(['sentence'], 'ner', ID='med:v2', models_param=models_param,  device='cpu', reduce_embedding=False)"
   ]
  },
  {
   "cell_type": "code",
   "execution_count": 19,
   "metadata": {},
   "outputs": [],
   "source": [
    "dico_umls_exact_match = FeedDictionnary(['ENT/SIGNS','ENT/DIAG_NAME'],\n",
    "                                        'feed_dictionnary_quick_umls',\n",
    "                                        ID = 'fd:v1',\n",
    "                                        path_dict='data/emb_dict_v1',\n",
    "                                        threshold=1)"
   ]
  },
  {
   "cell_type": "code",
   "execution_count": 20,
   "metadata": {},
   "outputs": [],
   "source": [
    "feed_dic_pipeline = [endlines, sections, sentences, ner, dico_umls_exact_match]"
   ]
  },
  {
   "cell_type": "code",
   "execution_count": 11,
   "metadata": {},
   "outputs": [],
   "source": [
    "with open(\"../data/export_mincil_pheno_loc.v1.json\") as h:\n",
    "    docs = json.load(h)"
   ]
  },
  {
   "cell_type": "code",
   "execution_count": 12,
   "metadata": {},
   "outputs": [],
   "source": [
    "docs = [Document(\n",
    "        raw_text = x['ano_text'],\n",
    "        ID = x['document_num'],\n",
    "        attributes = {'person_id': x['patient_num']}\n",
    "    ) for x in docs]"
   ]
  },
  {
   "cell_type": "code",
   "execution_count": 21,
   "metadata": {},
   "outputs": [],
   "source": [
    "for doc in docs:\n",
    "    doc.annotate(feed_dic_pipeline)\n",
    "    break"
   ]
  },
  {
   "cell_type": "code",
   "execution_count": 22,
   "metadata": {},
   "outputs": [],
   "source": [
    "import numpy as np"
   ]
  },
  {
   "cell_type": "code",
   "execution_count": 23,
   "metadata": {},
   "outputs": [],
   "source": [
    "with open(\"data/emb_dict_v1label.npy\", 'rb') as h:\n",
    "    labels = np.load(h)"
   ]
  },
  {
   "cell_type": "code",
   "execution_count": 33,
   "metadata": {},
   "outputs": [],
   "source": [
    "labels = np.repeat(labels[:, :2], labels[:, 2].astype('int'), 0)"
   ]
  },
  {
   "cell_type": "code",
   "execution_count": 24,
   "metadata": {},
   "outputs": [],
   "source": [
    "with open(\"data/emb_dict_v1emb.npy\", 'rb') as h:\n",
    "    embeddings = np.load(h)"
   ]
  },
  {
   "cell_type": "code",
   "execution_count": 37,
   "metadata": {},
   "outputs": [],
   "source": [
    "assert labels.shape[0] == embeddings.shape[0]"
   ]
  },
  {
   "cell_type": "code",
   "execution_count": 16,
   "metadata": {},
   "outputs": [],
   "source": [
    "import numpy as np"
   ]
  },
  {
   "cell_type": "code",
   "execution_count": 27,
   "metadata": {},
   "outputs": [],
   "source": [
    "test = np.array([[1.,2.,3.], [1.,2.,3.]])"
   ]
  },
  {
   "cell_type": "code",
   "execution_count": 22,
   "metadata": {},
   "outputs": [],
   "source": [
    "test[:,:-1] = 0"
   ]
  },
  {
   "cell_type": "code",
   "execution_count": 28,
   "metadata": {},
   "outputs": [
    {
     "data": {
      "text/plain": [
       "array([[1., 2., 3.],\n",
       "       [1., 2., 3.]])"
      ]
     },
     "execution_count": 28,
     "metadata": {},
     "output_type": "execute_result"
    }
   ],
   "source": [
    "test"
   ]
  },
  {
   "cell_type": "code",
   "execution_count": 30,
   "metadata": {},
   "outputs": [
    {
     "ename": "ValueError",
     "evalue": "could not convert string to float: 'test'",
     "output_type": "error",
     "traceback": [
      "\u001b[0;31m---------------------------------------------------------------------------\u001b[0m",
      "\u001b[0;31mValueError\u001b[0m                                Traceback (most recent call last)",
      "\u001b[0;32m<ipython-input-30-ede29ba3f227>\u001b[0m in \u001b[0;36m<module>\u001b[0;34m\u001b[0m\n\u001b[0;32m----> 1\u001b[0;31m \u001b[0mnp\u001b[0m\u001b[0;34m.\u001b[0m\u001b[0minsert\u001b[0m\u001b[0;34m(\u001b[0m\u001b[0mtest\u001b[0m\u001b[0;34m,\u001b[0m \u001b[0;36m0\u001b[0m\u001b[0;34m,\u001b[0m \u001b[0;34m\"test\"\u001b[0m\u001b[0;34m,\u001b[0m \u001b[0maxis\u001b[0m \u001b[0;34m=\u001b[0m \u001b[0;36m1\u001b[0m\u001b[0;34m)\u001b[0m\u001b[0;34m\u001b[0m\u001b[0;34m\u001b[0m\u001b[0m\n\u001b[0m",
      "\u001b[0;32m<__array_function__ internals>\u001b[0m in \u001b[0;36minsert\u001b[0;34m(*args, **kwargs)\u001b[0m\n",
      "\u001b[0;32m~/anaconda3/lib/python3.8/site-packages/numpy/lib/function_base.py\u001b[0m in \u001b[0;36minsert\u001b[0;34m(arr, obj, values, axis)\u001b[0m\n\u001b[1;32m   4564\u001b[0m         \u001b[0;31m# There are some object array corner cases here, but we cannot avoid\u001b[0m\u001b[0;34m\u001b[0m\u001b[0;34m\u001b[0m\u001b[0;34m\u001b[0m\u001b[0m\n\u001b[1;32m   4565\u001b[0m         \u001b[0;31m# that:\u001b[0m\u001b[0;34m\u001b[0m\u001b[0;34m\u001b[0m\u001b[0;34m\u001b[0m\u001b[0m\n\u001b[0;32m-> 4566\u001b[0;31m         \u001b[0mvalues\u001b[0m \u001b[0;34m=\u001b[0m \u001b[0marray\u001b[0m\u001b[0;34m(\u001b[0m\u001b[0mvalues\u001b[0m\u001b[0;34m,\u001b[0m \u001b[0mcopy\u001b[0m\u001b[0;34m=\u001b[0m\u001b[0;32mFalse\u001b[0m\u001b[0;34m,\u001b[0m \u001b[0mndmin\u001b[0m\u001b[0;34m=\u001b[0m\u001b[0marr\u001b[0m\u001b[0;34m.\u001b[0m\u001b[0mndim\u001b[0m\u001b[0;34m,\u001b[0m \u001b[0mdtype\u001b[0m\u001b[0;34m=\u001b[0m\u001b[0marr\u001b[0m\u001b[0;34m.\u001b[0m\u001b[0mdtype\u001b[0m\u001b[0;34m)\u001b[0m\u001b[0;34m\u001b[0m\u001b[0;34m\u001b[0m\u001b[0m\n\u001b[0m\u001b[1;32m   4567\u001b[0m         \u001b[0;32mif\u001b[0m \u001b[0mindices\u001b[0m\u001b[0;34m.\u001b[0m\u001b[0mndim\u001b[0m \u001b[0;34m==\u001b[0m \u001b[0;36m0\u001b[0m\u001b[0;34m:\u001b[0m\u001b[0;34m\u001b[0m\u001b[0;34m\u001b[0m\u001b[0m\n\u001b[1;32m   4568\u001b[0m             \u001b[0;31m# broadcasting is very different here, since a[:,0,:] = ... behaves\u001b[0m\u001b[0;34m\u001b[0m\u001b[0;34m\u001b[0m\u001b[0;34m\u001b[0m\u001b[0m\n",
      "\u001b[0;31mValueError\u001b[0m: could not convert string to float: 'test'"
     ]
    }
   ],
   "source": [
    "np.insert(test, 0, \"test\", axis = 1)"
   ]
  },
  {
   "cell_type": "code",
   "execution_count": 21,
   "metadata": {},
   "outputs": [
    {
     "name": "stderr",
     "output_type": "stream",
     "text": [
      "<ipython-input-21-a970e2f15ad7>:1: VisibleDeprecationWarning: Creating an ndarray from ragged nested sequences (which is a list-or-tuple of lists-or-tuples-or ndarrays with different lengths or shapes) is deprecated. If you meant to do this, you must specify 'dtype=object' when creating the ndarray\n",
      "  np.array(['test', 'test1', np.array([1.,2.,3.])])\n"
     ]
    },
    {
     "data": {
      "text/plain": [
       "array(['test', 'test1', array([1., 2., 3.])], dtype=object)"
      ]
     },
     "execution_count": 21,
     "metadata": {},
     "output_type": "execute_result"
    }
   ],
   "source": [
    "np.array(['test', 'test1', np.array([1.,2.,3.])])"
   ]
  },
  {
   "cell_type": "code",
   "execution_count": 15,
   "metadata": {},
   "outputs": [
    {
     "name": "stdout",
     "output_type": "stream",
     "text": [
      "> \u001b[0;32m/home/ivan/Documents/rel_ext/pymedext_eds/pymedext_eds/norm.py\u001b[0m(195)\u001b[0;36mannotate_function\u001b[0;34m()\u001b[0m\n",
      "\u001b[0;32m    193 \u001b[0;31m                    \u001b[0;32mbreak\u001b[0m\u001b[0;34m\u001b[0m\u001b[0;34m\u001b[0m\u001b[0m\n",
      "\u001b[0m\u001b[0;32m    194 \u001b[0;31m\u001b[0;34m\u001b[0m\u001b[0m\n",
      "\u001b[0m\u001b[0;32m--> 195 \u001b[0;31m        \u001b[0;32massert\u001b[0m \u001b[0;32mFalse\u001b[0m\u001b[0;34m\u001b[0m\u001b[0;34m\u001b[0m\u001b[0m\n",
      "\u001b[0m\u001b[0;32m    196 \u001b[0;31m        \u001b[0macc\u001b[0m \u001b[0;34m=\u001b[0m \u001b[0mnp\u001b[0m\u001b[0;34m.\u001b[0m\u001b[0marray\u001b[0m\u001b[0;34m(\u001b[0m\u001b[0macc\u001b[0m\u001b[0;34m)\u001b[0m\u001b[0;34m\u001b[0m\u001b[0;34m\u001b[0m\u001b[0m\n",
      "\u001b[0m\u001b[0;32m    197 \u001b[0;31m        \u001b[0;32mwith\u001b[0m \u001b[0mopen\u001b[0m\u001b[0;34m(\u001b[0m\u001b[0mself\u001b[0m\u001b[0;34m.\u001b[0m\u001b[0mpath_dict\u001b[0m\u001b[0;34m,\u001b[0m \u001b[0;34m'wb'\u001b[0m\u001b[0;34m)\u001b[0m \u001b[0;32mas\u001b[0m \u001b[0mf\u001b[0m\u001b[0;34m:\u001b[0m\u001b[0;34m\u001b[0m\u001b[0;34m\u001b[0m\u001b[0m\n",
      "\u001b[0m\n"
     ]
    },
    {
     "name": "stdin",
     "output_type": "stream",
     "text": [
      "ipdb>  annotations.source_id\n"
     ]
    },
    {
     "name": "stdout",
     "output_type": "stream",
     "text": [
      "*** NameError: name 'annotations' is not defined\n"
     ]
    },
    {
     "name": "stdin",
     "output_type": "stream",
     "text": [
      "ipdb>  annotation.ID\n"
     ]
    },
    {
     "name": "stdout",
     "output_type": "stream",
     "text": [
      "'99a48dba-a997-11eb-8e24-f1562e816fd1'\n"
     ]
    },
    {
     "name": "stdin",
     "output_type": "stream",
     "text": [
      "ipdb>  annotation.source_ID\n"
     ]
    },
    {
     "name": "stdout",
     "output_type": "stream",
     "text": [
      "'9887f6f6-a997-11eb-8e24-f1562e816fd1'\n"
     ]
    },
    {
     "name": "stdin",
     "output_type": "stream",
     "text": [
      "ipdb>  annotation.to_dict()\n"
     ]
    },
    {
     "name": "stdout",
     "output_type": "stream",
     "text": [
      "{'type': 'ENT/DIAG_NAME', 'value': 'Hyperglycemie provoquee orale', 'ngram': None, 'span': (1472, 1501), 'source': 'med:v2', 'source_ID': '9887f6f6-a997-11eb-8e24-f1562e816fd1', 'isEntity': True, 'attributes': {'score': 0.5852941870689392, 'embedding': array([[ 0.1298107 , -0.6174773 ,  1.1808369 , ...,  0.01855098,\n",
      "        -0.16452028, -0.380367  ],\n",
      "       [ 0.22376876, -0.35998854, -0.4024914 , ...,  0.48640388,\n",
      "         0.3496063 , -0.7240446 ],\n",
      "       [ 0.50107014,  0.09623145,  0.34049886, ...,  0.9763289 ,\n",
      "         0.3043358 , -0.5588979 ]], dtype=float32)}, 'ID': '99a48dba-a997-11eb-8e24-f1562e816fd1'}\n"
     ]
    },
    {
     "name": "stdin",
     "output_type": "stream",
     "text": [
      "ipdb>  quit\n"
     ]
    }
   ],
   "source": [
    "%debug"
   ]
  },
  {
   "cell_type": "code",
   "execution_count": 33,
   "metadata": {},
   "outputs": [],
   "source": [
    "norm_pheno = NormPheno(['ENT/SIGNS','ENT/DIAG_NAME'], 'normalized_mention', ID='pheno_dic:v1', path_dict='data/big_pheno_dic.csv' )"
   ]
  },
  {
   "cell_type": "code",
   "execution_count": 10,
   "metadata": {},
   "outputs": [],
   "source": [
    "pipeline = [endlines, sections, sentences, hypothesis, family, syntagmes,\n",
    "            negation, regex, umls_syntagme, ner,  norm_med, norm_pheno,\n",
    "            umls_signs, umls_diag_proc, umls_diag_name, umls_therap]"
   ]
  },
  {
   "cell_type": "code",
   "execution_count": 11,
   "metadata": {},
   "outputs": [],
   "source": [
    "# data_path = pkg_resources.resource_filename('pymedext_eds', 'data/demo')\n",
    "file_list = glob(\"data/test_data\" + '/*.txt')\n",
    "\n",
    "docs = [rawtext_loader(x) for x in file_list]"
   ]
  },
  {
   "cell_type": "code",
   "execution_count": 12,
   "metadata": {},
   "outputs": [
    {
     "data": {
      "text/plain": [
       "['data/test_data/pheno_norm.txt', 'data/test_data/pheno_ner.txt']"
      ]
     },
     "execution_count": 12,
     "metadata": {},
     "output_type": "execute_result"
    }
   ],
   "source": [
    "file_list"
   ]
  },
  {
   "cell_type": "code",
   "execution_count": 13,
   "metadata": {},
   "outputs": [],
   "source": [
    "for doc in docs:\n",
    "    doc.annotate(pipeline)"
   ]
  },
  {
   "cell_type": "code",
   "execution_count": 14,
   "metadata": {},
   "outputs": [
    {
     "data": {
      "text/plain": [
       "{'type': 'normalized_mention',\n",
       " 'value': 'sclerose laterale amyotrophique',\n",
       " 'ngram': None,\n",
       " 'span': (66, 97),\n",
       " 'source': 'pheno_dic:v1',\n",
       " 'source_ID': 'd58022ce-a43b-11eb-814f-9df4f554ea1b',\n",
       " 'isEntity': False,\n",
       " 'attributes': {'score_cos': 0.9880014657974243,\n",
       "  'mention': 'sclérose latérale amyotrophique',\n",
       "  'cui': 'C0002736',\n",
       "  'label': 'sclerose laterale amyotrophique',\n",
       "  'hypothesis': 'certain',\n",
       "  'context': 'patient',\n",
       "  'score': 0.9832151134808859},\n",
       " 'ID': 'd595a900-a43b-11eb-814f-9df4f554ea1b'}"
      ]
     },
     "execution_count": 14,
     "metadata": {},
     "output_type": "execute_result"
    }
   ],
   "source": [
    "doc.get_annotations('normalized_mention')[0].to_dict()"
   ]
  },
  {
   "cell_type": "code",
   "execution_count": 15,
   "metadata": {},
   "outputs": [
    {
     "data": {
      "text/plain": [
       "{'type': 'ENT/SIGNS',\n",
       " 'value': 'signe du flot',\n",
       " 'ngram': None,\n",
       " 'span': (335, 348),\n",
       " 'source': 'med:v2',\n",
       " 'source_ID': 'd58024e0-a43b-11eb-814f-9df4f554ea1b',\n",
       " 'isEntity': True,\n",
       " 'attributes': {'hypothesis': 'certain',\n",
       "  'context': 'patient',\n",
       "  'score': 0.678720494111379},\n",
       " 'ID': 'd5910116-a43b-11eb-814f-9df4f554ea1b'}"
      ]
     },
     "execution_count": 15,
     "metadata": {},
     "output_type": "execute_result"
    }
   ],
   "source": [
    "doc.get_annotations(\"ENT/SIGNS\")[2].to_dict()"
   ]
  },
  {
   "cell_type": "code",
   "execution_count": 11,
   "metadata": {},
   "outputs": [],
   "source": [
    "ann_list = glob(\"../../brat_data/covid_pheno_norm/annotator_0_training\" + '/*.ann')\n"
   ]
  },
  {
   "cell_type": "code",
   "execution_count": 12,
   "metadata": {},
   "outputs": [],
   "source": [
    "def read_brat_ann(path):\n",
    "    doc_id =  os.path.splitext(os.path.basename(path))[0].split('_')[-1]\n",
    "    with open(path, \"r\") as h:\n",
    "        ann_norm = []\n",
    "        ann_ner = []\n",
    "        for line in h.readlines():\n",
    "            ann_id, field, mention = line.split('\\t')\n",
    "            if ann_id[0] == \"T\":\n",
    "                ent_type = field.split(' ')[0]\n",
    "                start = field.split(' ')[1]\n",
    "                stop = field.split(' ')[-1]\n",
    "                ann_ner.append((doc_id, ann_id, ent_type, start, stop, mention.strip()))\n",
    "            elif ann_id[0] == \"N\":\n",
    "                _, ent_id, code = field.split(' ')\n",
    "                termino, code = code.split(':')\n",
    "                ann_norm.append((doc_id, ann_id, ent_id, termino, code, mention.strip()))\n",
    "    \n",
    "    return(ann_norm, ann_ner)"
   ]
  },
  {
   "cell_type": "code",
   "execution_count": 13,
   "metadata": {},
   "outputs": [],
   "source": [
    "all_ann = []\n",
    "for ann_path in ann_list:\n",
    "    ann_norm, ann_ner = read_brat_ann(ann_path)\n",
    "    ann_ner = pd.DataFrame(ann_ner, columns=[\"doc_id\", \"ent_id\", \"ent_type\", \"start\", \"stop\", \"mention\"])\n",
    "    ann_norm =  pd.DataFrame(ann_norm, columns = [\"doc_id\", \"ann_id\", \"ent_id\", \"termino\", \"cui\", \"mention\"])\n",
    "    ann_ner = ann_ner.merge(ann_norm, how= \"left\", on = [\"doc_id\", \"ent_id\"], suffixes=['_ner', '_norm'])\n",
    "    all_ann.append(ann_ner)\n",
    "\n",
    "all_ann = pd.concat(all_ann)"
   ]
  },
  {
   "cell_type": "code",
   "execution_count": 14,
   "metadata": {},
   "outputs": [],
   "source": [
    "all_ann = all_ann.loc[lambda x:x.ent_type.isin([\"DIAG_NAME\", \"SIGNS\"])]"
   ]
  },
  {
   "cell_type": "code",
   "execution_count": 15,
   "metadata": {},
   "outputs": [
    {
     "data": {
      "text/html": [
       "<div>\n",
       "<style scoped>\n",
       "    .dataframe tbody tr th:only-of-type {\n",
       "        vertical-align: middle;\n",
       "    }\n",
       "\n",
       "    .dataframe tbody tr th {\n",
       "        vertical-align: top;\n",
       "    }\n",
       "\n",
       "    .dataframe thead th {\n",
       "        text-align: right;\n",
       "    }\n",
       "</style>\n",
       "<table border=\"1\" class=\"dataframe\">\n",
       "  <thead>\n",
       "    <tr style=\"text-align: right;\">\n",
       "      <th></th>\n",
       "      <th>sum</th>\n",
       "      <th>len</th>\n",
       "      <th>&lt;lambda_0&gt;</th>\n",
       "    </tr>\n",
       "    <tr>\n",
       "      <th>ent_type</th>\n",
       "      <th></th>\n",
       "      <th></th>\n",
       "      <th></th>\n",
       "    </tr>\n",
       "  </thead>\n",
       "  <tbody>\n",
       "    <tr>\n",
       "      <th>DIAG_NAME</th>\n",
       "      <td>106</td>\n",
       "      <td>126</td>\n",
       "      <td>0.841270</td>\n",
       "    </tr>\n",
       "    <tr>\n",
       "      <th>SIGNS</th>\n",
       "      <td>127</td>\n",
       "      <td>180</td>\n",
       "      <td>0.705556</td>\n",
       "    </tr>\n",
       "  </tbody>\n",
       "</table>\n",
       "</div>"
      ],
      "text/plain": [
       "           sum  len  <lambda_0>\n",
       "ent_type                       \n",
       "DIAG_NAME  106  126    0.841270\n",
       "SIGNS      127  180    0.705556"
      ]
     },
     "execution_count": 15,
     "metadata": {},
     "output_type": "execute_result"
    }
   ],
   "source": [
    "all_ann.assign(has_norm = lambda x:x.cui.notnull()).groupby(['ent_type'])['has_norm'].aggregate([sum, len, lambda x: sum(x)/len(x)])"
   ]
  },
  {
   "cell_type": "code",
   "execution_count": 16,
   "metadata": {},
   "outputs": [],
   "source": [
    "all_ann = all_ann.loc[lambda x:x.cui.notnull()]"
   ]
  },
  {
   "cell_type": "code",
   "execution_count": 17,
   "metadata": {},
   "outputs": [
    {
     "data": {
      "text/html": [
       "<div>\n",
       "<style scoped>\n",
       "    .dataframe tbody tr th:only-of-type {\n",
       "        vertical-align: middle;\n",
       "    }\n",
       "\n",
       "    .dataframe tbody tr th {\n",
       "        vertical-align: top;\n",
       "    }\n",
       "\n",
       "    .dataframe thead th {\n",
       "        text-align: right;\n",
       "    }\n",
       "</style>\n",
       "<table border=\"1\" class=\"dataframe\">\n",
       "  <thead>\n",
       "    <tr style=\"text-align: right;\">\n",
       "      <th></th>\n",
       "      <th>doc_id</th>\n",
       "      <th>ent_id</th>\n",
       "      <th>ent_type</th>\n",
       "      <th>start</th>\n",
       "      <th>stop</th>\n",
       "      <th>mention_ner</th>\n",
       "      <th>ann_id</th>\n",
       "      <th>termino</th>\n",
       "      <th>cui</th>\n",
       "      <th>mention_norm</th>\n",
       "    </tr>\n",
       "  </thead>\n",
       "  <tbody>\n",
       "    <tr>\n",
       "      <th>7</th>\n",
       "      <td>698430240</td>\n",
       "      <td>T25</td>\n",
       "      <td>SIGNS</td>\n",
       "      <td>1510</td>\n",
       "      <td>1547</td>\n",
       "      <td>douleurs intenses notamment nocturnes</td>\n",
       "      <td>N13</td>\n",
       "      <td>UMLS_FR</td>\n",
       "      <td>C0030193</td>\n",
       "      <td>Douleur SAI</td>\n",
       "    </tr>\n",
       "    <tr>\n",
       "      <th>8</th>\n",
       "      <td>698430240</td>\n",
       "      <td>T1</td>\n",
       "      <td>SIGNS</td>\n",
       "      <td>201</td>\n",
       "      <td>208</td>\n",
       "      <td>malaise</td>\n",
       "      <td>N1</td>\n",
       "      <td>UMLS_FR</td>\n",
       "      <td>C0231218</td>\n",
       "      <td>Se sentait malade en général</td>\n",
       "    </tr>\n",
       "    <tr>\n",
       "      <th>9</th>\n",
       "      <td>698430240</td>\n",
       "      <td>T2</td>\n",
       "      <td>SIGNS</td>\n",
       "      <td>292</td>\n",
       "      <td>328</td>\n",
       "      <td>contusion directe de l’épaule droite</td>\n",
       "      <td>N2</td>\n",
       "      <td>UMLS_FR</td>\n",
       "      <td>C2218555</td>\n",
       "      <td></td>\n",
       "    </tr>\n",
       "    <tr>\n",
       "      <th>10</th>\n",
       "      <td>698430240</td>\n",
       "      <td>T3</td>\n",
       "      <td>SIGNS</td>\n",
       "      <td>330</td>\n",
       "      <td>357</td>\n",
       "      <td>impotence massive immédiate</td>\n",
       "      <td>N3</td>\n",
       "      <td>UMLS_FR</td>\n",
       "      <td>C0311394</td>\n",
       "      <td>Incapacité de marcher</td>\n",
       "    </tr>\n",
       "    <tr>\n",
       "      <th>11</th>\n",
       "      <td>698430240</td>\n",
       "      <td>T4</td>\n",
       "      <td>DIAG_NAME</td>\n",
       "      <td>395</td>\n",
       "      <td>437</td>\n",
       "      <td>rupture étendue au niveau du supra-épineux</td>\n",
       "      <td>N4</td>\n",
       "      <td>UMLS_FR</td>\n",
       "      <td>C0439059</td>\n",
       "      <td></td>\n",
       "    </tr>\n",
       "  </tbody>\n",
       "</table>\n",
       "</div>"
      ],
      "text/plain": [
       "       doc_id ent_id   ent_type start  stop  \\\n",
       "7   698430240    T25      SIGNS  1510  1547   \n",
       "8   698430240     T1      SIGNS   201   208   \n",
       "9   698430240     T2      SIGNS   292   328   \n",
       "10  698430240     T3      SIGNS   330   357   \n",
       "11  698430240     T4  DIAG_NAME   395   437   \n",
       "\n",
       "                                   mention_ner ann_id  termino       cui  \\\n",
       "7        douleurs intenses notamment nocturnes    N13  UMLS_FR  C0030193   \n",
       "8                                      malaise     N1  UMLS_FR  C0231218   \n",
       "9         contusion directe de l’épaule droite     N2  UMLS_FR  C2218555   \n",
       "10                 impotence massive immédiate     N3  UMLS_FR  C0311394   \n",
       "11  rupture étendue au niveau du supra-épineux     N4  UMLS_FR  C0439059   \n",
       "\n",
       "                    mention_norm  \n",
       "7                    Douleur SAI  \n",
       "8   Se sentait malade en général  \n",
       "9                                 \n",
       "10         Incapacité de marcher  \n",
       "11                                "
      ]
     },
     "execution_count": 17,
     "metadata": {},
     "output_type": "execute_result"
    }
   ],
   "source": [
    "all_ann.head()"
   ]
  },
  {
   "cell_type": "code",
   "execution_count": 19,
   "metadata": {},
   "outputs": [],
   "source": [
    "# pd.DataFrame.from_records(NERAnnotator.doc_to_omop(docs[1]))"
   ]
  },
  {
   "cell_type": "code",
   "execution_count": 20,
   "metadata": {},
   "outputs": [],
   "source": [
    "def to_pdf(doc, key):\n",
    "    columns = [\"doc_id\", \"mention\", \"start\", \"end\", \"cui\", \"label\"]\n",
    "    lines = [(doc.source_ID, t.value, t.span[0], t.span[1], t.attributes[\"cui\"], t.attributes[\"label\"]) \\\n",
    "             for t in doc.get_annotations(key)]\n",
    "    \n",
    "    \n",
    "    df = pd.DataFrame(lines if lines else {k: [] for k in columns}, \n",
    "                      columns = columns\n",
    "                     )    \n",
    "    return df"
   ]
  },
  {
   "cell_type": "code",
   "execution_count": 21,
   "metadata": {},
   "outputs": [],
   "source": [
    "ner_acc = []\n",
    "syn_acc = []\n",
    "\n",
    "for doc in docs:\n",
    "    df_syn = to_pdf(doc, 'umls_syntagme')\n",
    "    \n",
    "#     ner_acc.append(to_pdf(doc, 'umls_therap'))\n",
    "    ner_acc.append(to_pdf(doc, 'umls_diag_name'))\n",
    "#     ner_acc.append(to_pdf(doc, 'umls_diag_proc'))\n",
    "    ner_acc.append(to_pdf(doc, 'umls_signs'))\n",
    "\n",
    "    syn_acc.append(df_syn)\n",
    "\n",
    "ner_acc = pd.concat(ner_acc).assign(mod = \"ner\")\n",
    "syn_acc = pd.concat(syn_acc).assign(mod = \"syn\")"
   ]
  },
  {
   "cell_type": "code",
   "execution_count": 22,
   "metadata": {},
   "outputs": [
    {
     "data": {
      "text/html": [
       "<div>\n",
       "<style scoped>\n",
       "    .dataframe tbody tr th:only-of-type {\n",
       "        vertical-align: middle;\n",
       "    }\n",
       "\n",
       "    .dataframe tbody tr th {\n",
       "        vertical-align: top;\n",
       "    }\n",
       "\n",
       "    .dataframe thead th {\n",
       "        text-align: right;\n",
       "    }\n",
       "</style>\n",
       "<table border=\"1\" class=\"dataframe\">\n",
       "  <thead>\n",
       "    <tr style=\"text-align: right;\">\n",
       "      <th></th>\n",
       "      <th>doc_id</th>\n",
       "      <th>mention</th>\n",
       "      <th>start</th>\n",
       "      <th>end</th>\n",
       "      <th>cui</th>\n",
       "      <th>label</th>\n",
       "      <th>mod</th>\n",
       "    </tr>\n",
       "  </thead>\n",
       "  <tbody>\n",
       "    <tr>\n",
       "      <th>0</th>\n",
       "      <td>698430240</td>\n",
       "      <td>contusion</td>\n",
       "      <td>297.0</td>\n",
       "      <td>306.0</td>\n",
       "      <td>C0009938</td>\n",
       "      <td>contusion</td>\n",
       "      <td>ner</td>\n",
       "    </tr>\n",
       "    <tr>\n",
       "      <th>1</th>\n",
       "      <td>698430240</td>\n",
       "      <td>rupture</td>\n",
       "      <td>401.0</td>\n",
       "      <td>408.0</td>\n",
       "      <td>C3203359</td>\n",
       "      <td>rupture</td>\n",
       "      <td>ner</td>\n",
       "    </tr>\n",
       "    <tr>\n",
       "      <th>2</th>\n",
       "      <td>698430240</td>\n",
       "      <td>rupture</td>\n",
       "      <td>446.0</td>\n",
       "      <td>453.0</td>\n",
       "      <td>C3203359</td>\n",
       "      <td>rupture</td>\n",
       "      <td>ner</td>\n",
       "    </tr>\n",
       "    <tr>\n",
       "      <th>3</th>\n",
       "      <td>698430240</td>\n",
       "      <td>épanchement intra-articulaire assez</td>\n",
       "      <td>484.0</td>\n",
       "      <td>519.0</td>\n",
       "      <td>C1253936</td>\n",
       "      <td>epanchement intra-articulair</td>\n",
       "      <td>ner</td>\n",
       "    </tr>\n",
       "    <tr>\n",
       "      <th>4</th>\n",
       "      <td>698430240</td>\n",
       "      <td>traumatisme</td>\n",
       "      <td>1429.0</td>\n",
       "      <td>1440.0</td>\n",
       "      <td>C3714660</td>\n",
       "      <td>traumatisme</td>\n",
       "      <td>ner</td>\n",
       "    </tr>\n",
       "  </tbody>\n",
       "</table>\n",
       "</div>"
      ],
      "text/plain": [
       "      doc_id                              mention   start     end       cui  \\\n",
       "0  698430240                            contusion   297.0   306.0  C0009938   \n",
       "1  698430240                              rupture   401.0   408.0  C3203359   \n",
       "2  698430240                              rupture   446.0   453.0  C3203359   \n",
       "3  698430240  épanchement intra-articulaire assez   484.0   519.0  C1253936   \n",
       "4  698430240                          traumatisme  1429.0  1440.0  C3714660   \n",
       "\n",
       "                          label  mod  \n",
       "0                     contusion  ner  \n",
       "1                       rupture  ner  \n",
       "2                       rupture  ner  \n",
       "3  epanchement intra-articulair  ner  \n",
       "4                   traumatisme  ner  "
      ]
     },
     "execution_count": 22,
     "metadata": {},
     "output_type": "execute_result"
    }
   ],
   "source": [
    "ner_acc.head()"
   ]
  },
  {
   "cell_type": "code",
   "execution_count": 23,
   "metadata": {},
   "outputs": [],
   "source": [
    "from sklearn.metrics import accuracy_score, confusion_matrix, f1_score, recall_score, precision_score"
   ]
  },
  {
   "cell_type": "code",
   "execution_count": 24,
   "metadata": {},
   "outputs": [],
   "source": [
    "def compute_metrics(gold, pred, label = \"\"):\n",
    "    tp, fn, fp, tn = confusion_matrix(gold, pred).ravel()\n",
    "    acc = accuracy_score(gold, pred)\n",
    "    f1= f1_score(gold, pred, average=\"binary\")\n",
    "    r = recall_score(gold, pred, average=\"binary\")\n",
    "    p = precision_score(gold, pred, average=\"binary\")\n",
    "    \n",
    "    #reformat metrics\n",
    "    metrics = pd.DataFrame([[tp + fn, tp, fn, fp, r, p, f1, acc]],\n",
    "                           columns=['total_pos', \"TP\", \"FN\", \"FP\", \"Recall\", \"Precision\", \"F1\", \"Accuracy\"], index = [label])\n",
    "    return metrics"
   ]
  },
  {
   "cell_type": "code",
   "execution_count": 25,
   "metadata": {},
   "outputs": [],
   "source": [
    "all_merge = (all_ann\n",
    "             .merge(ner_acc, how = \"outer\", on =[\"doc_id\", \"cui\"])\n",
    "             .merge(syn_acc, how = \"outer\", on =[\"doc_id\", \"cui\"])\n",
    "             .assign(true = lambda x:x.ent_id.notnull())\n",
    "             .assign(pred_ner = lambda x:x['mod_x'].notnull())\n",
    "             .assign(pred_q = lambda x:x['mod_y'].notnull())\n",
    "\n",
    "            )"
   ]
  },
  {
   "cell_type": "code",
   "execution_count": 26,
   "metadata": {},
   "outputs": [
    {
     "data": {
      "text/html": [
       "<div>\n",
       "<style scoped>\n",
       "    .dataframe tbody tr th:only-of-type {\n",
       "        vertical-align: middle;\n",
       "    }\n",
       "\n",
       "    .dataframe tbody tr th {\n",
       "        vertical-align: top;\n",
       "    }\n",
       "\n",
       "    .dataframe thead th {\n",
       "        text-align: right;\n",
       "    }\n",
       "</style>\n",
       "<table border=\"1\" class=\"dataframe\">\n",
       "  <thead>\n",
       "    <tr style=\"text-align: right;\">\n",
       "      <th></th>\n",
       "      <th>total_pos</th>\n",
       "      <th>TP</th>\n",
       "      <th>FN</th>\n",
       "      <th>FP</th>\n",
       "      <th>Recall</th>\n",
       "      <th>Precision</th>\n",
       "      <th>F1</th>\n",
       "      <th>Accuracy</th>\n",
       "    </tr>\n",
       "  </thead>\n",
       "  <tbody>\n",
       "    <tr>\n",
       "      <th>NER + QuickUMLS (ent level)</th>\n",
       "      <td>168</td>\n",
       "      <td>73</td>\n",
       "      <td>95</td>\n",
       "      <td>162</td>\n",
       "      <td>0.78</td>\n",
       "      <td>0.86</td>\n",
       "      <td>0.81</td>\n",
       "      <td>0.71</td>\n",
       "    </tr>\n",
       "    <tr>\n",
       "      <th>QuickUMLS (ent level)</th>\n",
       "      <td>168</td>\n",
       "      <td>3</td>\n",
       "      <td>165</td>\n",
       "      <td>140</td>\n",
       "      <td>0.81</td>\n",
       "      <td>0.78</td>\n",
       "      <td>0.79</td>\n",
       "      <td>0.66</td>\n",
       "    </tr>\n",
       "    <tr>\n",
       "      <th>NER + QuickUMLS (doc level)</th>\n",
       "      <td>104</td>\n",
       "      <td>55</td>\n",
       "      <td>49</td>\n",
       "      <td>122</td>\n",
       "      <td>0.29</td>\n",
       "      <td>0.51</td>\n",
       "      <td>0.37</td>\n",
       "      <td>0.38</td>\n",
       "    </tr>\n",
       "    <tr>\n",
       "      <th>QuickUMLS (doc level)</th>\n",
       "      <td>104</td>\n",
       "      <td>3</td>\n",
       "      <td>101</td>\n",
       "      <td>110</td>\n",
       "      <td>0.36</td>\n",
       "      <td>0.38</td>\n",
       "      <td>0.37</td>\n",
       "      <td>0.24</td>\n",
       "    </tr>\n",
       "  </tbody>\n",
       "</table>\n",
       "</div>"
      ],
      "text/plain": [
       "                             total_pos  TP   FN   FP  Recall  Precision    F1  \\\n",
       "NER + QuickUMLS (ent level)        168  73   95  162    0.78       0.86  0.81   \n",
       "QuickUMLS (ent level)              168   3  165  140    0.81       0.78  0.79   \n",
       "NER + QuickUMLS (doc level)        104  55   49  122    0.29       0.51  0.37   \n",
       "QuickUMLS (doc level)              104   3  101  110    0.36       0.38  0.37   \n",
       "\n",
       "                             Accuracy  \n",
       "NER + QuickUMLS (ent level)      0.71  \n",
       "QuickUMLS (ent level)            0.66  \n",
       "NER + QuickUMLS (doc level)      0.38  \n",
       "QuickUMLS (doc level)            0.24  "
      ]
     },
     "execution_count": 26,
     "metadata": {},
     "output_type": "execute_result"
    }
   ],
   "source": [
    "pd.concat([compute_metrics(all_merge.true, all_merge.pred_ner, label = \"NER + QuickUMLS (ent level)\"), \n",
    "           compute_metrics(all_merge.true, all_merge.pred_q, label = \"QuickUMLS (ent level)\"),\n",
    "           compute_metrics(all_merge.drop_duplicates([\"doc_id\", \"cui\"]).true, all_merge.drop_duplicates([\"doc_id\", \"cui\"]).pred_ner, label = \"NER + QuickUMLS (doc level)\"),\n",
    "           compute_metrics(all_merge.drop_duplicates([\"doc_id\", \"cui\"]).true, all_merge.drop_duplicates([\"doc_id\", \"cui\"]).pred_q, label = \"QuickUMLS (doc level)\")]\n",
    "         ).round(2)"
   ]
  },
  {
   "cell_type": "code",
   "execution_count": 15,
   "metadata": {},
   "outputs": [
    {
     "data": {
      "text/plain": [
       "(682, 418)"
      ]
     },
     "execution_count": 15,
     "metadata": {},
     "output_type": "execute_result"
    }
   ],
   "source": [
    "len(syn_acc), len(ner_acc)"
   ]
  },
  {
   "cell_type": "code",
   "execution_count": 16,
   "metadata": {},
   "outputs": [
    {
     "data": {
      "text/plain": [
       "(296, 10)"
      ]
     },
     "execution_count": 16,
     "metadata": {},
     "output_type": "execute_result"
    }
   ],
   "source": [
    "ner_acc.merge(syn_acc, how = \"inner\", on =[\"doc_id\", \"start\", \"end\", \"cui\"]).shape"
   ]
  },
  {
   "cell_type": "code",
   "execution_count": 17,
   "metadata": {},
   "outputs": [],
   "source": [
    "diff = ner_acc.merge(syn_acc, how = \"outer\", on =[\"doc_id\", \"start\", \"end\"]).loc[lambda x:x.cui_x != x.cui_y]"
   ]
  },
  {
   "cell_type": "code",
   "execution_count": 18,
   "metadata": {},
   "outputs": [],
   "source": [
    "from IPython.display import display_html"
   ]
  },
  {
   "cell_type": "code",
   "execution_count": 19,
   "metadata": {},
   "outputs": [],
   "source": [
    "gen = ((k, group) for k, group in diff.groupby('doc_id'))\n"
   ]
  },
  {
   "cell_type": "code",
   "execution_count": 21,
   "metadata": {},
   "outputs": [
    {
     "data": {
      "text/html": [
       "<div>\n",
       "<style scoped>\n",
       "    .dataframe tbody tr th:only-of-type {\n",
       "        vertical-align: middle;\n",
       "    }\n",
       "\n",
       "    .dataframe tbody tr th {\n",
       "        vertical-align: top;\n",
       "    }\n",
       "\n",
       "    .dataframe thead th {\n",
       "        text-align: right;\n",
       "    }\n",
       "</style>\n",
       "<table border=\"1\" class=\"dataframe\">\n",
       "  <thead>\n",
       "    <tr style=\"text-align: right;\">\n",
       "      <th></th>\n",
       "      <th>mention_x</th>\n",
       "      <th>label_x</th>\n",
       "    </tr>\n",
       "  </thead>\n",
       "  <tbody>\n",
       "    <tr>\n",
       "      <th>19</th>\n",
       "      <td>cardiopathie ischémique</td>\n",
       "      <td>myelopathie ischemique</td>\n",
       "    </tr>\n",
       "    <tr>\n",
       "      <th>20</th>\n",
       "      <td>infarctus</td>\n",
       "      <td>infarctus</td>\n",
       "    </tr>\n",
       "    <tr>\n",
       "      <th>31</th>\n",
       "      <td>échographie cardiaque</td>\n",
       "      <td>echographie cardiaque</td>\n",
       "    </tr>\n",
       "    <tr>\n",
       "      <th>33</th>\n",
       "      <td>cardiovasculaire</td>\n",
       "      <td>syncope cardiovasculaire</td>\n",
       "    </tr>\n",
       "  </tbody>\n",
       "</table>\n",
       "</div>"
      ]
     },
     "metadata": {},
     "output_type": "display_data"
    },
    {
     "data": {
      "text/html": [
       "<div>\n",
       "<style scoped>\n",
       "    .dataframe tbody tr th:only-of-type {\n",
       "        vertical-align: middle;\n",
       "    }\n",
       "\n",
       "    .dataframe tbody tr th {\n",
       "        vertical-align: top;\n",
       "    }\n",
       "\n",
       "    .dataframe thead th {\n",
       "        text-align: right;\n",
       "    }\n",
       "</style>\n",
       "<table border=\"1\" class=\"dataframe\">\n",
       "  <thead>\n",
       "    <tr style=\"text-align: right;\">\n",
       "      <th></th>\n",
       "      <th>mention_y</th>\n",
       "      <th>label_y</th>\n",
       "    </tr>\n",
       "  </thead>\n",
       "  <tbody>\n",
       "    <tr>\n",
       "      <th>33</th>\n",
       "      <td>cardiovasculaire</td>\n",
       "      <td>nevrose cardiovasculaire</td>\n",
       "    </tr>\n",
       "    <tr>\n",
       "      <th>450</th>\n",
       "      <td>consultation</td>\n",
       "      <td>teleconsultation</td>\n",
       "    </tr>\n",
       "    <tr>\n",
       "      <th>451</th>\n",
       "      <td>consultation</td>\n",
       "      <td>teleconsultation</td>\n",
       "    </tr>\n",
       "    <tr>\n",
       "      <th>452</th>\n",
       "      <td>suivi de cardiopathie ischémique</td>\n",
       "      <td>cardiopathie ischemique</td>\n",
       "    </tr>\n",
       "    <tr>\n",
       "      <th>453</th>\n",
       "      <td>fait infarctus</td>\n",
       "      <td>post infarctus</td>\n",
       "    </tr>\n",
       "    <tr>\n",
       "      <th>454</th>\n",
       "      <td>TSA et des membres inférieurs</td>\n",
       "      <td>ulceres des membres inferieurs</td>\n",
       "    </tr>\n",
       "    <tr>\n",
       "      <th>455</th>\n",
       "      <td>fraction d’éjection retrouvée</td>\n",
       "      <td>fraction d'ejection</td>\n",
       "    </tr>\n",
       "    <tr>\n",
       "      <th>456</th>\n",
       "      <td>échographie</td>\n",
       "      <td>echographie sai</td>\n",
       "    </tr>\n",
       "    <tr>\n",
       "      <th>457</th>\n",
       "      <td>consultation</td>\n",
       "      <td>teleconsultation</td>\n",
       "    </tr>\n",
       "    <tr>\n",
       "      <th>458</th>\n",
       "      <td>chute</td>\n",
       "      <td>chutes</td>\n",
       "    </tr>\n",
       "    <tr>\n",
       "      <th>459</th>\n",
       "      <td>consultation</td>\n",
       "      <td>teleconsultation</td>\n",
       "    </tr>\n",
       "    <tr>\n",
       "      <th>460</th>\n",
       "      <td>bruits cœur</td>\n",
       "      <td>bruits du coeur</td>\n",
       "    </tr>\n",
       "    <tr>\n",
       "      <th>461</th>\n",
       "      <td>systolique</td>\n",
       "      <td>asystolique</td>\n",
       "    </tr>\n",
       "    <tr>\n",
       "      <th>462</th>\n",
       "      <td>ECG</td>\n",
       "      <td>ecg</td>\n",
       "    </tr>\n",
       "    <tr>\n",
       "      <th>463</th>\n",
       "      <td>normale</td>\n",
       "      <td>t4 normale</td>\n",
       "    </tr>\n",
       "    <tr>\n",
       "      <th>464</th>\n",
       "      <td>lui prévois échographie cardiaque</td>\n",
       "      <td>echographie cardiaque</td>\n",
       "    </tr>\n",
       "  </tbody>\n",
       "</table>\n",
       "</div>"
      ]
     },
     "metadata": {},
     "output_type": "display_data"
    }
   ],
   "source": [
    "k, group = next(gen)\n",
    "ner_mention = group.loc[lambda x:x.mod_x.notnull(), [\"mention_x\", \"label_x\"]]\n",
    "syn_mention = group.loc[lambda x:x.mod_y.notnull(), [\"mention_y\", \"label_y\"]]\n",
    "\n",
    "display_html(ner_mention)\n",
    "display_html(syn_mention)"
   ]
  },
  {
   "cell_type": "code",
   "execution_count": null,
   "metadata": {},
   "outputs": [],
   "source": [
    "# python -m quickumls.install -E FR data/umls data/quickumls"
   ]
  },
  {
   "cell_type": "code",
   "execution_count": 16,
   "metadata": {},
   "outputs": [],
   "source": [
    "from pymedext_eds.viz import display_annotations"
   ]
  },
  {
   "cell_type": "code",
   "execution_count": 119,
   "metadata": {},
   "outputs": [],
   "source": [
    "doc_demo = rawtext_loader(\"data/test_data/pheno_norm.txt\") "
   ]
  },
  {
   "cell_type": "code",
   "execution_count": 120,
   "metadata": {},
   "outputs": [],
   "source": [
    "pipeline = [endlines, sections, sentences, hypothesis, family, syntagmes,\n",
    "            negation, regex, umls_syntagme, ner,  norm_med, \n",
    "            umls_signs, umls_diag_proc, umls_diag_name, umls_therap]"
   ]
  },
  {
   "cell_type": "code",
   "execution_count": 121,
   "metadata": {},
   "outputs": [],
   "source": [
    "doc_demo.annotate(pipeline)"
   ]
  },
  {
   "cell_type": "code",
   "execution_count": 105,
   "metadata": {},
   "outputs": [
    {
     "data": {
      "text/html": [
       "<span class=\"tex2jax_ignore\"><div class=\"entities\" style=\"line-height: 2.5; direction: ltr\">Le patient présente un <mark class=\"entity\" style=\"background: #ffb3ba; padding: 0.45em 0.6em; margin: 0 0.25em; line-height: 1; border-radius: 0.35em;\">kyste au niveau du rein droit<span style=\"font-size: 0.8em; font-weight: bold; line-height: 1; border-radius: 0.35em; vertical-align: middle; margin-left: 0.5rem\">ENT/DIAG_NAME</span></mark>.</br> Le patient présente un <mark class=\"entity\" style=\"background: #ffb3ba; padding: 0.45em 0.6em; margin: 0 0.25em; line-height: 1; border-radius: 0.35em;\">kyste au niveau du poumon droit<span style=\"font-size: 0.8em; font-weight: bold; line-height: 1; border-radius: 0.35em; vertical-align: middle; margin-left: 0.5rem\">ENT/DIAG_NAME</span></mark>.</br> Se présente avec un <mark class=\"entity\" style=\"background: #ffb3ba; padding: 0.45em 0.6em; margin: 0 0.25em; line-height: 1; border-radius: 0.35em;\">kyste au niveau du pelvis<span style=\"font-size: 0.8em; font-weight: bold; line-height: 1; border-radius: 0.35em; vertical-align: middle; margin-left: 0.5rem\">ENT/DIAG_NAME</span></mark>.</br> Se présente avec un <mark class=\"entity\" style=\"background: #ffb3ba; padding: 0.45em 0.6em; margin: 0 0.25em; line-height: 1; border-radius: 0.35em;\">kyste au niveau splénique<span style=\"font-size: 0.8em; font-weight: bold; line-height: 1; border-radius: 0.35em; vertical-align: middle; margin-left: 0.5rem\">ENT/DIAG_NAME</span></mark>.</br> Se présente avec un <mark class=\"entity\" style=\"background: #ffb3ba; padding: 0.45em 0.6em; margin: 0 0.25em; line-height: 1; border-radius: 0.35em;\">kyste au niveau de la rate<span style=\"font-size: 0.8em; font-weight: bold; line-height: 1; border-radius: 0.35em; vertical-align: middle; margin-left: 0.5rem\">ENT/DIAG_NAME</span></mark>.</br> Se présente avec un <mark class=\"entity\" style=\"background: #ffb3ba; padding: 0.45em 0.6em; margin: 0 0.25em; line-height: 1; border-radius: 0.35em;\">kyste saignant<span style=\"font-size: 0.8em; font-weight: bold; line-height: 1; border-radius: 0.35em; vertical-align: middle; margin-left: 0.5rem\">ENT/DIAG_NAME</span></mark>.</br> Se présente avec un <mark class=\"entity\" style=\"background: #ffb3ba; padding: 0.45em 0.6em; margin: 0 0.25em; line-height: 1; border-radius: 0.35em;\">kyste hémorragique<span style=\"font-size: 0.8em; font-weight: bold; line-height: 1; border-radius: 0.35em; vertical-align: middle; margin-left: 0.5rem\">ENT/DIAG_NAME</span></mark>.</br> Au niveau pulmonaire, présence d'une <mark class=\"entity\" style=\"background: #ffb3ba; padding: 0.45em 0.6em; margin: 0 0.25em; line-height: 1; border-radius: 0.35em;\">lésion<span style=\"font-size: 0.8em; font-weight: bold; line-height: 1; border-radius: 0.35em; vertical-align: middle; margin-left: 0.5rem\">ENT/DIAG_NAME</span></mark> non déterminé.</br> Au niveau hépatique, présence d'une <mark class=\"entity\" style=\"background: #ffb3ba; padding: 0.45em 0.6em; margin: 0 0.25em; line-height: 1; border-radius: 0.35em;\">lésion<span style=\"font-size: 0.8em; font-weight: bold; line-height: 1; border-radius: 0.35em; vertical-align: middle; margin-left: 0.5rem\">ENT/DIAG_NAME</span></mark> non déterminé.</br> Absence de signes d'ICG.</br> Absence de signes d'ICD.</br> Absence de signes d'IC.</br> Auscultation anormale avec sgines d'IC</br> Antécédents d'HTAP et de <mark class=\"entity\" style=\"background: #ffb3ba; padding: 0.45em 0.6em; margin: 0 0.25em; line-height: 1; border-radius: 0.35em;\">diabète<span style=\"font-size: 0.8em; font-weight: bold; line-height: 1; border-radius: 0.35em; vertical-align: middle; margin-left: 0.5rem\">ENT/DIAG_NAME</span></mark>.</br> Antécédents d'HTA et de <mark class=\"entity\" style=\"background: #ffb3ba; padding: 0.45em 0.6em; margin: 0 0.25em; line-height: 1; border-radius: 0.35em;\">diabète<span style=\"font-size: 0.8em; font-weight: bold; line-height: 1; border-radius: 0.35em; vertical-align: middle; margin-left: 0.5rem\">ENT/DIAG_NAME</span></mark>.</br> <mark class=\"entity\" style=\"background: #ffb3ba; padding: 0.45em 0.6em; margin: 0 0.25em; line-height: 1; border-radius: 0.35em;\">IVG<span style=\"font-size: 0.8em; font-weight: bold; line-height: 1; border-radius: 0.35em; vertical-align: middle; margin-left: 0.5rem\">ENT/DIAG_NAME</span></mark> à l'échographie.</br> IVG à 3 semaines.</br> Le patient se sent bien.</br> Le patient va bien.</br> <mark class=\"entity\" style=\"background: #ffb3ba; padding: 0.45em 0.6em; margin: 0 0.25em; line-height: 1; border-radius: 0.35em;\">Syndrome de Marphan<span style=\"font-size: 0.8em; font-weight: bold; line-height: 1; border-radius: 0.35em; vertical-align: middle; margin-left: 0.5rem\">ENT/DIAG_NAME</span></mark>.</br> Mydriase areactive.</br> Absence de <mark class=\"entity\" style=\"background: #ffb3ba; padding: 0.45em 0.6em; margin: 0 0.25em; line-height: 1; border-radius: 0.35em;\">diabate<span style=\"font-size: 0.8em; font-weight: bold; line-height: 1; border-radius: 0.35em; vertical-align: middle; margin-left: 0.5rem\">ENT/DIAG_NAME</span></mark><mark class=\"entity\" style=\"background: #ffdfba; padding: 0.45em 0.6em; margin: 0 0.25em; line-height: 1; border-radius: 0.35em;\">signes d'ICG<span style=\"font-size: 0.8em; font-weight: bold; line-height: 1; border-radius: 0.35em; vertical-align: middle; margin-left: 0.5rem\">ENT/SIGNS</span></mark><mark class=\"entity\" style=\"background: #ffdfba; padding: 0.45em 0.6em; margin: 0 0.25em; line-height: 1; border-radius: 0.35em;\">signes d'IC<span style=\"font-size: 0.8em; font-weight: bold; line-height: 1; border-radius: 0.35em; vertical-align: middle; margin-left: 0.5rem\">ENT/SIGNS</span></mark>G.</br> Absence de <mark class=\"entity\" style=\"background: #ffdfba; padding: 0.45em 0.6em; margin: 0 0.25em; line-height: 1; border-radius: 0.35em;\">signes d'ICD<span style=\"font-size: 0.8em; font-weight: bold; line-height: 1; border-radius: 0.35em; vertical-align: middle; margin-left: 0.5rem\">ENT/SIGNS</span></mark>.</br> Absence de signes d'IC.</br> <mark class=\"entity\" style=\"background: #ffdfba; padding: 0.45em 0.6em; margin: 0 0.25em; line-height: 1; border-radius: 0.35em;\">Auscultation anormale<span style=\"font-size: 0.8em; font-weight: bold; line-height: 1; border-radius: 0.35em; vertical-align: middle; margin-left: 0.5rem\">ENT/SIGNS</span></mark> avec sgines d'IC</br> Antécédents d'HTAP et de diabète.</br> Antécédents d'HTA et de diabète.</br> IVG à l'échographie.</br> IVG à 3 semaines.</br> Le patient <mark class=\"entity\" style=\"background: #ffdfba; padding: 0.45em 0.6em; margin: 0 0.25em; line-height: 1; border-radius: 0.35em;\">se sent bien<span style=\"font-size: 0.8em; font-weight: bold; line-height: 1; border-radius: 0.35em; vertical-align: middle; margin-left: 0.5rem\">ENT/SIGNS</span></mark>.</br> Le patient <mark class=\"entity\" style=\"background: #ffdfba; padding: 0.45em 0.6em; margin: 0 0.25em; line-height: 1; border-radius: 0.35em;\">va bien<span style=\"font-size: 0.8em; font-weight: bold; line-height: 1; border-radius: 0.35em; vertical-align: middle; margin-left: 0.5rem\">ENT/SIGNS</span></mark>.</br> Syndrome de Marphan.</br> <mark class=\"entity\" style=\"background: #ffdfba; padding: 0.45em 0.6em; margin: 0 0.25em; line-height: 1; border-radius: 0.35em;\">Mydriase areactive<span style=\"font-size: 0.8em; font-weight: bold; line-height: 1; border-radius: 0.35em; vertical-align: middle; margin-left: 0.5rem\">ENT/SIGNS</span></mark>.</br> Absence de diabate.</br> <mark class=\"entity\" style=\"background: #ffdfba; padding: 0.45em 0.6em; margin: 0 0.25em; line-height: 1; border-radius: 0.35em;\">Douleur au ventre<span style=\"font-size: 0.8em; font-weight: bold; line-height: 1; border-radius: 0.35em; vertical-align: middle; margin-left: 0.5rem\">ENT/SIGNS</span></mark>.</br> <mark class=\"entity\" style=\"background: #ffdfba; padding: 0.45em 0.6em; margin: 0 0.25em; line-height: 1; border-radius: 0.35em;\">Douleur abdo<span style=\"font-size: 0.8em; font-weight: bold; line-height: 1; border-radius: 0.35em; vertical-align: middle; margin-left: 0.5rem\">ENT/SIGNS</span></mark></br> <mark class=\"entity\" style=\"background: #ffdfba; padding: 0.45em 0.6em; margin: 0 0.25em; line-height: 1; border-radius: 0.35em;\">Epigastralgie<span style=\"font-size: 0.8em; font-weight: bold; line-height: 1; border-radius: 0.35em; vertical-align: middle; margin-left: 0.5rem\">ENT/SIGNS</span></mark>.Le patient à la <mark class=\"entity\" style=\"background: #ffdfba; padding: 0.45em 0.6em; margin: 0 0.25em; line-height: 1; border-radius: 0.35em;\">bouche sèche<span style=\"font-size: 0.8em; font-weight: bold; line-height: 1; border-radius: 0.35em; vertical-align: middle; margin-left: 0.5rem\">ENT/SIGNS</span></mark>.</div></span>"
      ],
      "text/plain": [
       "<IPython.core.display.HTML object>"
      ]
     },
     "metadata": {},
     "output_type": "display_data"
    }
   ],
   "source": [
    "display_annotations(doc_demo, entities=['ENT/DIAG_NAME', 'ENT/SIGNS'])"
   ]
  },
  {
   "cell_type": "code",
   "execution_count": 106,
   "metadata": {},
   "outputs": [
    {
     "data": {
      "text/plain": [
       "[('C0038218', \"crise d'asthme\"),\n",
       " ('C0205929', 'fistule anale'),\n",
       " ('C0000833', 'abces'),\n",
       " ('C4324354', 'subfebrile'),\n",
       " ('C0030193', 'douleur'),\n",
       " ('C0031019', 'abces perianal'),\n",
       " ('C0016169', 'fistule'),\n",
       " ('C2825055', 'recidive'),\n",
       " ('C0015967', 'fievre'),\n",
       " ('C0242301', 'furoncle')]"
      ]
     },
     "execution_count": 106,
     "metadata": {},
     "output_type": "execute_result"
    }
   ],
   "source": [
    "list(norm_pheno.dict_label.values())[:10]"
   ]
  },
  {
   "cell_type": "code",
   "execution_count": 45,
   "metadata": {},
   "outputs": [],
   "source": [
    "import numpy as np"
   ]
  },
  {
   "cell_type": "code",
   "execution_count": 46,
   "metadata": {},
   "outputs": [],
   "source": [
    "emb = pd.read_csv(norm_pheno.path_dict, header=None)\n",
    "dict_label = {k:(v[0], v[1]) for k,v in emb.iloc[:,:2].iterrows()}\n",
    "matrix_embeddings = np.ascontiguousarray(emb.iloc[:,2:].values.astype('float32'))"
   ]
  },
  {
   "cell_type": "code",
   "execution_count": 108,
   "metadata": {},
   "outputs": [
    {
     "data": {
      "text/plain": [
       "5691"
      ]
     },
     "execution_count": 108,
     "metadata": {},
     "output_type": "execute_result"
    }
   ],
   "source": [
    "pd.DataFrame(dict_label, index =['cui', 'label']).T.cui.nunique()"
   ]
  },
  {
   "cell_type": "code",
   "execution_count": 109,
   "metadata": {},
   "outputs": [],
   "source": [
    "import torch"
   ]
  },
  {
   "cell_type": "code",
   "execution_count": 111,
   "metadata": {},
   "outputs": [],
   "source": [
    "input2 = torch.randn(100, 128)"
   ]
  },
  {
   "cell_type": "code",
   "execution_count": 124,
   "metadata": {},
   "outputs": [],
   "source": [
    "test = [(t.attributes['embedding'], t.value) for t in doc_demo.get_annotations('ENT/SIGNS')]"
   ]
  },
  {
   "cell_type": "code",
   "execution_count": 157,
   "metadata": {},
   "outputs": [
    {
     "data": {
      "text/plain": [
       "'va bien'"
      ]
     },
     "execution_count": 157,
     "metadata": {},
     "output_type": "execute_result"
    }
   ],
   "source": [
    "i = 5\n",
    "test[i][1]"
   ]
  },
  {
   "cell_type": "code",
   "execution_count": 158,
   "metadata": {},
   "outputs": [],
   "source": [
    "output = torch.cosine_similarity(torch.tensor(matrix_embeddings), torch.tensor(test[i][0]).reshape(1, -1))"
   ]
  },
  {
   "cell_type": "code",
   "execution_count": 159,
   "metadata": {},
   "outputs": [
    {
     "data": {
      "text/plain": [
       "('C0236102', 'etat general')"
      ]
     },
     "execution_count": 159,
     "metadata": {},
     "output_type": "execute_result"
    }
   ],
   "source": [
    "dict_label[torch.argmax(output).item()]"
   ]
  },
  {
   "cell_type": "code",
   "execution_count": 133,
   "metadata": {},
   "outputs": [
    {
     "data": {
      "text/plain": [
       "tensor([0.8235, 0.7694, 0.7538,  ..., 0.7837, 0.7984, 0.7687])"
      ]
     },
     "execution_count": 133,
     "metadata": {},
     "output_type": "execute_result"
    }
   ],
   "source": [
    "output"
   ]
  },
  {
   "cell_type": "code",
   "execution_count": 99,
   "metadata": {},
   "outputs": [
    {
     "data": {
      "text/html": [
       "<div>\n",
       "<style scoped>\n",
       "    .dataframe tbody tr th:only-of-type {\n",
       "        vertical-align: middle;\n",
       "    }\n",
       "\n",
       "    .dataframe tbody tr th {\n",
       "        vertical-align: top;\n",
       "    }\n",
       "\n",
       "    .dataframe thead th {\n",
       "        text-align: right;\n",
       "    }\n",
       "</style>\n",
       "<table border=\"1\" class=\"dataframe\">\n",
       "  <thead>\n",
       "    <tr style=\"text-align: right;\">\n",
       "      <th></th>\n",
       "      <th>cui</th>\n",
       "      <th>label</th>\n",
       "    </tr>\n",
       "  </thead>\n",
       "  <tbody>\n",
       "    <tr>\n",
       "      <th>226</th>\n",
       "      <td>C0010709</td>\n",
       "      <td>kyste</td>\n",
       "    </tr>\n",
       "    <tr>\n",
       "      <th>285</th>\n",
       "      <td>C0029927</td>\n",
       "      <td>kyste ovarien</td>\n",
       "    </tr>\n",
       "    <tr>\n",
       "      <th>394</th>\n",
       "      <td>C0010709</td>\n",
       "      <td>kystes</td>\n",
       "    </tr>\n",
       "    <tr>\n",
       "      <th>428</th>\n",
       "      <td>C0400990</td>\n",
       "      <td>kyste biliaire</td>\n",
       "    </tr>\n",
       "    <tr>\n",
       "      <th>879</th>\n",
       "      <td>C0031925</td>\n",
       "      <td>kyste pilonidal</td>\n",
       "    </tr>\n",
       "    <tr>\n",
       "      <th>...</th>\n",
       "      <td>...</td>\n",
       "      <td>...</td>\n",
       "    </tr>\n",
       "    <tr>\n",
       "      <th>7153</th>\n",
       "      <td>C0035281</td>\n",
       "      <td>kyste retentionnel</td>\n",
       "    </tr>\n",
       "    <tr>\n",
       "      <th>7348</th>\n",
       "      <td>C1142385</td>\n",
       "      <td>kyste ovarien fonctionnel</td>\n",
       "    </tr>\n",
       "    <tr>\n",
       "      <th>7367</th>\n",
       "      <td>C0016429</td>\n",
       "      <td>kyste folliculaire de l'ovaire</td>\n",
       "    </tr>\n",
       "    <tr>\n",
       "      <th>7434</th>\n",
       "      <td>C0152244</td>\n",
       "      <td>kyste osseux anevrysmal</td>\n",
       "    </tr>\n",
       "    <tr>\n",
       "      <th>7457</th>\n",
       "      <td>C0473311</td>\n",
       "      <td>kyste hemorragique ovarien</td>\n",
       "    </tr>\n",
       "  </tbody>\n",
       "</table>\n",
       "<p>70 rows × 2 columns</p>\n",
       "</div>"
      ],
      "text/plain": [
       "           cui                           label\n",
       "226   C0010709                           kyste\n",
       "285   C0029927                   kyste ovarien\n",
       "394   C0010709                          kystes\n",
       "428   C0400990                  kyste biliaire\n",
       "879   C0031925                 kyste pilonidal\n",
       "...        ...                             ...\n",
       "7153  C0035281              kyste retentionnel\n",
       "7348  C1142385       kyste ovarien fonctionnel\n",
       "7367  C0016429  kyste folliculaire de l'ovaire\n",
       "7434  C0152244         kyste osseux anevrysmal\n",
       "7457  C0473311      kyste hemorragique ovarien\n",
       "\n",
       "[70 rows x 2 columns]"
      ]
     },
     "execution_count": 99,
     "metadata": {},
     "output_type": "execute_result"
    }
   ],
   "source": [
    "pd.DataFrame(dict_label, index =['cui', 'label']).T.loc[lambda x:x.label.str.contains('kyste')]"
   ]
  },
  {
   "cell_type": "code",
   "execution_count": 47,
   "metadata": {},
   "outputs": [
    {
     "data": {
      "text/plain": [
       "7529"
      ]
     },
     "execution_count": 47,
     "metadata": {},
     "output_type": "execute_result"
    }
   ],
   "source": [
    "len(dict_label)"
   ]
  },
  {
   "cell_type": "code",
   "execution_count": 48,
   "metadata": {},
   "outputs": [
    {
     "data": {
      "text/plain": [
       "array([ 0.23342381, -0.21253404,  0.4980659 , ...,  0.3178097 ,\n",
       "       -0.04451039,  0.09476368], dtype=float32)"
      ]
     },
     "execution_count": 48,
     "metadata": {},
     "output_type": "execute_result"
    }
   ],
   "source": [
    "matrix_embeddings[0,:]"
   ]
  },
  {
   "cell_type": "code",
   "execution_count": 100,
   "metadata": {},
   "outputs": [
    {
     "data": {
      "text/plain": [
       "('C0010709', 'kyste')"
      ]
     },
     "execution_count": 100,
     "metadata": {},
     "output_type": "execute_result"
    }
   ],
   "source": [
    "i = 226\n",
    "norm_pheno.dict_label[i]"
   ]
  },
  {
   "cell_type": "code",
   "execution_count": 101,
   "metadata": {},
   "outputs": [],
   "source": [
    "test = norm_pheno.find_closest_embeddings(matrix_embeddings[i:i+1,:], 5)"
   ]
  },
  {
   "cell_type": "code",
   "execution_count": 102,
   "metadata": {},
   "outputs": [
    {
     "data": {
      "text/plain": [
       "[('C0010709', 'kyste'),\n",
       " ('C1389462', 'kyste pelvien'),\n",
       " ('C1879828', 'teratome kystique'),\n",
       " ('C0272407', 'kyste splenique'),\n",
       " ('C0333145', 'kyste hemorragique')]"
      ]
     },
     "execution_count": 102,
     "metadata": {},
     "output_type": "execute_result"
    }
   ],
   "source": [
    "[norm_pheno.dict_label[t] for t in test[0, :, 0]]"
   ]
  },
  {
   "cell_type": "code",
   "execution_count": 85,
   "metadata": {},
   "outputs": [
    {
     "data": {
      "text/plain": [
       "array([0.99999917, 0.99999917, 0.99999917, 0.99999917, 0.86560136])"
      ]
     },
     "execution_count": 85,
     "metadata": {},
     "output_type": "execute_result"
    }
   ],
   "source": [
    "test[0, :, 1]"
   ]
  },
  {
   "cell_type": "code",
   "execution_count": 42,
   "metadata": {},
   "outputs": [
    {
     "data": {
      "text/plain": [
       "<faiss.swigfaiss_avx2.FloatVector; proxy of <Swig Object of type 'std::vector< float > *' at 0x7fe0e9673ae0> >"
      ]
     },
     "execution_count": 42,
     "metadata": {},
     "output_type": "execute_result"
    }
   ],
   "source": [
    "norm_pheno.index_embedding.xb"
   ]
  },
  {
   "cell_type": "code",
   "execution_count": 31,
   "metadata": {},
   "outputs": [
    {
     "data": {
      "text/plain": [
       "7529"
      ]
     },
     "execution_count": 31,
     "metadata": {},
     "output_type": "execute_result"
    }
   ],
   "source": [
    "len(norm_pheno.dict_label)"
   ]
  },
  {
   "cell_type": "code",
   "execution_count": 107,
   "metadata": {},
   "outputs": [
    {
     "data": {
      "text/plain": [
       "[('cicatrice de brulure', 'kyste au niveau du rein droit', 0.9567136168479919),\n",
       " ('cicatrice de brulure',\n",
       "  'kyste au niveau du poumon droit',\n",
       "  0.962617039680481),\n",
       " ('demangeaison', 'kyste au niveau du pelvis', 0.9527400732040405),\n",
       " ('splenose', 'kyste au niveau splénique', 0.9514991044998169),\n",
       " ('splenose', 'kyste au niveau de la rate', 0.9609988927841187),\n",
       " ('kyste mammaire', 'kyste saignant', 0.8997305631637573),\n",
       " ('kyste hemorragique', 'kyste hémorragique', 0.9737793207168579),\n",
       " ('lesion hepatique', 'lésion', 0.9144874811172485),\n",
       " ('lesion hepatique', 'lésion', 0.9286418557167053),\n",
       " ('infection genitale', \"signes d'ICG\", 0.9405293464660645),\n",
       " ('infection genitale', \"signes d'ICD\", 0.9312077760696411),\n",
       " ('infection genitale', \"signes d'IC\", 0.9398549795150757),\n",
       " ('auscultation pulmonaire anormale',\n",
       "  'Auscultation anormale',\n",
       "  0.9592617750167847),\n",
       " ('diabete', 'diabète', 0.9452240467071533),\n",
       " ('diabete', 'diabète', 0.9414633512496948),\n",
       " ('dpv', 'IVG', 0.830310583114624),\n",
       " ('ne se sent pas bien', 'se sent bien', 0.9189462661743164),\n",
       " ('etat general', 'va bien', 0.8977736234664917),\n",
       " ('syndrome de kaposi-juliusberg', 'Syndrome de Marphan', 0.951041579246521),\n",
       " ('tetraplegie flasque', 'Mydriase areactive', 0.8833934664726257),\n",
       " ('plaie diabetique', 'diabate', 0.885014533996582),\n",
       " ('douleur dorsale', 'Douleur au ventre', 0.9500099420547485),\n",
       " ('douleur abdo', 'Douleur abdo', 1.0),\n",
       " ('epitrochleite', 'Epigastralgie', 0.9281055927276611),\n",
       " ('sensation de bouche seche', 'bouche sèche', 0.9270783066749573)]"
      ]
     },
     "execution_count": 107,
     "metadata": {},
     "output_type": "execute_result"
    }
   ],
   "source": [
    "[(t.value, t.attributes['mention'], t.attributes['score_cos']) for t in doc_demo.get_annotations('normalized_mention')]"
   ]
  },
  {
   "cell_type": "code",
   "execution_count": 23,
   "metadata": {},
   "outputs": [
    {
     "data": {
      "text/html": [
       "<span class=\"tex2jax_ignore\"><div class=\"entities\" style=\"line-height: 2.5; direction: ltr\">Le patient présente un <mark class=\"entity\" style=\"background: #ffb3ba; padding: 0.45em 0.6em; margin: 0 0.25em; line-height: 1; border-radius: 0.35em;\">kyste au niveau du rein droit<span style=\"font-size: 0.8em; font-weight: bold; line-height: 1; border-radius: 0.35em; vertical-align: middle; margin-left: 0.5rem\">NORMALIZED_MENTION</span></mark>.</br> Le patient présente un <mark class=\"entity\" style=\"background: #ffb3ba; padding: 0.45em 0.6em; margin: 0 0.25em; line-height: 1; border-radius: 0.35em;\">kyste au niveau du poumon droit<span style=\"font-size: 0.8em; font-weight: bold; line-height: 1; border-radius: 0.35em; vertical-align: middle; margin-left: 0.5rem\">NORMALIZED_MENTION</span></mark>.</br> Au niveau pulmonaire, présence d'une <mark class=\"entity\" style=\"background: #ffb3ba; padding: 0.45em 0.6em; margin: 0 0.25em; line-height: 1; border-radius: 0.35em;\">lésion<span style=\"font-size: 0.8em; font-weight: bold; line-height: 1; border-radius: 0.35em; vertical-align: middle; margin-left: 0.5rem\">NORMALIZED_MENTION</span></mark> non déterminé.</br> Au niveau hépatique, présence d'une <mark class=\"entity\" style=\"background: #ffb3ba; padding: 0.45em 0.6em; margin: 0 0.25em; line-height: 1; border-radius: 0.35em;\">lésion<span style=\"font-size: 0.8em; font-weight: bold; line-height: 1; border-radius: 0.35em; vertical-align: middle; margin-left: 0.5rem\">NORMALIZED_MENTION</span></mark> non déterminé.</br> Absence de <mark class=\"entity\" style=\"background: #ffb3ba; padding: 0.45em 0.6em; margin: 0 0.25em; line-height: 1; border-radius: 0.35em;\">signes d'ICG<span style=\"font-size: 0.8em; font-weight: bold; line-height: 1; border-radius: 0.35em; vertical-align: middle; margin-left: 0.5rem\">NORMALIZED_MENTION</span></mark><mark class=\"entity\" style=\"background: #ffb3ba; padding: 0.45em 0.6em; margin: 0 0.25em; line-height: 1; border-radius: 0.35em;\">signes d'IC<span style=\"font-size: 0.8em; font-weight: bold; line-height: 1; border-radius: 0.35em; vertical-align: middle; margin-left: 0.5rem\">NORMALIZED_MENTION</span></mark>G.</br> Absence de <mark class=\"entity\" style=\"background: #ffb3ba; padding: 0.45em 0.6em; margin: 0 0.25em; line-height: 1; border-radius: 0.35em;\">signes d'ICD<span style=\"font-size: 0.8em; font-weight: bold; line-height: 1; border-radius: 0.35em; vertical-align: middle; margin-left: 0.5rem\">NORMALIZED_MENTION</span></mark>.</br> Absence de signes d'IC.</br> <mark class=\"entity\" style=\"background: #ffb3ba; padding: 0.45em 0.6em; margin: 0 0.25em; line-height: 1; border-radius: 0.35em;\">Auscultation anormale<span style=\"font-size: 0.8em; font-weight: bold; line-height: 1; border-radius: 0.35em; vertical-align: middle; margin-left: 0.5rem\">NORMALIZED_MENTION</span></mark> avec sgines d'IC</br> Antécédents d'HTAP et de <mark class=\"entity\" style=\"background: #ffb3ba; padding: 0.45em 0.6em; margin: 0 0.25em; line-height: 1; border-radius: 0.35em;\">diabète<span style=\"font-size: 0.8em; font-weight: bold; line-height: 1; border-radius: 0.35em; vertical-align: middle; margin-left: 0.5rem\">NORMALIZED_MENTION</span></mark>.</br> Antécédents d'HTA et de <mark class=\"entity\" style=\"background: #ffb3ba; padding: 0.45em 0.6em; margin: 0 0.25em; line-height: 1; border-radius: 0.35em;\">diabète<span style=\"font-size: 0.8em; font-weight: bold; line-height: 1; border-radius: 0.35em; vertical-align: middle; margin-left: 0.5rem\">NORMALIZED_MENTION</span></mark>.</br> <mark class=\"entity\" style=\"background: #ffb3ba; padding: 0.45em 0.6em; margin: 0 0.25em; line-height: 1; border-radius: 0.35em;\">IVG<span style=\"font-size: 0.8em; font-weight: bold; line-height: 1; border-radius: 0.35em; vertical-align: middle; margin-left: 0.5rem\">NORMALIZED_MENTION</span></mark> à l'échographie.</br> IVG à 3 semaines.</br> Le patient <mark class=\"entity\" style=\"background: #ffb3ba; padding: 0.45em 0.6em; margin: 0 0.25em; line-height: 1; border-radius: 0.35em;\">se sent bien<span style=\"font-size: 0.8em; font-weight: bold; line-height: 1; border-radius: 0.35em; vertical-align: middle; margin-left: 0.5rem\">NORMALIZED_MENTION</span></mark>.</br> Le patient <mark class=\"entity\" style=\"background: #ffb3ba; padding: 0.45em 0.6em; margin: 0 0.25em; line-height: 1; border-radius: 0.35em;\">va bien<span style=\"font-size: 0.8em; font-weight: bold; line-height: 1; border-radius: 0.35em; vertical-align: middle; margin-left: 0.5rem\">NORMALIZED_MENTION</span></mark>.</br> <mark class=\"entity\" style=\"background: #ffb3ba; padding: 0.45em 0.6em; margin: 0 0.25em; line-height: 1; border-radius: 0.35em;\">Syndrome de Marphan<span style=\"font-size: 0.8em; font-weight: bold; line-height: 1; border-radius: 0.35em; vertical-align: middle; margin-left: 0.5rem\">NORMALIZED_MENTION</span></mark>.</br> <mark class=\"entity\" style=\"background: #ffb3ba; padding: 0.45em 0.6em; margin: 0 0.25em; line-height: 1; border-radius: 0.35em;\">Mydriase areactive<span style=\"font-size: 0.8em; font-weight: bold; line-height: 1; border-radius: 0.35em; vertical-align: middle; margin-left: 0.5rem\">NORMALIZED_MENTION</span></mark>.</br> </br> </div></span>"
      ],
      "text/plain": [
       "<IPython.core.display.HTML object>"
      ]
     },
     "metadata": {},
     "output_type": "display_data"
    }
   ],
   "source": [
    "display_annotations(doc_demo, entities=['normalized_mention'])"
   ]
  },
  {
   "cell_type": "code",
   "execution_count": 18,
   "metadata": {},
   "outputs": [
    {
     "data": {
      "text/html": [
       "<span class=\"tex2jax_ignore\"><div class=\"entities\" style=\"line-height: 2.5; direction: ltr\">Merci de recevoir en consultation Mme Jeanne Bach, présentant une <mark class=\"entity\" style=\"background: #ffb3ba; padding: 0.45em 0.6em; margin: 0 0.25em; line-height: 1; border-radius: 0.35em;\">sclérose latérale amyotrophique<span style=\"font-size: 0.8em; font-weight: bold; line-height: 1; border-radius: 0.35em; vertical-align: middle; margin-left: 0.5rem\">UMLS_SYNTAGME</span></mark>, débutant par une <mark class=\"entity\" style=\"background: #ffb3ba; padding: 0.45em 0.6em; margin: 0 0.25em; line-height: 1; border-radius: 0.35em;\">aphasie<span style=\"font-size: 0.8em; font-weight: bold; line-height: 1; border-radius: 0.35em; vertical-align: middle; margin-left: 0.5rem\">UMLS_SYNTAGME</span></mark> rapidement progressive en 2018.</br> La patiente ne présente pas de <mark class=\"entity\" style=\"background: #ffb3ba; padding: 0.45em 0.6em; margin: 0 0.25em; line-height: 1; border-radius: 0.35em;\">troubles moteurs<span style=\"font-size: 0.8em; font-weight: bold; line-height: 1; border-radius: 0.35em; vertical-align: middle; margin-left: 0.5rem\">UMLS_SYNTAGME</span></mark>.</br> Son état est stable avec traitement symptomatique pour l'humeur, Deroxat 2 mg / j.</br> Dr Jérome Ben Soussan.</br> Examen clinique:</br> - signe du flot</br> - souffle cardiaque</div></span>"
      ],
      "text/plain": [
       "<IPython.core.display.HTML object>"
      ]
     },
     "metadata": {},
     "output_type": "display_data"
    }
   ],
   "source": [
    "display_annotations(doc_demo, entities=['umls_syntagme'])"
   ]
  },
  {
   "cell_type": "code",
   "execution_count": 214,
   "metadata": {},
   "outputs": [
    {
     "data": {
      "text/html": [
       "<span class=\"tex2jax_ignore\"><div class=\"entities\" style=\"line-height: 2.5; direction: ltr\">Merci de recevoir en consultation Mme Jeanne Bach, présentant une sclérose latérale amyotrophique, débutant par une <mark class=\"entity\" style=\"background: #ffb3ba; padding: 0.45em 0.6em; margin: 0 0.25em; line-height: 1; border-radius: 0.35em;\">aphasie rapidement progressive<span style=\"font-size: 0.8em; font-weight: bold; line-height: 1; border-radius: 0.35em; text-transform: uppercase; vertical-align: middle; margin-left: 0.5rem\">ENT/SIGNS</span></mark> en 2018.</br> La patiente ne présente pas de troubles moteurs.</br> Son <mark class=\"entity\" style=\"background: #ffb3ba; padding: 0.45em 0.6em; margin: 0 0.25em; line-height: 1; border-radius: 0.35em;\">état est stable<span style=\"font-size: 0.8em; font-weight: bold; line-height: 1; border-radius: 0.35em; text-transform: uppercase; vertical-align: middle; margin-left: 0.5rem\">ENT/SIGNS</span></mark> avec traitement symptomatique pour l'humeur, Deroxat 2 mg / j.</br> Dr Jérome Ben Soussan.</br> Examen clinique:</br> - <mark class=\"entity\" style=\"background: #ffb3ba; padding: 0.45em 0.6em; margin: 0 0.25em; line-height: 1; border-radius: 0.35em;\">signe du flot<span style=\"font-size: 0.8em; font-weight: bold; line-height: 1; border-radius: 0.35em; text-transform: uppercase; vertical-align: middle; margin-left: 0.5rem\">ENT/SIGNS</span></mark></br> - <mark class=\"entity\" style=\"background: #ffb3ba; padding: 0.45em 0.6em; margin: 0 0.25em; line-height: 1; border-radius: 0.35em;\">souffle cardiaque<span style=\"font-size: 0.8em; font-weight: bold; line-height: 1; border-radius: 0.35em; text-transform: uppercase; vertical-align: middle; margin-left: 0.5rem\">ENT/SIGNS</span></mark> Par ailleurs, elle présente un kyste du rein droit visible sur la dernière echographie en date. Absence de trouble moteurs au niveau des membres.</div></span>"
      ],
      "text/plain": [
       "<IPython.core.display.HTML object>"
      ]
     },
     "metadata": {},
     "output_type": "display_data"
    }
   ],
   "source": [
    "display_annotations(doc_demo, entities=['ENT/SIGNS'])"
   ]
  },
  {
   "cell_type": "code",
   "execution_count": 215,
   "metadata": {},
   "outputs": [
    {
     "data": {
      "text/html": [
       "<span class=\"tex2jax_ignore\"><div class=\"entities\" style=\"line-height: 2.5; direction: ltr\">Merci de recevoir en consultation Mme Jeanne Bach, présentant une <mark class=\"entity\" style=\"background: #ffb3ba; padding: 0.45em 0.6em; margin: 0 0.25em; line-height: 1; border-radius: 0.35em;\">sclérose latérale amyotrophique<span style=\"font-size: 0.8em; font-weight: bold; line-height: 1; border-radius: 0.35em; text-transform: uppercase; vertical-align: middle; margin-left: 0.5rem\">ENT/DIAG_NAME</span></mark>, débutant par une aphasie rapidement progressive en 2018.</br> La patiente ne présente pas de <mark class=\"entity\" style=\"background: #ffb3ba; padding: 0.45em 0.6em; margin: 0 0.25em; line-height: 1; border-radius: 0.35em;\">troubles moteurs<span style=\"font-size: 0.8em; font-weight: bold; line-height: 1; border-radius: 0.35em; text-transform: uppercase; vertical-align: middle; margin-left: 0.5rem\">ENT/DIAG_NAME</span></mark>.</br> Son état est stable avec traitement symptomatique pour l'humeur, Deroxat 2 mg / j.</br> Dr Jérome Ben Soussan.</br> Examen clinique:</br> - signe du flot</br> - souffle cardiaque</br> Par ailleurs, elle présente un <mark class=\"entity\" style=\"background: #ffb3ba; padding: 0.45em 0.6em; margin: 0 0.25em; line-height: 1; border-radius: 0.35em;\">kyste du rein droit<span style=\"font-size: 0.8em; font-weight: bold; line-height: 1; border-radius: 0.35em; text-transform: uppercase; vertical-align: middle; margin-left: 0.5rem\">ENT/DIAG_NAME</span></mark> visible sur la dernière echographie en date.</br> Absence de <mark class=\"entity\" style=\"background: #ffb3ba; padding: 0.45em 0.6em; margin: 0 0.25em; line-height: 1; border-radius: 0.35em;\">trouble moteurs au niveau des membres<span style=\"font-size: 0.8em; font-weight: bold; line-height: 1; border-radius: 0.35em; text-transform: uppercase; vertical-align: middle; margin-left: 0.5rem\">ENT/DIAG_NAME</span></mark>.</div></span>"
      ],
      "text/plain": [
       "<IPython.core.display.HTML object>"
      ]
     },
     "metadata": {},
     "output_type": "display_data"
    }
   ],
   "source": [
    "display_annotations(doc_demo, entities=['ENT/DIAG_NAME'])"
   ]
  }
 ],
 "metadata": {
  "kernelspec": {
   "display_name": "Python 3",
   "language": "python",
   "name": "python3"
  },
  "language_info": {
   "codemirror_mode": {
    "name": "ipython",
    "version": 3
   },
   "file_extension": ".py",
   "mimetype": "text/x-python",
   "name": "python",
   "nbconvert_exporter": "python",
   "pygments_lexer": "ipython3",
   "version": "3.8.5"
  }
 },
 "nbformat": 4,
 "nbformat_minor": 4
}
