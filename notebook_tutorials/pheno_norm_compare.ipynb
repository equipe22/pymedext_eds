{
 "cells": [
  {
   "cell_type": "code",
   "execution_count": 1,
   "metadata": {},
   "outputs": [
    {
     "name": "stdout",
     "output_type": "stream",
     "text": [
      "/home/ivan/Documents/rel_ext/pymedext_eds\n"
     ]
    }
   ],
   "source": [
    "%cd .."
   ]
  },
  {
   "cell_type": "code",
   "execution_count": 2,
   "metadata": {},
   "outputs": [],
   "source": [
    "%load_ext autoreload\n",
    "%autoreload 2"
   ]
  },
  {
   "cell_type": "code",
   "execution_count": 3,
   "metadata": {},
   "outputs": [],
   "source": [
    "import json"
   ]
  },
  {
   "cell_type": "code",
   "execution_count": 4,
   "metadata": {},
   "outputs": [],
   "source": [
    "from tqdm import tqdm"
   ]
  },
  {
   "cell_type": "code",
   "execution_count": 5,
   "metadata": {},
   "outputs": [],
   "source": [
    "import os\n",
    "\n",
    "from glob import glob\n",
    "import pandas as pd\n",
    "import re\n",
    "from pprint import pprint\n",
    "import pkg_resources\n",
    "\n",
    "from pymedextcore.document import Document\n",
    "from pymedext_eds.annotators import Endlines, SentenceTokenizer, Hypothesis, \\\n",
    "                                    ATCDFamille, SyntagmeTokenizer, Negation, RegexMatcher, \\\n",
    "                                    QuickUMLSAnnotator, Pipeline, SectionSplitter, Pipeline\n",
    "\n",
    "from pymedext_eds.utils import rawtext_loader\n",
    "from pymedext_eds.ner import NERAnnotator\n",
    "from pymedext_eds.norm import NERNormalizer, FeedDictionnary, NormPhenoLev, NormPhenoDTW, NormPhenoCat"
   ]
  },
  {
   "cell_type": "markdown",
   "metadata": {},
   "source": [
    "## 1. Init previous elements of pipeline"
   ]
  },
  {
   "cell_type": "code",
   "execution_count": 6,
   "metadata": {},
   "outputs": [],
   "source": [
    "endlines = Endlines(['raw_text'], 'clean_text', 'endlines:v1')\n",
    "sentences = SentenceTokenizer(['clean_text'], 'sentence', 'sentenceTokenizer:v1')\n",
    "sections = SectionSplitter(['clean_text'], \"section\", ID= 'sections')\n",
    "hypothesis = Hypothesis(['sentence'], 'hypothesis', 'hypothesis:v1')\n",
    "family = ATCDFamille(['sentence'], 'context', 'ATCDfamily:v1')\n",
    "syntagmes = SyntagmeTokenizer(['sentence'], 'syntagme', 'SyntagmeTokenizer:v1')\n",
    "negation = Negation(['syntagme'], 'negation', 'Negation:v1')\n",
    "regex = RegexMatcher(['clean_text','syntagme'], 'regex', 'RegexMatcher:v1', 'list_regexp.json')"
   ]
  },
  {
   "cell_type": "markdown",
   "metadata": {},
   "source": [
    "sosy|T184|Sign or Symptom  \n",
    "\n",
    "\n",
    "dsyn|T047|Disease or Syndrome  \n",
    "neop|T191|Neoplastic Process  \n",
    "comd|T049|Cell or Molecular Dysfunction  \n",
    "mobd|T048|Mental or Behavioral Dysfunction   \n",
    "patf|T046|Pathologic Function  \n",
    "anab|T190|Anatomical Abnormality  \n",
    "cgab|T019|Congenital Abnormality  \n",
    "acab|T020|Acquired Abnormality  \n",
    "inpo|T037|Injury or Poisoning  \n",
    "\n",
    "diap|T060|Diagnostic Procedure  \n",
    "lbpr|T059|Laboratory Procedure  \n",
    "lbtr|T034|Laboratory or Test Result  \n",
    "\n",
    "topp|T061|Therapeutic or Preventive Procedure  \n"
   ]
  },
  {
   "cell_type": "code",
   "execution_count": 7,
   "metadata": {},
   "outputs": [],
   "source": [
    "#                                    accepted_semtypes = {'T184', 'T047', 'T191', 'T049', 'T048', 'T046', 'T190', 'T019', 'T020', 'T037','T060',  'T059', 'T034', 'T061'},\n"
   ]
  },
  {
   "cell_type": "code",
   "execution_count": 8,
   "metadata": {},
   "outputs": [],
   "source": [
    "quick_umls_th = 0.9\n",
    "quick_umls_dist = \"score\"\n",
    "\n",
    "umls_syntagme = QuickUMLSAnnotator(['syntagme'], 'umls_syntagme', 'QuickUMLS:2020AA', \n",
    "                                   quickumls_fp='data/umls2_UL/',\n",
    "                                   overlapping_criteria=quick_umls_dist,\n",
    "                                   threshold=quick_umls_th,\n",
    "                                   similarity_name='jaccard',\n",
    "                                   accepted_semtypes = {'T184', 'T047', 'T191', 'T049', 'T048', 'T046', 'T190', 'T019', 'T020', 'T037'},\n",
    "                                   window=5)\n",
    "\n",
    "umls_signs = QuickUMLSAnnotator(['ENT/SIGNS'], 'umls_signs', 'QuickUMLS:2020AA', \n",
    "                                quickumls_fp='data/umls2_UL/',\n",
    "                                overlapping_criteria=quick_umls_dist,\n",
    "                                threshold=quick_umls_th,\n",
    "                                similarity_name='jaccard',\n",
    "                                accepted_semtypes = {'T184'},\n",
    "                                window=5)\n",
    "\n",
    "umls_diag_proc = QuickUMLSAnnotator(['ENT/DIAG_PROC'], 'umls_diag_proc', 'QuickUMLS:2020AA', \n",
    "                                quickumls_fp='data/umls2_UL/',\n",
    "                                overlapping_criteria=quick_umls_dist,\n",
    "                                threshold=quick_umls_th,\n",
    "                                similarity_name='jaccard',\n",
    "                                accepted_semtypes = {'T060', 'T059', 'T034'},\n",
    "                                window=5)\n",
    "\n",
    "umls_diag_name = QuickUMLSAnnotator(['ENT/DIAG_NAME'], 'umls_diag_name', 'QuickUMLS:2020AA', \n",
    "                                quickumls_fp='data/umls2_UL/',\n",
    "                                overlapping_criteria=quick_umls_dist,\n",
    "                                threshold=quick_umls_th,\n",
    "                                similarity_name='jaccard',\n",
    "                                accepted_semtypes = {'T047', 'T191', 'T049', 'T048', 'T046', 'T190', 'T019', 'T020', 'T037'},\n",
    "                                window=5)\n",
    "\n",
    "umls_therap = QuickUMLSAnnotator(['ENT/THERAP_PROC'], 'umls_therap', 'QuickUMLS:2020AA', \n",
    "                                quickumls_fp='data/umls2_UL/',\n",
    "                                overlapping_criteria=quick_umls_dist,\n",
    "                                threshold=quick_umls_th,\n",
    "                                similarity_name='jaccard',\n",
    "                                accepted_semtypes = {'T061'},\n",
    "                                window=5)\n"
   ]
  },
  {
   "cell_type": "code",
   "execution_count": 9,
   "metadata": {},
   "outputs": [
    {
     "name": "stdout",
     "output_type": "stream",
     "text": [
      "2021-06-10 13:55:24,579 loading file data/models/apcner_deid/entities_7/best-model.pt\n"
     ]
    }
   ],
   "source": [
    "models_param = [{'tagger_path':'data/models/apcner_deid/entities_7/best-model.pt' ,\n",
    "                  'store_embedding':True,\n",
    "                'tag_name': 'pheno_pred' }]\n",
    "\n",
    "ner = NERAnnotator(['sentence'], 'ner', ID='med:v2', models_param=models_param,  device='cuda:1', reduce_embedding='concat', mini_batch_size=128)"
   ]
  },
  {
   "cell_type": "markdown",
   "metadata": {},
   "source": [
    "## 2. Init feeddictionnay to build embedding dictionnary"
   ]
  },
  {
   "cell_type": "code",
   "execution_count": null,
   "metadata": {},
   "outputs": [],
   "source": [
    "dico_umls_exact_match = FeedDictionnary(['ENT/SIGNS','ENT/DIAG_NAME'],\n",
    "                                        'feed_dictionnary_quick_umls',\n",
    "                                        ID = 'fd_concat:v1',\n",
    "                                        path_dict='data/emb_dict_concat_v4.h5py',\n",
    "                                        threshold=1)"
   ]
  },
  {
   "cell_type": "code",
   "execution_count": null,
   "metadata": {},
   "outputs": [],
   "source": [
    "feed_dic_pipeline = [endlines, sections, sentences, ner, dico_umls_exact_match]"
   ]
  },
  {
   "cell_type": "code",
   "execution_count": 10,
   "metadata": {},
   "outputs": [],
   "source": [
    "from glob import glob\n",
    "import random"
   ]
  },
  {
   "cell_type": "markdown",
   "metadata": {},
   "source": [
    "### 2.A Create embedding dictionnary on large corpus of texts"
   ]
  },
  {
   "cell_type": "code",
   "execution_count": null,
   "metadata": {},
   "outputs": [],
   "source": [
    "count = 0\n",
    "subdirs = glob(\"../../../../marc/Data/CiliTALexport/*\")\n",
    "for subdir in random.sample(subdirs, len(subdirs)):\n",
    "    paths = glob(subdir + \"/*.json\")\n",
    "    \n",
    "    for json_path in tqdm(random.sample(paths, len(paths))):\n",
    "        try:\n",
    "\n",
    "            with open(json_path) as h:\n",
    "                doc = json.load(h)\n",
    "\n",
    "            if doc['DOCUMENT_ORIGIN_CODE'] == 'ORBIS':\n",
    "                continue\n",
    "\n",
    "            doc = Document(\n",
    "                    raw_text = doc['DISPLAYED_TEXT'],\n",
    "                    ID = doc['DOCUMENT_NUM'],\n",
    "                    attributes = {'person_id': doc['PATIENT_NUM']}\n",
    "                )\n",
    "            \n",
    "            try:\n",
    "                doc.annotate(feed_dic_pipeline)\n",
    "                count += 1\n",
    "            except:\n",
    "                print(\"Annotation error\", doc.source_ID)\n",
    "        except:\n",
    "            print(\"Load error\", json_path)\n",
    "\n",
    "\n",
    "\n",
    "print(count)"
   ]
  },
  {
   "cell_type": "code",
   "execution_count": 14,
   "metadata": {},
   "outputs": [
    {
     "name": "stdout",
     "output_type": "stream",
     "text": [
      "2102722\n"
     ]
    }
   ],
   "source": [
    "print(count)"
   ]
  },
  {
   "cell_type": "markdown",
   "metadata": {},
   "source": [
    "with open(\"../data/export_mincil_pheno_loc.v1.json\") as h:\n",
    "    docs = json.load(h)\n",
    "\n",
    "docs = [Document(\n",
    "        raw_text = x['ano_text'],\n",
    "        ID = x['document_num'],\n",
    "        attributes = {'person_id': x['patient_num']}\n",
    "    ) for x in docs]\n",
    "\n",
    "for doc in tqdm(docs[:]):\n",
    "    try:\n",
    "        doc.annotate(feed_dic_pipeline)\n",
    "    except:\n",
    "        print(doc.source_ID)\n",
    "    del doc"
   ]
  },
  {
   "cell_type": "markdown",
   "metadata": {},
   "source": [
    "### 2.B Add UMLS synonyms to dictionnary"
   ]
  },
  {
   "cell_type": "code",
   "execution_count": 11,
   "metadata": {},
   "outputs": [],
   "source": [
    "from flair.data import Sentence\n",
    "import numpy as np\n",
    "import h5py"
   ]
  },
  {
   "cell_type": "code",
   "execution_count": 60,
   "metadata": {},
   "outputs": [],
   "source": [
    "target_tui = {'T184', 'T047', 'T191', 'T049', 'T048', 'T046', 'T190', 'T019', 'T020', 'T037'}\n",
    "\n",
    "conso_head = pd.read_csv('data/umls2_UL/mrconso_headers.csv', header=None)\n",
    "conso_head = conso_head.iloc[:,0].tolist()\n",
    "mrconso = pd.read_csv('data/umls2_UL/MRCONSO.RRF', header=None, names=conso_head+[''], sep=\"|\")\n",
    "\n",
    "sty_head = pd.read_csv('data/umls2_UL/mrsty_headers.csv', header=None)\n",
    "sty_head = sty_head.iloc[:,0].tolist()\n",
    "sty = pd.read_csv('data/umls2_UL/MRSTY.RRF', header=None, names=sty_head+[''],  sep=\"|\")\n",
    "\n",
    "mrconso = mrconso.loc[mrconso.LAT==\"FRE\"]\n",
    "\n",
    "tagger = ner.model_zoo[0][1]"
   ]
  },
  {
   "cell_type": "code",
   "execution_count": 62,
   "metadata": {},
   "outputs": [
    {
     "data": {
      "text/plain": [
       "(97092, 19)"
      ]
     },
     "execution_count": 62,
     "metadata": {},
     "output_type": "execute_result"
    }
   ],
   "source": [
    "mrconso.loc[mrconso.CUI.isin(sty.loc[sty.TUI.isin(target_tui), \"CUI\"].tolist())].shape"
   ]
  },
  {
   "cell_type": "code",
   "execution_count": 33,
   "metadata": {},
   "outputs": [
    {
     "name": "stderr",
     "output_type": "stream",
     "text": [
      "97092it [20:29, 78.98it/s]\n"
     ]
    }
   ],
   "source": [
    "mode = \"cat\"\n",
    "\n",
    "hf = h5py.File('data/emb_dict_concat_v4.h5py', 'a')\n",
    "\n",
    "for i, row in tqdm(mrconso.loc[mrconso.CUI.isin(sty.loc[sty.TUI.isin(target_tui), \"CUI\"].tolist())].iterrows()):\n",
    "    tmp = Sentence(row.STR)\n",
    "    tagger.embeddings.embed(tmp)\n",
    "    \n",
    "    \n",
    "\n",
    "    if mode == \"mean\":\n",
    "        emb = np.concatenate([tok._embeddings['0-transformer-word-data/embeddings/bert-base-medical-huge-cased/checkpoint-800000/'].cpu().numpy().reshape(1, -1) \\\n",
    "                              for tok in tmp], 0).mean(axis=0).reshape(1, -1)\n",
    "\n",
    "    elif mode == \"cat\":\n",
    "        emb = np.concatenate([tok._embeddings['0-transformer-word-data/embeddings/bert-base-medical-huge-cased/checkpoint-800000/'].cpu().numpy().reshape(1, -1) \\\n",
    "                              for tok in tmp], 0)\n",
    "        \n",
    "    if emb.shape[1] != 3072:\n",
    "        continue\n",
    "    groupname = row.CUI+\"/\" + \"_\".join(row.STR.split('/'))\n",
    "\n",
    "    if groupname in hf:\n",
    "        group = hf.get(groupname)\n",
    "    else:\n",
    "        group = hf.create_group(groupname)\n",
    "\n",
    "    group.create_dataset(row.AUI, data = emb)\n",
    "\n",
    "\n",
    "hf.close()\n",
    "\n",
    "del mrconso\n",
    "del sty\n",
    "del hf"
   ]
  },
  {
   "cell_type": "code",
   "execution_count": null,
   "metadata": {},
   "outputs": [],
   "source": []
  },
  {
   "cell_type": "markdown",
   "metadata": {},
   "source": [
    "### 3. Load embedding dictionnary normalizer"
   ]
  },
  {
   "cell_type": "code",
   "execution_count": 10,
   "metadata": {},
   "outputs": [
    {
     "name": "stdout",
     "output_type": "stream",
     "text": [
      "CPU times: user 564 ms, sys: 40 ms, total: 604 ms\n",
      "Wall time: 603 ms\n"
     ]
    }
   ],
   "source": [
    "%%time\n",
    "norm_pheno_lev = NormPhenoLev(['ENT/SIGNS','ENT/DIAG_NAME'],\n",
    "                              'lev_norm',\n",
    "                              ID='pheno_dic:v4',\n",
    "                              path_dict='data/emb_dict_concat_v4.h5py',\n",
    "                              make_code = False,\n",
    "                              pca_dim= 32,\n",
    "                              code_base = 8,\n",
    "                              best_code_size= 4,\n",
    "                              max_editdistance = 0.5)"
   ]
  },
  {
   "cell_type": "code",
   "execution_count": 11,
   "metadata": {},
   "outputs": [
    {
     "data": {
      "text/plain": [
       "280661"
      ]
     },
     "execution_count": 11,
     "metadata": {},
     "output_type": "execute_result"
    }
   ],
   "source": [
    "len(norm_pheno_lev.dict_label)"
   ]
  },
  {
   "cell_type": "code",
   "execution_count": 12,
   "metadata": {},
   "outputs": [
    {
     "name": "stdout",
     "output_type": "stream",
     "text": [
      "CPU times: user 1.79 s, sys: 8.08 ms, total: 1.8 s\n",
      "Wall time: 1.79 s\n"
     ]
    },
    {
     "data": {
      "text/plain": [
       "'ABDOMEN AIGU'"
      ]
     },
     "execution_count": 12,
     "metadata": {},
     "output_type": "execute_result"
    }
   ],
   "source": [
    "%%time\n",
    "norm_pheno_lev.get_closest_match(norm_pheno_lev.dict_label[0]['seq'])['label']"
   ]
  },
  {
   "cell_type": "code",
   "execution_count": 13,
   "metadata": {},
   "outputs": [
    {
     "name": "stdout",
     "output_type": "stream",
     "text": [
      "CPU times: user 130 ms, sys: 24.3 ms, total: 154 ms\n",
      "Wall time: 154 ms\n"
     ]
    }
   ],
   "source": [
    "%%time\n",
    "norm_pheno_lev_nu = NormPhenoLev(['ENT/SIGNS','ENT/DIAG_NAME'],\n",
    "                              'lev_norm_nu',\n",
    "                              ID='pheno_dic:v5',\n",
    "                              path_dict='data/emb_dict_concat_v4_noumls.h5py',\n",
    "                              make_code = False,\n",
    "                              pca_dim= 32,\n",
    "                              code_base = 8,\n",
    "                              best_code_size= 4,\n",
    "                              max_editdistance = 0.5)"
   ]
  },
  {
   "cell_type": "code",
   "execution_count": 14,
   "metadata": {},
   "outputs": [
    {
     "name": "stdout",
     "output_type": "stream",
     "text": [
      "CPU times: user 737 ms, sys: 361 ms, total: 1.1 s\n",
      "Wall time: 1.1 s\n"
     ]
    }
   ],
   "source": [
    "%%time\n",
    "norm_pheno_dtw = NormPhenoDTW(['ENT/SIGNS','ENT/DIAG_NAME'],\n",
    "                              'dtw_norm',\n",
    "                              ID='pheno_dic:v6',\n",
    "                              path_dict='data/emb_dict_concat_v4.h5py',\n",
    "                              make_code = False,\n",
    "                              pca_dim= 256,\n",
    "                              dtw_window= 5,\n",
    "                              max_editdistance = 100)"
   ]
  },
  {
   "cell_type": "code",
   "execution_count": 15,
   "metadata": {},
   "outputs": [
    {
     "name": "stdout",
     "output_type": "stream",
     "text": [
      "CPU times: user 3.46 s, sys: 163 ms, total: 3.62 s\n",
      "Wall time: 3.61 s\n"
     ]
    },
    {
     "data": {
      "text/plain": [
       "'ABDOMEN AIGU'"
      ]
     },
     "execution_count": 15,
     "metadata": {},
     "output_type": "execute_result"
    }
   ],
   "source": [
    "%%time\n",
    "norm_pheno_dtw.get_closest_match(norm_pheno_dtw.dict_label[0]['seq'])['label']"
   ]
  },
  {
   "cell_type": "code",
   "execution_count": 16,
   "metadata": {},
   "outputs": [
    {
     "data": {
      "text/plain": [
       "420068"
      ]
     },
     "execution_count": 16,
     "metadata": {},
     "output_type": "execute_result"
    }
   ],
   "source": [
    "len(norm_pheno_dtw.dict_label)"
   ]
  },
  {
   "cell_type": "code",
   "execution_count": 17,
   "metadata": {},
   "outputs": [
    {
     "name": "stdout",
     "output_type": "stream",
     "text": [
      "CPU times: user 489 ms, sys: 312 ms, total: 801 ms\n",
      "Wall time: 800 ms\n"
     ]
    }
   ],
   "source": [
    "%%time\n",
    "norm_pheno_dtw_nu = NormPhenoDTW(['ENT/SIGNS','ENT/DIAG_NAME'],\n",
    "                              'dtw_norm_nu',\n",
    "                              ID='pheno_dic:v7',\n",
    "                              path_dict='data/emb_dict_concat_v4_noumls.h5py',\n",
    "                              make_code = False,\n",
    "                              pca_dim= 256,\n",
    "                              dtw_window= 5,\n",
    "                              max_editdistance = 100)"
   ]
  },
  {
   "cell_type": "code",
   "execution_count": 18,
   "metadata": {},
   "outputs": [
    {
     "name": "stdout",
     "output_type": "stream",
     "text": [
      "CPU times: user 2.61 s, sys: 84.1 ms, total: 2.69 s\n",
      "Wall time: 2.69 s\n"
     ]
    },
    {
     "data": {
      "text/plain": [
       "'diverticulose'"
      ]
     },
     "execution_count": 18,
     "metadata": {},
     "output_type": "execute_result"
    }
   ],
   "source": [
    "%%time\n",
    "norm_pheno_dtw_nu.get_closest_match(norm_pheno_dtw.dict_label[0]['seq'])['label']"
   ]
  },
  {
   "cell_type": "code",
   "execution_count": 19,
   "metadata": {},
   "outputs": [
    {
     "data": {
      "text/plain": [
       "322976"
      ]
     },
     "execution_count": 19,
     "metadata": {},
     "output_type": "execute_result"
    }
   ],
   "source": [
    "len(norm_pheno_dtw_nu.dict_label)"
   ]
  },
  {
   "cell_type": "code",
   "execution_count": 139,
   "metadata": {},
   "outputs": [
    {
     "name": "stderr",
     "output_type": "stream",
     "text": [
      "100%|██████████| 43203/43203 [01:49<00:00, 393.17it/s] \n"
     ]
    },
    {
     "name": "stdout",
     "output_type": "stream",
     "text": [
      "Fit PCA\n",
      "Get rid of duplicates\n",
      "Old size:420068\n",
      "New size:365692\n",
      "CPU times: user 8min 46s, sys: 18.1 s, total: 9min 5s\n",
      "Wall time: 6min 59s\n"
     ]
    }
   ],
   "source": [
    "%%time\n",
    "norm_pheno_cat= NormPhenoCat(['ENT/SIGNS','ENT/DIAG_NAME'],\n",
    "                              'cat_norm',\n",
    "                              ID='pheno_dic:v8',\n",
    "                              path_dict='data/emb_dict_concat_v4.h5py',\n",
    "                              make_code = True,\n",
    "                              pca_dim = 256,\n",
    "                              k_neighboors = 1,\n",
    "                              max_distance = 0.5,\n",
    "                              emb_dim = 3072)"
   ]
  },
  {
   "cell_type": "code",
   "execution_count": 140,
   "metadata": {},
   "outputs": [
    {
     "name": "stdout",
     "output_type": "stream",
     "text": [
      "58.1 ms ± 114 µs per loop (mean ± std. dev. of 7 runs, 2 loops each)\n"
     ]
    }
   ],
   "source": [
    "%%timeit -n 2\n",
    "norm_pheno_cat.get_closest_match(norm_pheno_cat.dict_label[0]['seq'].reshape(1, -1))['label']"
   ]
  },
  {
   "cell_type": "code",
   "execution_count": 141,
   "metadata": {},
   "outputs": [
    {
     "data": {
      "text/plain": [
       "365692"
      ]
     },
     "execution_count": 141,
     "metadata": {},
     "output_type": "execute_result"
    }
   ],
   "source": [
    "len(norm_pheno_cat.dict_label)"
   ]
  },
  {
   "cell_type": "code",
   "execution_count": 125,
   "metadata": {},
   "outputs": [
    {
     "name": "stderr",
     "output_type": "stream",
     "text": [
      "100%|██████████| 43203/43203 [01:49<00:00, 393.19it/s] \n"
     ]
    },
    {
     "name": "stdout",
     "output_type": "stream",
     "text": [
      "Fit PCA\n",
      "Get rid of duplicates\n",
      "Old size:420068\n",
      "New size:365692\n",
      "CPU times: user 9min 41s, sys: 23.9 s, total: 10min 5s\n",
      "Wall time: 7min 38s\n"
     ]
    }
   ],
   "source": [
    "%%time\n",
    "norm_pheno_cat_nu= NormPhenoCat(['ENT/SIGNS','ENT/DIAG_NAME'],\n",
    "                              'cat_norm_nu',\n",
    "                              ID='pheno_dic:v9',\n",
    "                              path_dict='data/emb_dict_concat_v4.h5py',\n",
    "                              make_code = True,\n",
    "                              pca_dim = 1024,\n",
    "                              k_neighboors = 1,\n",
    "                              max_distance = 0.5,\n",
    "                              emb_dim = 3072)"
   ]
  },
  {
   "cell_type": "code",
   "execution_count": 126,
   "metadata": {},
   "outputs": [
    {
     "name": "stdout",
     "output_type": "stream",
     "text": [
      "234 ms ± 613 µs per loop (mean ± std. dev. of 7 runs, 2 loops each)\n"
     ]
    }
   ],
   "source": [
    "%%timeit -n 2\n",
    "norm_pheno_cat_nu.get_closest_match(norm_pheno_cat_nu.dict_label[0]['seq'].reshape(1, -1))['label']"
   ]
  },
  {
   "cell_type": "code",
   "execution_count": 127,
   "metadata": {},
   "outputs": [
    {
     "data": {
      "text/plain": [
       "365692"
      ]
     },
     "execution_count": 127,
     "metadata": {},
     "output_type": "execute_result"
    }
   ],
   "source": [
    "len(norm_pheno_cat_nu.dict_label)"
   ]
  },
  {
   "cell_type": "markdown",
   "metadata": {},
   "source": [
    "## 4. Compare methods"
   ]
  },
  {
   "cell_type": "code",
   "execution_count": 26,
   "metadata": {},
   "outputs": [],
   "source": [
    "from pymedext_eds.extract.corpus_generation_tools import brat_norm_to_pdf"
   ]
  },
  {
   "cell_type": "code",
   "execution_count": 27,
   "metadata": {},
   "outputs": [],
   "source": [
    "import numpy as np"
   ]
  },
  {
   "cell_type": "code",
   "execution_count": 43,
   "metadata": {},
   "outputs": [],
   "source": [
    "def pymedext_to_pdf(doc, key):\n",
    "    \"\"\"Transform pymedext annotations to pandas dataframe\"\"\"\n",
    "    columns = [\"doc_id\", \"mention\", \"start\", \"stop\", \"cui\", \"label\"]\n",
    "    lines = [(doc.source_ID, t.value, int(t.span[0]), int(t.span[1]), t.attributes[\"cui\"], t.attributes[\"label\"]) \\\n",
    "             for t in doc.get_annotations(key)]\n",
    "    \n",
    "    df = pd.DataFrame(lines if lines else {k: [] for k in columns}, \n",
    "                      columns = columns\n",
    "                     )  \n",
    "    df['start'] = df['start'].astype('int')\n",
    "    df['stop'] = df['stop'].astype('int')\n",
    "    return df"
   ]
  },
  {
   "cell_type": "code",
   "execution_count": 48,
   "metadata": {},
   "outputs": [],
   "source": [
    "from sklearn.metrics import accuracy_score, confusion_matrix, f1_score, recall_score, precision_score"
   ]
  },
  {
   "cell_type": "code",
   "execution_count": 49,
   "metadata": {},
   "outputs": [],
   "source": [
    "def compute_metrics(gold, pred, label = \"\"):\n",
    "    tp, fn, fp, tn = confusion_matrix(gold, pred).ravel()\n",
    "    acc = accuracy_score(gold, pred)\n",
    "    f1= f1_score(gold, pred, average=\"binary\")\n",
    "    r = recall_score(gold, pred, average=\"binary\")\n",
    "    p = precision_score(gold, pred, average=\"binary\")\n",
    "    \n",
    "    #reformat metrics\n",
    "    metrics = pd.DataFrame([[tp + fn, tp, fn, fp, r, p, f1, acc]],\n",
    "                           columns=['total_pos', \"TP\", \"FN\", \"FP\", \"Recall\", \"Precision\", \"F1\", \"Accuracy\"], index = [label])\n",
    "    return metrics"
   ]
  },
  {
   "cell_type": "code",
   "execution_count": 28,
   "metadata": {},
   "outputs": [],
   "source": [
    "pipeline_common = [endlines, sections, sentences, hypothesis, family, syntagmes, negation, regex, ner]\n",
    "pipe_compare = [\n",
    "            umls_syntagme,\n",
    "            umls_signs, umls_diag_proc, umls_diag_name, umls_therap\n",
    "]\n",
    "pipe_compare2 = [ norm_pheno_lev, norm_pheno_dtw, norm_pheno_cat, norm_pheno_lev_nu, norm_pheno_dtw_nu, norm_pheno_cat_nu]"
   ]
  },
  {
   "cell_type": "markdown",
   "metadata": {},
   "source": [
    "### 4.A NeckerNorm"
   ]
  },
  {
   "cell_type": "code",
   "execution_count": 29,
   "metadata": {},
   "outputs": [],
   "source": [
    "# data_path = pkg_resources.resource_filename('pymedext_eds', 'data/demo')\n",
    "file_list = glob(\"../data/NeckerNorm/CiliTalConfirm/*.txt\")"
   ]
  },
  {
   "cell_type": "code",
   "execution_count": 30,
   "metadata": {},
   "outputs": [],
   "source": [
    "docs = [rawtext_loader(x) for x in file_list]"
   ]
  },
  {
   "cell_type": "code",
   "execution_count": 31,
   "metadata": {},
   "outputs": [
    {
     "data": {
      "text/plain": [
       "['../data/NeckerNorm/CiliTalConfirm/0063_COMMUN_ORLTROUSSEAU_13624692484.txt',\n",
       " '../data/NeckerNorm/CiliTalConfirm/0056_COMMUN_NEPHRO_OLD_13736523315.txt',\n",
       " '../data/NeckerNorm/CiliTalConfirm/0028_COMMUN_CARDIO_113885141.txt']"
      ]
     },
     "execution_count": 31,
     "metadata": {},
     "output_type": "execute_result"
    }
   ],
   "source": [
    "file_list[:3]"
   ]
  },
  {
   "cell_type": "code",
   "execution_count": 32,
   "metadata": {},
   "outputs": [],
   "source": [
    "source_ids = [doc.source_ID for doc in docs]"
   ]
  },
  {
   "cell_type": "code",
   "execution_count": 33,
   "metadata": {},
   "outputs": [],
   "source": [
    "assert len(source_ids) == len(np.unique(source_ids))"
   ]
  },
  {
   "cell_type": "code",
   "execution_count": 34,
   "metadata": {},
   "outputs": [
    {
     "name": "stderr",
     "output_type": "stream",
     "text": [
      "Ignore 2 sentence(s) with no tokens.\n",
      "Ignore 1 sentence(s) with no tokens.\n",
      "Ignore 1 sentence(s) with no tokens.\n",
      "Ignore 1 sentence(s) with no tokens.\n",
      "Ignore 1 sentence(s) with no tokens.\n",
      "Ignore 1 sentence(s) with no tokens.\n",
      "Ignore 1 sentence(s) with no tokens.\n",
      "Ignore 1 sentence(s) with no tokens.\n",
      "Ignore 1 sentence(s) with no tokens.\n",
      "Ignore 1 sentence(s) with no tokens.\n"
     ]
    },
    {
     "name": "stdout",
     "output_type": "stream",
     "text": [
      "CPU times: user 16.9 s, sys: 616 ms, total: 17.5 s\n",
      "Wall time: 17.5 s\n"
     ]
    }
   ],
   "source": [
    "%%time\n",
    "for doc in docs:\n",
    "    doc.annotate(pipeline_common)"
   ]
  },
  {
   "cell_type": "code",
   "execution_count": 35,
   "metadata": {},
   "outputs": [
    {
     "name": "stdout",
     "output_type": "stream",
     "text": [
      "CPU times: user 52.5 s, sys: 115 ms, total: 52.6 s\n",
      "Wall time: 52.6 s\n"
     ]
    }
   ],
   "source": [
    "%%time\n",
    "for doc in docs:\n",
    "    doc.annotate(pipe_compare)"
   ]
  },
  {
   "cell_type": "code",
   "execution_count": 36,
   "metadata": {},
   "outputs": [
    {
     "name": "stderr",
     "output_type": "stream",
     "text": [
      "100%|██████████| 112/112 [04:11<00:00,  2.25s/it]"
     ]
    },
    {
     "name": "stdout",
     "output_type": "stream",
     "text": [
      "CPU times: user 1h 6min 2s, sys: 1min 8s, total: 1h 7min 11s\n",
      "Wall time: 4min 11s\n"
     ]
    },
    {
     "name": "stderr",
     "output_type": "stream",
     "text": [
      "\n"
     ]
    }
   ],
   "source": [
    "%%time\n",
    "for doc in tqdm(docs):\n",
    "    doc.annotate([norm_pheno_cat, norm_pheno_cat_nu])"
   ]
  },
  {
   "cell_type": "code",
   "execution_count": 37,
   "metadata": {},
   "outputs": [],
   "source": [
    "all_ann = brat_norm_to_pdf(\"../data/NeckerNorm/CiliTalConfirm/\")"
   ]
  },
  {
   "cell_type": "code",
   "execution_count": 38,
   "metadata": {},
   "outputs": [
    {
     "data": {
      "text/html": [
       "<div>\n",
       "<style scoped>\n",
       "    .dataframe tbody tr th:only-of-type {\n",
       "        vertical-align: middle;\n",
       "    }\n",
       "\n",
       "    .dataframe tbody tr th {\n",
       "        vertical-align: top;\n",
       "    }\n",
       "\n",
       "    .dataframe thead th {\n",
       "        text-align: right;\n",
       "    }\n",
       "</style>\n",
       "<table border=\"1\" class=\"dataframe\">\n",
       "  <thead>\n",
       "    <tr style=\"text-align: right;\">\n",
       "      <th></th>\n",
       "      <th>ent_type</th>\n",
       "      <th>start</th>\n",
       "      <th>stop</th>\n",
       "      <th>mention_ner</th>\n",
       "      <th>doc_id</th>\n",
       "      <th>ann_id</th>\n",
       "      <th>ent_id</th>\n",
       "      <th>termino</th>\n",
       "      <th>cui</th>\n",
       "      <th>mention_norm</th>\n",
       "    </tr>\n",
       "  </thead>\n",
       "  <tbody>\n",
       "    <tr>\n",
       "      <th>0</th>\n",
       "      <td>phenotype</td>\n",
       "      <td>1313</td>\n",
       "      <td>1327</td>\n",
       "      <td>deshydratation</td>\n",
       "      <td>13735351509</td>\n",
       "      <td>N1</td>\n",
       "      <td>T1</td>\n",
       "      <td>UMLS_ALL</td>\n",
       "      <td>C0011175</td>\n",
       "      <td>DESHYDRATATION</td>\n",
       "    </tr>\n",
       "    <tr>\n",
       "      <th>0</th>\n",
       "      <td>phenotype</td>\n",
       "      <td>1165</td>\n",
       "      <td>1214</td>\n",
       "      <td>Bruits du coeur reguliers sans souffle  surajoute</td>\n",
       "      <td>13736496216</td>\n",
       "      <td>N1</td>\n",
       "      <td>T1</td>\n",
       "      <td>UMLS_FR</td>\n",
       "      <td>C0577821</td>\n",
       "      <td>Bruits du coeur normaux</td>\n",
       "    </tr>\n",
       "    <tr>\n",
       "      <th>1</th>\n",
       "      <td>phenotype</td>\n",
       "      <td>775</td>\n",
       "      <td>791</td>\n",
       "      <td>Bon etat general</td>\n",
       "      <td>13736496216</td>\n",
       "      <td>N2</td>\n",
       "      <td>T2</td>\n",
       "      <td>UMLS_ALL</td>\n",
       "      <td>C2939150</td>\n",
       "      <td>General wellbeing (observable entity)</td>\n",
       "    </tr>\n",
       "    <tr>\n",
       "      <th>2</th>\n",
       "      <td>phenotype</td>\n",
       "      <td>1217</td>\n",
       "      <td>1236</td>\n",
       "      <td>Lesions  au  visage</td>\n",
       "      <td>13736496216</td>\n",
       "      <td>N3</td>\n",
       "      <td>T3</td>\n",
       "      <td>UMLS_ALL</td>\n",
       "      <td>C3263723</td>\n",
       "      <td>injury</td>\n",
       "    </tr>\n",
       "    <tr>\n",
       "      <th>3</th>\n",
       "      <td>phenotype</td>\n",
       "      <td>1291</td>\n",
       "      <td>1323</td>\n",
       "      <td>auscultation  pulmonaire normale</td>\n",
       "      <td>13736496216</td>\n",
       "      <td>N4</td>\n",
       "      <td>T4</td>\n",
       "      <td>UMLS_ALL</td>\n",
       "      <td>C0231855</td>\n",
       "      <td>Bruits respiratoires normaux</td>\n",
       "    </tr>\n",
       "  </tbody>\n",
       "</table>\n",
       "</div>"
      ],
      "text/plain": [
       "    ent_type start  stop                                        mention_ner  \\\n",
       "0  phenotype  1313  1327                                     deshydratation   \n",
       "0  phenotype  1165  1214  Bruits du coeur reguliers sans souffle  surajoute   \n",
       "1  phenotype   775   791                                   Bon etat general   \n",
       "2  phenotype  1217  1236                                Lesions  au  visage   \n",
       "3  phenotype  1291  1323                   auscultation  pulmonaire normale   \n",
       "\n",
       "        doc_id ann_id ent_id   termino       cui  \\\n",
       "0  13735351509     N1     T1  UMLS_ALL  C0011175   \n",
       "0  13736496216     N1     T1   UMLS_FR  C0577821   \n",
       "1  13736496216     N2     T2  UMLS_ALL  C2939150   \n",
       "2  13736496216     N3     T3  UMLS_ALL  C3263723   \n",
       "3  13736496216     N4     T4  UMLS_ALL  C0231855   \n",
       "\n",
       "                            mention_norm  \n",
       "0                         DESHYDRATATION  \n",
       "0                Bruits du coeur normaux  \n",
       "1  General wellbeing (observable entity)  \n",
       "2                                 injury  \n",
       "3           Bruits respiratoires normaux  "
      ]
     },
     "execution_count": 38,
     "metadata": {},
     "output_type": "execute_result"
    }
   ],
   "source": [
    "all_ann.head()"
   ]
  },
  {
   "cell_type": "code",
   "execution_count": 39,
   "metadata": {},
   "outputs": [],
   "source": [
    "all_ann = all_ann.loc[lambda x:x.ent_type.isin([\"phenotype\"])]"
   ]
  },
  {
   "cell_type": "code",
   "execution_count": 40,
   "metadata": {},
   "outputs": [
    {
     "data": {
      "text/html": [
       "<div>\n",
       "<style scoped>\n",
       "    .dataframe tbody tr th:only-of-type {\n",
       "        vertical-align: middle;\n",
       "    }\n",
       "\n",
       "    .dataframe tbody tr th {\n",
       "        vertical-align: top;\n",
       "    }\n",
       "\n",
       "    .dataframe thead th {\n",
       "        text-align: right;\n",
       "    }\n",
       "</style>\n",
       "<table border=\"1\" class=\"dataframe\">\n",
       "  <thead>\n",
       "    <tr style=\"text-align: right;\">\n",
       "      <th></th>\n",
       "      <th>n_annotated</th>\n",
       "      <th>n_CUI</th>\n",
       "    </tr>\n",
       "    <tr>\n",
       "      <th>is_annotated</th>\n",
       "      <th></th>\n",
       "      <th></th>\n",
       "    </tr>\n",
       "  </thead>\n",
       "  <tbody>\n",
       "    <tr>\n",
       "      <th>False</th>\n",
       "      <td>1</td>\n",
       "      <td>0</td>\n",
       "    </tr>\n",
       "    <tr>\n",
       "      <th>True</th>\n",
       "      <td>59</td>\n",
       "      <td>408</td>\n",
       "    </tr>\n",
       "  </tbody>\n",
       "</table>\n",
       "</div>"
      ],
      "text/plain": [
       "              n_annotated  n_CUI\n",
       "is_annotated                    \n",
       "False                   1      0\n",
       "True                   59    408"
      ]
     },
     "execution_count": 40,
     "metadata": {},
     "output_type": "execute_result"
    }
   ],
   "source": [
    "(all_ann\n",
    " .assign(has_norm = lambda x:x.cui.notnull())\n",
    " .groupby(['doc_id'])['has_norm']\n",
    " .aggregate([('is_annotated', any), ('n_CUI', sum)])\n",
    " .groupby(['is_annotated'])['n_CUI']\n",
    " .aggregate([('n_annotated', len), ('n_CUI', sum)])\n",
    "\n",
    ")"
   ]
  },
  {
   "cell_type": "code",
   "execution_count": 41,
   "metadata": {},
   "outputs": [
    {
     "data": {
      "text/html": [
       "<div>\n",
       "<style scoped>\n",
       "    .dataframe tbody tr th:only-of-type {\n",
       "        vertical-align: middle;\n",
       "    }\n",
       "\n",
       "    .dataframe tbody tr th {\n",
       "        vertical-align: top;\n",
       "    }\n",
       "\n",
       "    .dataframe thead th {\n",
       "        text-align: right;\n",
       "    }\n",
       "</style>\n",
       "<table border=\"1\" class=\"dataframe\">\n",
       "  <thead>\n",
       "    <tr style=\"text-align: right;\">\n",
       "      <th></th>\n",
       "      <th>With CUI</th>\n",
       "      <th>Total</th>\n",
       "      <th>freq</th>\n",
       "    </tr>\n",
       "    <tr>\n",
       "      <th>ent_type</th>\n",
       "      <th></th>\n",
       "      <th></th>\n",
       "      <th></th>\n",
       "    </tr>\n",
       "  </thead>\n",
       "  <tbody>\n",
       "    <tr>\n",
       "      <th>phenotype</th>\n",
       "      <td>408</td>\n",
       "      <td>459</td>\n",
       "      <td>0.89</td>\n",
       "    </tr>\n",
       "  </tbody>\n",
       "</table>\n",
       "</div>"
      ],
      "text/plain": [
       "           With CUI  Total  freq\n",
       "ent_type                        \n",
       "phenotype       408    459  0.89"
      ]
     },
     "execution_count": 41,
     "metadata": {},
     "output_type": "execute_result"
    }
   ],
   "source": [
    "(all_ann.assign(has_norm = lambda x:x.cui.notnull())\n",
    " .groupby(['ent_type'])['has_norm']\n",
    " .aggregate([('With CUI', sum), ('Total', len), ('freq', lambda x: round(sum(x)/len(x) ,2))])\n",
    ")"
   ]
  },
  {
   "cell_type": "code",
   "execution_count": 42,
   "metadata": {},
   "outputs": [],
   "source": [
    "all_ann = all_ann.loc[lambda x:x.cui.notnull()].assign(mod = \"manual\").assign(start = lambda x:x.start.astype('int')).assign(stop = lambda x:x.stop.astype('int'))"
   ]
  },
  {
   "cell_type": "code",
   "execution_count": 45,
   "metadata": {},
   "outputs": [],
   "source": [
    "ner_acc = []\n",
    "syn_acc = []\n",
    "lev_acc = []\n",
    "dtw_acc = []\n",
    "cat_acc = []\n",
    "catnu_acc = []\n",
    "\n",
    "for doc in docs[:10]:\n",
    "    syn_acc.append(pymedext_to_pdf(doc, 'umls_syntagme'))\n",
    "    ner_acc.append(pymedext_to_pdf(doc, 'umls_diag_name'))\n",
    "    ner_acc.append(pymedext_to_pdf(doc, 'umls_signs'))\n",
    "#    lev_acc.append(pymedext_to_pdf(doc, 'lev_norm'))\n",
    "#    dtw_acc.append(pymedext_to_pdf(doc, 'dtw_norm'))\n",
    "    cat_acc.append(pymedext_to_pdf(doc, 'cat_norm'))\n",
    "    catnu_acc.append(pymedext_to_pdf(doc, 'cat_norm_nu'))\n",
    "\n",
    "ner_acc = pd.concat(ner_acc).assign(mod = \"ner\")\n",
    "syn_acc = pd.concat(syn_acc).assign(mod = \"syn\")\n",
    "\n",
    "#dtw_acc = pd.concat(dtw_acc).assign(mod = \"dtw\")\n",
    "#lev_acc = pd.concat(lev_acc).assign(mod = \"lev\")\n",
    "cat_acc = pd.concat(cat_acc).assign(mod = \"cat\")\n",
    "catnu_acc = pd.concat(catnu_acc).assign(mod = \"catnu\")\n"
   ]
  },
  {
   "cell_type": "code",
   "execution_count": 46,
   "metadata": {},
   "outputs": [
    {
     "data": {
      "text/html": [
       "<div>\n",
       "<style scoped>\n",
       "    .dataframe tbody tr th:only-of-type {\n",
       "        vertical-align: middle;\n",
       "    }\n",
       "\n",
       "    .dataframe tbody tr th {\n",
       "        vertical-align: top;\n",
       "    }\n",
       "\n",
       "    .dataframe thead th {\n",
       "        text-align: right;\n",
       "    }\n",
       "</style>\n",
       "<table border=\"1\" class=\"dataframe\">\n",
       "  <thead>\n",
       "    <tr style=\"text-align: right;\">\n",
       "      <th></th>\n",
       "      <th>doc_id</th>\n",
       "      <th>mention</th>\n",
       "      <th>start</th>\n",
       "      <th>stop</th>\n",
       "      <th>cui</th>\n",
       "      <th>label</th>\n",
       "      <th>mod</th>\n",
       "    </tr>\n",
       "  </thead>\n",
       "  <tbody>\n",
       "    <tr>\n",
       "      <th>0</th>\n",
       "      <td>13624692484</td>\n",
       "      <td>stenose</td>\n",
       "      <td>699</td>\n",
       "      <td>706</td>\n",
       "      <td>C1261287</td>\n",
       "      <td>stenose</td>\n",
       "      <td>ner</td>\n",
       "    </tr>\n",
       "    <tr>\n",
       "      <th>1</th>\n",
       "      <td>13624692484</td>\n",
       "      <td>collapsus</td>\n",
       "      <td>780</td>\n",
       "      <td>789</td>\n",
       "      <td>C0036974</td>\n",
       "      <td>collapsus</td>\n",
       "      <td>ner</td>\n",
       "    </tr>\n",
       "    <tr>\n",
       "      <th>2</th>\n",
       "      <td>13624692484</td>\n",
       "      <td>enterite a Rotavirus</td>\n",
       "      <td>1081</td>\n",
       "      <td>1101</td>\n",
       "      <td>C0347854</td>\n",
       "      <td>enterite a rotavirus</td>\n",
       "      <td>ner</td>\n",
       "    </tr>\n",
       "    <tr>\n",
       "      <th>3</th>\n",
       "      <td>13624692484</td>\n",
       "      <td>pneumopathie</td>\n",
       "      <td>1142</td>\n",
       "      <td>1154</td>\n",
       "      <td>C0024115</td>\n",
       "      <td>pneumopathie</td>\n",
       "      <td>ner</td>\n",
       "    </tr>\n",
       "    <tr>\n",
       "      <th>4</th>\n",
       "      <td>13624692484</td>\n",
       "      <td>erytheme</td>\n",
       "      <td>1589</td>\n",
       "      <td>1597</td>\n",
       "      <td>C0041834</td>\n",
       "      <td>erytheme</td>\n",
       "      <td>ner</td>\n",
       "    </tr>\n",
       "  </tbody>\n",
       "</table>\n",
       "</div>"
      ],
      "text/plain": [
       "        doc_id               mention  start  stop       cui  \\\n",
       "0  13624692484               stenose    699   706  C1261287   \n",
       "1  13624692484             collapsus    780   789  C0036974   \n",
       "2  13624692484  enterite a Rotavirus   1081  1101  C0347854   \n",
       "3  13624692484          pneumopathie   1142  1154  C0024115   \n",
       "4  13624692484              erytheme   1589  1597  C0041834   \n",
       "\n",
       "                  label  mod  \n",
       "0               stenose  ner  \n",
       "1             collapsus  ner  \n",
       "2  enterite a rotavirus  ner  \n",
       "3          pneumopathie  ner  \n",
       "4              erytheme  ner  "
      ]
     },
     "execution_count": 46,
     "metadata": {},
     "output_type": "execute_result"
    }
   ],
   "source": [
    "ner_acc.head()"
   ]
  },
  {
   "cell_type": "code",
   "execution_count": 47,
   "metadata": {},
   "outputs": [
    {
     "data": {
      "text/html": [
       "<div>\n",
       "<style scoped>\n",
       "    .dataframe tbody tr th:only-of-type {\n",
       "        vertical-align: middle;\n",
       "    }\n",
       "\n",
       "    .dataframe tbody tr th {\n",
       "        vertical-align: top;\n",
       "    }\n",
       "\n",
       "    .dataframe thead th {\n",
       "        text-align: right;\n",
       "    }\n",
       "</style>\n",
       "<table border=\"1\" class=\"dataframe\">\n",
       "  <thead>\n",
       "    <tr style=\"text-align: right;\">\n",
       "      <th></th>\n",
       "      <th>ent_type</th>\n",
       "      <th>start</th>\n",
       "      <th>stop</th>\n",
       "      <th>mention_ner</th>\n",
       "      <th>doc_id</th>\n",
       "      <th>ann_id</th>\n",
       "      <th>ent_id</th>\n",
       "      <th>termino</th>\n",
       "      <th>cui</th>\n",
       "      <th>mention_norm</th>\n",
       "      <th>mod</th>\n",
       "    </tr>\n",
       "  </thead>\n",
       "  <tbody>\n",
       "    <tr>\n",
       "      <th>0</th>\n",
       "      <td>phenotype</td>\n",
       "      <td>1313</td>\n",
       "      <td>1327</td>\n",
       "      <td>deshydratation</td>\n",
       "      <td>13735351509</td>\n",
       "      <td>N1</td>\n",
       "      <td>T1</td>\n",
       "      <td>UMLS_ALL</td>\n",
       "      <td>C0011175</td>\n",
       "      <td>DESHYDRATATION</td>\n",
       "      <td>manual</td>\n",
       "    </tr>\n",
       "    <tr>\n",
       "      <th>0</th>\n",
       "      <td>phenotype</td>\n",
       "      <td>1165</td>\n",
       "      <td>1214</td>\n",
       "      <td>Bruits du coeur reguliers sans souffle  surajoute</td>\n",
       "      <td>13736496216</td>\n",
       "      <td>N1</td>\n",
       "      <td>T1</td>\n",
       "      <td>UMLS_FR</td>\n",
       "      <td>C0577821</td>\n",
       "      <td>Bruits du coeur normaux</td>\n",
       "      <td>manual</td>\n",
       "    </tr>\n",
       "    <tr>\n",
       "      <th>1</th>\n",
       "      <td>phenotype</td>\n",
       "      <td>775</td>\n",
       "      <td>791</td>\n",
       "      <td>Bon etat general</td>\n",
       "      <td>13736496216</td>\n",
       "      <td>N2</td>\n",
       "      <td>T2</td>\n",
       "      <td>UMLS_ALL</td>\n",
       "      <td>C2939150</td>\n",
       "      <td>General wellbeing (observable entity)</td>\n",
       "      <td>manual</td>\n",
       "    </tr>\n",
       "    <tr>\n",
       "      <th>2</th>\n",
       "      <td>phenotype</td>\n",
       "      <td>1217</td>\n",
       "      <td>1236</td>\n",
       "      <td>Lesions  au  visage</td>\n",
       "      <td>13736496216</td>\n",
       "      <td>N3</td>\n",
       "      <td>T3</td>\n",
       "      <td>UMLS_ALL</td>\n",
       "      <td>C3263723</td>\n",
       "      <td>injury</td>\n",
       "      <td>manual</td>\n",
       "    </tr>\n",
       "    <tr>\n",
       "      <th>3</th>\n",
       "      <td>phenotype</td>\n",
       "      <td>1291</td>\n",
       "      <td>1323</td>\n",
       "      <td>auscultation  pulmonaire normale</td>\n",
       "      <td>13736496216</td>\n",
       "      <td>N4</td>\n",
       "      <td>T4</td>\n",
       "      <td>UMLS_ALL</td>\n",
       "      <td>C0231855</td>\n",
       "      <td>Bruits respiratoires normaux</td>\n",
       "      <td>manual</td>\n",
       "    </tr>\n",
       "  </tbody>\n",
       "</table>\n",
       "</div>"
      ],
      "text/plain": [
       "    ent_type  start  stop                                        mention_ner  \\\n",
       "0  phenotype   1313  1327                                     deshydratation   \n",
       "0  phenotype   1165  1214  Bruits du coeur reguliers sans souffle  surajoute   \n",
       "1  phenotype    775   791                                   Bon etat general   \n",
       "2  phenotype   1217  1236                                Lesions  au  visage   \n",
       "3  phenotype   1291  1323                   auscultation  pulmonaire normale   \n",
       "\n",
       "        doc_id ann_id ent_id   termino       cui  \\\n",
       "0  13735351509     N1     T1  UMLS_ALL  C0011175   \n",
       "0  13736496216     N1     T1   UMLS_FR  C0577821   \n",
       "1  13736496216     N2     T2  UMLS_ALL  C2939150   \n",
       "2  13736496216     N3     T3  UMLS_ALL  C3263723   \n",
       "3  13736496216     N4     T4  UMLS_ALL  C0231855   \n",
       "\n",
       "                            mention_norm     mod  \n",
       "0                         DESHYDRATATION  manual  \n",
       "0                Bruits du coeur normaux  manual  \n",
       "1  General wellbeing (observable entity)  manual  \n",
       "2                                 injury  manual  \n",
       "3           Bruits respiratoires normaux  manual  "
      ]
     },
     "execution_count": 47,
     "metadata": {},
     "output_type": "execute_result"
    }
   ],
   "source": [
    "all_ann.head()"
   ]
  },
  {
   "cell_type": "code",
   "execution_count": 50,
   "metadata": {},
   "outputs": [
    {
     "data": {
      "text/html": [
       "<div>\n",
       "<style scoped>\n",
       "    .dataframe tbody tr th:only-of-type {\n",
       "        vertical-align: middle;\n",
       "    }\n",
       "\n",
       "    .dataframe tbody tr th {\n",
       "        vertical-align: top;\n",
       "    }\n",
       "\n",
       "    .dataframe thead th {\n",
       "        text-align: right;\n",
       "    }\n",
       "</style>\n",
       "<table border=\"1\" class=\"dataframe\">\n",
       "  <thead>\n",
       "    <tr style=\"text-align: right;\">\n",
       "      <th></th>\n",
       "      <th>ent_type</th>\n",
       "      <th>start</th>\n",
       "      <th>stop</th>\n",
       "      <th>mention_ner</th>\n",
       "      <th>doc_id</th>\n",
       "      <th>ann_id</th>\n",
       "      <th>ent_id</th>\n",
       "      <th>termino</th>\n",
       "      <th>cui</th>\n",
       "      <th>mention_norm</th>\n",
       "      <th>mod</th>\n",
       "    </tr>\n",
       "  </thead>\n",
       "  <tbody>\n",
       "    <tr>\n",
       "      <th>0</th>\n",
       "      <td>phenotype</td>\n",
       "      <td>1313</td>\n",
       "      <td>1327</td>\n",
       "      <td>deshydratation</td>\n",
       "      <td>13735351509</td>\n",
       "      <td>N1</td>\n",
       "      <td>T1</td>\n",
       "      <td>UMLS_ALL</td>\n",
       "      <td>C0011175</td>\n",
       "      <td>DESHYDRATATION</td>\n",
       "      <td>manual</td>\n",
       "    </tr>\n",
       "    <tr>\n",
       "      <th>0</th>\n",
       "      <td>phenotype</td>\n",
       "      <td>1165</td>\n",
       "      <td>1214</td>\n",
       "      <td>Bruits du coeur reguliers sans souffle  surajoute</td>\n",
       "      <td>13736496216</td>\n",
       "      <td>N1</td>\n",
       "      <td>T1</td>\n",
       "      <td>UMLS_FR</td>\n",
       "      <td>C0577821</td>\n",
       "      <td>Bruits du coeur normaux</td>\n",
       "      <td>manual</td>\n",
       "    </tr>\n",
       "    <tr>\n",
       "      <th>1</th>\n",
       "      <td>phenotype</td>\n",
       "      <td>775</td>\n",
       "      <td>791</td>\n",
       "      <td>Bon etat general</td>\n",
       "      <td>13736496216</td>\n",
       "      <td>N2</td>\n",
       "      <td>T2</td>\n",
       "      <td>UMLS_ALL</td>\n",
       "      <td>C2939150</td>\n",
       "      <td>General wellbeing (observable entity)</td>\n",
       "      <td>manual</td>\n",
       "    </tr>\n",
       "    <tr>\n",
       "      <th>2</th>\n",
       "      <td>phenotype</td>\n",
       "      <td>1217</td>\n",
       "      <td>1236</td>\n",
       "      <td>Lesions  au  visage</td>\n",
       "      <td>13736496216</td>\n",
       "      <td>N3</td>\n",
       "      <td>T3</td>\n",
       "      <td>UMLS_ALL</td>\n",
       "      <td>C3263723</td>\n",
       "      <td>injury</td>\n",
       "      <td>manual</td>\n",
       "    </tr>\n",
       "    <tr>\n",
       "      <th>3</th>\n",
       "      <td>phenotype</td>\n",
       "      <td>1291</td>\n",
       "      <td>1323</td>\n",
       "      <td>auscultation  pulmonaire normale</td>\n",
       "      <td>13736496216</td>\n",
       "      <td>N4</td>\n",
       "      <td>T4</td>\n",
       "      <td>UMLS_ALL</td>\n",
       "      <td>C0231855</td>\n",
       "      <td>Bruits respiratoires normaux</td>\n",
       "      <td>manual</td>\n",
       "    </tr>\n",
       "  </tbody>\n",
       "</table>\n",
       "</div>"
      ],
      "text/plain": [
       "    ent_type  start  stop                                        mention_ner  \\\n",
       "0  phenotype   1313  1327                                     deshydratation   \n",
       "0  phenotype   1165  1214  Bruits du coeur reguliers sans souffle  surajoute   \n",
       "1  phenotype    775   791                                   Bon etat general   \n",
       "2  phenotype   1217  1236                                Lesions  au  visage   \n",
       "3  phenotype   1291  1323                   auscultation  pulmonaire normale   \n",
       "\n",
       "        doc_id ann_id ent_id   termino       cui  \\\n",
       "0  13735351509     N1     T1  UMLS_ALL  C0011175   \n",
       "0  13736496216     N1     T1   UMLS_FR  C0577821   \n",
       "1  13736496216     N2     T2  UMLS_ALL  C2939150   \n",
       "2  13736496216     N3     T3  UMLS_ALL  C3263723   \n",
       "3  13736496216     N4     T4  UMLS_ALL  C0231855   \n",
       "\n",
       "                            mention_norm     mod  \n",
       "0                         DESHYDRATATION  manual  \n",
       "0                Bruits du coeur normaux  manual  \n",
       "1  General wellbeing (observable entity)  manual  \n",
       "2                                 injury  manual  \n",
       "3           Bruits respiratoires normaux  manual  "
      ]
     },
     "execution_count": 50,
     "metadata": {},
     "output_type": "execute_result"
    }
   ],
   "source": [
    "all_ann.head()"
   ]
  },
  {
   "cell_type": "code",
   "execution_count": 63,
   "metadata": {},
   "outputs": [],
   "source": [
    "all_merge = (all_ann.loc[:, [\"doc_id\", \"cui\", \"mod\"]]\n",
    "             .merge(ner_acc.loc[:, [\"doc_id\", \"cui\", \"mod\"]], how = \"outer\", on =[\"doc_id\", \"cui\"], suffixes=('_man', '_ner'))\n",
    "             .merge(syn_acc.loc[:, [\"doc_id\", \"cui\", \"mod\"]], how = \"outer\", on =[\"doc_id\", \"cui\"])\n",
    "             .merge(cat_acc.loc[:, [\"doc_id\", \"cui\", \"mod\"]], how = \"outer\", on =[\"doc_id\", \"cui\"], suffixes=('_syn', '_cat'))\n",
    "             .merge(catnu_acc.loc[:, [\"doc_id\", \"cui\", \"mod\"]].assign(mod_catnu = lambda x:x['mod']).drop('mod',1), how = \"outer\", on =[\"doc_id\", \"cui\"])\n",
    "\n",
    "#             .merge(dtw_acc.loc[:, [\"doc_id\", \"cui\", \"mod\"]], how = \"outer\", on =[\"doc_id\", \"cui\"], suffixes=('_syn', '_dtw'))\n",
    "#             .merge(lev_acc.loc[:, [\"doc_id\", \"cui\", \"mod\"]].assign(mod_lev = lambda x:x.mod).drop('mod',1), how = \"outer\", on =[\"doc_id\", \"cui\"])\n",
    "             .assign(true = lambda x:x.mod_man.notnull())\n",
    "             .assign(pred_ner = lambda x:x['mod_ner'].notnull())\n",
    "             .assign(pred_syn = lambda x:x['mod_syn'].notnull())\n",
    "             .assign(pred_cat = lambda x:x['mod_cat'].notnull())\n",
    "             .assign(pred_catnu = lambda x:x['mod_catnu'].notnull())\n",
    "\n",
    "#             .assign(pred_dtw = lambda x:x['mod_dtw'].notnull())\n",
    "#             .assign(pred_lev = lambda x:x['mod_lev'].notnull())\n",
    "\n",
    "            )"
   ]
  },
  {
   "cell_type": "code",
   "execution_count": 71,
   "metadata": {},
   "outputs": [],
   "source": [
    "all_merge = all_merge.loc[lambda x:x.mod_man.notnull()]"
   ]
  },
  {
   "cell_type": "code",
   "execution_count": 72,
   "metadata": {},
   "outputs": [
    {
     "data": {
      "text/html": [
       "<div>\n",
       "<style scoped>\n",
       "    .dataframe tbody tr th:only-of-type {\n",
       "        vertical-align: middle;\n",
       "    }\n",
       "\n",
       "    .dataframe tbody tr th {\n",
       "        vertical-align: top;\n",
       "    }\n",
       "\n",
       "    .dataframe thead th {\n",
       "        text-align: right;\n",
       "    }\n",
       "</style>\n",
       "<table border=\"1\" class=\"dataframe\">\n",
       "  <thead>\n",
       "    <tr style=\"text-align: right;\">\n",
       "      <th></th>\n",
       "      <th>doc_id</th>\n",
       "      <th>cui</th>\n",
       "      <th>mod_man</th>\n",
       "      <th>mod_ner</th>\n",
       "      <th>mod_syn</th>\n",
       "      <th>mod_cat</th>\n",
       "      <th>mod_catnu</th>\n",
       "      <th>true</th>\n",
       "      <th>pred_ner</th>\n",
       "      <th>pred_syn</th>\n",
       "      <th>pred_cat</th>\n",
       "      <th>pred_catnu</th>\n",
       "    </tr>\n",
       "  </thead>\n",
       "  <tbody>\n",
       "    <tr>\n",
       "      <th>0</th>\n",
       "      <td>13735351509</td>\n",
       "      <td>C0011175</td>\n",
       "      <td>manual</td>\n",
       "      <td>ner</td>\n",
       "      <td>syn</td>\n",
       "      <td>cat</td>\n",
       "      <td>catnu</td>\n",
       "      <td>True</td>\n",
       "      <td>True</td>\n",
       "      <td>True</td>\n",
       "      <td>True</td>\n",
       "      <td>True</td>\n",
       "    </tr>\n",
       "    <tr>\n",
       "      <th>1</th>\n",
       "      <td>13736496216</td>\n",
       "      <td>C0577821</td>\n",
       "      <td>manual</td>\n",
       "      <td>NaN</td>\n",
       "      <td>NaN</td>\n",
       "      <td>NaN</td>\n",
       "      <td>NaN</td>\n",
       "      <td>True</td>\n",
       "      <td>False</td>\n",
       "      <td>False</td>\n",
       "      <td>False</td>\n",
       "      <td>False</td>\n",
       "    </tr>\n",
       "    <tr>\n",
       "      <th>2</th>\n",
       "      <td>13736496216</td>\n",
       "      <td>C2939150</td>\n",
       "      <td>manual</td>\n",
       "      <td>NaN</td>\n",
       "      <td>NaN</td>\n",
       "      <td>NaN</td>\n",
       "      <td>NaN</td>\n",
       "      <td>True</td>\n",
       "      <td>False</td>\n",
       "      <td>False</td>\n",
       "      <td>False</td>\n",
       "      <td>False</td>\n",
       "    </tr>\n",
       "    <tr>\n",
       "      <th>3</th>\n",
       "      <td>13736496216</td>\n",
       "      <td>C3263723</td>\n",
       "      <td>manual</td>\n",
       "      <td>NaN</td>\n",
       "      <td>NaN</td>\n",
       "      <td>NaN</td>\n",
       "      <td>NaN</td>\n",
       "      <td>True</td>\n",
       "      <td>False</td>\n",
       "      <td>False</td>\n",
       "      <td>False</td>\n",
       "      <td>False</td>\n",
       "    </tr>\n",
       "    <tr>\n",
       "      <th>4</th>\n",
       "      <td>13736496216</td>\n",
       "      <td>C0231855</td>\n",
       "      <td>manual</td>\n",
       "      <td>NaN</td>\n",
       "      <td>NaN</td>\n",
       "      <td>NaN</td>\n",
       "      <td>NaN</td>\n",
       "      <td>True</td>\n",
       "      <td>False</td>\n",
       "      <td>False</td>\n",
       "      <td>False</td>\n",
       "      <td>False</td>\n",
       "    </tr>\n",
       "  </tbody>\n",
       "</table>\n",
       "</div>"
      ],
      "text/plain": [
       "        doc_id       cui mod_man mod_ner mod_syn mod_cat mod_catnu  true  \\\n",
       "0  13735351509  C0011175  manual     ner     syn     cat     catnu  True   \n",
       "1  13736496216  C0577821  manual     NaN     NaN     NaN       NaN  True   \n",
       "2  13736496216  C2939150  manual     NaN     NaN     NaN       NaN  True   \n",
       "3  13736496216  C3263723  manual     NaN     NaN     NaN       NaN  True   \n",
       "4  13736496216  C0231855  manual     NaN     NaN     NaN       NaN  True   \n",
       "\n",
       "   pred_ner  pred_syn  pred_cat  pred_catnu  \n",
       "0      True      True      True        True  \n",
       "1     False     False     False       False  \n",
       "2     False     False     False       False  \n",
       "3     False     False     False       False  \n",
       "4     False     False     False       False  "
      ]
     },
     "execution_count": 72,
     "metadata": {},
     "output_type": "execute_result"
    }
   ],
   "source": [
    "all_merge.head()"
   ]
  },
  {
   "cell_type": "code",
   "execution_count": 73,
   "metadata": {},
   "outputs": [
    {
     "data": {
      "text/html": [
       "<div>\n",
       "<style scoped>\n",
       "    .dataframe tbody tr th:only-of-type {\n",
       "        vertical-align: middle;\n",
       "    }\n",
       "\n",
       "    .dataframe tbody tr th {\n",
       "        vertical-align: top;\n",
       "    }\n",
       "\n",
       "    .dataframe thead th {\n",
       "        text-align: right;\n",
       "    }\n",
       "</style>\n",
       "<table border=\"1\" class=\"dataframe\">\n",
       "  <thead>\n",
       "    <tr style=\"text-align: right;\">\n",
       "      <th></th>\n",
       "      <th>total_pos</th>\n",
       "      <th>TP</th>\n",
       "      <th>FN</th>\n",
       "      <th>FP</th>\n",
       "      <th>Recall</th>\n",
       "      <th>Precision</th>\n",
       "      <th>F1</th>\n",
       "      <th>Accuracy</th>\n",
       "    </tr>\n",
       "  </thead>\n",
       "  <tbody>\n",
       "    <tr>\n",
       "      <th>NER + QuickUMLS (ent level)</th>\n",
       "      <td>0</td>\n",
       "      <td>0</td>\n",
       "      <td>0</td>\n",
       "      <td>403</td>\n",
       "      <td>0.01</td>\n",
       "      <td>1.0</td>\n",
       "      <td>0.02</td>\n",
       "      <td>0.01</td>\n",
       "    </tr>\n",
       "    <tr>\n",
       "      <th>QuickUMLS (ent level)</th>\n",
       "      <td>0</td>\n",
       "      <td>0</td>\n",
       "      <td>0</td>\n",
       "      <td>401</td>\n",
       "      <td>0.02</td>\n",
       "      <td>1.0</td>\n",
       "      <td>0.03</td>\n",
       "      <td>0.02</td>\n",
       "    </tr>\n",
       "    <tr>\n",
       "      <th>NER + cat e (ent level)</th>\n",
       "      <td>0</td>\n",
       "      <td>0</td>\n",
       "      <td>0</td>\n",
       "      <td>398</td>\n",
       "      <td>0.02</td>\n",
       "      <td>1.0</td>\n",
       "      <td>0.05</td>\n",
       "      <td>0.02</td>\n",
       "    </tr>\n",
       "    <tr>\n",
       "      <th>NER + cat no umls e (ent level)</th>\n",
       "      <td>0</td>\n",
       "      <td>0</td>\n",
       "      <td>0</td>\n",
       "      <td>400</td>\n",
       "      <td>0.02</td>\n",
       "      <td>1.0</td>\n",
       "      <td>0.04</td>\n",
       "      <td>0.02</td>\n",
       "    </tr>\n",
       "  </tbody>\n",
       "</table>\n",
       "</div>"
      ],
      "text/plain": [
       "                                 total_pos  TP  FN   FP  Recall  Precision  \\\n",
       "NER + QuickUMLS (ent level)              0   0   0  403    0.01        1.0   \n",
       "QuickUMLS (ent level)                    0   0   0  401    0.02        1.0   \n",
       "NER + cat e (ent level)                  0   0   0  398    0.02        1.0   \n",
       "NER + cat no umls e (ent level)          0   0   0  400    0.02        1.0   \n",
       "\n",
       "                                   F1  Accuracy  \n",
       "NER + QuickUMLS (ent level)      0.02      0.01  \n",
       "QuickUMLS (ent level)            0.03      0.02  \n",
       "NER + cat e (ent level)          0.05      0.02  \n",
       "NER + cat no umls e (ent level)  0.04      0.02  "
      ]
     },
     "execution_count": 73,
     "metadata": {},
     "output_type": "execute_result"
    }
   ],
   "source": [
    "pd.concat([compute_metrics(all_merge.true, all_merge.pred_ner, label = \"NER + QuickUMLS (ent level)\"), \n",
    "           compute_metrics(all_merge.true, all_merge.pred_syn, label = \"QuickUMLS (ent level)\"),\n",
    "           compute_metrics(all_merge.true, all_merge.pred_cat, label = \"NER + cat e (ent level)\"),\n",
    "           compute_metrics(all_merge.true, all_merge.pred_catnu, label = \"NER + cat no umls e (ent level)\")\n",
    "          ]\n",
    "\n",
    "         ).round(2)"
   ]
  },
  {
   "cell_type": "code",
   "execution_count": 78,
   "metadata": {},
   "outputs": [
    {
     "data": {
      "text/plain": [
       "true        408\n",
       "pred_syn      7\n",
       "pred_ner      5\n",
       "pred_cat     10\n",
       "dtype: int64"
      ]
     },
     "execution_count": 78,
     "metadata": {},
     "output_type": "execute_result"
    }
   ],
   "source": [
    "all_merge.loc[:,[\"true\", \"pred_syn\", \"pred_ner\", \"pred_cat\"]].sum(0)"
   ]
  },
  {
   "cell_type": "markdown",
   "metadata": {},
   "source": [
    "### 4.B Quaero norm"
   ]
  },
  {
   "cell_type": "code",
   "execution_count": 90,
   "metadata": {},
   "outputs": [],
   "source": [
    "# data_path = pkg_resources.resource_filename('pymedext_eds', 'data/demo')\n",
    "file_list = glob(\"../data/QUAERO_FrenchMed/corpus/dev/MEDLINE/*.txt\")"
   ]
  },
  {
   "cell_type": "code",
   "execution_count": 91,
   "metadata": {},
   "outputs": [],
   "source": [
    "docs = [rawtext_loader(x) for x in file_list]"
   ]
  },
  {
   "cell_type": "code",
   "execution_count": 92,
   "metadata": {},
   "outputs": [
    {
     "data": {
      "text/plain": [
       "['../data/QUAERO_FrenchMed/corpus/dev/MEDLINE/8502882.txt',\n",
       " '../data/QUAERO_FrenchMed/corpus/dev/MEDLINE/15053153.txt',\n",
       " '../data/QUAERO_FrenchMed/corpus/dev/MEDLINE/371062.txt']"
      ]
     },
     "execution_count": 92,
     "metadata": {},
     "output_type": "execute_result"
    }
   ],
   "source": [
    "file_list[:3]"
   ]
  },
  {
   "cell_type": "code",
   "execution_count": 93,
   "metadata": {},
   "outputs": [],
   "source": [
    "source_ids = [doc.source_ID for doc in docs]"
   ]
  },
  {
   "cell_type": "code",
   "execution_count": 94,
   "metadata": {},
   "outputs": [],
   "source": [
    "assert len(source_ids) == len(np.unique(source_ids))"
   ]
  },
  {
   "cell_type": "code",
   "execution_count": 95,
   "metadata": {},
   "outputs": [
    {
     "name": "stderr",
     "output_type": "stream",
     "text": [
      "Ignore 1 sentence(s) with no tokens.\n"
     ]
    },
    {
     "name": "stdout",
     "output_type": "stream",
     "text": [
      "CPU times: user 16.8 s, sys: 63.9 ms, total: 16.9 s\n",
      "Wall time: 16.9 s\n"
     ]
    }
   ],
   "source": [
    "%%time\n",
    "for doc in docs:\n",
    "    doc.annotate(pipeline_common)"
   ]
  },
  {
   "cell_type": "code",
   "execution_count": 96,
   "metadata": {},
   "outputs": [
    {
     "name": "stdout",
     "output_type": "stream",
     "text": [
      "CPU times: user 12.9 s, sys: 51.1 ms, total: 12.9 s\n",
      "Wall time: 13.1 s\n"
     ]
    }
   ],
   "source": [
    "%%time\n",
    "for doc in docs:\n",
    "    doc.annotate(pipe_compare)"
   ]
  },
  {
   "cell_type": "code",
   "execution_count": 97,
   "metadata": {},
   "outputs": [
    {
     "name": "stderr",
     "output_type": "stream",
     "text": [
      "100%|██████████| 832/832 [01:29<00:00,  9.32it/s]"
     ]
    },
    {
     "name": "stdout",
     "output_type": "stream",
     "text": [
      "CPU times: user 23min 23s, sys: 24.7 s, total: 23min 47s\n",
      "Wall time: 1min 29s\n"
     ]
    },
    {
     "name": "stderr",
     "output_type": "stream",
     "text": [
      "\n"
     ]
    }
   ],
   "source": [
    "%%time\n",
    "for doc in tqdm(docs):\n",
    "    doc.annotate([norm_pheno_cat, norm_pheno_cat_nu])"
   ]
  },
  {
   "cell_type": "code",
   "execution_count": 98,
   "metadata": {},
   "outputs": [],
   "source": [
    "all_ann = brat_norm_to_pdf(\"../data/QUAERO_FrenchMed/corpus/dev/MEDLINE/\")"
   ]
  },
  {
   "cell_type": "code",
   "execution_count": 99,
   "metadata": {},
   "outputs": [
    {
     "data": {
      "text/html": [
       "<div>\n",
       "<style scoped>\n",
       "    .dataframe tbody tr th:only-of-type {\n",
       "        vertical-align: middle;\n",
       "    }\n",
       "\n",
       "    .dataframe tbody tr th {\n",
       "        vertical-align: top;\n",
       "    }\n",
       "\n",
       "    .dataframe thead th {\n",
       "        text-align: right;\n",
       "    }\n",
       "</style>\n",
       "<table border=\"1\" class=\"dataframe\">\n",
       "  <thead>\n",
       "    <tr style=\"text-align: right;\">\n",
       "      <th></th>\n",
       "      <th>doc_id</th>\n",
       "      <th>ent_id</th>\n",
       "      <th>ent_type</th>\n",
       "      <th>start</th>\n",
       "      <th>stop</th>\n",
       "      <th>mention_ner</th>\n",
       "      <th>ann_id</th>\n",
       "      <th>termino</th>\n",
       "      <th>cui</th>\n",
       "      <th>mention_norm</th>\n",
       "    </tr>\n",
       "  </thead>\n",
       "  <tbody>\n",
       "    <tr>\n",
       "      <th>0</th>\n",
       "      <td>6772762</td>\n",
       "      <td>T1</td>\n",
       "      <td>PROC</td>\n",
       "      <td>0</td>\n",
       "      <td>5</td>\n",
       "      <td>Etude</td>\n",
       "      <td>NaN</td>\n",
       "      <td>NaN</td>\n",
       "      <td>NaN</td>\n",
       "      <td>NaN</td>\n",
       "    </tr>\n",
       "    <tr>\n",
       "      <th>1</th>\n",
       "      <td>6772762</td>\n",
       "      <td>T2</td>\n",
       "      <td>PHYS</td>\n",
       "      <td>29</td>\n",
       "      <td>49</td>\n",
       "      <td>fonction gonadotrope</td>\n",
       "      <td>NaN</td>\n",
       "      <td>NaN</td>\n",
       "      <td>NaN</td>\n",
       "      <td>NaN</td>\n",
       "    </tr>\n",
       "    <tr>\n",
       "      <th>2</th>\n",
       "      <td>6772762</td>\n",
       "      <td>T3</td>\n",
       "      <td>LIVB</td>\n",
       "      <td>58</td>\n",
       "      <td>61</td>\n",
       "      <td>rat</td>\n",
       "      <td>NaN</td>\n",
       "      <td>NaN</td>\n",
       "      <td>NaN</td>\n",
       "      <td>NaN</td>\n",
       "    </tr>\n",
       "    <tr>\n",
       "      <th>3</th>\n",
       "      <td>6772762</td>\n",
       "      <td>T5</td>\n",
       "      <td>PROC</td>\n",
       "      <td>85</td>\n",
       "      <td>95</td>\n",
       "      <td>castration</td>\n",
       "      <td>NaN</td>\n",
       "      <td>NaN</td>\n",
       "      <td>NaN</td>\n",
       "      <td>NaN</td>\n",
       "    </tr>\n",
       "    <tr>\n",
       "      <th>4</th>\n",
       "      <td>6772762</td>\n",
       "      <td>T4</td>\n",
       "      <td>LIVB</td>\n",
       "      <td>62</td>\n",
       "      <td>66</td>\n",
       "      <td>mâle</td>\n",
       "      <td>NaN</td>\n",
       "      <td>NaN</td>\n",
       "      <td>NaN</td>\n",
       "      <td>NaN</td>\n",
       "    </tr>\n",
       "  </tbody>\n",
       "</table>\n",
       "</div>"
      ],
      "text/plain": [
       "    doc_id ent_id ent_type start stop           mention_ner ann_id termino  \\\n",
       "0  6772762     T1     PROC     0    5                 Etude    NaN     NaN   \n",
       "1  6772762     T2     PHYS    29   49  fonction gonadotrope    NaN     NaN   \n",
       "2  6772762     T3     LIVB    58   61                   rat    NaN     NaN   \n",
       "3  6772762     T5     PROC    85   95            castration    NaN     NaN   \n",
       "4  6772762     T4     LIVB    62   66                  mâle    NaN     NaN   \n",
       "\n",
       "   cui mention_norm  \n",
       "0  NaN          NaN  \n",
       "1  NaN          NaN  \n",
       "2  NaN          NaN  \n",
       "3  NaN          NaN  \n",
       "4  NaN          NaN  "
      ]
     },
     "execution_count": 99,
     "metadata": {},
     "output_type": "execute_result"
    }
   ],
   "source": [
    "all_ann.head()"
   ]
  },
  {
   "cell_type": "code",
   "execution_count": null,
   "metadata": {},
   "outputs": [],
   "source": [
    "    #    standardized_data = StandardScaler().fit_transform(X_embed)\n",
    "  #      self.umap_trans = umap.UMAP(n_neighbors = umap_n_neighbors, \n",
    "   #                                 n_components = umap_n_components, \n",
    "   #                                 min_dist = 0, \n",
    "   #                                 random_state=42).fit(standardized_data, y=labels)\n",
    "   #     umap_embedding = self.umap_trans.transform(standardized_data)\n"
   ]
  },
  {
   "cell_type": "code",
   "execution_count": 100,
   "metadata": {},
   "outputs": [
    {
     "data": {
      "text/plain": [
       "array(['PROC', 'PHYS', 'LIVB', 'DISO', 'ANAT', 'PHEN', 'CHEM', 'DEVI',\n",
       "       'OBJC', 'GEOG'], dtype=object)"
      ]
     },
     "execution_count": 100,
     "metadata": {},
     "output_type": "execute_result"
    }
   ],
   "source": [
    "all_ann.ent_type.unique()"
   ]
  },
  {
   "cell_type": "code",
   "execution_count": 101,
   "metadata": {},
   "outputs": [],
   "source": [
    "all_ann = all_ann.loc[lambda x:x.ent_type.isin([\"DISO\"])]"
   ]
  },
  {
   "cell_type": "code",
   "execution_count": 102,
   "metadata": {},
   "outputs": [
    {
     "data": {
      "text/html": [
       "<div>\n",
       "<style scoped>\n",
       "    .dataframe tbody tr th:only-of-type {\n",
       "        vertical-align: middle;\n",
       "    }\n",
       "\n",
       "    .dataframe tbody tr th {\n",
       "        vertical-align: top;\n",
       "    }\n",
       "\n",
       "    .dataframe thead th {\n",
       "        text-align: right;\n",
       "    }\n",
       "</style>\n",
       "<table border=\"1\" class=\"dataframe\">\n",
       "  <thead>\n",
       "    <tr style=\"text-align: right;\">\n",
       "      <th></th>\n",
       "      <th>n_annotated</th>\n",
       "      <th>n_CUI</th>\n",
       "    </tr>\n",
       "    <tr>\n",
       "      <th>is_annotated</th>\n",
       "      <th></th>\n",
       "      <th></th>\n",
       "    </tr>\n",
       "  </thead>\n",
       "  <tbody>\n",
       "    <tr>\n",
       "      <th>False</th>\n",
       "      <td>475</td>\n",
       "      <td>0</td>\n",
       "    </tr>\n",
       "  </tbody>\n",
       "</table>\n",
       "</div>"
      ],
      "text/plain": [
       "              n_annotated  n_CUI\n",
       "is_annotated                    \n",
       "False                 475      0"
      ]
     },
     "execution_count": 102,
     "metadata": {},
     "output_type": "execute_result"
    }
   ],
   "source": [
    "(all_ann\n",
    " .assign(has_norm = lambda x:x.cui.notnull())\n",
    " .groupby(['doc_id'])['has_norm']\n",
    " .aggregate([('is_annotated', any), ('n_CUI', sum)])\n",
    " .groupby(['is_annotated'])['n_CUI']\n",
    " .aggregate([('n_annotated', len), ('n_CUI', sum)])\n",
    "\n",
    ")"
   ]
  },
  {
   "cell_type": "code",
   "execution_count": 103,
   "metadata": {},
   "outputs": [
    {
     "data": {
      "text/html": [
       "<div>\n",
       "<style scoped>\n",
       "    .dataframe tbody tr th:only-of-type {\n",
       "        vertical-align: middle;\n",
       "    }\n",
       "\n",
       "    .dataframe tbody tr th {\n",
       "        vertical-align: top;\n",
       "    }\n",
       "\n",
       "    .dataframe thead th {\n",
       "        text-align: right;\n",
       "    }\n",
       "</style>\n",
       "<table border=\"1\" class=\"dataframe\">\n",
       "  <thead>\n",
       "    <tr style=\"text-align: right;\">\n",
       "      <th></th>\n",
       "      <th>With CUI</th>\n",
       "      <th>Total</th>\n",
       "      <th>freq</th>\n",
       "    </tr>\n",
       "    <tr>\n",
       "      <th>ent_type</th>\n",
       "      <th></th>\n",
       "      <th></th>\n",
       "      <th></th>\n",
       "    </tr>\n",
       "  </thead>\n",
       "  <tbody>\n",
       "    <tr>\n",
       "      <th>DISO</th>\n",
       "      <td>0</td>\n",
       "      <td>892</td>\n",
       "      <td>False</td>\n",
       "    </tr>\n",
       "  </tbody>\n",
       "</table>\n",
       "</div>"
      ],
      "text/plain": [
       "          With CUI  Total   freq\n",
       "ent_type                        \n",
       "DISO             0    892  False"
      ]
     },
     "execution_count": 103,
     "metadata": {},
     "output_type": "execute_result"
    }
   ],
   "source": [
    "(all_ann.assign(has_norm = lambda x:x.cui.notnull())\n",
    " .groupby(['ent_type'])['has_norm']\n",
    " .aggregate([('With CUI', sum), ('Total', len), ('freq', lambda x: round(sum(x)/len(x) ,2))])\n",
    ")"
   ]
  },
  {
   "cell_type": "code",
   "execution_count": 42,
   "metadata": {},
   "outputs": [],
   "source": [
    "all_ann = all_ann.loc[lambda x:x.cui.notnull()].assign(mod = \"manual\").assign(start = lambda x:x.start.astype('int')).assign(stop = lambda x:x.stop.astype('int'))"
   ]
  },
  {
   "cell_type": "code",
   "execution_count": 45,
   "metadata": {},
   "outputs": [],
   "source": [
    "ner_acc = []\n",
    "syn_acc = []\n",
    "lev_acc = []\n",
    "dtw_acc = []\n",
    "cat_acc = []\n",
    "catnu_acc = []\n",
    "\n",
    "for doc in docs[:10]:\n",
    "    syn_acc.append(pymedext_to_pdf(doc, 'umls_syntagme'))\n",
    "    ner_acc.append(pymedext_to_pdf(doc, 'umls_diag_name'))\n",
    "    ner_acc.append(pymedext_to_pdf(doc, 'umls_signs'))\n",
    "#    lev_acc.append(pymedext_to_pdf(doc, 'lev_norm'))\n",
    "#    dtw_acc.append(pymedext_to_pdf(doc, 'dtw_norm'))\n",
    "    cat_acc.append(pymedext_to_pdf(doc, 'cat_norm'))\n",
    "    catnu_acc.append(pymedext_to_pdf(doc, 'cat_norm_nu'))\n",
    "\n",
    "ner_acc = pd.concat(ner_acc).assign(mod = \"ner\")\n",
    "syn_acc = pd.concat(syn_acc).assign(mod = \"syn\")\n",
    "\n",
    "#dtw_acc = pd.concat(dtw_acc).assign(mod = \"dtw\")\n",
    "#lev_acc = pd.concat(lev_acc).assign(mod = \"lev\")\n",
    "cat_acc = pd.concat(cat_acc).assign(mod = \"cat\")\n",
    "catnu_acc = pd.concat(catnu_acc).assign(mod = \"catnu\")\n"
   ]
  },
  {
   "cell_type": "code",
   "execution_count": 46,
   "metadata": {},
   "outputs": [
    {
     "data": {
      "text/html": [
       "<div>\n",
       "<style scoped>\n",
       "    .dataframe tbody tr th:only-of-type {\n",
       "        vertical-align: middle;\n",
       "    }\n",
       "\n",
       "    .dataframe tbody tr th {\n",
       "        vertical-align: top;\n",
       "    }\n",
       "\n",
       "    .dataframe thead th {\n",
       "        text-align: right;\n",
       "    }\n",
       "</style>\n",
       "<table border=\"1\" class=\"dataframe\">\n",
       "  <thead>\n",
       "    <tr style=\"text-align: right;\">\n",
       "      <th></th>\n",
       "      <th>doc_id</th>\n",
       "      <th>mention</th>\n",
       "      <th>start</th>\n",
       "      <th>stop</th>\n",
       "      <th>cui</th>\n",
       "      <th>label</th>\n",
       "      <th>mod</th>\n",
       "    </tr>\n",
       "  </thead>\n",
       "  <tbody>\n",
       "    <tr>\n",
       "      <th>0</th>\n",
       "      <td>13624692484</td>\n",
       "      <td>stenose</td>\n",
       "      <td>699</td>\n",
       "      <td>706</td>\n",
       "      <td>C1261287</td>\n",
       "      <td>stenose</td>\n",
       "      <td>ner</td>\n",
       "    </tr>\n",
       "    <tr>\n",
       "      <th>1</th>\n",
       "      <td>13624692484</td>\n",
       "      <td>collapsus</td>\n",
       "      <td>780</td>\n",
       "      <td>789</td>\n",
       "      <td>C0036974</td>\n",
       "      <td>collapsus</td>\n",
       "      <td>ner</td>\n",
       "    </tr>\n",
       "    <tr>\n",
       "      <th>2</th>\n",
       "      <td>13624692484</td>\n",
       "      <td>enterite a Rotavirus</td>\n",
       "      <td>1081</td>\n",
       "      <td>1101</td>\n",
       "      <td>C0347854</td>\n",
       "      <td>enterite a rotavirus</td>\n",
       "      <td>ner</td>\n",
       "    </tr>\n",
       "    <tr>\n",
       "      <th>3</th>\n",
       "      <td>13624692484</td>\n",
       "      <td>pneumopathie</td>\n",
       "      <td>1142</td>\n",
       "      <td>1154</td>\n",
       "      <td>C0024115</td>\n",
       "      <td>pneumopathie</td>\n",
       "      <td>ner</td>\n",
       "    </tr>\n",
       "    <tr>\n",
       "      <th>4</th>\n",
       "      <td>13624692484</td>\n",
       "      <td>erytheme</td>\n",
       "      <td>1589</td>\n",
       "      <td>1597</td>\n",
       "      <td>C0041834</td>\n",
       "      <td>erytheme</td>\n",
       "      <td>ner</td>\n",
       "    </tr>\n",
       "  </tbody>\n",
       "</table>\n",
       "</div>"
      ],
      "text/plain": [
       "        doc_id               mention  start  stop       cui  \\\n",
       "0  13624692484               stenose    699   706  C1261287   \n",
       "1  13624692484             collapsus    780   789  C0036974   \n",
       "2  13624692484  enterite a Rotavirus   1081  1101  C0347854   \n",
       "3  13624692484          pneumopathie   1142  1154  C0024115   \n",
       "4  13624692484              erytheme   1589  1597  C0041834   \n",
       "\n",
       "                  label  mod  \n",
       "0               stenose  ner  \n",
       "1             collapsus  ner  \n",
       "2  enterite a rotavirus  ner  \n",
       "3          pneumopathie  ner  \n",
       "4              erytheme  ner  "
      ]
     },
     "execution_count": 46,
     "metadata": {},
     "output_type": "execute_result"
    }
   ],
   "source": [
    "ner_acc.head()"
   ]
  },
  {
   "cell_type": "code",
   "execution_count": 47,
   "metadata": {},
   "outputs": [
    {
     "data": {
      "text/html": [
       "<div>\n",
       "<style scoped>\n",
       "    .dataframe tbody tr th:only-of-type {\n",
       "        vertical-align: middle;\n",
       "    }\n",
       "\n",
       "    .dataframe tbody tr th {\n",
       "        vertical-align: top;\n",
       "    }\n",
       "\n",
       "    .dataframe thead th {\n",
       "        text-align: right;\n",
       "    }\n",
       "</style>\n",
       "<table border=\"1\" class=\"dataframe\">\n",
       "  <thead>\n",
       "    <tr style=\"text-align: right;\">\n",
       "      <th></th>\n",
       "      <th>ent_type</th>\n",
       "      <th>start</th>\n",
       "      <th>stop</th>\n",
       "      <th>mention_ner</th>\n",
       "      <th>doc_id</th>\n",
       "      <th>ann_id</th>\n",
       "      <th>ent_id</th>\n",
       "      <th>termino</th>\n",
       "      <th>cui</th>\n",
       "      <th>mention_norm</th>\n",
       "      <th>mod</th>\n",
       "    </tr>\n",
       "  </thead>\n",
       "  <tbody>\n",
       "    <tr>\n",
       "      <th>0</th>\n",
       "      <td>phenotype</td>\n",
       "      <td>1313</td>\n",
       "      <td>1327</td>\n",
       "      <td>deshydratation</td>\n",
       "      <td>13735351509</td>\n",
       "      <td>N1</td>\n",
       "      <td>T1</td>\n",
       "      <td>UMLS_ALL</td>\n",
       "      <td>C0011175</td>\n",
       "      <td>DESHYDRATATION</td>\n",
       "      <td>manual</td>\n",
       "    </tr>\n",
       "    <tr>\n",
       "      <th>0</th>\n",
       "      <td>phenotype</td>\n",
       "      <td>1165</td>\n",
       "      <td>1214</td>\n",
       "      <td>Bruits du coeur reguliers sans souffle  surajoute</td>\n",
       "      <td>13736496216</td>\n",
       "      <td>N1</td>\n",
       "      <td>T1</td>\n",
       "      <td>UMLS_FR</td>\n",
       "      <td>C0577821</td>\n",
       "      <td>Bruits du coeur normaux</td>\n",
       "      <td>manual</td>\n",
       "    </tr>\n",
       "    <tr>\n",
       "      <th>1</th>\n",
       "      <td>phenotype</td>\n",
       "      <td>775</td>\n",
       "      <td>791</td>\n",
       "      <td>Bon etat general</td>\n",
       "      <td>13736496216</td>\n",
       "      <td>N2</td>\n",
       "      <td>T2</td>\n",
       "      <td>UMLS_ALL</td>\n",
       "      <td>C2939150</td>\n",
       "      <td>General wellbeing (observable entity)</td>\n",
       "      <td>manual</td>\n",
       "    </tr>\n",
       "    <tr>\n",
       "      <th>2</th>\n",
       "      <td>phenotype</td>\n",
       "      <td>1217</td>\n",
       "      <td>1236</td>\n",
       "      <td>Lesions  au  visage</td>\n",
       "      <td>13736496216</td>\n",
       "      <td>N3</td>\n",
       "      <td>T3</td>\n",
       "      <td>UMLS_ALL</td>\n",
       "      <td>C3263723</td>\n",
       "      <td>injury</td>\n",
       "      <td>manual</td>\n",
       "    </tr>\n",
       "    <tr>\n",
       "      <th>3</th>\n",
       "      <td>phenotype</td>\n",
       "      <td>1291</td>\n",
       "      <td>1323</td>\n",
       "      <td>auscultation  pulmonaire normale</td>\n",
       "      <td>13736496216</td>\n",
       "      <td>N4</td>\n",
       "      <td>T4</td>\n",
       "      <td>UMLS_ALL</td>\n",
       "      <td>C0231855</td>\n",
       "      <td>Bruits respiratoires normaux</td>\n",
       "      <td>manual</td>\n",
       "    </tr>\n",
       "  </tbody>\n",
       "</table>\n",
       "</div>"
      ],
      "text/plain": [
       "    ent_type  start  stop                                        mention_ner  \\\n",
       "0  phenotype   1313  1327                                     deshydratation   \n",
       "0  phenotype   1165  1214  Bruits du coeur reguliers sans souffle  surajoute   \n",
       "1  phenotype    775   791                                   Bon etat general   \n",
       "2  phenotype   1217  1236                                Lesions  au  visage   \n",
       "3  phenotype   1291  1323                   auscultation  pulmonaire normale   \n",
       "\n",
       "        doc_id ann_id ent_id   termino       cui  \\\n",
       "0  13735351509     N1     T1  UMLS_ALL  C0011175   \n",
       "0  13736496216     N1     T1   UMLS_FR  C0577821   \n",
       "1  13736496216     N2     T2  UMLS_ALL  C2939150   \n",
       "2  13736496216     N3     T3  UMLS_ALL  C3263723   \n",
       "3  13736496216     N4     T4  UMLS_ALL  C0231855   \n",
       "\n",
       "                            mention_norm     mod  \n",
       "0                         DESHYDRATATION  manual  \n",
       "0                Bruits du coeur normaux  manual  \n",
       "1  General wellbeing (observable entity)  manual  \n",
       "2                                 injury  manual  \n",
       "3           Bruits respiratoires normaux  manual  "
      ]
     },
     "execution_count": 47,
     "metadata": {},
     "output_type": "execute_result"
    }
   ],
   "source": [
    "all_ann.head()"
   ]
  },
  {
   "cell_type": "code",
   "execution_count": 50,
   "metadata": {},
   "outputs": [
    {
     "data": {
      "text/html": [
       "<div>\n",
       "<style scoped>\n",
       "    .dataframe tbody tr th:only-of-type {\n",
       "        vertical-align: middle;\n",
       "    }\n",
       "\n",
       "    .dataframe tbody tr th {\n",
       "        vertical-align: top;\n",
       "    }\n",
       "\n",
       "    .dataframe thead th {\n",
       "        text-align: right;\n",
       "    }\n",
       "</style>\n",
       "<table border=\"1\" class=\"dataframe\">\n",
       "  <thead>\n",
       "    <tr style=\"text-align: right;\">\n",
       "      <th></th>\n",
       "      <th>ent_type</th>\n",
       "      <th>start</th>\n",
       "      <th>stop</th>\n",
       "      <th>mention_ner</th>\n",
       "      <th>doc_id</th>\n",
       "      <th>ann_id</th>\n",
       "      <th>ent_id</th>\n",
       "      <th>termino</th>\n",
       "      <th>cui</th>\n",
       "      <th>mention_norm</th>\n",
       "      <th>mod</th>\n",
       "    </tr>\n",
       "  </thead>\n",
       "  <tbody>\n",
       "    <tr>\n",
       "      <th>0</th>\n",
       "      <td>phenotype</td>\n",
       "      <td>1313</td>\n",
       "      <td>1327</td>\n",
       "      <td>deshydratation</td>\n",
       "      <td>13735351509</td>\n",
       "      <td>N1</td>\n",
       "      <td>T1</td>\n",
       "      <td>UMLS_ALL</td>\n",
       "      <td>C0011175</td>\n",
       "      <td>DESHYDRATATION</td>\n",
       "      <td>manual</td>\n",
       "    </tr>\n",
       "    <tr>\n",
       "      <th>0</th>\n",
       "      <td>phenotype</td>\n",
       "      <td>1165</td>\n",
       "      <td>1214</td>\n",
       "      <td>Bruits du coeur reguliers sans souffle  surajoute</td>\n",
       "      <td>13736496216</td>\n",
       "      <td>N1</td>\n",
       "      <td>T1</td>\n",
       "      <td>UMLS_FR</td>\n",
       "      <td>C0577821</td>\n",
       "      <td>Bruits du coeur normaux</td>\n",
       "      <td>manual</td>\n",
       "    </tr>\n",
       "    <tr>\n",
       "      <th>1</th>\n",
       "      <td>phenotype</td>\n",
       "      <td>775</td>\n",
       "      <td>791</td>\n",
       "      <td>Bon etat general</td>\n",
       "      <td>13736496216</td>\n",
       "      <td>N2</td>\n",
       "      <td>T2</td>\n",
       "      <td>UMLS_ALL</td>\n",
       "      <td>C2939150</td>\n",
       "      <td>General wellbeing (observable entity)</td>\n",
       "      <td>manual</td>\n",
       "    </tr>\n",
       "    <tr>\n",
       "      <th>2</th>\n",
       "      <td>phenotype</td>\n",
       "      <td>1217</td>\n",
       "      <td>1236</td>\n",
       "      <td>Lesions  au  visage</td>\n",
       "      <td>13736496216</td>\n",
       "      <td>N3</td>\n",
       "      <td>T3</td>\n",
       "      <td>UMLS_ALL</td>\n",
       "      <td>C3263723</td>\n",
       "      <td>injury</td>\n",
       "      <td>manual</td>\n",
       "    </tr>\n",
       "    <tr>\n",
       "      <th>3</th>\n",
       "      <td>phenotype</td>\n",
       "      <td>1291</td>\n",
       "      <td>1323</td>\n",
       "      <td>auscultation  pulmonaire normale</td>\n",
       "      <td>13736496216</td>\n",
       "      <td>N4</td>\n",
       "      <td>T4</td>\n",
       "      <td>UMLS_ALL</td>\n",
       "      <td>C0231855</td>\n",
       "      <td>Bruits respiratoires normaux</td>\n",
       "      <td>manual</td>\n",
       "    </tr>\n",
       "  </tbody>\n",
       "</table>\n",
       "</div>"
      ],
      "text/plain": [
       "    ent_type  start  stop                                        mention_ner  \\\n",
       "0  phenotype   1313  1327                                     deshydratation   \n",
       "0  phenotype   1165  1214  Bruits du coeur reguliers sans souffle  surajoute   \n",
       "1  phenotype    775   791                                   Bon etat general   \n",
       "2  phenotype   1217  1236                                Lesions  au  visage   \n",
       "3  phenotype   1291  1323                   auscultation  pulmonaire normale   \n",
       "\n",
       "        doc_id ann_id ent_id   termino       cui  \\\n",
       "0  13735351509     N1     T1  UMLS_ALL  C0011175   \n",
       "0  13736496216     N1     T1   UMLS_FR  C0577821   \n",
       "1  13736496216     N2     T2  UMLS_ALL  C2939150   \n",
       "2  13736496216     N3     T3  UMLS_ALL  C3263723   \n",
       "3  13736496216     N4     T4  UMLS_ALL  C0231855   \n",
       "\n",
       "                            mention_norm     mod  \n",
       "0                         DESHYDRATATION  manual  \n",
       "0                Bruits du coeur normaux  manual  \n",
       "1  General wellbeing (observable entity)  manual  \n",
       "2                                 injury  manual  \n",
       "3           Bruits respiratoires normaux  manual  "
      ]
     },
     "execution_count": 50,
     "metadata": {},
     "output_type": "execute_result"
    }
   ],
   "source": [
    "all_ann.head()"
   ]
  },
  {
   "cell_type": "code",
   "execution_count": 63,
   "metadata": {},
   "outputs": [],
   "source": [
    "all_merge = (all_ann.loc[:, [\"doc_id\", \"cui\", \"mod\"]]\n",
    "             .merge(ner_acc.loc[:, [\"doc_id\", \"cui\", \"mod\"]], how = \"outer\", on =[\"doc_id\", \"cui\"], suffixes=('_man', '_ner'))\n",
    "             .merge(syn_acc.loc[:, [\"doc_id\", \"cui\", \"mod\"]], how = \"outer\", on =[\"doc_id\", \"cui\"])\n",
    "             .merge(cat_acc.loc[:, [\"doc_id\", \"cui\", \"mod\"]], how = \"outer\", on =[\"doc_id\", \"cui\"], suffixes=('_syn', '_cat'))\n",
    "             .merge(catnu_acc.loc[:, [\"doc_id\", \"cui\", \"mod\"]].assign(mod_catnu = lambda x:x['mod']).drop('mod',1), how = \"outer\", on =[\"doc_id\", \"cui\"])\n",
    "\n",
    "#             .merge(dtw_acc.loc[:, [\"doc_id\", \"cui\", \"mod\"]], how = \"outer\", on =[\"doc_id\", \"cui\"], suffixes=('_syn', '_dtw'))\n",
    "#             .merge(lev_acc.loc[:, [\"doc_id\", \"cui\", \"mod\"]].assign(mod_lev = lambda x:x.mod).drop('mod',1), how = \"outer\", on =[\"doc_id\", \"cui\"])\n",
    "             .assign(true = lambda x:x.mod_man.notnull())\n",
    "             .assign(pred_ner = lambda x:x['mod_ner'].notnull())\n",
    "             .assign(pred_syn = lambda x:x['mod_syn'].notnull())\n",
    "             .assign(pred_cat = lambda x:x['mod_cat'].notnull())\n",
    "             .assign(pred_catnu = lambda x:x['mod_catnu'].notnull())\n",
    "\n",
    "#             .assign(pred_dtw = lambda x:x['mod_dtw'].notnull())\n",
    "#             .assign(pred_lev = lambda x:x['mod_lev'].notnull())\n",
    "\n",
    "            )"
   ]
  },
  {
   "cell_type": "code",
   "execution_count": 71,
   "metadata": {},
   "outputs": [],
   "source": [
    "all_merge = all_merge.loc[lambda x:x.mod_man.notnull()]"
   ]
  },
  {
   "cell_type": "code",
   "execution_count": 72,
   "metadata": {},
   "outputs": [
    {
     "data": {
      "text/html": [
       "<div>\n",
       "<style scoped>\n",
       "    .dataframe tbody tr th:only-of-type {\n",
       "        vertical-align: middle;\n",
       "    }\n",
       "\n",
       "    .dataframe tbody tr th {\n",
       "        vertical-align: top;\n",
       "    }\n",
       "\n",
       "    .dataframe thead th {\n",
       "        text-align: right;\n",
       "    }\n",
       "</style>\n",
       "<table border=\"1\" class=\"dataframe\">\n",
       "  <thead>\n",
       "    <tr style=\"text-align: right;\">\n",
       "      <th></th>\n",
       "      <th>doc_id</th>\n",
       "      <th>cui</th>\n",
       "      <th>mod_man</th>\n",
       "      <th>mod_ner</th>\n",
       "      <th>mod_syn</th>\n",
       "      <th>mod_cat</th>\n",
       "      <th>mod_catnu</th>\n",
       "      <th>true</th>\n",
       "      <th>pred_ner</th>\n",
       "      <th>pred_syn</th>\n",
       "      <th>pred_cat</th>\n",
       "      <th>pred_catnu</th>\n",
       "    </tr>\n",
       "  </thead>\n",
       "  <tbody>\n",
       "    <tr>\n",
       "      <th>0</th>\n",
       "      <td>13735351509</td>\n",
       "      <td>C0011175</td>\n",
       "      <td>manual</td>\n",
       "      <td>ner</td>\n",
       "      <td>syn</td>\n",
       "      <td>cat</td>\n",
       "      <td>catnu</td>\n",
       "      <td>True</td>\n",
       "      <td>True</td>\n",
       "      <td>True</td>\n",
       "      <td>True</td>\n",
       "      <td>True</td>\n",
       "    </tr>\n",
       "    <tr>\n",
       "      <th>1</th>\n",
       "      <td>13736496216</td>\n",
       "      <td>C0577821</td>\n",
       "      <td>manual</td>\n",
       "      <td>NaN</td>\n",
       "      <td>NaN</td>\n",
       "      <td>NaN</td>\n",
       "      <td>NaN</td>\n",
       "      <td>True</td>\n",
       "      <td>False</td>\n",
       "      <td>False</td>\n",
       "      <td>False</td>\n",
       "      <td>False</td>\n",
       "    </tr>\n",
       "    <tr>\n",
       "      <th>2</th>\n",
       "      <td>13736496216</td>\n",
       "      <td>C2939150</td>\n",
       "      <td>manual</td>\n",
       "      <td>NaN</td>\n",
       "      <td>NaN</td>\n",
       "      <td>NaN</td>\n",
       "      <td>NaN</td>\n",
       "      <td>True</td>\n",
       "      <td>False</td>\n",
       "      <td>False</td>\n",
       "      <td>False</td>\n",
       "      <td>False</td>\n",
       "    </tr>\n",
       "    <tr>\n",
       "      <th>3</th>\n",
       "      <td>13736496216</td>\n",
       "      <td>C3263723</td>\n",
       "      <td>manual</td>\n",
       "      <td>NaN</td>\n",
       "      <td>NaN</td>\n",
       "      <td>NaN</td>\n",
       "      <td>NaN</td>\n",
       "      <td>True</td>\n",
       "      <td>False</td>\n",
       "      <td>False</td>\n",
       "      <td>False</td>\n",
       "      <td>False</td>\n",
       "    </tr>\n",
       "    <tr>\n",
       "      <th>4</th>\n",
       "      <td>13736496216</td>\n",
       "      <td>C0231855</td>\n",
       "      <td>manual</td>\n",
       "      <td>NaN</td>\n",
       "      <td>NaN</td>\n",
       "      <td>NaN</td>\n",
       "      <td>NaN</td>\n",
       "      <td>True</td>\n",
       "      <td>False</td>\n",
       "      <td>False</td>\n",
       "      <td>False</td>\n",
       "      <td>False</td>\n",
       "    </tr>\n",
       "  </tbody>\n",
       "</table>\n",
       "</div>"
      ],
      "text/plain": [
       "        doc_id       cui mod_man mod_ner mod_syn mod_cat mod_catnu  true  \\\n",
       "0  13735351509  C0011175  manual     ner     syn     cat     catnu  True   \n",
       "1  13736496216  C0577821  manual     NaN     NaN     NaN       NaN  True   \n",
       "2  13736496216  C2939150  manual     NaN     NaN     NaN       NaN  True   \n",
       "3  13736496216  C3263723  manual     NaN     NaN     NaN       NaN  True   \n",
       "4  13736496216  C0231855  manual     NaN     NaN     NaN       NaN  True   \n",
       "\n",
       "   pred_ner  pred_syn  pred_cat  pred_catnu  \n",
       "0      True      True      True        True  \n",
       "1     False     False     False       False  \n",
       "2     False     False     False       False  \n",
       "3     False     False     False       False  \n",
       "4     False     False     False       False  "
      ]
     },
     "execution_count": 72,
     "metadata": {},
     "output_type": "execute_result"
    }
   ],
   "source": [
    "all_merge.head()"
   ]
  },
  {
   "cell_type": "code",
   "execution_count": 73,
   "metadata": {},
   "outputs": [
    {
     "data": {
      "text/html": [
       "<div>\n",
       "<style scoped>\n",
       "    .dataframe tbody tr th:only-of-type {\n",
       "        vertical-align: middle;\n",
       "    }\n",
       "\n",
       "    .dataframe tbody tr th {\n",
       "        vertical-align: top;\n",
       "    }\n",
       "\n",
       "    .dataframe thead th {\n",
       "        text-align: right;\n",
       "    }\n",
       "</style>\n",
       "<table border=\"1\" class=\"dataframe\">\n",
       "  <thead>\n",
       "    <tr style=\"text-align: right;\">\n",
       "      <th></th>\n",
       "      <th>total_pos</th>\n",
       "      <th>TP</th>\n",
       "      <th>FN</th>\n",
       "      <th>FP</th>\n",
       "      <th>Recall</th>\n",
       "      <th>Precision</th>\n",
       "      <th>F1</th>\n",
       "      <th>Accuracy</th>\n",
       "    </tr>\n",
       "  </thead>\n",
       "  <tbody>\n",
       "    <tr>\n",
       "      <th>NER + QuickUMLS (ent level)</th>\n",
       "      <td>0</td>\n",
       "      <td>0</td>\n",
       "      <td>0</td>\n",
       "      <td>403</td>\n",
       "      <td>0.01</td>\n",
       "      <td>1.0</td>\n",
       "      <td>0.02</td>\n",
       "      <td>0.01</td>\n",
       "    </tr>\n",
       "    <tr>\n",
       "      <th>QuickUMLS (ent level)</th>\n",
       "      <td>0</td>\n",
       "      <td>0</td>\n",
       "      <td>0</td>\n",
       "      <td>401</td>\n",
       "      <td>0.02</td>\n",
       "      <td>1.0</td>\n",
       "      <td>0.03</td>\n",
       "      <td>0.02</td>\n",
       "    </tr>\n",
       "    <tr>\n",
       "      <th>NER + cat e (ent level)</th>\n",
       "      <td>0</td>\n",
       "      <td>0</td>\n",
       "      <td>0</td>\n",
       "      <td>398</td>\n",
       "      <td>0.02</td>\n",
       "      <td>1.0</td>\n",
       "      <td>0.05</td>\n",
       "      <td>0.02</td>\n",
       "    </tr>\n",
       "    <tr>\n",
       "      <th>NER + cat no umls e (ent level)</th>\n",
       "      <td>0</td>\n",
       "      <td>0</td>\n",
       "      <td>0</td>\n",
       "      <td>400</td>\n",
       "      <td>0.02</td>\n",
       "      <td>1.0</td>\n",
       "      <td>0.04</td>\n",
       "      <td>0.02</td>\n",
       "    </tr>\n",
       "  </tbody>\n",
       "</table>\n",
       "</div>"
      ],
      "text/plain": [
       "                                 total_pos  TP  FN   FP  Recall  Precision  \\\n",
       "NER + QuickUMLS (ent level)              0   0   0  403    0.01        1.0   \n",
       "QuickUMLS (ent level)                    0   0   0  401    0.02        1.0   \n",
       "NER + cat e (ent level)                  0   0   0  398    0.02        1.0   \n",
       "NER + cat no umls e (ent level)          0   0   0  400    0.02        1.0   \n",
       "\n",
       "                                   F1  Accuracy  \n",
       "NER + QuickUMLS (ent level)      0.02      0.01  \n",
       "QuickUMLS (ent level)            0.03      0.02  \n",
       "NER + cat e (ent level)          0.05      0.02  \n",
       "NER + cat no umls e (ent level)  0.04      0.02  "
      ]
     },
     "execution_count": 73,
     "metadata": {},
     "output_type": "execute_result"
    }
   ],
   "source": [
    "pd.concat([compute_metrics(all_merge.true, all_merge.pred_ner, label = \"NER + QuickUMLS (ent level)\"), \n",
    "           compute_metrics(all_merge.true, all_merge.pred_syn, label = \"QuickUMLS (ent level)\"),\n",
    "           compute_metrics(all_merge.true, all_merge.pred_cat, label = \"NER + cat e (ent level)\"),\n",
    "           compute_metrics(all_merge.true, all_merge.pred_catnu, label = \"NER + cat no umls e (ent level)\")\n",
    "          ]\n",
    "\n",
    "         ).round(2)"
   ]
  },
  {
   "cell_type": "code",
   "execution_count": 78,
   "metadata": {},
   "outputs": [
    {
     "data": {
      "text/plain": [
       "true        408\n",
       "pred_syn      7\n",
       "pred_ner      5\n",
       "pred_cat     10\n",
       "dtype: int64"
      ]
     },
     "execution_count": 78,
     "metadata": {},
     "output_type": "execute_result"
    }
   ],
   "source": [
    "all_merge.loc[:,[\"true\", \"pred_syn\", \"pred_ner\", \"pred_cat\"]].sum(0)"
   ]
  },
  {
   "cell_type": "code",
   "execution_count": 32,
   "metadata": {},
   "outputs": [],
   "source": [
    "# python -m quickumls.install -E FR data/umls data/quickumls"
   ]
  },
  {
   "cell_type": "markdown",
   "metadata": {},
   "source": [
    "### 5. Qualitative comparison"
   ]
  },
  {
   "cell_type": "code",
   "execution_count": 128,
   "metadata": {},
   "outputs": [],
   "source": [
    "from pymedext_eds.viz import display_annotations"
   ]
  },
  {
   "cell_type": "code",
   "execution_count": 129,
   "metadata": {},
   "outputs": [],
   "source": [
    "doc_demo = rawtext_loader(\"data/test_data/pheno_norm.txt\")"
   ]
  },
  {
   "cell_type": "code",
   "execution_count": 130,
   "metadata": {},
   "outputs": [
    {
     "name": "stdout",
     "output_type": "stream",
     "text": [
      "CPU times: user 660 ms, sys: 16.5 ms, total: 676 ms\n",
      "Wall time: 115 ms\n"
     ]
    }
   ],
   "source": [
    "%%time\n",
    "doc_demo.annotate(pipeline_common)"
   ]
  },
  {
   "cell_type": "code",
   "execution_count": 131,
   "metadata": {},
   "outputs": [
    {
     "name": "stdout",
     "output_type": "stream",
     "text": [
      "CPU times: user 354 ms, sys: 49 µs, total: 354 ms\n",
      "Wall time: 353 ms\n"
     ]
    }
   ],
   "source": [
    "%%time\n",
    "doc_demo.annotate(pipe_compare)"
   ]
  },
  {
   "cell_type": "code",
   "execution_count": 112,
   "metadata": {},
   "outputs": [
    {
     "name": "stdout",
     "output_type": "stream",
     "text": [
      "CPU times: user 3min 6s, sys: 1.99 s, total: 3min 8s\n",
      "Wall time: 1min 22s\n"
     ]
    }
   ],
   "source": [
    "%%time\n",
    "doc_demo.annotate([norm_pheno_lev])"
   ]
  },
  {
   "cell_type": "code",
   "execution_count": 113,
   "metadata": {},
   "outputs": [
    {
     "name": "stdout",
     "output_type": "stream",
     "text": [
      "CPU times: user 3min 55s, sys: 7.67 s, total: 4min 3s\n",
      "Wall time: 2min 17s\n"
     ]
    }
   ],
   "source": [
    "%%time\n",
    "doc_demo.annotate([norm_pheno_dtw])"
   ]
  },
  {
   "cell_type": "code",
   "execution_count": 142,
   "metadata": {},
   "outputs": [
    {
     "name": "stdout",
     "output_type": "stream",
     "text": [
      "CPU times: user 36.8 s, sys: 621 ms, total: 37.4 s\n",
      "Wall time: 2.34 s\n"
     ]
    }
   ],
   "source": [
    "%%time\n",
    "doc_demo.annotate([norm_pheno_cat])\n"
   ]
  },
  {
   "cell_type": "code",
   "execution_count": 133,
   "metadata": {},
   "outputs": [
    {
     "name": "stdout",
     "output_type": "stream",
     "text": [
      "CPU times: user 1min 52s, sys: 2.04 s, total: 1min 54s\n",
      "Wall time: 9.21 s\n"
     ]
    }
   ],
   "source": [
    "%%time\n",
    "doc_demo.annotate([norm_pheno_cat_nu])"
   ]
  },
  {
   "cell_type": "code",
   "execution_count": 130,
   "metadata": {},
   "outputs": [],
   "source": [
    "test = [t['label'] for t in norm_pheno_cat_nu.dict_label.values()]"
   ]
  },
  {
   "cell_type": "code",
   "execution_count": 139,
   "metadata": {},
   "outputs": [],
   "source": [
    "#[t for t in test if re.search(\"insuffisance renale aigue\", t)]"
   ]
  },
  {
   "cell_type": "code",
   "execution_count": 73,
   "metadata": {},
   "outputs": [
    {
     "name": "stdout",
     "output_type": "stream",
     "text": [
      "                                                                En l'absence de trouble hemorragique -->           trouble hemorragique  (1.0)\n",
      "                                                             On ne retrouve pas d'hypocomplementemie -->             hypocomplementemie  (1.0)\n",
      "                                                 Le patien présente un rachitisme hypophosphatemique -->  rachitisme hypophosphatemique  (1.0)\n",
      "                                                    Doute sur un possible syndrome de walker-warburg -->     syndrome de walker-warburg  (1.0)\n",
      "                                Le patien présente un rachitisme avec de faible niveau de phosphates -->                     rachitisme  (1.0)\n",
      "                                                      Avec un antécédent de naissance avant le terme -->          naissance avant terme  (1.0)\n",
      "                                                Le patient présente un kyste au niveau du rein droit -->                          kyste  (1.0)\n",
      "                                              Le patient présente un kyste au niveau du poumon droit -->                          kyste  (1.0)\n",
      "                                                       Se présente avec un kyste au niveau du pelvis -->                          kyste  (1.0)\n",
      "                                                       Se présente avec un kyste au niveau splénique -->                          kyste  (1.0)\n",
      "                                                      Se présente avec un kyste au niveau de la rate -->                          kyste  (1.0)\n",
      "                                                                  Se présente avec un kyste saignant -->                          kyste  (1.0)\n",
      "                                                              Se présente avec un kyste hémorragique -->             kyste hemorragique  (1.0)\n",
      "                                                               , présence d'une lésion non déterminé -->                         lesion  (1.0)\n",
      "                                                               , présence d'une lésion non déterminé -->                         lesion  (1.0)\n",
      "                                                                    Antécédents d'HTAP et de diabète -->                        diabete  (1.0)\n",
      "                                                                    Antécédents d'HTAP et de diabète -->                           htap  (1.0)\n",
      "                                                                     Antécédents d'HTA et de diabète -->                        diabete  (1.0)\n",
      "                                                                                 Syndrome de Marphan -->                       syndrome  (1.0)\n",
      "                                                                                  Mydriase areactive -->                       mydriase  (1.0)\n",
      "                                                                                   Douleur au ventre -->                        douleur  (1.0)\n",
      "                                                                                        Douleur abdo -->                   douleur abdo  (1.0)\n",
      "                                                                                       Epigastralgie -->                  epigastralgie  (1.0)\n",
      "                                                Le bilan bio indique une créat à 200 signant une IRA -->                            ira  (1.0)\n",
      "                                    Patient de 38 ans souffrant d'IRC sur PKRAD hospitalisé pour IRA -->                      souffrant  (1.0)\n",
      "                                    Patient de 38 ans souffrant d'IRC sur PKRAD hospitalisé pour IRA -->                            ira  (1.0)\n",
      " Patient de 38 ans souffrant d'insuffisanc\" réname chronique sur polykistose rénale autoseomique dominante -->                      souffrant  (1.0)\n"
     ]
    }
   ],
   "source": [
    "for ann in doc_demo.get_annotations('umls_syntagme'):\n",
    "    print(\"{:>100} --> {:>30}  ({:>2})\".format(ann.attributes['snippet'], ann.attributes['label'], ann.attributes['score']))"
   ]
  },
  {
   "cell_type": "code",
   "execution_count": 74,
   "metadata": {},
   "outputs": [
    {
     "name": "stdout",
     "output_type": "stream",
     "text": [
      "                                Mydriase areactive -->                       mydriase  (1.0)\n",
      "                                 Douleur au ventre -->                        douleur  (1.0)\n",
      "                                      Douleur abdo -->                   douleur abdo  (1.0)\n",
      "                                     Epigastralgie -->                  epigastralgie  (1.0)\n"
     ]
    }
   ],
   "source": [
    "for ann in doc_demo.get_annotations('umls_signs'):\n",
    "    print(\"{:>50} --> {:>30}  ({:>2})\".format(ann.attributes['snippet'], ann.attributes['label'], ann.attributes['score']))"
   ]
  },
  {
   "cell_type": "code",
   "execution_count": 81,
   "metadata": {},
   "outputs": [
    {
     "name": "stdout",
     "output_type": "stream",
     "text": [
      "                              trouble hemorragique -->           trouble hemorragique  (1.0)\n",
      "                     rachitisme hypophosphatemique -->  rachitisme hypophosphatemique  (1.0)\n",
      "                        syndrome de walker-warburg -->     syndrome de walker-warburg  (1.0)\n",
      "                                        rachitisme -->                     rachitisme  (1.0)\n",
      "                     kyste au niveau du rein droit -->                          kyste  (1.0)\n",
      "                   kyste au niveau du poumon droit -->                          kyste  (1.0)\n",
      "                         kyste au niveau du pelvis -->                          kyste  (1.0)\n",
      "                         kyste au niveau splénique -->                          kyste  (1.0)\n",
      "                        kyste au niveau de la rate -->                          kyste  (1.0)\n",
      "                                    kyste saignant -->                          kyste  (1.0)\n",
      "                                kyste hémorragique -->             kyste hemorragique  (1.0)\n",
      "                                            lésion -->                         lesion  (1.0)\n",
      "                                            lésion -->                         lesion  (1.0)\n",
      "                                           diabète -->                        diabete  (1.0)\n",
      "                                           diabète -->                        diabete  (1.0)\n",
      "                               Syndrome de Marphan -->                       syndrome  (1.0)\n",
      "                                               IRA -->                            ira  (1.0)\n",
      "                                               IRA -->                            ira  (1.0)\n"
     ]
    }
   ],
   "source": [
    "for ann in doc_demo.get_annotations('umls_diag_name'):\n",
    "    print(\"{:>50} --> {:>30}  ({:>2})\".format(ann.attributes['snippet'], ann.attributes['label'], ann.attributes['score']))"
   ]
  },
  {
   "cell_type": "code",
   "execution_count": 83,
   "metadata": {},
   "outputs": [
    {
     "name": "stdout",
     "output_type": "stream",
     "text": [
      "                              trouble hemorragique -->           trouble hemorragique  (0.00) \n",
      "                     rachitisme hypophosphatemique -->  rachitisme hypophosphatemique  (0.00) \n",
      "                        syndrome de walker-warburg -->          syndrome de silverman  (0.17) \n",
      "                                        rachitisme -->                     rachitisme  (0.25) \n",
      "                    Sd de Walker-Warbourg débutant -->               Syndrome de Down  (0.50) \n",
      "                                    kyste saignant -->            kyste suprasellaire  (0.38) \n",
      "                                kyste hémorragique -->                kyste hepatique  (0.38) \n",
      "                                            lésion -->                         lesion  (0.50) \n",
      "                                       signes d'IC -->              absence d'appetit  (0.50) \n",
      "                                           diabète -->                        diabete  (0.00) \n",
      "                                           diabète -->                        diabete  (0.25) \n",
      "                                               IVG -->                            ivr  (0.25) \n",
      "                               Syndrome de Marphan -->         Syndrome de Shy-Drager  (0.17) \n",
      "                                           diabate -->                  coagulopathie  (0.50) \n",
      "                                 Douleur au ventre -->                Douleur au pied  (0.25) \n",
      "                                      Douleur abdo -->                   Douleur abdo  (0.00) \n",
      "                                     Epigastralgie -->                  Epigastralgie  (0.00) \n",
      "                                      bouche sèche -->                   Langue sèche  (0.50) \n",
      "                                               IRA -->                            ira  (0.25) \n",
      "                                               IRA -->                            ira  (0.25) \n",
      "         polykistose rénale autoseomique dominante --> Polykystose rénale autosomique dominante  (0.31) \n"
     ]
    }
   ],
   "source": [
    "for ann in doc_demo.get_annotations('lev_norm'):\n",
    "    if not ann.value:\n",
    "        continue\n",
    "    print(\"{:>50} --> {:>30}  ({:.2f}) \".format(ann.attributes['mention'], ann.attributes['label'], ann.attributes['score_ed']))"
   ]
  },
  {
   "cell_type": "code",
   "execution_count": 84,
   "metadata": {},
   "outputs": [
    {
     "name": "stdout",
     "output_type": "stream",
     "text": [
      "                              trouble hemorragique -->           trouble hemorragique  (6.69) \n",
      "                     rachitisme hypophosphatemique -->  rachitisme hypophosphatemique  (7.63) \n",
      "                         antécédent de prématurité -->          Anémie de prématurité  (35.97) \n",
      "                        syndrome de walker-warburg -->       syndrome de kleine-levin  (26.28) \n",
      "                              baisse du complément -->        modification du transit  (35.00) \n",
      "                                        rachitisme -->                     rachitisme  (7.03) \n",
      "                           antécédent de naissance -->           Dépassement de terme  (36.45) \n",
      "                  possible Walker-Warburg débutant -->               syndrome leopard  (42.95) \n",
      "                    Sd de Walker-Warbourg débutant -->     syndrome de walker-warburg  (38.51) \n",
      "                     kyste au niveau du rein droit -->                  kyste du rein  (46.17) \n",
      "                   kyste au niveau du poumon droit -->              kyste du pancreas  (49.32) \n",
      "                         kyste au niveau du pelvis -->              kyste du pancreas  (44.18) \n",
      "                         kyste au niveau splénique -->    kyste du cordon spermatique  (37.81) \n",
      "                        kyste au niveau de la rate -->             Douleur de la rate  (50.18) \n",
      "                                    kyste saignant -->             kyste retentionnel  (27.57) \n",
      "                                kyste hémorragique -->             Kyste hémorragique  (17.54) \n",
      "                                            lésion -->                         nodule  (21.22) \n",
      "                                            lésion -->                         nodule  (20.51) \n",
      "                                      signes d'ICG -->         syndrome d'heterotaxie  (26.83) \n",
      "                                      signes d'ICD -->         syndrome d'heterotaxie  (27.12) \n",
      "                                       signes d'IC -->         syndrome d'heterotaxie  (27.15) \n",
      "                             Auscultation anormale -->            conscience anormale  (22.69) \n",
      "                                           diabète -->                        diabete  (10.33) \n",
      "                                           diabète -->                        diabete  (10.49) \n",
      "                                               IVG -->                            ivu  (13.81) \n",
      "                                      se sent bien -->                  se sentir mal  (29.90) \n",
      "                                           va bien -->                       dort mal  (26.97) \n",
      "                               Syndrome de Marphan -->             Syndrome de Marfan  (18.06) \n",
      "                                Mydriase areactive -->              Myosis pupillaire  (27.49) \n",
      "                                           diabate -->                     diabetique  (13.95) \n",
      "                                 Douleur au ventre -->                Douleur au pied  (22.62) \n",
      "                                      Douleur abdo -->                   douleur abdo  (0.00) \n",
      "                                     Epigastralgie -->                  epigastralgie  (0.00) \n",
      "                                      bouche sèche -->                   Langue sèche  (25.20) \n",
      "                                               IRA -->                            ira  (8.77) \n",
      "                                             PKRAD -->                            pku  (19.87) \n",
      "                                               IRA -->                            ira  (7.70) \n",
      "                                \" réname chronique -->     Infection rénale chronique  (31.08) \n",
      "         polykistose rénale autoseomique dominante --> polykystose renale autosomique dominante  (25.91) \n"
     ]
    }
   ],
   "source": [
    "for ann in doc_demo.get_annotations('dtw_norm'):\n",
    "    if not ann.value:\n",
    "        continue\n",
    "    print(\"{:>50} --> {:>30}  ({:.2f}) \".format(ann.attributes['mention'], ann.attributes['label'], ann.attributes['score_ed']))"
   ]
  },
  {
   "cell_type": "code",
   "execution_count": 87,
   "metadata": {},
   "outputs": [
    {
     "name": "stdout",
     "output_type": "stream",
     "text": [
      "                              trouble hemorragique -->           trouble hemorragique  (0.97) \n",
      "                     rachitisme hypophosphatemique -->  rachitisme hypophosphatemique  (0.97) \n",
      "                         antécédent de prématurité --> Rétinopathie de la prématurité  (0.57) \n",
      "                        syndrome de walker-warburg -->           syndrome de stickler  (0.74) \n",
      "                              baisse du complément --> Déficits en protéines du complément  (0.53) \n",
      "                                        rachitisme -->                     rachitisme  (0.95) \n",
      "                           antécédent de naissance --> Hémorragie ombilicale après la naissance  (0.49) \n",
      "                  possible Walker-Warburg débutant -->        Schizophrénie débutante  (0.41) \n",
      "                    Sd de Walker-Warbourg débutant -->        Schizophrénie débutante  (0.57) \n",
      "                     kyste au niveau du rein droit -->           kyste du corps jaune  (0.62) \n",
      "                   kyste au niveau du poumon droit -->           cancer du sein droit  (0.64) \n",
      "                         kyste au niveau du pelvis -->                  kyste pelvien  (0.85) \n",
      "                         kyste au niveau splénique -->                kyste splenique  (0.86) \n",
      "                        kyste au niveau de la rate -->                  kyste du rein  (0.71) \n",
      "                                    kyste saignant -->             kyste retentionnel  (0.58) \n",
      "                                kyste hémorragique -->             Kyste hémorragique  (0.83) \n",
      "                                            lésion -->             Lésion de la lèvre  (0.60) \n",
      "                                            lésion -->                         nodule  (0.58) \n",
      "                                      signes d'ICG -->         syndrome d'heterotaxie  (0.65) \n",
      "                                      signes d'ICD -->         syndrome d'heterotaxie  (0.63) \n",
      "                                       signes d'IC -->         syndrome d'heterotaxie  (0.63) \n",
      "                             Auscultation anormale --> auscultation pulmonaire anormale  (0.91) \n",
      "                                           diabète -->                        diabete  (0.91) \n",
      "                                           diabète -->                        diabete  (0.90) \n",
      "                                               IVG -->                            ivu  (0.77) \n",
      "                                      se sent bien -->               se sent tres mal  (0.78) \n",
      "                                           va bien -->            Ne se sent pas bien  (0.60) \n",
      "                               Syndrome de Marphan -->             Syndrome de Marfan  (0.88) \n",
      "                                Mydriase areactive -->              Myosis pupillaire  (0.61) \n",
      "                                           diabate -->                     diabetique  (0.78) \n",
      "                                 Douleur au ventre -->                 Douleur du dos  (0.83) \n",
      "                                      Douleur abdo -->                   douleur abdo  (1.00) \n",
      "                                     Epigastralgie -->                  epigastralgie  (1.00) \n",
      "                                      bouche sèche -->                   Langue sèche  (0.67) \n",
      "                                               IRA -->                            ira  (0.91) \n",
      "                                             PKRAD -->                            pku  (0.58) \n",
      "                                               IRA -->                            ira  (0.95) \n",
      "                                \" réname chronique -->   defaillance renale chronique  (0.60) \n",
      "         polykistose rénale autoseomique dominante --> polykystose renale autosomique dominante  (0.88) \n"
     ]
    }
   ],
   "source": [
    "for ann in doc_demo.get_annotations('cat_norm'):\n",
    "    if not ann.value:\n",
    "        continue\n",
    "    print(\"{:>50} --> {:>30}  ({:.2f}) \".format(ann.attributes['mention'], ann.attributes['label'], ann.attributes['score_ed']))"
   ]
  },
  {
   "cell_type": "code",
   "execution_count": 143,
   "metadata": {},
   "outputs": [],
   "source": [
    "moi = ['umls_diag_name', 'umls_signs', 'cat_norm', 'cat_norm_nu', 'dtw_norm', 'lev_norm']\n",
    "moi = ['umls_diag_name', 'umls_signs', 'cat_norm', 'cat_norm_nu']"
   ]
  },
  {
   "cell_type": "code",
   "execution_count": 144,
   "metadata": {},
   "outputs": [],
   "source": [
    "acc = []\n",
    "for method in moi:\n",
    "    for ann in doc_demo.get_annotations(method):\n",
    "        if not ann.value:\n",
    "            continue\n",
    "            \n",
    "        if method in [ 'umls_signs', 'umls_diag_name'] :\n",
    "            mention = ann.attributes['snippet']\n",
    "        else:\n",
    "            mention = ann.attributes['mention']\n",
    "\n",
    "        tmp = {\"method\":method, \"mention\":mention, \"label\":ann.attributes['label']}\n",
    "        acc.append(tmp)"
   ]
  },
  {
   "cell_type": "code",
   "execution_count": 145,
   "metadata": {},
   "outputs": [],
   "source": [
    "res = pd.DataFrame(acc).drop_duplicates([\"method\", \"mention\"]).pivot(index=\"mention\", columns=\"method\", values=\"label\")\n"
   ]
  },
  {
   "cell_type": "code",
   "execution_count": 146,
   "metadata": {},
   "outputs": [
    {
     "data": {
      "text/html": [
       "<div>\n",
       "<style scoped>\n",
       "    .dataframe tbody tr th:only-of-type {\n",
       "        vertical-align: middle;\n",
       "    }\n",
       "\n",
       "    .dataframe tbody tr th {\n",
       "        vertical-align: top;\n",
       "    }\n",
       "\n",
       "    .dataframe thead th {\n",
       "        text-align: right;\n",
       "    }\n",
       "</style>\n",
       "<table border=\"1\" class=\"dataframe\">\n",
       "  <thead>\n",
       "    <tr style=\"text-align: right;\">\n",
       "      <th>method</th>\n",
       "      <th>cat_norm</th>\n",
       "      <th>cat_norm_nu</th>\n",
       "      <th>umls_diag_name</th>\n",
       "      <th>umls_signs</th>\n",
       "    </tr>\n",
       "    <tr>\n",
       "      <th>mention</th>\n",
       "      <th></th>\n",
       "      <th></th>\n",
       "      <th></th>\n",
       "      <th></th>\n",
       "    </tr>\n",
       "  </thead>\n",
       "  <tbody>\n",
       "    <tr>\n",
       "      <th>\" réname chronique</th>\n",
       "      <td>Fusion rénale</td>\n",
       "      <td>Infection rénale chronique</td>\n",
       "      <td>NaN</td>\n",
       "      <td>NaN</td>\n",
       "    </tr>\n",
       "    <tr>\n",
       "      <th>Auscultation anormale</th>\n",
       "      <td>auscultation pulmonaire anormale</td>\n",
       "      <td>auscultation pulmonaire anormale</td>\n",
       "      <td>NaN</td>\n",
       "      <td>NaN</td>\n",
       "    </tr>\n",
       "    <tr>\n",
       "      <th>Douleur abdo</th>\n",
       "      <td>douleur abdo</td>\n",
       "      <td>douleur abdo</td>\n",
       "      <td>NaN</td>\n",
       "      <td>douleur abdo</td>\n",
       "    </tr>\n",
       "    <tr>\n",
       "      <th>Douleur au ventre</th>\n",
       "      <td>Douleur au cou</td>\n",
       "      <td>Douleur au cou</td>\n",
       "      <td>NaN</td>\n",
       "      <td>douleur</td>\n",
       "    </tr>\n",
       "    <tr>\n",
       "      <th>Epigastralgie</th>\n",
       "      <td>epigastralgie</td>\n",
       "      <td>Epigastralgie</td>\n",
       "      <td>NaN</td>\n",
       "      <td>epigastralgie</td>\n",
       "    </tr>\n",
       "    <tr>\n",
       "      <th>IRA</th>\n",
       "      <td>ira</td>\n",
       "      <td>ira</td>\n",
       "      <td>ira</td>\n",
       "      <td>NaN</td>\n",
       "    </tr>\n",
       "    <tr>\n",
       "      <th>IVG</th>\n",
       "      <td>ivu</td>\n",
       "      <td>ivu</td>\n",
       "      <td>NaN</td>\n",
       "      <td>NaN</td>\n",
       "    </tr>\n",
       "    <tr>\n",
       "      <th>Mydriase areactive</th>\n",
       "      <td>Mydriase</td>\n",
       "      <td>Mydriase</td>\n",
       "      <td>NaN</td>\n",
       "      <td>mydriase</td>\n",
       "    </tr>\n",
       "    <tr>\n",
       "      <th>PKRAD</th>\n",
       "      <td>pku</td>\n",
       "      <td>pku</td>\n",
       "      <td>NaN</td>\n",
       "      <td>NaN</td>\n",
       "    </tr>\n",
       "    <tr>\n",
       "      <th>Sd de Walker-Warbourg débutant</th>\n",
       "      <td>syndrome de walker-warburg</td>\n",
       "      <td>syndrome de walker-warburg</td>\n",
       "      <td>NaN</td>\n",
       "      <td>NaN</td>\n",
       "    </tr>\n",
       "    <tr>\n",
       "      <th>Syndrome de Marphan</th>\n",
       "      <td>Syndrome de Marfan</td>\n",
       "      <td>Syndrome de Marfan</td>\n",
       "      <td>syndrome</td>\n",
       "      <td>NaN</td>\n",
       "    </tr>\n",
       "    <tr>\n",
       "      <th>antécédent de naissance</th>\n",
       "      <td>antecedents familiaux de cancer</td>\n",
       "      <td>antecedents familiaux de cancer</td>\n",
       "      <td>NaN</td>\n",
       "      <td>NaN</td>\n",
       "    </tr>\n",
       "    <tr>\n",
       "      <th>antécédent de prématurité</th>\n",
       "      <td>antecedents familiaux de cancer</td>\n",
       "      <td>antecedents familiaux de cancer</td>\n",
       "      <td>NaN</td>\n",
       "      <td>NaN</td>\n",
       "    </tr>\n",
       "    <tr>\n",
       "      <th>baisse du complément</th>\n",
       "      <td>augmentation du fer serique</td>\n",
       "      <td>augmentation du fer serique</td>\n",
       "      <td>NaN</td>\n",
       "      <td>NaN</td>\n",
       "    </tr>\n",
       "    <tr>\n",
       "      <th>bouche sèche</th>\n",
       "      <td>bouche seche</td>\n",
       "      <td>bouche seche</td>\n",
       "      <td>NaN</td>\n",
       "      <td>NaN</td>\n",
       "    </tr>\n",
       "    <tr>\n",
       "      <th>diabate</th>\n",
       "      <td>diabetique</td>\n",
       "      <td>diabete</td>\n",
       "      <td>NaN</td>\n",
       "      <td>NaN</td>\n",
       "    </tr>\n",
       "    <tr>\n",
       "      <th>diabète</th>\n",
       "      <td>diabete</td>\n",
       "      <td>diabete</td>\n",
       "      <td>diabete</td>\n",
       "      <td>NaN</td>\n",
       "    </tr>\n",
       "    <tr>\n",
       "      <th>kyste au niveau de la rate</th>\n",
       "      <td>kyste du pancreas</td>\n",
       "      <td>kyste du pancreas</td>\n",
       "      <td>kyste</td>\n",
       "      <td>NaN</td>\n",
       "    </tr>\n",
       "    <tr>\n",
       "      <th>kyste au niveau du pelvis</th>\n",
       "      <td>kyste au sein</td>\n",
       "      <td>kyste au sein</td>\n",
       "      <td>kyste</td>\n",
       "      <td>NaN</td>\n",
       "    </tr>\n",
       "    <tr>\n",
       "      <th>kyste au niveau du poumon droit</th>\n",
       "      <td>kyste du pancreas</td>\n",
       "      <td>kyste du pancreas</td>\n",
       "      <td>kyste</td>\n",
       "      <td>NaN</td>\n",
       "    </tr>\n",
       "    <tr>\n",
       "      <th>kyste au niveau du rein droit</th>\n",
       "      <td>kyste du rein</td>\n",
       "      <td>kyste du rein</td>\n",
       "      <td>kyste</td>\n",
       "      <td>NaN</td>\n",
       "    </tr>\n",
       "    <tr>\n",
       "      <th>kyste au niveau splénique</th>\n",
       "      <td>kyste du cordon spermatique</td>\n",
       "      <td>kyste du cordon spermatique</td>\n",
       "      <td>kyste</td>\n",
       "      <td>NaN</td>\n",
       "    </tr>\n",
       "    <tr>\n",
       "      <th>kyste hémorragique</th>\n",
       "      <td>kyste</td>\n",
       "      <td>kyste</td>\n",
       "      <td>kyste hemorragique</td>\n",
       "      <td>NaN</td>\n",
       "    </tr>\n",
       "    <tr>\n",
       "      <th>kyste saignant</th>\n",
       "      <td>kyste</td>\n",
       "      <td>kyste</td>\n",
       "      <td>kyste</td>\n",
       "      <td>NaN</td>\n",
       "    </tr>\n",
       "    <tr>\n",
       "      <th>lésion</th>\n",
       "      <td>lesion intracranienne</td>\n",
       "      <td>lesion intracranienne</td>\n",
       "      <td>lesion</td>\n",
       "      <td>NaN</td>\n",
       "    </tr>\n",
       "    <tr>\n",
       "      <th>polykistose rénale autoseomique dominante</th>\n",
       "      <td>polykystose renale autosomique dominante</td>\n",
       "      <td>polykystose renale autosomique dominante</td>\n",
       "      <td>NaN</td>\n",
       "      <td>NaN</td>\n",
       "    </tr>\n",
       "    <tr>\n",
       "      <th>possible Walker-Warburg débutant</th>\n",
       "      <td>syndrome de lennox-gastaut</td>\n",
       "      <td>Syndrome de Hajdu-Cheney</td>\n",
       "      <td>NaN</td>\n",
       "      <td>NaN</td>\n",
       "    </tr>\n",
       "    <tr>\n",
       "      <th>rachitisme</th>\n",
       "      <td>rachitisme</td>\n",
       "      <td>rachitisme</td>\n",
       "      <td>rachitisme</td>\n",
       "      <td>NaN</td>\n",
       "    </tr>\n",
       "    <tr>\n",
       "      <th>rachitisme hypophosphatemique</th>\n",
       "      <td>rachitisme hypophosphatemique</td>\n",
       "      <td>rachitisme hypophosphatemique</td>\n",
       "      <td>rachitisme hypophosphatemique</td>\n",
       "      <td>NaN</td>\n",
       "    </tr>\n",
       "    <tr>\n",
       "      <th>se sent bien</th>\n",
       "      <td>se sent tres mal</td>\n",
       "      <td>se sent tres mal</td>\n",
       "      <td>NaN</td>\n",
       "      <td>NaN</td>\n",
       "    </tr>\n",
       "    <tr>\n",
       "      <th>signes d'IC</th>\n",
       "      <td>signes ecg d'ischemie myocardique</td>\n",
       "      <td>signes ecg d'ischemie myocardique</td>\n",
       "      <td>NaN</td>\n",
       "      <td>NaN</td>\n",
       "    </tr>\n",
       "    <tr>\n",
       "      <th>signes d'ICD</th>\n",
       "      <td>signes ecg d'ischemie myocardique</td>\n",
       "      <td>signes ecg d'ischemie myocardique</td>\n",
       "      <td>NaN</td>\n",
       "      <td>NaN</td>\n",
       "    </tr>\n",
       "    <tr>\n",
       "      <th>signes d'ICG</th>\n",
       "      <td>signes ecg d'ischemie myocardique</td>\n",
       "      <td>signes ecg d'ischemie myocardique</td>\n",
       "      <td>NaN</td>\n",
       "      <td>NaN</td>\n",
       "    </tr>\n",
       "    <tr>\n",
       "      <th>syndrome de walker-warburg</th>\n",
       "      <td>syndrome de lennox-gastaut</td>\n",
       "      <td>syndrome de lennox-gastaut</td>\n",
       "      <td>syndrome de walker-warburg</td>\n",
       "      <td>NaN</td>\n",
       "    </tr>\n",
       "    <tr>\n",
       "      <th>trouble hemorragique</th>\n",
       "      <td>trouble hemorragique</td>\n",
       "      <td>trouble hemorragique</td>\n",
       "      <td>trouble hemorragique</td>\n",
       "      <td>NaN</td>\n",
       "    </tr>\n",
       "    <tr>\n",
       "      <th>va bien</th>\n",
       "      <td>dort mal</td>\n",
       "      <td>dort mal</td>\n",
       "      <td>NaN</td>\n",
       "      <td>NaN</td>\n",
       "    </tr>\n",
       "  </tbody>\n",
       "</table>\n",
       "</div>"
      ],
      "text/plain": [
       "method                                                                     cat_norm  \\\n",
       "mention                                                                               \n",
       "\" réname chronique                                                    Fusion rénale   \n",
       "Auscultation anormale                              auscultation pulmonaire anormale   \n",
       "Douleur abdo                                                           douleur abdo   \n",
       "Douleur au ventre                                                    Douleur au cou   \n",
       "Epigastralgie                                                         epigastralgie   \n",
       "IRA                                                                             ira   \n",
       "IVG                                                                             ivu   \n",
       "Mydriase areactive                                                         Mydriase   \n",
       "PKRAD                                                                           pku   \n",
       "Sd de Walker-Warbourg débutant                           syndrome de walker-warburg   \n",
       "Syndrome de Marphan                                              Syndrome de Marfan   \n",
       "antécédent de naissance                             antecedents familiaux de cancer   \n",
       "antécédent de prématurité                           antecedents familiaux de cancer   \n",
       "baisse du complément                                    augmentation du fer serique   \n",
       "bouche sèche                                                           bouche seche   \n",
       "diabate                                                                  diabetique   \n",
       "diabète                                                                     diabete   \n",
       "kyste au niveau de la rate                                        kyste du pancreas   \n",
       "kyste au niveau du pelvis                                             kyste au sein   \n",
       "kyste au niveau du poumon droit                                   kyste du pancreas   \n",
       "kyste au niveau du rein droit                                         kyste du rein   \n",
       "kyste au niveau splénique                               kyste du cordon spermatique   \n",
       "kyste hémorragique                                                            kyste   \n",
       "kyste saignant                                                                kyste   \n",
       "lésion                                                        lesion intracranienne   \n",
       "polykistose rénale autoseomique dominante  polykystose renale autosomique dominante   \n",
       "possible Walker-Warburg débutant                         syndrome de lennox-gastaut   \n",
       "rachitisme                                                               rachitisme   \n",
       "rachitisme hypophosphatemique                         rachitisme hypophosphatemique   \n",
       "se sent bien                                                       se sent tres mal   \n",
       "signes d'IC                                       signes ecg d'ischemie myocardique   \n",
       "signes d'ICD                                      signes ecg d'ischemie myocardique   \n",
       "signes d'ICG                                      signes ecg d'ischemie myocardique   \n",
       "syndrome de walker-warburg                               syndrome de lennox-gastaut   \n",
       "trouble hemorragique                                           trouble hemorragique   \n",
       "va bien                                                                    dort mal   \n",
       "\n",
       "method                                                                  cat_norm_nu  \\\n",
       "mention                                                                               \n",
       "\" réname chronique                                       Infection rénale chronique   \n",
       "Auscultation anormale                              auscultation pulmonaire anormale   \n",
       "Douleur abdo                                                           douleur abdo   \n",
       "Douleur au ventre                                                    Douleur au cou   \n",
       "Epigastralgie                                                         Epigastralgie   \n",
       "IRA                                                                             ira   \n",
       "IVG                                                                             ivu   \n",
       "Mydriase areactive                                                         Mydriase   \n",
       "PKRAD                                                                           pku   \n",
       "Sd de Walker-Warbourg débutant                           syndrome de walker-warburg   \n",
       "Syndrome de Marphan                                              Syndrome de Marfan   \n",
       "antécédent de naissance                             antecedents familiaux de cancer   \n",
       "antécédent de prématurité                           antecedents familiaux de cancer   \n",
       "baisse du complément                                    augmentation du fer serique   \n",
       "bouche sèche                                                           bouche seche   \n",
       "diabate                                                                     diabete   \n",
       "diabète                                                                     diabete   \n",
       "kyste au niveau de la rate                                        kyste du pancreas   \n",
       "kyste au niveau du pelvis                                             kyste au sein   \n",
       "kyste au niveau du poumon droit                                   kyste du pancreas   \n",
       "kyste au niveau du rein droit                                         kyste du rein   \n",
       "kyste au niveau splénique                               kyste du cordon spermatique   \n",
       "kyste hémorragique                                                            kyste   \n",
       "kyste saignant                                                                kyste   \n",
       "lésion                                                        lesion intracranienne   \n",
       "polykistose rénale autoseomique dominante  polykystose renale autosomique dominante   \n",
       "possible Walker-Warburg débutant                           Syndrome de Hajdu-Cheney   \n",
       "rachitisme                                                               rachitisme   \n",
       "rachitisme hypophosphatemique                         rachitisme hypophosphatemique   \n",
       "se sent bien                                                       se sent tres mal   \n",
       "signes d'IC                                       signes ecg d'ischemie myocardique   \n",
       "signes d'ICD                                      signes ecg d'ischemie myocardique   \n",
       "signes d'ICG                                      signes ecg d'ischemie myocardique   \n",
       "syndrome de walker-warburg                               syndrome de lennox-gastaut   \n",
       "trouble hemorragique                                           trouble hemorragique   \n",
       "va bien                                                                    dort mal   \n",
       "\n",
       "method                                                    umls_diag_name  \\\n",
       "mention                                                                    \n",
       "\" réname chronique                                                   NaN   \n",
       "Auscultation anormale                                                NaN   \n",
       "Douleur abdo                                                         NaN   \n",
       "Douleur au ventre                                                    NaN   \n",
       "Epigastralgie                                                        NaN   \n",
       "IRA                                                                  ira   \n",
       "IVG                                                                  NaN   \n",
       "Mydriase areactive                                                   NaN   \n",
       "PKRAD                                                                NaN   \n",
       "Sd de Walker-Warbourg débutant                                       NaN   \n",
       "Syndrome de Marphan                                             syndrome   \n",
       "antécédent de naissance                                              NaN   \n",
       "antécédent de prématurité                                            NaN   \n",
       "baisse du complément                                                 NaN   \n",
       "bouche sèche                                                         NaN   \n",
       "diabate                                                              NaN   \n",
       "diabète                                                          diabete   \n",
       "kyste au niveau de la rate                                         kyste   \n",
       "kyste au niveau du pelvis                                          kyste   \n",
       "kyste au niveau du poumon droit                                    kyste   \n",
       "kyste au niveau du rein droit                                      kyste   \n",
       "kyste au niveau splénique                                          kyste   \n",
       "kyste hémorragique                                    kyste hemorragique   \n",
       "kyste saignant                                                     kyste   \n",
       "lésion                                                            lesion   \n",
       "polykistose rénale autoseomique dominante                            NaN   \n",
       "possible Walker-Warburg débutant                                     NaN   \n",
       "rachitisme                                                    rachitisme   \n",
       "rachitisme hypophosphatemique              rachitisme hypophosphatemique   \n",
       "se sent bien                                                         NaN   \n",
       "signes d'IC                                                          NaN   \n",
       "signes d'ICD                                                         NaN   \n",
       "signes d'ICG                                                         NaN   \n",
       "syndrome de walker-warburg                    syndrome de walker-warburg   \n",
       "trouble hemorragique                                trouble hemorragique   \n",
       "va bien                                                              NaN   \n",
       "\n",
       "method                                        umls_signs  \n",
       "mention                                                   \n",
       "\" réname chronique                                   NaN  \n",
       "Auscultation anormale                                NaN  \n",
       "Douleur abdo                                douleur abdo  \n",
       "Douleur au ventre                                douleur  \n",
       "Epigastralgie                              epigastralgie  \n",
       "IRA                                                  NaN  \n",
       "IVG                                                  NaN  \n",
       "Mydriase areactive                              mydriase  \n",
       "PKRAD                                                NaN  \n",
       "Sd de Walker-Warbourg débutant                       NaN  \n",
       "Syndrome de Marphan                                  NaN  \n",
       "antécédent de naissance                              NaN  \n",
       "antécédent de prématurité                            NaN  \n",
       "baisse du complément                                 NaN  \n",
       "bouche sèche                                         NaN  \n",
       "diabate                                              NaN  \n",
       "diabète                                              NaN  \n",
       "kyste au niveau de la rate                           NaN  \n",
       "kyste au niveau du pelvis                            NaN  \n",
       "kyste au niveau du poumon droit                      NaN  \n",
       "kyste au niveau du rein droit                        NaN  \n",
       "kyste au niveau splénique                            NaN  \n",
       "kyste hémorragique                                   NaN  \n",
       "kyste saignant                                       NaN  \n",
       "lésion                                               NaN  \n",
       "polykistose rénale autoseomique dominante            NaN  \n",
       "possible Walker-Warburg débutant                     NaN  \n",
       "rachitisme                                           NaN  \n",
       "rachitisme hypophosphatemique                        NaN  \n",
       "se sent bien                                         NaN  \n",
       "signes d'IC                                          NaN  \n",
       "signes d'ICD                                         NaN  \n",
       "signes d'ICG                                         NaN  \n",
       "syndrome de walker-warburg                           NaN  \n",
       "trouble hemorragique                                 NaN  \n",
       "va bien                                              NaN  "
      ]
     },
     "execution_count": 146,
     "metadata": {},
     "output_type": "execute_result"
    }
   ],
   "source": [
    "res"
   ]
  },
  {
   "cell_type": "code",
   "execution_count": 147,
   "metadata": {},
   "outputs": [
    {
     "data": {
      "text/html": [
       "<div>\n",
       "<style scoped>\n",
       "    .dataframe tbody tr th:only-of-type {\n",
       "        vertical-align: middle;\n",
       "    }\n",
       "\n",
       "    .dataframe tbody tr th {\n",
       "        vertical-align: top;\n",
       "    }\n",
       "\n",
       "    .dataframe thead th {\n",
       "        text-align: right;\n",
       "    }\n",
       "</style>\n",
       "<table border=\"1\" class=\"dataframe\">\n",
       "  <thead>\n",
       "    <tr style=\"text-align: right;\">\n",
       "      <th>method</th>\n",
       "      <th>umls_diag_name</th>\n",
       "      <th>umls_signs</th>\n",
       "      <th>cat_norm</th>\n",
       "      <th>cat_norm_nu</th>\n",
       "    </tr>\n",
       "    <tr>\n",
       "      <th>mention</th>\n",
       "      <th></th>\n",
       "      <th></th>\n",
       "      <th></th>\n",
       "      <th></th>\n",
       "    </tr>\n",
       "  </thead>\n",
       "  <tbody>\n",
       "    <tr>\n",
       "      <th>kyste au niveau de la rate</th>\n",
       "      <td>kyste</td>\n",
       "      <td>NaN</td>\n",
       "      <td>kyste du pancreas</td>\n",
       "      <td>kyste du pancreas</td>\n",
       "    </tr>\n",
       "    <tr>\n",
       "      <th>kyste au niveau du pelvis</th>\n",
       "      <td>kyste</td>\n",
       "      <td>NaN</td>\n",
       "      <td>kyste au sein</td>\n",
       "      <td>kyste au sein</td>\n",
       "    </tr>\n",
       "    <tr>\n",
       "      <th>kyste au niveau du poumon droit</th>\n",
       "      <td>kyste</td>\n",
       "      <td>NaN</td>\n",
       "      <td>kyste du pancreas</td>\n",
       "      <td>kyste du pancreas</td>\n",
       "    </tr>\n",
       "    <tr>\n",
       "      <th>kyste au niveau du rein droit</th>\n",
       "      <td>kyste</td>\n",
       "      <td>NaN</td>\n",
       "      <td>kyste du rein</td>\n",
       "      <td>kyste du rein</td>\n",
       "    </tr>\n",
       "    <tr>\n",
       "      <th>kyste au niveau splénique</th>\n",
       "      <td>kyste</td>\n",
       "      <td>NaN</td>\n",
       "      <td>kyste du cordon spermatique</td>\n",
       "      <td>kyste du cordon spermatique</td>\n",
       "    </tr>\n",
       "    <tr>\n",
       "      <th>kyste hémorragique</th>\n",
       "      <td>kyste hemorragique</td>\n",
       "      <td>NaN</td>\n",
       "      <td>kyste</td>\n",
       "      <td>kyste</td>\n",
       "    </tr>\n",
       "    <tr>\n",
       "      <th>kyste saignant</th>\n",
       "      <td>kyste</td>\n",
       "      <td>NaN</td>\n",
       "      <td>kyste</td>\n",
       "      <td>kyste</td>\n",
       "    </tr>\n",
       "  </tbody>\n",
       "</table>\n",
       "</div>"
      ],
      "text/plain": [
       "method                               umls_diag_name umls_signs  \\\n",
       "mention                                                          \n",
       "kyste au niveau de la rate                    kyste        NaN   \n",
       "kyste au niveau du pelvis                     kyste        NaN   \n",
       "kyste au niveau du poumon droit               kyste        NaN   \n",
       "kyste au niveau du rein droit                 kyste        NaN   \n",
       "kyste au niveau splénique                     kyste        NaN   \n",
       "kyste hémorragique               kyste hemorragique        NaN   \n",
       "kyste saignant                                kyste        NaN   \n",
       "\n",
       "method                                              cat_norm  \\\n",
       "mention                                                        \n",
       "kyste au niveau de la rate                 kyste du pancreas   \n",
       "kyste au niveau du pelvis                      kyste au sein   \n",
       "kyste au niveau du poumon droit            kyste du pancreas   \n",
       "kyste au niveau du rein droit                  kyste du rein   \n",
       "kyste au niveau splénique        kyste du cordon spermatique   \n",
       "kyste hémorragique                                     kyste   \n",
       "kyste saignant                                         kyste   \n",
       "\n",
       "method                                           cat_norm_nu  \n",
       "mention                                                       \n",
       "kyste au niveau de la rate                 kyste du pancreas  \n",
       "kyste au niveau du pelvis                      kyste au sein  \n",
       "kyste au niveau du poumon droit            kyste du pancreas  \n",
       "kyste au niveau du rein droit                  kyste du rein  \n",
       "kyste au niveau splénique        kyste du cordon spermatique  \n",
       "kyste hémorragique                                     kyste  \n",
       "kyste saignant                                         kyste  "
      ]
     },
     "execution_count": 147,
     "metadata": {},
     "output_type": "execute_result"
    }
   ],
   "source": [
    "res.loc[res.index.str.contains('kyste')].loc[:, moi]"
   ]
  },
  {
   "cell_type": "code",
   "execution_count": 148,
   "metadata": {},
   "outputs": [
    {
     "data": {
      "text/html": [
       "<div>\n",
       "<style scoped>\n",
       "    .dataframe tbody tr th:only-of-type {\n",
       "        vertical-align: middle;\n",
       "    }\n",
       "\n",
       "    .dataframe tbody tr th {\n",
       "        vertical-align: top;\n",
       "    }\n",
       "\n",
       "    .dataframe thead th {\n",
       "        text-align: right;\n",
       "    }\n",
       "</style>\n",
       "<table border=\"1\" class=\"dataframe\">\n",
       "  <thead>\n",
       "    <tr style=\"text-align: right;\">\n",
       "      <th>method</th>\n",
       "      <th>umls_diag_name</th>\n",
       "      <th>umls_signs</th>\n",
       "      <th>cat_norm</th>\n",
       "      <th>cat_norm_nu</th>\n",
       "    </tr>\n",
       "    <tr>\n",
       "      <th>mention</th>\n",
       "      <th></th>\n",
       "      <th></th>\n",
       "      <th></th>\n",
       "      <th></th>\n",
       "    </tr>\n",
       "  </thead>\n",
       "  <tbody>\n",
       "    <tr>\n",
       "      <th>Syndrome de Marphan</th>\n",
       "      <td>syndrome</td>\n",
       "      <td>NaN</td>\n",
       "      <td>Syndrome de Marfan</td>\n",
       "      <td>Syndrome de Marfan</td>\n",
       "    </tr>\n",
       "    <tr>\n",
       "      <th>diabate</th>\n",
       "      <td>NaN</td>\n",
       "      <td>NaN</td>\n",
       "      <td>diabetique</td>\n",
       "      <td>diabete</td>\n",
       "    </tr>\n",
       "    <tr>\n",
       "      <th>polykistose rénale autoseomique dominante</th>\n",
       "      <td>NaN</td>\n",
       "      <td>NaN</td>\n",
       "      <td>polykystose renale autosomique dominante</td>\n",
       "      <td>polykystose renale autosomique dominante</td>\n",
       "    </tr>\n",
       "    <tr>\n",
       "      <th>trouble hemorragique</th>\n",
       "      <td>trouble hemorragique</td>\n",
       "      <td>NaN</td>\n",
       "      <td>trouble hemorragique</td>\n",
       "      <td>trouble hemorragique</td>\n",
       "    </tr>\n",
       "  </tbody>\n",
       "</table>\n",
       "</div>"
      ],
      "text/plain": [
       "method                                           umls_diag_name umls_signs  \\\n",
       "mention                                                                      \n",
       "Syndrome de Marphan                                    syndrome        NaN   \n",
       "diabate                                                     NaN        NaN   \n",
       "polykistose rénale autoseomique dominante                   NaN        NaN   \n",
       "trouble hemorragique                       trouble hemorragique        NaN   \n",
       "\n",
       "method                                                                     cat_norm  \\\n",
       "mention                                                                               \n",
       "Syndrome de Marphan                                              Syndrome de Marfan   \n",
       "diabate                                                                  diabetique   \n",
       "polykistose rénale autoseomique dominante  polykystose renale autosomique dominante   \n",
       "trouble hemorragique                                           trouble hemorragique   \n",
       "\n",
       "method                                                                  cat_norm_nu  \n",
       "mention                                                                              \n",
       "Syndrome de Marphan                                              Syndrome de Marfan  \n",
       "diabate                                                                     diabete  \n",
       "polykistose rénale autoseomique dominante  polykystose renale autosomique dominante  \n",
       "trouble hemorragique                                           trouble hemorragique  "
      ]
     },
     "execution_count": 148,
     "metadata": {},
     "output_type": "execute_result"
    }
   ],
   "source": [
    "res.loc[res.index.str.contains('polykistose|hemorragique|Marphan|diabate')].loc[:, moi]"
   ]
  },
  {
   "cell_type": "code",
   "execution_count": 149,
   "metadata": {},
   "outputs": [
    {
     "data": {
      "text/html": [
       "<div>\n",
       "<style scoped>\n",
       "    .dataframe tbody tr th:only-of-type {\n",
       "        vertical-align: middle;\n",
       "    }\n",
       "\n",
       "    .dataframe tbody tr th {\n",
       "        vertical-align: top;\n",
       "    }\n",
       "\n",
       "    .dataframe thead th {\n",
       "        text-align: right;\n",
       "    }\n",
       "</style>\n",
       "<table border=\"1\" class=\"dataframe\">\n",
       "  <thead>\n",
       "    <tr style=\"text-align: right;\">\n",
       "      <th>method</th>\n",
       "      <th>umls_diag_name</th>\n",
       "      <th>umls_signs</th>\n",
       "      <th>cat_norm</th>\n",
       "      <th>cat_norm_nu</th>\n",
       "    </tr>\n",
       "    <tr>\n",
       "      <th>mention</th>\n",
       "      <th></th>\n",
       "      <th></th>\n",
       "      <th></th>\n",
       "      <th></th>\n",
       "    </tr>\n",
       "  </thead>\n",
       "  <tbody>\n",
       "    <tr>\n",
       "      <th>IRA</th>\n",
       "      <td>ira</td>\n",
       "      <td>NaN</td>\n",
       "      <td>ira</td>\n",
       "      <td>ira</td>\n",
       "    </tr>\n",
       "    <tr>\n",
       "      <th>IVG</th>\n",
       "      <td>NaN</td>\n",
       "      <td>NaN</td>\n",
       "      <td>ivu</td>\n",
       "      <td>ivu</td>\n",
       "    </tr>\n",
       "    <tr>\n",
       "      <th>PKRAD</th>\n",
       "      <td>NaN</td>\n",
       "      <td>NaN</td>\n",
       "      <td>pku</td>\n",
       "      <td>pku</td>\n",
       "    </tr>\n",
       "    <tr>\n",
       "      <th>signes d'ICD</th>\n",
       "      <td>NaN</td>\n",
       "      <td>NaN</td>\n",
       "      <td>signes ecg d'ischemie myocardique</td>\n",
       "      <td>signes ecg d'ischemie myocardique</td>\n",
       "    </tr>\n",
       "    <tr>\n",
       "      <th>signes d'ICG</th>\n",
       "      <td>NaN</td>\n",
       "      <td>NaN</td>\n",
       "      <td>signes ecg d'ischemie myocardique</td>\n",
       "      <td>signes ecg d'ischemie myocardique</td>\n",
       "    </tr>\n",
       "  </tbody>\n",
       "</table>\n",
       "</div>"
      ],
      "text/plain": [
       "method       umls_diag_name umls_signs                           cat_norm  \\\n",
       "mention                                                                     \n",
       "IRA                     ira        NaN                                ira   \n",
       "IVG                     NaN        NaN                                ivu   \n",
       "PKRAD                   NaN        NaN                                pku   \n",
       "signes d'ICD            NaN        NaN  signes ecg d'ischemie myocardique   \n",
       "signes d'ICG            NaN        NaN  signes ecg d'ischemie myocardique   \n",
       "\n",
       "method                              cat_norm_nu  \n",
       "mention                                          \n",
       "IRA                                         ira  \n",
       "IVG                                         ivu  \n",
       "PKRAD                                       pku  \n",
       "signes d'ICD  signes ecg d'ischemie myocardique  \n",
       "signes d'ICG  signes ecg d'ischemie myocardique  "
      ]
     },
     "execution_count": 149,
     "metadata": {},
     "output_type": "execute_result"
    }
   ],
   "source": [
    "res.loc[res.index.str.contains('IRA|IVG|IRC|PKRAD|ICD|ICG')].loc[:, moi]"
   ]
  },
  {
   "cell_type": "code",
   "execution_count": 150,
   "metadata": {},
   "outputs": [
    {
     "data": {
      "text/html": [
       "<div>\n",
       "<style scoped>\n",
       "    .dataframe tbody tr th:only-of-type {\n",
       "        vertical-align: middle;\n",
       "    }\n",
       "\n",
       "    .dataframe tbody tr th {\n",
       "        vertical-align: top;\n",
       "    }\n",
       "\n",
       "    .dataframe thead th {\n",
       "        text-align: right;\n",
       "    }\n",
       "</style>\n",
       "<table border=\"1\" class=\"dataframe\">\n",
       "  <thead>\n",
       "    <tr style=\"text-align: right;\">\n",
       "      <th>method</th>\n",
       "      <th>umls_diag_name</th>\n",
       "      <th>umls_signs</th>\n",
       "      <th>cat_norm</th>\n",
       "      <th>cat_norm_nu</th>\n",
       "    </tr>\n",
       "    <tr>\n",
       "      <th>mention</th>\n",
       "      <th></th>\n",
       "      <th></th>\n",
       "      <th></th>\n",
       "      <th></th>\n",
       "    </tr>\n",
       "  </thead>\n",
       "  <tbody>\n",
       "    <tr>\n",
       "      <th>Auscultation anormale</th>\n",
       "      <td>NaN</td>\n",
       "      <td>NaN</td>\n",
       "      <td>auscultation pulmonaire anormale</td>\n",
       "      <td>auscultation pulmonaire anormale</td>\n",
       "    </tr>\n",
       "    <tr>\n",
       "      <th>se sent bien</th>\n",
       "      <td>NaN</td>\n",
       "      <td>NaN</td>\n",
       "      <td>se sent tres mal</td>\n",
       "      <td>se sent tres mal</td>\n",
       "    </tr>\n",
       "    <tr>\n",
       "      <th>va bien</th>\n",
       "      <td>NaN</td>\n",
       "      <td>NaN</td>\n",
       "      <td>dort mal</td>\n",
       "      <td>dort mal</td>\n",
       "    </tr>\n",
       "  </tbody>\n",
       "</table>\n",
       "</div>"
      ],
      "text/plain": [
       "method                umls_diag_name umls_signs  \\\n",
       "mention                                           \n",
       "Auscultation anormale            NaN        NaN   \n",
       "se sent bien                     NaN        NaN   \n",
       "va bien                          NaN        NaN   \n",
       "\n",
       "method                                         cat_norm  \\\n",
       "mention                                                   \n",
       "Auscultation anormale  auscultation pulmonaire anormale   \n",
       "se sent bien                           se sent tres mal   \n",
       "va bien                                        dort mal   \n",
       "\n",
       "method                                      cat_norm_nu  \n",
       "mention                                                  \n",
       "Auscultation anormale  auscultation pulmonaire anormale  \n",
       "se sent bien                           se sent tres mal  \n",
       "va bien                                        dort mal  "
      ]
     },
     "execution_count": 150,
     "metadata": {},
     "output_type": "execute_result"
    }
   ],
   "source": [
    "res.loc[res.index.str.contains('bien|mal')].loc[:, moi]"
   ]
  },
  {
   "cell_type": "code",
   "execution_count": 151,
   "metadata": {},
   "outputs": [
    {
     "data": {
      "text/html": [
       "<span class=\"tex2jax_ignore\"><div class=\"entities\" style=\"line-height: 2.5; direction: ltr\">En l'absence de <mark class=\"entity\" style=\"background: #ffb3ba; padding: 0.45em 0.6em; margin: 0 0.25em; line-height: 1; border-radius: 0.35em;\">trouble hemorragique<span style=\"font-size: 0.8em; font-weight: bold; line-height: 1; border-radius: 0.35em; vertical-align: middle; margin-left: 0.5rem\">ENT/DIAG_NAME</span></mark>.</br> On ne retrouve pas d'hypocomplementemie.</br> Le patien présente un <mark class=\"entity\" style=\"background: #ffb3ba; padding: 0.45em 0.6em; margin: 0 0.25em; line-height: 1; border-radius: 0.35em;\">rachitisme hypophosphatemique<span style=\"font-size: 0.8em; font-weight: bold; line-height: 1; border-radius: 0.35em; vertical-align: middle; margin-left: 0.5rem\">ENT/DIAG_NAME</span></mark>.</br> Avec un <mark class=\"entity\" style=\"background: #ffb3ba; padding: 0.45em 0.6em; margin: 0 0.25em; line-height: 1; border-radius: 0.35em;\">antécédent de prématurité<span style=\"font-size: 0.8em; font-weight: bold; line-height: 1; border-radius: 0.35em; vertical-align: middle; margin-left: 0.5rem\">ENT/DIAG_NAME</span></mark>.</br> Doute sur un possible <mark class=\"entity\" style=\"background: #ffb3ba; padding: 0.45em 0.6em; margin: 0 0.25em; line-height: 1; border-radius: 0.35em;\">syndrome de walker-warburg<span style=\"font-size: 0.8em; font-weight: bold; line-height: 1; border-radius: 0.35em; vertical-align: middle; margin-left: 0.5rem\">ENT/DIAG_NAME</span></mark>.</br> En l'absence de d'anomalie du bilan d'hémostase.</br> On ne retrouve pas de <mark class=\"entity\" style=\"background: #ffb3ba; padding: 0.45em 0.6em; margin: 0 0.25em; line-height: 1; border-radius: 0.35em;\">baisse du complément<span style=\"font-size: 0.8em; font-weight: bold; line-height: 1; border-radius: 0.35em; vertical-align: middle; margin-left: 0.5rem\">ENT/DIAG_NAME</span></mark>.</br> Le patien présente un <mark class=\"entity\" style=\"background: #ffb3ba; padding: 0.45em 0.6em; margin: 0 0.25em; line-height: 1; border-radius: 0.35em;\">rachitisme<span style=\"font-size: 0.8em; font-weight: bold; line-height: 1; border-radius: 0.35em; vertical-align: middle; margin-left: 0.5rem\">ENT/DIAG_NAME</span></mark> avec de faible niveau de phosphates.</br> Avec un <mark class=\"entity\" style=\"background: #ffb3ba; padding: 0.45em 0.6em; margin: 0 0.25em; line-height: 1; border-radius: 0.35em;\">antécédent de naissance<span style=\"font-size: 0.8em; font-weight: bold; line-height: 1; border-radius: 0.35em; vertical-align: middle; margin-left: 0.5rem\">ENT/DIAG_NAME</span></mark> avant le terme.</br> Doute sur un <mark class=\"entity\" style=\"background: #ffb3ba; padding: 0.45em 0.6em; margin: 0 0.25em; line-height: 1; border-radius: 0.35em;\">possible Walker-Warburg débutant<span style=\"font-size: 0.8em; font-weight: bold; line-height: 1; border-radius: 0.35em; vertical-align: middle; margin-left: 0.5rem\">ENT/DIAG_NAME</span></mark>.</br> Doute sur un possible <mark class=\"entity\" style=\"background: #ffb3ba; padding: 0.45em 0.6em; margin: 0 0.25em; line-height: 1; border-radius: 0.35em;\">Sd de Walker-Warbourg débutant<span style=\"font-size: 0.8em; font-weight: bold; line-height: 1; border-radius: 0.35em; vertical-align: middle; margin-left: 0.5rem\">ENT/DIAG_NAME</span></mark>.</br> Le patient présente un <mark class=\"entity\" style=\"background: #ffb3ba; padding: 0.45em 0.6em; margin: 0 0.25em; line-height: 1; border-radius: 0.35em;\">kyste au niveau du rein droit<span style=\"font-size: 0.8em; font-weight: bold; line-height: 1; border-radius: 0.35em; vertical-align: middle; margin-left: 0.5rem\">ENT/DIAG_NAME</span></mark>.</br> Le patient présente un <mark class=\"entity\" style=\"background: #ffb3ba; padding: 0.45em 0.6em; margin: 0 0.25em; line-height: 1; border-radius: 0.35em;\">kyste au niveau du poumon droit<span style=\"font-size: 0.8em; font-weight: bold; line-height: 1; border-radius: 0.35em; vertical-align: middle; margin-left: 0.5rem\">ENT/DIAG_NAME</span></mark>.</br> Se présente avec un <mark class=\"entity\" style=\"background: #ffb3ba; padding: 0.45em 0.6em; margin: 0 0.25em; line-height: 1; border-radius: 0.35em;\">kyste au niveau du pelvis<span style=\"font-size: 0.8em; font-weight: bold; line-height: 1; border-radius: 0.35em; vertical-align: middle; margin-left: 0.5rem\">ENT/DIAG_NAME</span></mark>.</br> Se présente avec un <mark class=\"entity\" style=\"background: #ffb3ba; padding: 0.45em 0.6em; margin: 0 0.25em; line-height: 1; border-radius: 0.35em;\">kyste au niveau splénique<span style=\"font-size: 0.8em; font-weight: bold; line-height: 1; border-radius: 0.35em; vertical-align: middle; margin-left: 0.5rem\">ENT/DIAG_NAME</span></mark>.</br> Se présente avec un <mark class=\"entity\" style=\"background: #ffb3ba; padding: 0.45em 0.6em; margin: 0 0.25em; line-height: 1; border-radius: 0.35em;\">kyste au niveau de la rate<span style=\"font-size: 0.8em; font-weight: bold; line-height: 1; border-radius: 0.35em; vertical-align: middle; margin-left: 0.5rem\">ENT/DIAG_NAME</span></mark>.</br> Se présente avec un <mark class=\"entity\" style=\"background: #ffb3ba; padding: 0.45em 0.6em; margin: 0 0.25em; line-height: 1; border-radius: 0.35em;\">kyste saignant<span style=\"font-size: 0.8em; font-weight: bold; line-height: 1; border-radius: 0.35em; vertical-align: middle; margin-left: 0.5rem\">ENT/DIAG_NAME</span></mark>.</br> Se présente avec un <mark class=\"entity\" style=\"background: #ffb3ba; padding: 0.45em 0.6em; margin: 0 0.25em; line-height: 1; border-radius: 0.35em;\">kyste hémorragique<span style=\"font-size: 0.8em; font-weight: bold; line-height: 1; border-radius: 0.35em; vertical-align: middle; margin-left: 0.5rem\">ENT/DIAG_NAME</span></mark>.</br> Au niveau pulmonaire, présence d'une <mark class=\"entity\" style=\"background: #ffb3ba; padding: 0.45em 0.6em; margin: 0 0.25em; line-height: 1; border-radius: 0.35em;\">lésion<span style=\"font-size: 0.8em; font-weight: bold; line-height: 1; border-radius: 0.35em; vertical-align: middle; margin-left: 0.5rem\">ENT/DIAG_NAME</span></mark> non déterminé.</br> Au niveau hépatique, présence d'une <mark class=\"entity\" style=\"background: #ffb3ba; padding: 0.45em 0.6em; margin: 0 0.25em; line-height: 1; border-radius: 0.35em;\">lésion<span style=\"font-size: 0.8em; font-weight: bold; line-height: 1; border-radius: 0.35em; vertical-align: middle; margin-left: 0.5rem\">ENT/DIAG_NAME</span></mark> non déterminé.</br> Absence de signes d'ICG.</br> Absence de signes d'ICD.</br> Absence de signes d'IC.</br> Auscultation anormale avec sgines d'IC</br> Antécédents d'HTAP et de <mark class=\"entity\" style=\"background: #ffb3ba; padding: 0.45em 0.6em; margin: 0 0.25em; line-height: 1; border-radius: 0.35em;\">diabète<span style=\"font-size: 0.8em; font-weight: bold; line-height: 1; border-radius: 0.35em; vertical-align: middle; margin-left: 0.5rem\">ENT/DIAG_NAME</span></mark>.</br> Antécédents d'HTA et de <mark class=\"entity\" style=\"background: #ffb3ba; padding: 0.45em 0.6em; margin: 0 0.25em; line-height: 1; border-radius: 0.35em;\">diabète<span style=\"font-size: 0.8em; font-weight: bold; line-height: 1; border-radius: 0.35em; vertical-align: middle; margin-left: 0.5rem\">ENT/DIAG_NAME</span></mark>.</br> <mark class=\"entity\" style=\"background: #ffb3ba; padding: 0.45em 0.6em; margin: 0 0.25em; line-height: 1; border-radius: 0.35em;\">IVG<span style=\"font-size: 0.8em; font-weight: bold; line-height: 1; border-radius: 0.35em; vertical-align: middle; margin-left: 0.5rem\">ENT/DIAG_NAME</span></mark> à l'échographie.</br> IVG à 3 semaines.</br> Le patient se sent bien.</br> Le patient va bien.</br> <mark class=\"entity\" style=\"background: #ffb3ba; padding: 0.45em 0.6em; margin: 0 0.25em; line-height: 1; border-radius: 0.35em;\">Syndrome de Marphan<span style=\"font-size: 0.8em; font-weight: bold; line-height: 1; border-radius: 0.35em; vertical-align: middle; margin-left: 0.5rem\">ENT/DIAG_NAME</span></mark>.</br> Mydriase areactive.</br> Absence de <mark class=\"entity\" style=\"background: #ffb3ba; padding: 0.45em 0.6em; margin: 0 0.25em; line-height: 1; border-radius: 0.35em;\">diabate<span style=\"font-size: 0.8em; font-weight: bold; line-height: 1; border-radius: 0.35em; vertical-align: middle; margin-left: 0.5rem\">ENT/DIAG_NAME</span></mark>.</br> Douleur au ventre.</br> Douleur abdo</br> Epigastralgie.Le patient à la bouche sèche.</br> Le bilan bio indique une créat à 200 signant une <mark class=\"entity\" style=\"background: #ffb3ba; padding: 0.45em 0.6em; margin: 0 0.25em; line-height: 1; border-radius: 0.35em;\">IRA<span style=\"font-size: 0.8em; font-weight: bold; line-height: 1; border-radius: 0.35em; vertical-align: middle; margin-left: 0.5rem\">ENT/DIAG_NAME</span></mark>.</br> Patient de 38 ans souffrant d'IRC sur <mark class=\"entity\" style=\"background: #ffb3ba; padding: 0.45em 0.6em; margin: 0 0.25em; line-height: 1; border-radius: 0.35em;\">PKRAD<span style=\"font-size: 0.8em; font-weight: bold; line-height: 1; border-radius: 0.35em; vertical-align: middle; margin-left: 0.5rem\">ENT/DIAG_NAME</span></mark> hospitalisé pour <mark class=\"entity\" style=\"background: #ffb3ba; padding: 0.45em 0.6em; margin: 0 0.25em; line-height: 1; border-radius: 0.35em;\">IRA<span style=\"font-size: 0.8em; font-weight: bold; line-height: 1; border-radius: 0.35em; vertical-align: middle; margin-left: 0.5rem\">ENT/DIAG_NAME</span></mark>.</br> Patient de 38 ans souffrant d'insuffisanc<mark class=\"entity\" style=\"background: #ffb3ba; padding: 0.45em 0.6em; margin: 0 0.25em; line-height: 1; border-radius: 0.35em;\">&quot; réname chronique<span style=\"font-size: 0.8em; font-weight: bold; line-height: 1; border-radius: 0.35em; vertical-align: middle; margin-left: 0.5rem\">ENT/DIAG_NAME</span></mark> sur <mark class=\"entity\" style=\"background: #ffb3ba; padding: 0.45em 0.6em; margin: 0 0.25em; line-height: 1; border-radius: 0.35em;\">polykistose rénale autoseomique dominante<span style=\"font-size: 0.8em; font-weight: bold; line-height: 1; border-radius: 0.35em; vertical-align: middle; margin-left: 0.5rem\">ENT/DIAG_NAME</span></mark>.</div></span>"
      ],
      "text/plain": [
       "<IPython.core.display.HTML object>"
      ]
     },
     "metadata": {},
     "output_type": "display_data"
    }
   ],
   "source": [
    "display_annotations(doc_demo, entities=['ENT/DIAG_NAME'])"
   ]
  },
  {
   "cell_type": "code",
   "execution_count": null,
   "metadata": {},
   "outputs": [],
   "source": []
  }
 ],
 "metadata": {
  "kernelspec": {
   "display_name": "Python 3",
   "language": "python",
   "name": "python3"
  },
  "language_info": {
   "codemirror_mode": {
    "name": "ipython",
    "version": 3
   },
   "file_extension": ".py",
   "mimetype": "text/x-python",
   "name": "python",
   "nbconvert_exporter": "python",
   "pygments_lexer": "ipython3",
   "version": "3.8.5"
  }
 },
 "nbformat": 4,
 "nbformat_minor": 4
}
