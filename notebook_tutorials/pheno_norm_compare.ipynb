{
 "cells": [
  {
   "cell_type": "code",
   "execution_count": null,
   "metadata": {},
   "outputs": [],
   "source": [
    "%cd .."
   ]
  },
  {
   "cell_type": "code",
   "execution_count": null,
   "metadata": {},
   "outputs": [],
   "source": [
    "%load_ext autoreload\n",
    "%autoreload 2"
   ]
  },
  {
   "cell_type": "code",
   "execution_count": null,
   "metadata": {},
   "outputs": [],
   "source": [
    "import json"
   ]
  },
  {
   "cell_type": "code",
   "execution_count": 4,
   "metadata": {},
   "outputs": [],
   "source": [
    "from tqdm import tqdm"
   ]
  },
  {
   "cell_type": "code",
   "execution_count": 5,
   "metadata": {},
   "outputs": [
    {
     "name": "stderr",
     "output_type": "stream",
     "text": [
      "/home/ivan/anaconda3/lib/python3.8/site-packages/torch/cuda/__init__.py:52: UserWarning: CUDA initialization: Unexpected error from cudaGetDeviceCount(). Did you run some cuda functions before calling NumCudaDevices() that might have already set an error? Error 804: forward compatibility was attempted on non supported HW (Triggered internally at  /opt/conda/conda-bld/pytorch_1607370172916/work/c10/cuda/CUDAFunctions.cpp:100.)\n",
      "  return torch._C._cuda_getDeviceCount() > 0\n"
     ]
    }
   ],
   "source": [
    "import os\n",
    "\n",
    "from glob import glob\n",
    "import pandas as pd\n",
    "import re\n",
    "from pprint import pprint\n",
    "import pkg_resources\n",
    "\n",
    "from pymedextcore.document import Document\n",
    "from pymedext_eds.annotators import Endlines, SentenceTokenizer, Hypothesis, \\\n",
    "                                    ATCDFamille, SyntagmeTokenizer, Negation, RegexMatcher, \\\n",
    "                                    QuickUMLSAnnotator, Pipeline, SectionSplitter, Pipeline\n",
    "\n",
    "from pymedext_eds.utils import rawtext_loader\n",
    "from pymedext_eds.ner import NERAnnotator\n",
    "from pymedext_eds.norm import NERNormalizer, NormPheno, FeedDictionnary, NormPhenoLev, NormPhenoDTW"
   ]
  },
  {
   "cell_type": "markdown",
   "metadata": {},
   "source": [
    "## 1. Init previous elements of pipeline"
   ]
  },
  {
   "cell_type": "code",
   "execution_count": 6,
   "metadata": {},
   "outputs": [],
   "source": [
    "endlines = Endlines(['raw_text'], 'clean_text', 'endlines:v1')\n",
    "sentences = SentenceTokenizer(['clean_text'], 'sentence', 'sentenceTokenizer:v1')\n",
    "sections = SectionSplitter(['clean_text'], \"section\", ID= 'sections')\n",
    "hypothesis = Hypothesis(['sentence'], 'hypothesis', 'hypothesis:v1')\n",
    "family = ATCDFamille(['sentence'], 'context', 'ATCDfamily:v1')\n",
    "syntagmes = SyntagmeTokenizer(['sentence'], 'syntagme', 'SyntagmeTokenizer:v1')\n",
    "negation = Negation(['syntagme'], 'negation', 'Negation:v1')\n",
    "regex = RegexMatcher(['clean_text','syntagme'], 'regex', 'RegexMatcher:v1', 'list_regexp.json')"
   ]
  },
  {
   "cell_type": "markdown",
   "metadata": {},
   "source": [
    "sosy|T184|Sign or Symptom  \n",
    "\n",
    "\n",
    "dsyn|T047|Disease or Syndrome  \n",
    "neop|T191|Neoplastic Process  \n",
    "comd|T049|Cell or Molecular Dysfunction  \n",
    "mobd|T048|Mental or Behavioral Dysfunction   \n",
    "patf|T046|Pathologic Function  \n",
    "anab|T190|Anatomical Abnormality  \n",
    "cgab|T019|Congenital Abnormality  \n",
    "acab|T020|Acquired Abnormality  \n",
    "inpo|T037|Injury or Poisoning  \n",
    "\n",
    "diap|T060|Diagnostic Procedure  \n",
    "lbpr|T059|Laboratory Procedure  \n",
    "lbtr|T034|Laboratory or Test Result  \n",
    "\n",
    "topp|T061|Therapeutic or Preventive Procedure  \n"
   ]
  },
  {
   "cell_type": "code",
   "execution_count": 7,
   "metadata": {},
   "outputs": [],
   "source": [
    "#                                    accepted_semtypes = {'T184', 'T047', 'T191', 'T049', 'T048', 'T046', 'T190', 'T019', 'T020', 'T037','T060',  'T059', 'T034', 'T061'},\n"
   ]
  },
  {
   "cell_type": "code",
   "execution_count": 8,
   "metadata": {},
   "outputs": [],
   "source": [
    "quick_umls_th = 0.9\n",
    "quick_umls_dist = \"score\"\n",
    "\n",
    "umls_syntagme = QuickUMLSAnnotator(['syntagme'], 'umls_syntagme', 'QuickUMLS:2020AA', \n",
    "                                   quickumls_fp='data/umls2_UL/',\n",
    "                                   overlapping_criteria=quick_umls_dist,\n",
    "                                   threshold=quick_umls_th,\n",
    "                                   similarity_name='jaccard',\n",
    "                                   accepted_semtypes = {'T184', 'T047', 'T191', 'T049', 'T048', 'T046', 'T190', 'T019', 'T020', 'T037'},\n",
    "                                   window=5)\n",
    "\n",
    "umls_signs = QuickUMLSAnnotator(['ENT/SIGNS'], 'umls_signs', 'QuickUMLS:2020AA', \n",
    "                                quickumls_fp='data/umls2_UL/',\n",
    "                                overlapping_criteria=quick_umls_dist,\n",
    "                                threshold=quick_umls_th,\n",
    "                                similarity_name='jaccard',\n",
    "                                accepted_semtypes = {'T184'},\n",
    "                                window=5)\n",
    "\n",
    "umls_diag_proc = QuickUMLSAnnotator(['ENT/DIAG_PROC'], 'umls_diag_proc', 'QuickUMLS:2020AA', \n",
    "                                quickumls_fp='data/umls2_UL/',\n",
    "                                overlapping_criteria=quick_umls_dist,\n",
    "                                threshold=quick_umls_th,\n",
    "                                similarity_name='jaccard',\n",
    "                                accepted_semtypes = {'T060', 'T059', 'T034'},\n",
    "                                window=5)\n",
    "\n",
    "umls_diag_name = QuickUMLSAnnotator(['ENT/DIAG_NAME'], 'umls_diag_name', 'QuickUMLS:2020AA', \n",
    "                                quickumls_fp='data/umls2_UL/',\n",
    "                                overlapping_criteria=quick_umls_dist,\n",
    "                                threshold=quick_umls_th,\n",
    "                                similarity_name='jaccard',\n",
    "                                accepted_semtypes = {'T047', 'T191', 'T049', 'T048', 'T046', 'T190', 'T019', 'T020', 'T037'},\n",
    "                                window=5)\n",
    "\n",
    "umls_therap = QuickUMLSAnnotator(['ENT/THERAP_PROC'], 'umls_therap', 'QuickUMLS:2020AA', \n",
    "                                quickumls_fp='data/umls2_UL/',\n",
    "                                overlapping_criteria=quick_umls_dist,\n",
    "                                threshold=quick_umls_th,\n",
    "                                similarity_name='jaccard',\n",
    "                                accepted_semtypes = {'T061'},\n",
    "                                window=5)\n"
   ]
  },
  {
   "cell_type": "code",
   "execution_count": 10,
   "metadata": {},
   "outputs": [
    {
     "name": "stdout",
     "output_type": "stream",
     "text": [
      "2021-06-04 09:38:18,707 loading file data/models/apcner_deid/entities_7/best-model.pt\n"
     ]
    }
   ],
   "source": [
    "models_param = [{'tagger_path':'data/models/apcner_deid/entities_7/best-model.pt' ,\n",
    "                  'store_embedding':True,\n",
    "                'tag_name': 'pheno_pred' }]\n",
    "\n",
    "ner = NERAnnotator(['sentence'], 'ner', ID='med:v2', models_param=models_param,  device='cpu', reduce_embedding='concat', mini_batch_size=128)"
   ]
  },
  {
   "cell_type": "markdown",
   "metadata": {},
   "source": [
    "## 2. Init feeddictionnay to build embedding dictionnary"
   ]
  },
  {
   "cell_type": "code",
   "execution_count": 11,
   "metadata": {},
   "outputs": [],
   "source": [
    "dico_umls_exact_match = FeedDictionnary(['ENT/SIGNS','ENT/DIAG_NAME'],\n",
    "                                        'feed_dictionnary_quick_umls',\n",
    "                                        ID = 'fd_concat:v1',\n",
    "                                        path_dict='data/emb_dict_concat_v4.h5py',\n",
    "                                        threshold=1)"
   ]
  },
  {
   "cell_type": "code",
   "execution_count": 12,
   "metadata": {},
   "outputs": [],
   "source": [
    "feed_dic_pipeline = [endlines, sections, sentences, ner, dico_umls_exact_match]"
   ]
  },
  {
   "cell_type": "code",
   "execution_count": 12,
   "metadata": {},
   "outputs": [],
   "source": [
    "from glob import glob\n",
    "import random"
   ]
  },
  {
   "cell_type": "markdown",
   "metadata": {},
   "source": [
    "### 2.A Create embedding dictionnary on large corpus of texts"
   ]
  },
  {
   "cell_type": "code",
   "execution_count": null,
   "metadata": {},
   "outputs": [],
   "source": [
    "count = 0\n",
    "subdirs = glob(\"../../../../marc/Data/CiliTALexport/*\")\n",
    "for subdir in random.sample(subdirs, len(subdirs)):\n",
    "    paths = glob(subdir + \"/*.json\")\n",
    "    \n",
    "    for json_path in tqdm(random.sample(paths, len(paths))):\n",
    "        try:\n",
    "\n",
    "            with open(json_path) as h:\n",
    "                doc = json.load(h)\n",
    "\n",
    "            if doc['DOCUMENT_ORIGIN_CODE'] == 'ORBIS':\n",
    "                continue\n",
    "\n",
    "            doc = Document(\n",
    "                    raw_text = doc['DISPLAYED_TEXT'],\n",
    "                    ID = doc['DOCUMENT_NUM'],\n",
    "                    attributes = {'person_id': doc['PATIENT_NUM']}\n",
    "                )\n",
    "            \n",
    "            try:\n",
    "                doc.annotate(feed_dic_pipeline)\n",
    "                count += 1\n",
    "            except:\n",
    "                print(\"Annotation error\", doc.source_ID)\n",
    "        except:\n",
    "            print(\"Load error\", json_path)\n",
    "\n",
    "\n",
    "\n",
    "print(count)"
   ]
  },
  {
   "cell_type": "code",
   "execution_count": 14,
   "metadata": {},
   "outputs": [
    {
     "name": "stdout",
     "output_type": "stream",
     "text": [
      "2102722\n"
     ]
    }
   ],
   "source": [
    "print(count)"
   ]
  },
  {
   "cell_type": "markdown",
   "metadata": {},
   "source": [
    "with open(\"../data/export_mincil_pheno_loc.v1.json\") as h:\n",
    "    docs = json.load(h)\n",
    "\n",
    "docs = [Document(\n",
    "        raw_text = x['ano_text'],\n",
    "        ID = x['document_num'],\n",
    "        attributes = {'person_id': x['patient_num']}\n",
    "    ) for x in docs]\n",
    "\n",
    "for doc in tqdm(docs[:]):\n",
    "    try:\n",
    "        doc.annotate(feed_dic_pipeline)\n",
    "    except:\n",
    "        print(doc.source_ID)\n",
    "    del doc"
   ]
  },
  {
   "cell_type": "markdown",
   "metadata": {},
   "source": [
    "### 2.B Add UMLS synonyms to dictionnary"
   ]
  },
  {
   "cell_type": "code",
   "execution_count": 15,
   "metadata": {},
   "outputs": [],
   "source": [
    "from flair.data import Sentence\n",
    "import numpy as np\n",
    "import h5py"
   ]
  },
  {
   "cell_type": "code",
   "execution_count": 16,
   "metadata": {},
   "outputs": [],
   "source": [
    "\n",
    "target_tui = {'T184', 'T047', 'T191', 'T049', 'T048', 'T046', 'T190', 'T019', 'T020', 'T037'}\n",
    "\n",
    "conso_head = pd.read_csv('data/umls2_UL/mrconso_headers.csv', header=None)\n",
    "conso_head = conso_head.iloc[:,0].tolist()\n",
    "mrconso = pd.read_csv('data/umls2_UL/MRCONSO.RRF', header=None, names=conso_head+[''], sep=\"|\")\n",
    "\n",
    "sty_head = pd.read_csv('data/umls2_UL/mrsty_headers.csv', header=None)\n",
    "sty_head = sty_head.iloc[:,0].tolist()\n",
    "sty = pd.read_csv('data/umls2_UL/MRSTY.RRF', header=None, names=sty_head+[''],  sep=\"|\")\n",
    "\n",
    "mrconso = mrconso.loc[mrconso.LAT==\"FRE\"]\n",
    "\n",
    "tagger = ner.model_zoo[0][1]\n",
    "\n",
    "hf = h5py.File('data/emb_dict_v3.h5py', 'a')\n",
    "\n",
    "\n",
    "for i, row in mrconso.loc[mrconso.CUI.isin(sty.loc[sty.TUI.isin(target_tui), \"CUI\"].tolist())].iterrows():\n",
    "    tmp = Sentence(row.STR)\n",
    "    tagger.embeddings.embed(tmp)\n",
    "    emb = np.concatenate([tok._embeddings['0-transformer-word-data/embeddings/bert-base-medical-huge-cased/checkpoint-800000/'].cpu().numpy().reshape(1, -1) \\\n",
    "                          for tok in tmp], 0).mean(axis=0).reshape(1, -1)\n",
    "    \n",
    "    groupname = row.CUI+\"/\" + row.STR\n",
    "\n",
    "    if groupname in hf:\n",
    "        group = hf.get(groupname)\n",
    "    else:\n",
    "        group = hf.create_group(groupname)\n",
    "\n",
    "    group.create_dataset(row.AUI, data = emb)\n",
    "\n",
    "\n",
    "hf.close()\n",
    "\n",
    "del mrconso\n",
    "del sty\n",
    "del hf"
   ]
  },
  {
   "cell_type": "markdown",
   "metadata": {},
   "source": [
    "### 3. Load embedding dictionnary normalizer"
   ]
  },
  {
   "cell_type": "code",
   "execution_count": null,
   "metadata": {},
   "outputs": [],
   "source": []
  },
  {
   "cell_type": "code",
   "execution_count": 139,
   "metadata": {},
   "outputs": [
    {
     "name": "stdout",
     "output_type": "stream",
     "text": [
      "CPU times: user 1.13 s, sys: 100 ms, total: 1.23 s\n",
      "Wall time: 1.23 s\n"
     ]
    }
   ],
   "source": [
    "%%time\n",
    "norm_pheno_lev = NormPhenoLev(['ENT/SIGNS','ENT/DIAG_NAME'],\n",
    "                              'lev_norm',\n",
    "                              ID='pheno_dic:v4',\n",
    "                              path_dict='data/emb_dict_concat_v4.h5py',\n",
    "                              make_code = False,\n",
    "                              pca_dim= 16,\n",
    "                              code_base = 8,\n",
    "                              best_code_size= 8,\n",
    "                              max_editdistance = 0.2)"
   ]
  },
  {
   "cell_type": "code",
   "execution_count": 140,
   "metadata": {},
   "outputs": [
    {
     "name": "stdout",
     "output_type": "stream",
     "text": [
      "2.61 s ± 15.7 ms per loop (mean ± std. dev. of 7 runs, 2 loops each)\n"
     ]
    }
   ],
   "source": [
    "%%timeit -n 2\n",
    "norm_pheno_lev.get_closest_match(norm_pheno_lev.dict_label[0]['seq'])['label']"
   ]
  },
  {
   "cell_type": "code",
   "execution_count": 141,
   "metadata": {},
   "outputs": [
    {
     "data": {
      "text/plain": [
       "281243"
      ]
     },
     "execution_count": 141,
     "metadata": {},
     "output_type": "execute_result"
    }
   ],
   "source": [
    "len(norm_pheno_lev.dict_label)"
   ]
  },
  {
   "cell_type": "code",
   "execution_count": 142,
   "metadata": {},
   "outputs": [
    {
     "name": "stdout",
     "output_type": "stream",
     "text": [
      "CPU times: user 587 ms, sys: 273 ms, total: 860 ms\n",
      "Wall time: 859 ms\n"
     ]
    }
   ],
   "source": [
    "%%time\n",
    "norm_pheno_dtw = NormPhenoDTW(['ENT/SIGNS','ENT/DIAG_NAME'],\n",
    "                              'dtw_norm',\n",
    "                              ID='pheno_dic:v5',\n",
    "                              path_dict='data/emb_dict_concat_v4.h5py',\n",
    "                              make_code = False,\n",
    "                              pca_dim= 256,\n",
    "                              dtw_window= 5,\n",
    "                              max_editdistance = 100)"
   ]
  },
  {
   "cell_type": "code",
   "execution_count": null,
   "metadata": {},
   "outputs": [],
   "source": [
    "%%timeit -n 2\n",
    "norm_pheno_dtw.get_closest_match(norm_pheno_dtw.dict_label[0]['seq'])['label']"
   ]
  },
  {
   "cell_type": "code",
   "execution_count": null,
   "metadata": {},
   "outputs": [],
   "source": [
    "len(norm_pheno_dtw.dict_label)"
   ]
  },
  {
   "cell_type": "markdown",
   "metadata": {},
   "source": [
    "## 4. Compare methods"
   ]
  },
  {
   "cell_type": "code",
   "execution_count": 106,
   "metadata": {},
   "outputs": [],
   "source": [
    "from pymedext_eds.extract.corpus_generation_tools import brat_norm_to_pdf"
   ]
  },
  {
   "cell_type": "code",
   "execution_count": 50,
   "metadata": {},
   "outputs": [],
   "source": [
    "import numpy as np"
   ]
  },
  {
   "cell_type": "code",
   "execution_count": null,
   "metadata": {},
   "outputs": [],
   "source": [
    "pipeline = [endlines, sections, sentences, hypothesis, family, syntagmes,\n",
    "            negation, regex, umls_syntagme, ner, norm_pheno_lev, norm_pheno_dtw,\n",
    "            umls_signs, umls_diag_proc, umls_diag_name, umls_therap]"
   ]
  },
  {
   "cell_type": "markdown",
   "metadata": {},
   "source": [
    "### 4.A NeckerNorm"
   ]
  },
  {
   "cell_type": "code",
   "execution_count": null,
   "metadata": {},
   "outputs": [],
   "source": [
    "# data_path = pkg_resources.resource_filename('pymedext_eds', 'data/demo')\n",
    "file_list = glob(\"../data/NeckerNorm/CiliTalConfirm/*.txt\")"
   ]
  },
  {
   "cell_type": "code",
   "execution_count": null,
   "metadata": {},
   "outputs": [],
   "source": [
    "docs = [rawtext_loader(x) for x in file_list]"
   ]
  },
  {
   "cell_type": "code",
   "execution_count": null,
   "metadata": {},
   "outputs": [],
   "source": [
    "file_list[:3]"
   ]
  },
  {
   "cell_type": "code",
   "execution_count": null,
   "metadata": {},
   "outputs": [],
   "source": [
    "source_ids = [doc.source_ID for doc in docs]"
   ]
  },
  {
   "cell_type": "code",
   "execution_count": null,
   "metadata": {},
   "outputs": [],
   "source": [
    "assert len(source_ids) == len(np.unique(source_ids))"
   ]
  },
  {
   "cell_type": "code",
   "execution_count": null,
   "metadata": {},
   "outputs": [],
   "source": [
    "%%time\n",
    "for doc in docs[:10]:\n",
    "    doc.annotate(pipeline)"
   ]
  },
  {
   "cell_type": "code",
   "execution_count": 83,
   "metadata": {},
   "outputs": [
    {
     "data": {
      "text/plain": [
       "{'type': 'ENT/DIAG_NAME',\n",
       " 'value': 'chute',\n",
       " 'ngram': None,\n",
       " 'span': (815, 820),\n",
       " 'source': 'med:v2',\n",
       " 'source_ID': 'c30b5ab2-c512-11eb-b7b4-fdc0b84cc529',\n",
       " 'isEntity': True,\n",
       " 'attributes': {'hypothesis': 'certain',\n",
       "  'context': 'patient',\n",
       "  'score': 0.5726926326751709,\n",
       "  'embedding': array([[ 0.04092915,  0.02011072, -0.10284506, ...,  0.40328822,\n",
       "          -0.07274213, -0.6418335 ]], dtype=float32)},\n",
       " 'ID': 'c391eeba-c512-11eb-b7b4-fdc0b84cc529'}"
      ]
     },
     "execution_count": 83,
     "metadata": {},
     "output_type": "execute_result"
    }
   ],
   "source": [
    "doc.get_annotations('ENT/DIAG_NAME')[0].to_dict()"
   ]
  },
  {
   "cell_type": "code",
   "execution_count": 84,
   "metadata": {},
   "outputs": [
    {
     "data": {
      "text/plain": [
       "{'type': 'umls_syntagme',\n",
       " 'value': 'etat general',\n",
       " 'ngram': None,\n",
       " 'span': (771, 783),\n",
       " 'source': 'QuickUMLS:2020AA',\n",
       " 'source_ID': 'c30be842-c512-11eb-b7b4-fdc0b84cc529',\n",
       " 'isEntity': False,\n",
       " 'attributes': {'hypothesis': 'certain',\n",
       "  'context': 'patient',\n",
       "  'negation': 'aff',\n",
       "  'cui': 'C0236102',\n",
       "  'label': 'etat general',\n",
       "  'semtypes': ['T047'],\n",
       "  'score': 1.0,\n",
       "  'snippet': \" J'ai revu en consultation Madame ∆∆∆∆∆∆∆ ∆∆∆∆∆∆∆ dont l'etat general reste bon\"},\n",
       " 'ID': 'c31f7042-c512-11eb-b7b4-fdc0b84cc529'}"
      ]
     },
     "execution_count": 84,
     "metadata": {},
     "output_type": "execute_result"
    }
   ],
   "source": [
    "doc.get_annotations('umls_syntagme')[0].to_dict()"
   ]
  },
  {
   "cell_type": "code",
   "execution_count": 86,
   "metadata": {},
   "outputs": [
    {
     "data": {
      "text/plain": [
       "{'type': 'umls_diag_name',\n",
       " 'value': 'deshydratation',\n",
       " 'ngram': None,\n",
       " 'span': (1144, 1158),\n",
       " 'source': 'QuickUMLS:2020AA',\n",
       " 'source_ID': 'c391f0ea-c512-11eb-b7b4-fdc0b84cc529',\n",
       " 'isEntity': False,\n",
       " 'attributes': {'hypothesis': 'certain',\n",
       "  'context': 'patient',\n",
       "  'score': 1.0,\n",
       "  'embedding': array([[-0.528751  , -0.36933076,  0.54514694, ...,  0.1609435 ,\n",
       "           0.05293216,  0.14058281]], dtype=float32),\n",
       "  'cui': 'C0011175',\n",
       "  'label': 'deshydratation',\n",
       "  'semtypes': ['T047'],\n",
       "  'snippet': 'deshydratation'},\n",
       " 'ID': 'c9299c06-c512-11eb-b7b4-fdc0b84cc529'}"
      ]
     },
     "execution_count": 86,
     "metadata": {},
     "output_type": "execute_result"
    }
   ],
   "source": [
    "doc.get_annotations('umls_diag_name')[0].to_dict()"
   ]
  },
  {
   "cell_type": "code",
   "execution_count": 87,
   "metadata": {},
   "outputs": [
    {
     "data": {
      "text/plain": [
       "[]"
      ]
     },
     "execution_count": 87,
     "metadata": {},
     "output_type": "execute_result"
    }
   ],
   "source": [
    "doc.get_annotations('lev_norm')"
   ]
  },
  {
   "cell_type": "code",
   "execution_count": 88,
   "metadata": {},
   "outputs": [
    {
     "data": {
      "text/plain": [
       "[]"
      ]
     },
     "execution_count": 88,
     "metadata": {},
     "output_type": "execute_result"
    }
   ],
   "source": [
    "doc.get_annotations('dtw_norm')"
   ]
  },
  {
   "cell_type": "code",
   "execution_count": 108,
   "metadata": {},
   "outputs": [],
   "source": [
    "all_ann = brat_norm_to_pdf(\"../data/NeckerNorm/CiliTalConfirm/\")"
   ]
  },
  {
   "cell_type": "code",
   "execution_count": 110,
   "metadata": {},
   "outputs": [
    {
     "data": {
      "text/html": [
       "<div>\n",
       "<style scoped>\n",
       "    .dataframe tbody tr th:only-of-type {\n",
       "        vertical-align: middle;\n",
       "    }\n",
       "\n",
       "    .dataframe tbody tr th {\n",
       "        vertical-align: top;\n",
       "    }\n",
       "\n",
       "    .dataframe thead th {\n",
       "        text-align: right;\n",
       "    }\n",
       "</style>\n",
       "<table border=\"1\" class=\"dataframe\">\n",
       "  <thead>\n",
       "    <tr style=\"text-align: right;\">\n",
       "      <th></th>\n",
       "      <th>ent_type</th>\n",
       "      <th>start</th>\n",
       "      <th>stop</th>\n",
       "      <th>mention_ner</th>\n",
       "      <th>doc_id</th>\n",
       "      <th>ann_id</th>\n",
       "      <th>ent_id</th>\n",
       "      <th>termino</th>\n",
       "      <th>cui</th>\n",
       "      <th>mention_norm</th>\n",
       "    </tr>\n",
       "  </thead>\n",
       "  <tbody>\n",
       "    <tr>\n",
       "      <th>0</th>\n",
       "      <td>phenotype</td>\n",
       "      <td>1313</td>\n",
       "      <td>1327</td>\n",
       "      <td>deshydratation</td>\n",
       "      <td>13735351509</td>\n",
       "      <td>N1</td>\n",
       "      <td>T1</td>\n",
       "      <td>UMLS_ALL</td>\n",
       "      <td>C0011175</td>\n",
       "      <td>DESHYDRATATION</td>\n",
       "    </tr>\n",
       "    <tr>\n",
       "      <th>0</th>\n",
       "      <td>phenotype</td>\n",
       "      <td>1165</td>\n",
       "      <td>1214</td>\n",
       "      <td>Bruits du coeur reguliers sans souffle  surajoute</td>\n",
       "      <td>13736496216</td>\n",
       "      <td>N1</td>\n",
       "      <td>T1</td>\n",
       "      <td>UMLS_FR</td>\n",
       "      <td>C0577821</td>\n",
       "      <td>Bruits du coeur normaux</td>\n",
       "    </tr>\n",
       "    <tr>\n",
       "      <th>1</th>\n",
       "      <td>phenotype</td>\n",
       "      <td>775</td>\n",
       "      <td>791</td>\n",
       "      <td>Bon etat general</td>\n",
       "      <td>13736496216</td>\n",
       "      <td>N2</td>\n",
       "      <td>T2</td>\n",
       "      <td>UMLS_ALL</td>\n",
       "      <td>C2939150</td>\n",
       "      <td>General wellbeing (observable entity)</td>\n",
       "    </tr>\n",
       "    <tr>\n",
       "      <th>2</th>\n",
       "      <td>phenotype</td>\n",
       "      <td>1217</td>\n",
       "      <td>1236</td>\n",
       "      <td>Lesions  au  visage</td>\n",
       "      <td>13736496216</td>\n",
       "      <td>N3</td>\n",
       "      <td>T3</td>\n",
       "      <td>UMLS_ALL</td>\n",
       "      <td>C3263723</td>\n",
       "      <td>injury</td>\n",
       "    </tr>\n",
       "    <tr>\n",
       "      <th>3</th>\n",
       "      <td>phenotype</td>\n",
       "      <td>1291</td>\n",
       "      <td>1323</td>\n",
       "      <td>auscultation  pulmonaire normale</td>\n",
       "      <td>13736496216</td>\n",
       "      <td>N4</td>\n",
       "      <td>T4</td>\n",
       "      <td>UMLS_ALL</td>\n",
       "      <td>C0231855</td>\n",
       "      <td>Bruits respiratoires normaux</td>\n",
       "    </tr>\n",
       "  </tbody>\n",
       "</table>\n",
       "</div>"
      ],
      "text/plain": [
       "    ent_type start  stop                                        mention_ner  \\\n",
       "0  phenotype  1313  1327                                     deshydratation   \n",
       "0  phenotype  1165  1214  Bruits du coeur reguliers sans souffle  surajoute   \n",
       "1  phenotype   775   791                                   Bon etat general   \n",
       "2  phenotype  1217  1236                                Lesions  au  visage   \n",
       "3  phenotype  1291  1323                   auscultation  pulmonaire normale   \n",
       "\n",
       "        doc_id ann_id ent_id   termino       cui  \\\n",
       "0  13735351509     N1     T1  UMLS_ALL  C0011175   \n",
       "0  13736496216     N1     T1   UMLS_FR  C0577821   \n",
       "1  13736496216     N2     T2  UMLS_ALL  C2939150   \n",
       "2  13736496216     N3     T3  UMLS_ALL  C3263723   \n",
       "3  13736496216     N4     T4  UMLS_ALL  C0231855   \n",
       "\n",
       "                            mention_norm  \n",
       "0                         DESHYDRATATION  \n",
       "0                Bruits du coeur normaux  \n",
       "1  General wellbeing (observable entity)  \n",
       "2                                 injury  \n",
       "3           Bruits respiratoires normaux  "
      ]
     },
     "execution_count": 110,
     "metadata": {},
     "output_type": "execute_result"
    }
   ],
   "source": [
    "all_ann.head()"
   ]
  },
  {
   "cell_type": "code",
   "execution_count": 111,
   "metadata": {},
   "outputs": [],
   "source": [
    "all_ann = all_ann.loc[lambda x:x.ent_type.isin([\"phenotype\"])]"
   ]
  },
  {
   "cell_type": "code",
   "execution_count": 124,
   "metadata": {},
   "outputs": [
    {
     "data": {
      "text/html": [
       "<div>\n",
       "<style scoped>\n",
       "    .dataframe tbody tr th:only-of-type {\n",
       "        vertical-align: middle;\n",
       "    }\n",
       "\n",
       "    .dataframe tbody tr th {\n",
       "        vertical-align: top;\n",
       "    }\n",
       "\n",
       "    .dataframe thead th {\n",
       "        text-align: right;\n",
       "    }\n",
       "</style>\n",
       "<table border=\"1\" class=\"dataframe\">\n",
       "  <thead>\n",
       "    <tr style=\"text-align: right;\">\n",
       "      <th></th>\n",
       "      <th>n_annotated</th>\n",
       "      <th>n_CUI</th>\n",
       "    </tr>\n",
       "    <tr>\n",
       "      <th>is_annotated</th>\n",
       "      <th></th>\n",
       "      <th></th>\n",
       "    </tr>\n",
       "  </thead>\n",
       "  <tbody>\n",
       "    <tr>\n",
       "      <th>False</th>\n",
       "      <td>1</td>\n",
       "      <td>0</td>\n",
       "    </tr>\n",
       "    <tr>\n",
       "      <th>True</th>\n",
       "      <td>59</td>\n",
       "      <td>408</td>\n",
       "    </tr>\n",
       "  </tbody>\n",
       "</table>\n",
       "</div>"
      ],
      "text/plain": [
       "              n_annotated  n_CUI\n",
       "is_annotated                    \n",
       "False                   1      0\n",
       "True                   59    408"
      ]
     },
     "execution_count": 124,
     "metadata": {},
     "output_type": "execute_result"
    }
   ],
   "source": [
    "(all_ann\n",
    " .assign(has_norm = lambda x:x.cui.notnull())\n",
    " .groupby(['doc_id'])['has_norm']\n",
    " .aggregate([('is_annotated', any), ('n_CUI', sum)])\n",
    " .groupby(['is_annotated'])['n_CUI']\n",
    " .aggregate([('n_annotated', len), ('n_CUI', sum)])\n",
    "\n",
    ")"
   ]
  },
  {
   "cell_type": "code",
   "execution_count": 125,
   "metadata": {},
   "outputs": [
    {
     "data": {
      "text/html": [
       "<div>\n",
       "<style scoped>\n",
       "    .dataframe tbody tr th:only-of-type {\n",
       "        vertical-align: middle;\n",
       "    }\n",
       "\n",
       "    .dataframe tbody tr th {\n",
       "        vertical-align: top;\n",
       "    }\n",
       "\n",
       "    .dataframe thead th {\n",
       "        text-align: right;\n",
       "    }\n",
       "</style>\n",
       "<table border=\"1\" class=\"dataframe\">\n",
       "  <thead>\n",
       "    <tr style=\"text-align: right;\">\n",
       "      <th></th>\n",
       "      <th>With CUI</th>\n",
       "      <th>Total</th>\n",
       "      <th>freq</th>\n",
       "    </tr>\n",
       "    <tr>\n",
       "      <th>ent_type</th>\n",
       "      <th></th>\n",
       "      <th></th>\n",
       "      <th></th>\n",
       "    </tr>\n",
       "  </thead>\n",
       "  <tbody>\n",
       "    <tr>\n",
       "      <th>phenotype</th>\n",
       "      <td>408</td>\n",
       "      <td>459</td>\n",
       "      <td>0.89</td>\n",
       "    </tr>\n",
       "  </tbody>\n",
       "</table>\n",
       "</div>"
      ],
      "text/plain": [
       "           With CUI  Total  freq\n",
       "ent_type                        \n",
       "phenotype       408    459  0.89"
      ]
     },
     "execution_count": 125,
     "metadata": {},
     "output_type": "execute_result"
    }
   ],
   "source": [
    "(all_ann.assign(has_norm = lambda x:x.cui.notnull())\n",
    " .groupby(['ent_type'])['has_norm']\n",
    " .aggregate([('With CUI', sum), ('Total', len), ('freq', lambda x: round(sum(x)/len(x) ,2))])\n",
    ")"
   ]
  },
  {
   "cell_type": "code",
   "execution_count": 126,
   "metadata": {},
   "outputs": [],
   "source": [
    "all_ann = all_ann.loc[lambda x:x.cui.notnull()]"
   ]
  },
  {
   "cell_type": "code",
   "execution_count": 129,
   "metadata": {},
   "outputs": [],
   "source": [
    "def pymedext_to_pdf(doc, key):\n",
    "    \"\"\"Transform pymedext annotations to pandas dataframe\"\"\"\n",
    "    columns = [\"doc_id\", \"mention\", \"start\", \"end\", \"cui\", \"label\"]\n",
    "    lines = [(doc.source_ID, t.value, t.span[0], t.span[1], t.attributes[\"cui\"], t.attributes[\"label\"]) \\\n",
    "             for t in doc.get_annotations(key)]\n",
    "    \n",
    "    df = pd.DataFrame(lines if lines else {k: [] for k in columns}, \n",
    "                      columns = columns\n",
    "                     )    \n",
    "    return df"
   ]
  },
  {
   "cell_type": "code",
   "execution_count": 130,
   "metadata": {},
   "outputs": [],
   "source": [
    "ner_acc = []\n",
    "syn_acc = []\n",
    "\n",
    "for doc in docs[:10]:\n",
    "    df_syn = pymedext_to_pdf(doc, 'umls_syntagme')\n",
    "    break"
   ]
  },
  {
   "cell_type": "code",
   "execution_count": 131,
   "metadata": {},
   "outputs": [
    {
     "data": {
      "text/html": [
       "<div>\n",
       "<style scoped>\n",
       "    .dataframe tbody tr th:only-of-type {\n",
       "        vertical-align: middle;\n",
       "    }\n",
       "\n",
       "    .dataframe tbody tr th {\n",
       "        vertical-align: top;\n",
       "    }\n",
       "\n",
       "    .dataframe thead th {\n",
       "        text-align: right;\n",
       "    }\n",
       "</style>\n",
       "<table border=\"1\" class=\"dataframe\">\n",
       "  <thead>\n",
       "    <tr style=\"text-align: right;\">\n",
       "      <th></th>\n",
       "      <th>doc_id</th>\n",
       "      <th>mention</th>\n",
       "      <th>start</th>\n",
       "      <th>end</th>\n",
       "      <th>cui</th>\n",
       "      <th>label</th>\n",
       "    </tr>\n",
       "  </thead>\n",
       "  <tbody>\n",
       "    <tr>\n",
       "      <th>0</th>\n",
       "      <td>13624692484</td>\n",
       "      <td>oedeme larynge</td>\n",
       "      <td>750</td>\n",
       "      <td>764</td>\n",
       "      <td>C0023052</td>\n",
       "      <td>oedeme larynge</td>\n",
       "    </tr>\n",
       "    <tr>\n",
       "      <th>1</th>\n",
       "      <td>13624692484</td>\n",
       "      <td>collapsus</td>\n",
       "      <td>780</td>\n",
       "      <td>789</td>\n",
       "      <td>C0036974</td>\n",
       "      <td>collapsus</td>\n",
       "    </tr>\n",
       "    <tr>\n",
       "      <th>2</th>\n",
       "      <td>13624692484</td>\n",
       "      <td>stenose</td>\n",
       "      <td>699</td>\n",
       "      <td>706</td>\n",
       "      <td>C1261287</td>\n",
       "      <td>stenose</td>\n",
       "    </tr>\n",
       "    <tr>\n",
       "      <th>3</th>\n",
       "      <td>13624692484</td>\n",
       "      <td>enterite</td>\n",
       "      <td>1081</td>\n",
       "      <td>1089</td>\n",
       "      <td>C0014335</td>\n",
       "      <td>enterite</td>\n",
       "    </tr>\n",
       "    <tr>\n",
       "      <th>4</th>\n",
       "      <td>13624692484</td>\n",
       "      <td>pneumopathie</td>\n",
       "      <td>1142</td>\n",
       "      <td>1154</td>\n",
       "      <td>C0024115</td>\n",
       "      <td>pneumopathie</td>\n",
       "    </tr>\n",
       "    <tr>\n",
       "      <th>5</th>\n",
       "      <td>13624692484</td>\n",
       "      <td>erytheme</td>\n",
       "      <td>1589</td>\n",
       "      <td>1597</td>\n",
       "      <td>C0041834</td>\n",
       "      <td>erytheme</td>\n",
       "    </tr>\n",
       "    <tr>\n",
       "      <th>6</th>\n",
       "      <td>13624692484</td>\n",
       "      <td>stenose</td>\n",
       "      <td>1804</td>\n",
       "      <td>1811</td>\n",
       "      <td>C1261287</td>\n",
       "      <td>stenose</td>\n",
       "    </tr>\n",
       "    <tr>\n",
       "      <th>7</th>\n",
       "      <td>13624692484</td>\n",
       "      <td>stenose</td>\n",
       "      <td>1897</td>\n",
       "      <td>1904</td>\n",
       "      <td>C1261287</td>\n",
       "      <td>stenose</td>\n",
       "    </tr>\n",
       "    <tr>\n",
       "      <th>8</th>\n",
       "      <td>13624692484</td>\n",
       "      <td>stenose</td>\n",
       "      <td>1963</td>\n",
       "      <td>1970</td>\n",
       "      <td>C1261287</td>\n",
       "      <td>stenose</td>\n",
       "    </tr>\n",
       "    <tr>\n",
       "      <th>9</th>\n",
       "      <td>13624692484</td>\n",
       "      <td>stenose</td>\n",
       "      <td>1982</td>\n",
       "      <td>1989</td>\n",
       "      <td>C1261287</td>\n",
       "      <td>stenose</td>\n",
       "    </tr>\n",
       "    <tr>\n",
       "      <th>10</th>\n",
       "      <td>13624692484</td>\n",
       "      <td>Stenose</td>\n",
       "      <td>2048</td>\n",
       "      <td>2055</td>\n",
       "      <td>C1261287</td>\n",
       "      <td>stenose</td>\n",
       "    </tr>\n",
       "  </tbody>\n",
       "</table>\n",
       "</div>"
      ],
      "text/plain": [
       "         doc_id         mention  start   end       cui           label\n",
       "0   13624692484  oedeme larynge    750   764  C0023052  oedeme larynge\n",
       "1   13624692484       collapsus    780   789  C0036974       collapsus\n",
       "2   13624692484         stenose    699   706  C1261287         stenose\n",
       "3   13624692484        enterite   1081  1089  C0014335        enterite\n",
       "4   13624692484    pneumopathie   1142  1154  C0024115    pneumopathie\n",
       "5   13624692484        erytheme   1589  1597  C0041834        erytheme\n",
       "6   13624692484         stenose   1804  1811  C1261287         stenose\n",
       "7   13624692484         stenose   1897  1904  C1261287         stenose\n",
       "8   13624692484         stenose   1963  1970  C1261287         stenose\n",
       "9   13624692484         stenose   1982  1989  C1261287         stenose\n",
       "10  13624692484         Stenose   2048  2055  C1261287         stenose"
      ]
     },
     "execution_count": 131,
     "metadata": {},
     "output_type": "execute_result"
    }
   ],
   "source": [
    "pymedext_to_pdf(doc, 'umls_syntagme')"
   ]
  },
  {
   "cell_type": "code",
   "execution_count": 132,
   "metadata": {},
   "outputs": [
    {
     "data": {
      "text/html": [
       "<div>\n",
       "<style scoped>\n",
       "    .dataframe tbody tr th:only-of-type {\n",
       "        vertical-align: middle;\n",
       "    }\n",
       "\n",
       "    .dataframe tbody tr th {\n",
       "        vertical-align: top;\n",
       "    }\n",
       "\n",
       "    .dataframe thead th {\n",
       "        text-align: right;\n",
       "    }\n",
       "</style>\n",
       "<table border=\"1\" class=\"dataframe\">\n",
       "  <thead>\n",
       "    <tr style=\"text-align: right;\">\n",
       "      <th></th>\n",
       "      <th>doc_id</th>\n",
       "      <th>mention</th>\n",
       "      <th>start</th>\n",
       "      <th>end</th>\n",
       "      <th>cui</th>\n",
       "      <th>label</th>\n",
       "    </tr>\n",
       "  </thead>\n",
       "  <tbody>\n",
       "    <tr>\n",
       "      <th>0</th>\n",
       "      <td>13624692484</td>\n",
       "      <td>stenose</td>\n",
       "      <td>699</td>\n",
       "      <td>706</td>\n",
       "      <td>C1261287</td>\n",
       "      <td>stenose</td>\n",
       "    </tr>\n",
       "    <tr>\n",
       "      <th>1</th>\n",
       "      <td>13624692484</td>\n",
       "      <td>collapsus</td>\n",
       "      <td>780</td>\n",
       "      <td>789</td>\n",
       "      <td>C0036974</td>\n",
       "      <td>collapsus</td>\n",
       "    </tr>\n",
       "    <tr>\n",
       "      <th>2</th>\n",
       "      <td>13624692484</td>\n",
       "      <td>enterite a Rotavirus</td>\n",
       "      <td>1081</td>\n",
       "      <td>1101</td>\n",
       "      <td>C0347854</td>\n",
       "      <td>enterite a rotavirus</td>\n",
       "    </tr>\n",
       "    <tr>\n",
       "      <th>3</th>\n",
       "      <td>13624692484</td>\n",
       "      <td>pneumopathie</td>\n",
       "      <td>1142</td>\n",
       "      <td>1154</td>\n",
       "      <td>C0024115</td>\n",
       "      <td>pneumopathie</td>\n",
       "    </tr>\n",
       "    <tr>\n",
       "      <th>4</th>\n",
       "      <td>13624692484</td>\n",
       "      <td>erytheme</td>\n",
       "      <td>1589</td>\n",
       "      <td>1597</td>\n",
       "      <td>C0041834</td>\n",
       "      <td>erytheme</td>\n",
       "    </tr>\n",
       "    <tr>\n",
       "      <th>5</th>\n",
       "      <td>13624692484</td>\n",
       "      <td>stenose</td>\n",
       "      <td>1804</td>\n",
       "      <td>1811</td>\n",
       "      <td>C1261287</td>\n",
       "      <td>stenose</td>\n",
       "    </tr>\n",
       "    <tr>\n",
       "      <th>6</th>\n",
       "      <td>13624692484</td>\n",
       "      <td>stenose</td>\n",
       "      <td>1897</td>\n",
       "      <td>1904</td>\n",
       "      <td>C1261287</td>\n",
       "      <td>stenose</td>\n",
       "    </tr>\n",
       "    <tr>\n",
       "      <th>7</th>\n",
       "      <td>13624692484</td>\n",
       "      <td>stenose</td>\n",
       "      <td>1963</td>\n",
       "      <td>1970</td>\n",
       "      <td>C1261287</td>\n",
       "      <td>stenose</td>\n",
       "    </tr>\n",
       "    <tr>\n",
       "      <th>8</th>\n",
       "      <td>13624692484</td>\n",
       "      <td>stenose</td>\n",
       "      <td>1982</td>\n",
       "      <td>1989</td>\n",
       "      <td>C1261287</td>\n",
       "      <td>stenose</td>\n",
       "    </tr>\n",
       "    <tr>\n",
       "      <th>9</th>\n",
       "      <td>13624692484</td>\n",
       "      <td>Stenose</td>\n",
       "      <td>2048</td>\n",
       "      <td>2055</td>\n",
       "      <td>C1261287</td>\n",
       "      <td>stenose</td>\n",
       "    </tr>\n",
       "  </tbody>\n",
       "</table>\n",
       "</div>"
      ],
      "text/plain": [
       "        doc_id               mention  start   end       cui  \\\n",
       "0  13624692484               stenose    699   706  C1261287   \n",
       "1  13624692484             collapsus    780   789  C0036974   \n",
       "2  13624692484  enterite a Rotavirus   1081  1101  C0347854   \n",
       "3  13624692484          pneumopathie   1142  1154  C0024115   \n",
       "4  13624692484              erytheme   1589  1597  C0041834   \n",
       "5  13624692484               stenose   1804  1811  C1261287   \n",
       "6  13624692484               stenose   1897  1904  C1261287   \n",
       "7  13624692484               stenose   1963  1970  C1261287   \n",
       "8  13624692484               stenose   1982  1989  C1261287   \n",
       "9  13624692484               Stenose   2048  2055  C1261287   \n",
       "\n",
       "                  label  \n",
       "0               stenose  \n",
       "1             collapsus  \n",
       "2  enterite a rotavirus  \n",
       "3          pneumopathie  \n",
       "4              erytheme  \n",
       "5               stenose  \n",
       "6               stenose  \n",
       "7               stenose  \n",
       "8               stenose  \n",
       "9               stenose  "
      ]
     },
     "execution_count": 132,
     "metadata": {},
     "output_type": "execute_result"
    }
   ],
   "source": [
    "pymedext_to_pdf(doc, 'umls_diag_name')"
   ]
  },
  {
   "cell_type": "code",
   "execution_count": 136,
   "metadata": {},
   "outputs": [
    {
     "name": "stdout",
     "output_type": "stream",
     "text": [
      "0\n",
      "0\n",
      "0\n",
      "0\n",
      "0\n",
      "0\n",
      "0\n",
      "0\n",
      "0\n",
      "0\n"
     ]
    }
   ],
   "source": [
    "for doc in docs[:10]:\n",
    "    print(len(doc.get_annotations('norm_dtw')))\n"
   ]
  },
  {
   "cell_type": "code",
   "execution_count": 134,
   "metadata": {},
   "outputs": [
    {
     "data": {
      "text/html": [
       "<div>\n",
       "<style scoped>\n",
       "    .dataframe tbody tr th:only-of-type {\n",
       "        vertical-align: middle;\n",
       "    }\n",
       "\n",
       "    .dataframe tbody tr th {\n",
       "        vertical-align: top;\n",
       "    }\n",
       "\n",
       "    .dataframe thead th {\n",
       "        text-align: right;\n",
       "    }\n",
       "</style>\n",
       "<table border=\"1\" class=\"dataframe\">\n",
       "  <thead>\n",
       "    <tr style=\"text-align: right;\">\n",
       "      <th></th>\n",
       "      <th>doc_id</th>\n",
       "      <th>mention</th>\n",
       "      <th>start</th>\n",
       "      <th>end</th>\n",
       "      <th>cui</th>\n",
       "      <th>label</th>\n",
       "    </tr>\n",
       "  </thead>\n",
       "  <tbody>\n",
       "  </tbody>\n",
       "</table>\n",
       "</div>"
      ],
      "text/plain": [
       "Empty DataFrame\n",
       "Columns: [doc_id, mention, start, end, cui, label]\n",
       "Index: []"
      ]
     },
     "execution_count": 134,
     "metadata": {},
     "output_type": "execute_result"
    }
   ],
   "source": [
    "pymedext_to_pdf(doc, 'norm_dtw')"
   ]
  },
  {
   "cell_type": "code",
   "execution_count": 21,
   "metadata": {},
   "outputs": [],
   "source": [
    "    \n",
    "#     ner_acc.append(to_pdf(doc, 'umls_therap'))\n",
    "    ner_acc.append(pymedext_to_pdf(doc, 'umls_diag_name'))\n",
    "#     ner_acc.append(to_pdf(doc, 'umls_diag_proc'))\n",
    "    ner_acc.append(pymedext_to_pdf(doc, 'umls_signs'))\n",
    "\n",
    "    syn_acc.append(df_syn)\n",
    "\n",
    "ner_acc = pd.concat(ner_acc).assign(mod = \"ner\")\n",
    "syn_acc = pd.concat(syn_acc).assign(mod = \"syn\")"
   ]
  },
  {
   "cell_type": "code",
   "execution_count": 22,
   "metadata": {},
   "outputs": [
    {
     "data": {
      "text/html": [
       "<div>\n",
       "<style scoped>\n",
       "    .dataframe tbody tr th:only-of-type {\n",
       "        vertical-align: middle;\n",
       "    }\n",
       "\n",
       "    .dataframe tbody tr th {\n",
       "        vertical-align: top;\n",
       "    }\n",
       "\n",
       "    .dataframe thead th {\n",
       "        text-align: right;\n",
       "    }\n",
       "</style>\n",
       "<table border=\"1\" class=\"dataframe\">\n",
       "  <thead>\n",
       "    <tr style=\"text-align: right;\">\n",
       "      <th></th>\n",
       "      <th>doc_id</th>\n",
       "      <th>mention</th>\n",
       "      <th>start</th>\n",
       "      <th>end</th>\n",
       "      <th>cui</th>\n",
       "      <th>label</th>\n",
       "      <th>mod</th>\n",
       "    </tr>\n",
       "  </thead>\n",
       "  <tbody>\n",
       "    <tr>\n",
       "      <th>0</th>\n",
       "      <td>698430240</td>\n",
       "      <td>contusion</td>\n",
       "      <td>297.0</td>\n",
       "      <td>306.0</td>\n",
       "      <td>C0009938</td>\n",
       "      <td>contusion</td>\n",
       "      <td>ner</td>\n",
       "    </tr>\n",
       "    <tr>\n",
       "      <th>1</th>\n",
       "      <td>698430240</td>\n",
       "      <td>rupture</td>\n",
       "      <td>401.0</td>\n",
       "      <td>408.0</td>\n",
       "      <td>C3203359</td>\n",
       "      <td>rupture</td>\n",
       "      <td>ner</td>\n",
       "    </tr>\n",
       "    <tr>\n",
       "      <th>2</th>\n",
       "      <td>698430240</td>\n",
       "      <td>rupture</td>\n",
       "      <td>446.0</td>\n",
       "      <td>453.0</td>\n",
       "      <td>C3203359</td>\n",
       "      <td>rupture</td>\n",
       "      <td>ner</td>\n",
       "    </tr>\n",
       "    <tr>\n",
       "      <th>3</th>\n",
       "      <td>698430240</td>\n",
       "      <td>épanchement intra-articulaire assez</td>\n",
       "      <td>484.0</td>\n",
       "      <td>519.0</td>\n",
       "      <td>C1253936</td>\n",
       "      <td>epanchement intra-articulair</td>\n",
       "      <td>ner</td>\n",
       "    </tr>\n",
       "    <tr>\n",
       "      <th>4</th>\n",
       "      <td>698430240</td>\n",
       "      <td>traumatisme</td>\n",
       "      <td>1429.0</td>\n",
       "      <td>1440.0</td>\n",
       "      <td>C3714660</td>\n",
       "      <td>traumatisme</td>\n",
       "      <td>ner</td>\n",
       "    </tr>\n",
       "  </tbody>\n",
       "</table>\n",
       "</div>"
      ],
      "text/plain": [
       "      doc_id                              mention   start     end       cui  \\\n",
       "0  698430240                            contusion   297.0   306.0  C0009938   \n",
       "1  698430240                              rupture   401.0   408.0  C3203359   \n",
       "2  698430240                              rupture   446.0   453.0  C3203359   \n",
       "3  698430240  épanchement intra-articulaire assez   484.0   519.0  C1253936   \n",
       "4  698430240                          traumatisme  1429.0  1440.0  C3714660   \n",
       "\n",
       "                          label  mod  \n",
       "0                     contusion  ner  \n",
       "1                       rupture  ner  \n",
       "2                       rupture  ner  \n",
       "3  epanchement intra-articulair  ner  \n",
       "4                   traumatisme  ner  "
      ]
     },
     "execution_count": 22,
     "metadata": {},
     "output_type": "execute_result"
    }
   ],
   "source": [
    "ner_acc.head()"
   ]
  },
  {
   "cell_type": "code",
   "execution_count": 23,
   "metadata": {},
   "outputs": [],
   "source": [
    "from sklearn.metrics import accuracy_score, confusion_matrix, f1_score, recall_score, precision_score"
   ]
  },
  {
   "cell_type": "code",
   "execution_count": 24,
   "metadata": {},
   "outputs": [],
   "source": [
    "def compute_metrics(gold, pred, label = \"\"):\n",
    "    tp, fn, fp, tn = confusion_matrix(gold, pred).ravel()\n",
    "    acc = accuracy_score(gold, pred)\n",
    "    f1= f1_score(gold, pred, average=\"binary\")\n",
    "    r = recall_score(gold, pred, average=\"binary\")\n",
    "    p = precision_score(gold, pred, average=\"binary\")\n",
    "    \n",
    "    #reformat metrics\n",
    "    metrics = pd.DataFrame([[tp + fn, tp, fn, fp, r, p, f1, acc]],\n",
    "                           columns=['total_pos', \"TP\", \"FN\", \"FP\", \"Recall\", \"Precision\", \"F1\", \"Accuracy\"], index = [label])\n",
    "    return metrics"
   ]
  },
  {
   "cell_type": "code",
   "execution_count": 25,
   "metadata": {},
   "outputs": [],
   "source": [
    "all_merge = (all_ann\n",
    "             .merge(ner_acc, how = \"outer\", on =[\"doc_id\", \"cui\"])\n",
    "             .merge(syn_acc, how = \"outer\", on =[\"doc_id\", \"cui\"])\n",
    "             .assign(true = lambda x:x.ent_id.notnull())\n",
    "             .assign(pred_ner = lambda x:x['mod_x'].notnull())\n",
    "             .assign(pred_q = lambda x:x['mod_y'].notnull())\n",
    "\n",
    "            )"
   ]
  },
  {
   "cell_type": "code",
   "execution_count": 26,
   "metadata": {},
   "outputs": [
    {
     "data": {
      "text/html": [
       "<div>\n",
       "<style scoped>\n",
       "    .dataframe tbody tr th:only-of-type {\n",
       "        vertical-align: middle;\n",
       "    }\n",
       "\n",
       "    .dataframe tbody tr th {\n",
       "        vertical-align: top;\n",
       "    }\n",
       "\n",
       "    .dataframe thead th {\n",
       "        text-align: right;\n",
       "    }\n",
       "</style>\n",
       "<table border=\"1\" class=\"dataframe\">\n",
       "  <thead>\n",
       "    <tr style=\"text-align: right;\">\n",
       "      <th></th>\n",
       "      <th>total_pos</th>\n",
       "      <th>TP</th>\n",
       "      <th>FN</th>\n",
       "      <th>FP</th>\n",
       "      <th>Recall</th>\n",
       "      <th>Precision</th>\n",
       "      <th>F1</th>\n",
       "      <th>Accuracy</th>\n",
       "    </tr>\n",
       "  </thead>\n",
       "  <tbody>\n",
       "    <tr>\n",
       "      <th>NER + QuickUMLS (ent level)</th>\n",
       "      <td>168</td>\n",
       "      <td>73</td>\n",
       "      <td>95</td>\n",
       "      <td>162</td>\n",
       "      <td>0.78</td>\n",
       "      <td>0.86</td>\n",
       "      <td>0.81</td>\n",
       "      <td>0.71</td>\n",
       "    </tr>\n",
       "    <tr>\n",
       "      <th>QuickUMLS (ent level)</th>\n",
       "      <td>168</td>\n",
       "      <td>3</td>\n",
       "      <td>165</td>\n",
       "      <td>140</td>\n",
       "      <td>0.81</td>\n",
       "      <td>0.78</td>\n",
       "      <td>0.79</td>\n",
       "      <td>0.66</td>\n",
       "    </tr>\n",
       "    <tr>\n",
       "      <th>NER + QuickUMLS (doc level)</th>\n",
       "      <td>104</td>\n",
       "      <td>55</td>\n",
       "      <td>49</td>\n",
       "      <td>122</td>\n",
       "      <td>0.29</td>\n",
       "      <td>0.51</td>\n",
       "      <td>0.37</td>\n",
       "      <td>0.38</td>\n",
       "    </tr>\n",
       "    <tr>\n",
       "      <th>QuickUMLS (doc level)</th>\n",
       "      <td>104</td>\n",
       "      <td>3</td>\n",
       "      <td>101</td>\n",
       "      <td>110</td>\n",
       "      <td>0.36</td>\n",
       "      <td>0.38</td>\n",
       "      <td>0.37</td>\n",
       "      <td>0.24</td>\n",
       "    </tr>\n",
       "  </tbody>\n",
       "</table>\n",
       "</div>"
      ],
      "text/plain": [
       "                             total_pos  TP   FN   FP  Recall  Precision    F1  \\\n",
       "NER + QuickUMLS (ent level)        168  73   95  162    0.78       0.86  0.81   \n",
       "QuickUMLS (ent level)              168   3  165  140    0.81       0.78  0.79   \n",
       "NER + QuickUMLS (doc level)        104  55   49  122    0.29       0.51  0.37   \n",
       "QuickUMLS (doc level)              104   3  101  110    0.36       0.38  0.37   \n",
       "\n",
       "                             Accuracy  \n",
       "NER + QuickUMLS (ent level)      0.71  \n",
       "QuickUMLS (ent level)            0.66  \n",
       "NER + QuickUMLS (doc level)      0.38  \n",
       "QuickUMLS (doc level)            0.24  "
      ]
     },
     "execution_count": 26,
     "metadata": {},
     "output_type": "execute_result"
    }
   ],
   "source": [
    "pd.concat([compute_metrics(all_merge.true, all_merge.pred_ner, label = \"NER + QuickUMLS (ent level)\"), \n",
    "           compute_metrics(all_merge.true, all_merge.pred_q, label = \"QuickUMLS (ent level)\"),\n",
    "           compute_metrics(all_merge.drop_duplicates([\"doc_id\", \"cui\"]).true, all_merge.drop_duplicates([\"doc_id\", \"cui\"]).pred_ner, label = \"NER + QuickUMLS (doc level)\"),\n",
    "           compute_metrics(all_merge.drop_duplicates([\"doc_id\", \"cui\"]).true, all_merge.drop_duplicates([\"doc_id\", \"cui\"]).pred_q, label = \"QuickUMLS (doc level)\")]\n",
    "         ).round(2)"
   ]
  },
  {
   "cell_type": "code",
   "execution_count": 15,
   "metadata": {},
   "outputs": [
    {
     "data": {
      "text/plain": [
       "(682, 418)"
      ]
     },
     "execution_count": 15,
     "metadata": {},
     "output_type": "execute_result"
    }
   ],
   "source": [
    "len(syn_acc), len(ner_acc)"
   ]
  },
  {
   "cell_type": "code",
   "execution_count": 16,
   "metadata": {},
   "outputs": [
    {
     "data": {
      "text/plain": [
       "(296, 10)"
      ]
     },
     "execution_count": 16,
     "metadata": {},
     "output_type": "execute_result"
    }
   ],
   "source": [
    "ner_acc.merge(syn_acc, how = \"inner\", on =[\"doc_id\", \"start\", \"end\", \"cui\"]).shape"
   ]
  },
  {
   "cell_type": "code",
   "execution_count": 17,
   "metadata": {},
   "outputs": [],
   "source": [
    "diff = ner_acc.merge(syn_acc, how = \"outer\", on =[\"doc_id\", \"start\", \"end\"]).loc[lambda x:x.cui_x != x.cui_y]"
   ]
  },
  {
   "cell_type": "code",
   "execution_count": 18,
   "metadata": {},
   "outputs": [],
   "source": [
    "from IPython.display import display_html"
   ]
  },
  {
   "cell_type": "code",
   "execution_count": 19,
   "metadata": {},
   "outputs": [],
   "source": [
    "gen = ((k, group) for k, group in diff.groupby('doc_id'))\n"
   ]
  },
  {
   "cell_type": "code",
   "execution_count": 21,
   "metadata": {},
   "outputs": [
    {
     "data": {
      "text/html": [
       "<div>\n",
       "<style scoped>\n",
       "    .dataframe tbody tr th:only-of-type {\n",
       "        vertical-align: middle;\n",
       "    }\n",
       "\n",
       "    .dataframe tbody tr th {\n",
       "        vertical-align: top;\n",
       "    }\n",
       "\n",
       "    .dataframe thead th {\n",
       "        text-align: right;\n",
       "    }\n",
       "</style>\n",
       "<table border=\"1\" class=\"dataframe\">\n",
       "  <thead>\n",
       "    <tr style=\"text-align: right;\">\n",
       "      <th></th>\n",
       "      <th>mention_x</th>\n",
       "      <th>label_x</th>\n",
       "    </tr>\n",
       "  </thead>\n",
       "  <tbody>\n",
       "    <tr>\n",
       "      <th>19</th>\n",
       "      <td>cardiopathie ischémique</td>\n",
       "      <td>myelopathie ischemique</td>\n",
       "    </tr>\n",
       "    <tr>\n",
       "      <th>20</th>\n",
       "      <td>infarctus</td>\n",
       "      <td>infarctus</td>\n",
       "    </tr>\n",
       "    <tr>\n",
       "      <th>31</th>\n",
       "      <td>échographie cardiaque</td>\n",
       "      <td>echographie cardiaque</td>\n",
       "    </tr>\n",
       "    <tr>\n",
       "      <th>33</th>\n",
       "      <td>cardiovasculaire</td>\n",
       "      <td>syncope cardiovasculaire</td>\n",
       "    </tr>\n",
       "  </tbody>\n",
       "</table>\n",
       "</div>"
      ]
     },
     "metadata": {},
     "output_type": "display_data"
    },
    {
     "data": {
      "text/html": [
       "<div>\n",
       "<style scoped>\n",
       "    .dataframe tbody tr th:only-of-type {\n",
       "        vertical-align: middle;\n",
       "    }\n",
       "\n",
       "    .dataframe tbody tr th {\n",
       "        vertical-align: top;\n",
       "    }\n",
       "\n",
       "    .dataframe thead th {\n",
       "        text-align: right;\n",
       "    }\n",
       "</style>\n",
       "<table border=\"1\" class=\"dataframe\">\n",
       "  <thead>\n",
       "    <tr style=\"text-align: right;\">\n",
       "      <th></th>\n",
       "      <th>mention_y</th>\n",
       "      <th>label_y</th>\n",
       "    </tr>\n",
       "  </thead>\n",
       "  <tbody>\n",
       "    <tr>\n",
       "      <th>33</th>\n",
       "      <td>cardiovasculaire</td>\n",
       "      <td>nevrose cardiovasculaire</td>\n",
       "    </tr>\n",
       "    <tr>\n",
       "      <th>450</th>\n",
       "      <td>consultation</td>\n",
       "      <td>teleconsultation</td>\n",
       "    </tr>\n",
       "    <tr>\n",
       "      <th>451</th>\n",
       "      <td>consultation</td>\n",
       "      <td>teleconsultation</td>\n",
       "    </tr>\n",
       "    <tr>\n",
       "      <th>452</th>\n",
       "      <td>suivi de cardiopathie ischémique</td>\n",
       "      <td>cardiopathie ischemique</td>\n",
       "    </tr>\n",
       "    <tr>\n",
       "      <th>453</th>\n",
       "      <td>fait infarctus</td>\n",
       "      <td>post infarctus</td>\n",
       "    </tr>\n",
       "    <tr>\n",
       "      <th>454</th>\n",
       "      <td>TSA et des membres inférieurs</td>\n",
       "      <td>ulceres des membres inferieurs</td>\n",
       "    </tr>\n",
       "    <tr>\n",
       "      <th>455</th>\n",
       "      <td>fraction d’éjection retrouvée</td>\n",
       "      <td>fraction d'ejection</td>\n",
       "    </tr>\n",
       "    <tr>\n",
       "      <th>456</th>\n",
       "      <td>échographie</td>\n",
       "      <td>echographie sai</td>\n",
       "    </tr>\n",
       "    <tr>\n",
       "      <th>457</th>\n",
       "      <td>consultation</td>\n",
       "      <td>teleconsultation</td>\n",
       "    </tr>\n",
       "    <tr>\n",
       "      <th>458</th>\n",
       "      <td>chute</td>\n",
       "      <td>chutes</td>\n",
       "    </tr>\n",
       "    <tr>\n",
       "      <th>459</th>\n",
       "      <td>consultation</td>\n",
       "      <td>teleconsultation</td>\n",
       "    </tr>\n",
       "    <tr>\n",
       "      <th>460</th>\n",
       "      <td>bruits cœur</td>\n",
       "      <td>bruits du coeur</td>\n",
       "    </tr>\n",
       "    <tr>\n",
       "      <th>461</th>\n",
       "      <td>systolique</td>\n",
       "      <td>asystolique</td>\n",
       "    </tr>\n",
       "    <tr>\n",
       "      <th>462</th>\n",
       "      <td>ECG</td>\n",
       "      <td>ecg</td>\n",
       "    </tr>\n",
       "    <tr>\n",
       "      <th>463</th>\n",
       "      <td>normale</td>\n",
       "      <td>t4 normale</td>\n",
       "    </tr>\n",
       "    <tr>\n",
       "      <th>464</th>\n",
       "      <td>lui prévois échographie cardiaque</td>\n",
       "      <td>echographie cardiaque</td>\n",
       "    </tr>\n",
       "  </tbody>\n",
       "</table>\n",
       "</div>"
      ]
     },
     "metadata": {},
     "output_type": "display_data"
    }
   ],
   "source": [
    "k, group = next(gen)\n",
    "ner_mention = group.loc[lambda x:x.mod_x.notnull(), [\"mention_x\", \"label_x\"]]\n",
    "syn_mention = group.loc[lambda x:x.mod_y.notnull(), [\"mention_y\", \"label_y\"]]\n",
    "\n",
    "display_html(ner_mention)\n",
    "display_html(syn_mention)"
   ]
  },
  {
   "cell_type": "code",
   "execution_count": 32,
   "metadata": {},
   "outputs": [],
   "source": [
    "# python -m quickumls.install -E FR data/umls data/quickumls"
   ]
  },
  {
   "cell_type": "markdown",
   "metadata": {},
   "source": [
    "### 5. Qualitative comparison"
   ]
  },
  {
   "cell_type": "code",
   "execution_count": 15,
   "metadata": {},
   "outputs": [],
   "source": [
    "from pymedext_eds.viz import display_annotations"
   ]
  },
  {
   "cell_type": "code",
   "execution_count": 45,
   "metadata": {},
   "outputs": [],
   "source": [
    "doc_demo = rawtext_loader(\"data/test_data/pheno_norm.txt\")"
   ]
  },
  {
   "cell_type": "code",
   "execution_count": 46,
   "metadata": {},
   "outputs": [],
   "source": [
    "norm_pheno.max_editdistance = 100"
   ]
  },
  {
   "cell_type": "code",
   "execution_count": 47,
   "metadata": {},
   "outputs": [],
   "source": [
    "pipeline = [endlines, sections, sentences, hypothesis, family, syntagmes,\n",
    "            negation, regex, umls_syntagme, ner, norm_pheno,\n",
    "            umls_signs, umls_diag_proc, umls_diag_name, umls_therap]"
   ]
  },
  {
   "cell_type": "code",
   "execution_count": 48,
   "metadata": {},
   "outputs": [
    {
     "name": "stdout",
     "output_type": "stream",
     "text": [
      "CPU times: user 3min 5s, sys: 5.84 s, total: 3min 11s\n",
      "Wall time: 1min 27s\n"
     ]
    }
   ],
   "source": [
    "%%time\n",
    "doc_demo.annotate(pipeline)"
   ]
  },
  {
   "cell_type": "code",
   "execution_count": 39,
   "metadata": {},
   "outputs": [],
   "source": [
    "import random"
   ]
  },
  {
   "cell_type": "code",
   "execution_count": 44,
   "metadata": {},
   "outputs": [
    {
     "data": {
      "text/plain": [
       "['trouble hemorragique',\n",
       " 'hypocomplementemie',\n",
       " 'rachitisme hypophosphatemique',\n",
       " 'prematurite',\n",
       " 'syndrome de walker-warburg']"
      ]
     },
     "execution_count": 44,
     "metadata": {},
     "output_type": "execute_result"
    }
   ],
   "source": [
    "random.choices([t['label'] for t in norm_pheno.dict_label.values()],k=5)"
   ]
  },
  {
   "cell_type": "code",
   "execution_count": 49,
   "metadata": {},
   "outputs": [
    {
     "name": "stdout",
     "output_type": "stream",
     "text": [
      "trouble hemorragique\ttrouble hemorragique\t score: 6.879\n",
      "rachitisme hypophosphatemique\trachitisme hypophosphatemique\t score: 7.847\n",
      "antécédent de prématurité\tantecedent de cesarienne\t score: 39.372\n",
      "syndrome de walker-warburg\tsyndrome de kleine-levin\t score: 26.717\n",
      "baisse du complément\tmodification du transit\t score: 35.002\n",
      "rachitisme\trachitisme\t score: 7.086\n",
      "antécédent de naissance\tretard de croissance\t score: 37.037\n",
      "possible Walker-Warburg débutant\tsyndrome leopard\t score: 43.056\n",
      "Sd de Walker-Warbourg débutant\tsyndrome de walker-warburg\t score: 38.451\n",
      "kyste au niveau du rein droit\tkyste du rein\t score: 45.484\n",
      "kyste au niveau du poumon droit\tkyste du pancreas\t score: 48.552\n",
      "kyste au niveau du pelvis\tkyste du pancreas\t score: 43.255\n",
      "kyste au niveau splénique\tkyste du cordon spermatique\t score: 37.334\n",
      "kyste au niveau de la rate\trupture de rate\t score: 50.687\n",
      "kyste saignant\tkyste retentionnel\t score: 27.785\n",
      "kyste hémorragique\tkyste hemorragique\t score: 24.71\n",
      "lésion\tnodule\t score: 20.78\n",
      "lésion\tnodule\t score: 20.06\n",
      "signes d'ICG\tsyndrome d'heterotaxie\t score: 26.726\n",
      "signes d'ICD\tsyndrome d'heterotaxie\t score: 26.989\n",
      "signes d'IC\tsyndrome d'heterotaxie\t score: 27.057\n",
      "Auscultation anormale\tconscience anormale\t score: 22.839\n",
      "diabète\tdiabete\t score: 10.397\n",
      "diabète\tdiabete\t score: 10.511\n",
      "IVG\tivu\t score: 13.821\n",
      "se sent bien\tse sentir mal\t score: 30.03\n",
      "va bien\tdort mal\t score: 27.453\n",
      "Syndrome de Marphan\tsyndrome de marfan\t score: 20.878\n",
      "Mydriase areactive\tmydriase\t score: 29.445\n",
      "diabate\tdiabetique\t score: 14.056\n",
      "Douleur au ventre\tdouleur du dos\t score: 29.346\n",
      "Douleur abdo\tdouleur abdo\t score: 0.0\n",
      "Epigastralgie\tepigastralgie\t score: 0.0\n",
      "bouche sèche\tbouche seche\t score: 28.796\n"
     ]
    }
   ],
   "source": [
    "print(\"\\n\".join([\"\\t\".join([t.attributes['mention'], t.value]) + \"\\t score: {}\".format(round(t.attributes['score_ed'],3)) for t in doc_demo.get_annotations('normalized_mention') if t.value]))"
   ]
  },
  {
   "cell_type": "code",
   "execution_count": 40,
   "metadata": {},
   "outputs": [
    {
     "name": "stdout",
     "output_type": "stream",
     "text": [
      "kyste au niveau du rein droit\tkyste du rein\t score: 0.961\n",
      "kyste au niveau du poumon droit\tkyste du pancreas\t score: 0.952\n",
      "kyste au niveau du pelvis\tkyste du pancreas\t score: 0.948\n",
      "kyste au niveau splénique\tkyste du cordon spermatique\t score: 0.952\n",
      "kyste au niveau de la rate\tkyste du pancreas\t score: 0.947\n",
      "kyste saignant\tkyste\t score: 0.909\n",
      "kyste hémorragique\tkyste ovarien hemorragique\t score: 0.928\n",
      "lésion\tlesion intracranienne\t score: 0.862\n",
      "lésion\tlesion intracranienne\t score: 0.864\n",
      "signes d'ICG\tsignes ecg d'ischemie myocardique\t score: 0.907\n",
      "signes d'ICD\tsignes ecg d'ischemie myocardique\t score: 0.908\n",
      "signes d'IC\tsignes ecg d'ischemie myocardique\t score: 0.909\n",
      "Auscultation anormale\tauscultation pulmonaire anormale\t score: 0.955\n",
      "diabète\tdiabete\t score: 0.95\n",
      "diabète\tdiabete\t score: 0.945\n",
      "IVG\tivu\t score: 0.917\n",
      "se sent bien\tse sent tres mal\t score: 0.939\n",
      "va bien\tse sent tres mal\t score: 0.901\n",
      "Syndrome de Marphan\tsyndrome de marfan\t score: 0.971\n",
      "Mydriase areactive\tastigmatisme myopique\t score: 0.894\n",
      "diabate\tdiabete sucre\t score: 0.898\n",
      "Douleur au ventre\tdouleur du dos\t score: 0.947\n",
      "Douleur abdo\tdouleur abdo\t score: 1.0\n",
      "Epigastralgie\tepigastralgie\t score: 1.0\n",
      "bouche sèche\trhinorrhee purulente\t score: 0.88\n"
     ]
    }
   ],
   "source": [
    "print(\"\\n\".join([\"\\t\".join([t.attributes['mention'], t.value]) + \"\\t score: {}\".format(round(t.attributes['score_cos'],3)) for t in doc_demo.get_annotations('normalized_mention')]))"
   ]
  },
  {
   "cell_type": "code",
   "execution_count": 72,
   "metadata": {},
   "outputs": [
    {
     "data": {
      "text/html": [
       "<span class=\"tex2jax_ignore\"><div class=\"entities\" style=\"line-height: 2.5; direction: ltr\">Le patient présente un kyste au niveau du rein droit.</br> Le patient présente un kyste au niveau du poumon droit.</br> Se présente avec un kyste au niveau du pelvis.</br> Se présente avec un kyste au niveau splénique.</br> Se présente avec un kyste au niveau de la rate.</br> Se présente avec un kyste saignant.</br> Se présente avec un kyste hémorragique.</br> Au niveau pulmonaire, présence d'une lésion non déterminé.</br> Au niveau hépatique, présence d'une lésion non déterminé.</br> Absence de signes d'ICG.</br> Absence de signes d'ICD.</br> Absence de signes d'IC.</br> Auscultation anormale avec sgines d'IC</br> Antécédents d'HTAP et de diabète.</br> Antécédents d'HTA et de diabète.</br> IVG à l'échographie.</br> IVG à 3 semaines.</br> Le patient se sent bien.</br> Le patient va bien.</br> Syndrome de Marphan.</br> Mydriase areactive.</br> Absence de diabate.</br> Douleur au ventre.</br> Douleur abdo</br> Epigastralgie.Le patient à la bouche sèche.</div></span>"
      ],
      "text/plain": [
       "<IPython.core.display.HTML object>"
      ]
     },
     "metadata": {},
     "output_type": "display_data"
    }
   ],
   "source": [
    "display_annotations(doc_demo, entities=['normalized_mention'])"
   ]
  },
  {
   "cell_type": "code",
   "execution_count": 73,
   "metadata": {},
   "outputs": [
    {
     "data": {
      "text/html": [
       "<span class=\"tex2jax_ignore\"><div class=\"entities\" style=\"line-height: 2.5; direction: ltr\">Le patient présente un <mark class=\"entity\" style=\"background: #ffb3ba; padding: 0.45em 0.6em; margin: 0 0.25em; line-height: 1; border-radius: 0.35em;\">kyste<span style=\"font-size: 0.8em; font-weight: bold; line-height: 1; border-radius: 0.35em; vertical-align: middle; margin-left: 0.5rem\">UMLS_SYNTAGME</span></mark> au niveau du rein droit.</br> Le patient présente un <mark class=\"entity\" style=\"background: #ffb3ba; padding: 0.45em 0.6em; margin: 0 0.25em; line-height: 1; border-radius: 0.35em;\">kyste<span style=\"font-size: 0.8em; font-weight: bold; line-height: 1; border-radius: 0.35em; vertical-align: middle; margin-left: 0.5rem\">UMLS_SYNTAGME</span></mark> au niveau du poumon droit.</br> Se présente avec un <mark class=\"entity\" style=\"background: #ffb3ba; padding: 0.45em 0.6em; margin: 0 0.25em; line-height: 1; border-radius: 0.35em;\">kyste<span style=\"font-size: 0.8em; font-weight: bold; line-height: 1; border-radius: 0.35em; vertical-align: middle; margin-left: 0.5rem\">UMLS_SYNTAGME</span></mark> au niveau du pelvis.</br> Se présente avec un <mark class=\"entity\" style=\"background: #ffb3ba; padding: 0.45em 0.6em; margin: 0 0.25em; line-height: 1; border-radius: 0.35em;\">kyste<span style=\"font-size: 0.8em; font-weight: bold; line-height: 1; border-radius: 0.35em; vertical-align: middle; margin-left: 0.5rem\">UMLS_SYNTAGME</span></mark> au niveau splénique.</br> Se présente avec un <mark class=\"entity\" style=\"background: #ffb3ba; padding: 0.45em 0.6em; margin: 0 0.25em; line-height: 1; border-radius: 0.35em;\">kyste<span style=\"font-size: 0.8em; font-weight: bold; line-height: 1; border-radius: 0.35em; vertical-align: middle; margin-left: 0.5rem\">UMLS_SYNTAGME</span></mark> au niveau de la rate.</br> Se présente avec un <mark class=\"entity\" style=\"background: #ffb3ba; padding: 0.45em 0.6em; margin: 0 0.25em; line-height: 1; border-radius: 0.35em;\">kyste<span style=\"font-size: 0.8em; font-weight: bold; line-height: 1; border-radius: 0.35em; vertical-align: middle; margin-left: 0.5rem\">UMLS_SYNTAGME</span></mark> saignant.</br> Se présente avec un <mark class=\"entity\" style=\"background: #ffb3ba; padding: 0.45em 0.6em; margin: 0 0.25em; line-height: 1; border-radius: 0.35em;\">kyste hémorragique<span style=\"font-size: 0.8em; font-weight: bold; line-height: 1; border-radius: 0.35em; vertical-align: middle; margin-left: 0.5rem\">UMLS_SYNTAGME</span></mark>.</br> Au niveau pulmonaire, présence d'une <mark class=\"entity\" style=\"background: #ffb3ba; padding: 0.45em 0.6em; margin: 0 0.25em; line-height: 1; border-radius: 0.35em;\">lésion<span style=\"font-size: 0.8em; font-weight: bold; line-height: 1; border-radius: 0.35em; vertical-align: middle; margin-left: 0.5rem\">UMLS_SYNTAGME</span></mark> non déterminé.</br> Au niveau hépatique, présence d'une <mark class=\"entity\" style=\"background: #ffb3ba; padding: 0.45em 0.6em; margin: 0 0.25em; line-height: 1; border-radius: 0.35em;\">lésion<span style=\"font-size: 0.8em; font-weight: bold; line-height: 1; border-radius: 0.35em; vertical-align: middle; margin-left: 0.5rem\">UMLS_SYNTAGME</span></mark> non déterminé.</br> Absence de signes d'ICG.</br> Absence de signes d'ICD.</br> Absence de signes d'IC.</br> Auscultation anormale avec sgines d'IC</br> Antécédents d'<mark class=\"entity\" style=\"background: #ffb3ba; padding: 0.45em 0.6em; margin: 0 0.25em; line-height: 1; border-radius: 0.35em;\">HTAP<span style=\"font-size: 0.8em; font-weight: bold; line-height: 1; border-radius: 0.35em; vertical-align: middle; margin-left: 0.5rem\">UMLS_SYNTAGME</span></mark> et de <mark class=\"entity\" style=\"background: #ffb3ba; padding: 0.45em 0.6em; margin: 0 0.25em; line-height: 1; border-radius: 0.35em;\">diabète<span style=\"font-size: 0.8em; font-weight: bold; line-height: 1; border-radius: 0.35em; vertical-align: middle; margin-left: 0.5rem\">UMLS_SYNTAGME</span></mark>.</br> Antécédents d'HTA et de <mark class=\"entity\" style=\"background: #ffb3ba; padding: 0.45em 0.6em; margin: 0 0.25em; line-height: 1; border-radius: 0.35em;\">diabète<span style=\"font-size: 0.8em; font-weight: bold; line-height: 1; border-radius: 0.35em; vertical-align: middle; margin-left: 0.5rem\">UMLS_SYNTAGME</span></mark>.</br> IVG à l'échographie.</br> IVG à 3 semaines.</br> Le patient se sent bien.</br> Le patient va bien.</br> <mark class=\"entity\" style=\"background: #ffb3ba; padding: 0.45em 0.6em; margin: 0 0.25em; line-height: 1; border-radius: 0.35em;\">Syndrome<span style=\"font-size: 0.8em; font-weight: bold; line-height: 1; border-radius: 0.35em; vertical-align: middle; margin-left: 0.5rem\">UMLS_SYNTAGME</span></mark> de Marphan.</br> <mark class=\"entity\" style=\"background: #ffb3ba; padding: 0.45em 0.6em; margin: 0 0.25em; line-height: 1; border-radius: 0.35em;\">Mydriase<span style=\"font-size: 0.8em; font-weight: bold; line-height: 1; border-radius: 0.35em; vertical-align: middle; margin-left: 0.5rem\">UMLS_SYNTAGME</span></mark> areactive.</br> Absence de diabate.</br> <mark class=\"entity\" style=\"background: #ffb3ba; padding: 0.45em 0.6em; margin: 0 0.25em; line-height: 1; border-radius: 0.35em;\">Douleur<span style=\"font-size: 0.8em; font-weight: bold; line-height: 1; border-radius: 0.35em; vertical-align: middle; margin-left: 0.5rem\">UMLS_SYNTAGME</span></mark> au ventre.</br> <mark class=\"entity\" style=\"background: #ffb3ba; padding: 0.45em 0.6em; margin: 0 0.25em; line-height: 1; border-radius: 0.35em;\">Douleur abdo<span style=\"font-size: 0.8em; font-weight: bold; line-height: 1; border-radius: 0.35em; vertical-align: middle; margin-left: 0.5rem\">UMLS_SYNTAGME</span></mark></br> <mark class=\"entity\" style=\"background: #ffb3ba; padding: 0.45em 0.6em; margin: 0 0.25em; line-height: 1; border-radius: 0.35em;\">Epigastralgie<span style=\"font-size: 0.8em; font-weight: bold; line-height: 1; border-radius: 0.35em; vertical-align: middle; margin-left: 0.5rem\">UMLS_SYNTAGME</span></mark>.Le patient à la bouche sèche.</div></span>"
      ],
      "text/plain": [
       "<IPython.core.display.HTML object>"
      ]
     },
     "metadata": {},
     "output_type": "display_data"
    }
   ],
   "source": [
    "display_annotations(doc_demo, entities=['umls_syntagme'])"
   ]
  },
  {
   "cell_type": "code",
   "execution_count": 214,
   "metadata": {},
   "outputs": [
    {
     "data": {
      "text/html": [
       "<span class=\"tex2jax_ignore\"><div class=\"entities\" style=\"line-height: 2.5; direction: ltr\">Merci de recevoir en consultation Mme Jeanne Bach, présentant une sclérose latérale amyotrophique, débutant par une <mark class=\"entity\" style=\"background: #ffb3ba; padding: 0.45em 0.6em; margin: 0 0.25em; line-height: 1; border-radius: 0.35em;\">aphasie rapidement progressive<span style=\"font-size: 0.8em; font-weight: bold; line-height: 1; border-radius: 0.35em; text-transform: uppercase; vertical-align: middle; margin-left: 0.5rem\">ENT/SIGNS</span></mark> en 2018.</br> La patiente ne présente pas de troubles moteurs.</br> Son <mark class=\"entity\" style=\"background: #ffb3ba; padding: 0.45em 0.6em; margin: 0 0.25em; line-height: 1; border-radius: 0.35em;\">état est stable<span style=\"font-size: 0.8em; font-weight: bold; line-height: 1; border-radius: 0.35em; text-transform: uppercase; vertical-align: middle; margin-left: 0.5rem\">ENT/SIGNS</span></mark> avec traitement symptomatique pour l'humeur, Deroxat 2 mg / j.</br> Dr Jérome Ben Soussan.</br> Examen clinique:</br> - <mark class=\"entity\" style=\"background: #ffb3ba; padding: 0.45em 0.6em; margin: 0 0.25em; line-height: 1; border-radius: 0.35em;\">signe du flot<span style=\"font-size: 0.8em; font-weight: bold; line-height: 1; border-radius: 0.35em; text-transform: uppercase; vertical-align: middle; margin-left: 0.5rem\">ENT/SIGNS</span></mark></br> - <mark class=\"entity\" style=\"background: #ffb3ba; padding: 0.45em 0.6em; margin: 0 0.25em; line-height: 1; border-radius: 0.35em;\">souffle cardiaque<span style=\"font-size: 0.8em; font-weight: bold; line-height: 1; border-radius: 0.35em; text-transform: uppercase; vertical-align: middle; margin-left: 0.5rem\">ENT/SIGNS</span></mark> Par ailleurs, elle présente un kyste du rein droit visible sur la dernière echographie en date. Absence de trouble moteurs au niveau des membres.</div></span>"
      ],
      "text/plain": [
       "<IPython.core.display.HTML object>"
      ]
     },
     "metadata": {},
     "output_type": "display_data"
    }
   ],
   "source": [
    "display_annotations(doc_demo, entities=['ENT/SIGNS'])"
   ]
  },
  {
   "cell_type": "code",
   "execution_count": 215,
   "metadata": {},
   "outputs": [
    {
     "data": {
      "text/html": [
       "<span class=\"tex2jax_ignore\"><div class=\"entities\" style=\"line-height: 2.5; direction: ltr\">Merci de recevoir en consultation Mme Jeanne Bach, présentant une <mark class=\"entity\" style=\"background: #ffb3ba; padding: 0.45em 0.6em; margin: 0 0.25em; line-height: 1; border-radius: 0.35em;\">sclérose latérale amyotrophique<span style=\"font-size: 0.8em; font-weight: bold; line-height: 1; border-radius: 0.35em; text-transform: uppercase; vertical-align: middle; margin-left: 0.5rem\">ENT/DIAG_NAME</span></mark>, débutant par une aphasie rapidement progressive en 2018.</br> La patiente ne présente pas de <mark class=\"entity\" style=\"background: #ffb3ba; padding: 0.45em 0.6em; margin: 0 0.25em; line-height: 1; border-radius: 0.35em;\">troubles moteurs<span style=\"font-size: 0.8em; font-weight: bold; line-height: 1; border-radius: 0.35em; text-transform: uppercase; vertical-align: middle; margin-left: 0.5rem\">ENT/DIAG_NAME</span></mark>.</br> Son état est stable avec traitement symptomatique pour l'humeur, Deroxat 2 mg / j.</br> Dr Jérome Ben Soussan.</br> Examen clinique:</br> - signe du flot</br> - souffle cardiaque</br> Par ailleurs, elle présente un <mark class=\"entity\" style=\"background: #ffb3ba; padding: 0.45em 0.6em; margin: 0 0.25em; line-height: 1; border-radius: 0.35em;\">kyste du rein droit<span style=\"font-size: 0.8em; font-weight: bold; line-height: 1; border-radius: 0.35em; text-transform: uppercase; vertical-align: middle; margin-left: 0.5rem\">ENT/DIAG_NAME</span></mark> visible sur la dernière echographie en date.</br> Absence de <mark class=\"entity\" style=\"background: #ffb3ba; padding: 0.45em 0.6em; margin: 0 0.25em; line-height: 1; border-radius: 0.35em;\">trouble moteurs au niveau des membres<span style=\"font-size: 0.8em; font-weight: bold; line-height: 1; border-radius: 0.35em; text-transform: uppercase; vertical-align: middle; margin-left: 0.5rem\">ENT/DIAG_NAME</span></mark>.</div></span>"
      ],
      "text/plain": [
       "<IPython.core.display.HTML object>"
      ]
     },
     "metadata": {},
     "output_type": "display_data"
    }
   ],
   "source": [
    "display_annotations(doc_demo, entities=['ENT/DIAG_NAME'])"
   ]
  }
 ],
 "metadata": {
  "kernelspec": {
   "display_name": "Python 3",
   "language": "python",
   "name": "python3"
  },
  "language_info": {
   "codemirror_mode": {
    "name": "ipython",
    "version": 3
   },
   "file_extension": ".py",
   "mimetype": "text/x-python",
   "name": "python",
   "nbconvert_exporter": "python",
   "pygments_lexer": "ipython3",
   "version": "3.8.5"
  }
 },
 "nbformat": 4,
 "nbformat_minor": 4
}
